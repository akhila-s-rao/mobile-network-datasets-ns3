{
 "cells": [
  {
   "cell_type": "markdown",
   "id": "e72f9639-d255-4f2d-9086-081aeac64713",
   "metadata": {
    "tags": []
   },
   "source": [
    "# Observations\n"
   ]
  },
  {
   "cell_type": "markdown",
   "id": "5eac4ca8-0f16-4e83-9fed-90c499dab195",
   "metadata": {},
   "source": [
    "\n",
    "## UE TX power \n",
    "- Changing the ueTx power did not make amny changes in the results \n",
    "  - Likely because we are using ul power control ? But this still doesn't explain why there isn't more leeway when the ul sinr goes below 0. Why is the BS keeping the ueTX power at a low level which can result in 0 mcs and drops ?\n",
    "### <font color='red'>Don't change UE tx power </font>\n",
    "\n",
    "## Propagation model and shadowing \n",
    "- Changing the propagation model from a low path loss model to the urban micro modele results in a big decrease in average ul sinr\n",
    "    - But adding shadowing does not change that much, so most of the lossyness in in the urban micro model itselof which I don't think I should change \n",
    "### <font color='red'>Keep the UMi with shadowing propagation model </font>\n",
    "\n",
    "## Handover algorithm and parameters\n",
    "- Changing the handover type or making it more conservative does not improve the ul sinr situation \n",
    "    - A2A4 handover results in more handovers than A3 without significant imrpovement in ul sinr \n",
    "    - Making the handover more conservative reduces the numbver of handovers but at the cost of worse ul sinr \n",
    "\n",
    "## BS antenna gain \n",
    "- Increasing BS antenna gain does imrpove both UL and DL SINR, but not significantly since UL sinr has deep faded/shadows. The ul delay probe delivera rate improved by only 1-2%. Also it does not seem to be the right thing to do to increase this gain since it is additive to the gaiun that we already experience by virtue of having a focused beamwidth. \n",
    "### <font color='red'>Keep BS antenna at maxgain 0 and 120 degree beamwidth</font>\n",
    "\n",
    "\n",
    "- ul and dl throughput measurement exposes many regions wherein the throughput drops to zero (coverage holes)\n",
    "    - Looking at the throughput time series we see that there are long time correlated drops in the sinr which is realistic, but it is not correlated with distance from the connected basestation which does not make sense to me.    \n",
    "    - Are these really coverage holes in that run. Do those areas have holes irrespective of which UE is there or is the hole not spatially correlated for all UEs ?\n",
    "\n",
    "## Fast versus slow UEs\n",
    "\n",
    "- Fast UEs have a lot more handovers per unit time than slow UEs which makes sense, also since the ISD was reduced to 200m the cell area is quite small and hence it makes sense that they encounter handovers often\n",
    "- However, fast or slow does not affect the delay probe delivery rate or the throughput distribution much. That is controlled by the SINR variations which can even be worse in slow UEs due to less frequent handovers  \n",
    "### <font color='red'>Speed matters but not as much </font>"
   ]
  },
  {
   "cell_type": "markdown",
   "id": "924c6929-2613-420d-b7b4-5357433a1812",
   "metadata": {},
   "source": [
    "- Why is the signal so bad and flaky ? Antenna pattern at the BS or at the UE ? I strongly suspect this\n"
   ]
  },
  {
   "cell_type": "markdown",
   "id": "67107816-4b9b-4485-84f6-15b850bc4e14",
   "metadata": {},
   "source": [
    "- When there are very few UEs can the network handle video streaming and web browsing ? "
   ]
  },
  {
   "cell_type": "markdown",
   "id": "215f91f6-1cc6-4a21-8769-37cb6cf73b57",
   "metadata": {},
   "source": [
    "- Are the per UE percentage delay probes lost the same whether there are 1 UE per BS, 5 UE per BS or 10 UE per basestation ? \n",
    "- If yes then I could proceed with the data collection "
   ]
  }
 ],
 "metadata": {
  "kernelspec": {
   "display_name": "Python 3 (ipykernel)",
   "language": "python",
   "name": "python3"
  },
  "language_info": {
   "codemirror_mode": {
    "name": "ipython",
    "version": 3
   },
   "file_extension": ".py",
   "mimetype": "text/x-python",
   "name": "python",
   "nbconvert_exporter": "python",
   "pygments_lexer": "ipython3",
   "version": "3.10.4"
  }
 },
 "nbformat": 4,
 "nbformat_minor": 5
}
