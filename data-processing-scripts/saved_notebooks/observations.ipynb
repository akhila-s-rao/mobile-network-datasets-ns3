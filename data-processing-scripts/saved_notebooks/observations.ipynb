{
 "cells": [
  {
   "cell_type": "markdown",
   "id": "e72f9639-d255-4f2d-9086-081aeac64713",
   "metadata": {
    "tags": []
   },
   "source": [
    "# Observations\n"
   ]
  },
  {
   "cell_type": "markdown",
   "id": "5eac4ca8-0f16-4e83-9fed-90c499dab195",
   "metadata": {},
   "source": [
    "## <font color='cyan'>BS antenna gain </font>\n",
    "- Increasing BS antenna gain does imrpove both UL and DL SINR, but not significantly since UL sinr has deep faded/shadows. The ul delay probe delivera rate improved by only 1-2%. Also it does not seem to be the right thing to do to increase this gain since it is additive to the gaiun that we already experience by virtue of having a focused beamwidth.\n",
    "\n",
    "- ul and dl throughput measurement exposes many regions wherein the throughput drops to zero (coverage holes)\n",
    "    - Looking at the throughput time series we see that there are long time correlated drops in the sinr which is realistic, but it is not correlated with distance from the connected basestation which does not make sense to me.    \n",
    "    - Are these really coverage holes in that run. Do those areas have holes irrespective of which UE is there or is the hole not spatially correlated for all UEs ?\n",
    "\n",
    "## <font color='cyan'>Fast versus slow UEs</font>\n",
    "- Fast UEs have a lot more handovers per unit time than slow UEs which makes sense, also since the ISD was reduced to 200m the cell area is quite small and hence it makes sense that they encounter handovers often\n",
    "- However, fast or slow does not affect the delay probe delivery rate or the throughput distribution much. That is controlled by the SINR variations which can even be worse in slow UEs due to less frequent handovers  \n",
    "### <font color='red'>Speed matters but not as much </font>"
   ]
  },
  {
   "cell_type": "markdown",
   "id": "924c6929-2613-420d-b7b4-5357433a1812",
   "metadata": {},
   "source": [
    "## <font color='cyan'>How can UDP delay probes so delayed and still get delivered</font>\n",
    "- Shouldn't they get dropped at the MAC after a certain number of retries ? \n",
    "- Does this have anything to do with the large RLC and TCP bufferes ? It really shouldn't be "
   ]
  },
  {
   "cell_type": "markdown",
   "id": "215f91f6-1cc6-4a21-8769-37cb6cf73b57",
   "metadata": {},
   "source": [
    "- Are the per UE percentage delay probes lost the same whether there are 1 UE per BS, 5 UE per BS or 10 UE per basestation ? \n",
    "- If yes then I could proceed with the data collection "
   ]
  },
  {
   "cell_type": "markdown",
   "id": "cd9ac0e7-e920-4dfa-b3eb-8edf8fa1c9a8",
   "metadata": {},
   "source": [
    "- If it is only the UL that has issues \n",
    "    - why is the bitrate of video streaming so low. \n",
    "    - why is the download of web page objects so delayed."
   ]
  }
 ],
 "metadata": {
  "kernelspec": {
   "display_name": "Python 3 (ipykernel)",
   "language": "python",
   "name": "python3"
  },
  "language_info": {
   "codemirror_mode": {
    "name": "ipython",
    "version": 3
   },
   "file_extension": ".py",
   "mimetype": "text/x-python",
   "name": "python",
   "nbconvert_exporter": "python",
   "pygments_lexer": "ipython3",
   "version": "3.10.4"
  }
 },
 "nbformat": 4,
 "nbformat_minor": 5
}
