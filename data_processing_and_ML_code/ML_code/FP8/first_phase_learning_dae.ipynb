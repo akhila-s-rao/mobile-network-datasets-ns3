{
 "cells": [
  {
   "cell_type": "code",
   "execution_count": 2,
   "id": "8ed58de6-5ac0-4bbb-95e7-c77e64dfaf11",
   "metadata": {},
   "outputs": [
    {
     "name": "stdout",
     "output_type": "stream",
     "text": [
      "The autoreload extension is already loaded. To reload it, use:\n",
      "  %reload_ext autoreload\n"
     ]
    }
   ],
   "source": [
    "# reload\n",
    "#%reset\n",
    "%load_ext autoreload\n",
    "%autoreload 2 \n",
    "\n",
    "import warnings\n",
    "import logging\n",
    "import os\n",
    "\n",
    "# DEBUG MODE\n",
    "os.environ['TF_CPP_MIN_LOG_LEVEL'] = '3'\n",
    "warnings.filterwarnings('ignore')\n",
    "logging.getLogger('tensorflow').setLevel(logging.FATAL)\n",
    "    \n",
    "from s3l_training import s3l_training"
   ]
  },
  {
   "cell_type": "code",
   "execution_count": 3,
   "id": "26eb320c-c17f-40dd-8264-6dcbd0933f0b",
   "metadata": {},
   "outputs": [
    {
     "name": "stdout",
     "output_type": "stream",
     "text": [
      "Run with random seed:  561\n",
      "GPU is available.\n",
      "1\n",
      "True\n",
      "12.1\n",
      "Concatenating runs:  range(1, 11)\n",
      "Time to read csv file for run:  3.138521909713745\n",
      "Loaded run 1\n",
      "Time to read csv file for run:  3.15991473197937\n",
      "Loaded run 2\n",
      "Time to read csv file for run:  3.126906394958496\n",
      "Loaded run 3\n",
      "Time to read csv file for run:  3.1084671020507812\n",
      "Loaded run 4\n",
      "Time to read csv file for run:  3.103104591369629\n",
      "Loaded run 5\n",
      "Time to read csv file for run:  2.9754419326782227\n",
      "Loaded run 6\n",
      "Time to read csv file for run:  3.067216157913208\n",
      "Loaded run 7\n",
      "Time to read csv file for run:  3.1126019954681396\n",
      "Loaded run 8\n",
      "Time to read csv file for run:  3.114250659942627\n",
      "Loaded run 9\n",
      "Time to read csv file for run:  3.0482304096221924\n",
      "Loaded run 10\n",
      "pretrain_data, before removing rows that dont have traffic  (1799100, 102)\n",
      "pretrain_data, after removing rows that dont have traffic  (1799100, 102)\n",
      "X_pretrain  (1796746, 92)\n"
     ]
    },
    {
     "name": "stderr",
     "output_type": "stream",
     "text": [
      "Seed set to 42\n"
     ]
    },
    {
     "name": "stdout",
     "output_type": "stream",
     "text": [
      "HYPERPARAMETERS:  {'loss_fn': 'MSELoss', 'metric': 'r2_score', 'hidden_dim': 200, 'max_epochs': 100, 'batch_size': 128, 'optim_hparams': {'lr': 0.0001, 'weight_decay': 5e-05}, 'encoder_depth': 2, 'head_depth': 2, 'dropout_rate': 0.1, 'noise_type': 'Swap', 'noise_ratio': 0.3}\n"
     ]
    },
    {
     "name": "stderr",
     "output_type": "stream",
     "text": [
      "GPU available: True (cuda), used: True\n",
      "TPU available: False, using: 0 TPU cores\n",
      "HPU available: False, using: 0 HPUs\n",
      "LOCAL_RANK: 0 - CUDA_VISIBLE_DEVICES: [0]\n"
     ]
    },
    {
     "name": "stdout",
     "output_type": "stream",
     "text": [
      "refresh rate:  10\n"
     ]
    },
    {
     "name": "stderr",
     "output_type": "stream",
     "text": [
      "\n",
      "  | Name                     | Type    | Params | Mode \n",
      "-------------------------------------------------------------\n",
      "0 | task_loss_fn             | MSELoss | 0      | train\n",
      "1 | mask_loss_fn             | BCELoss | 0      | train\n",
      "2 | categorical_feature_loss | BCELoss | 0      | train\n",
      "3 | continuous_feature_loss  | MSELoss | 0      | train\n",
      "4 | model                    | DAE     | 214 K  | train\n",
      "-------------------------------------------------------------\n",
      "214 K     Trainable params\n",
      "0         Non-trainable params\n",
      "214 K     Total params\n",
      "0.858     Total estimated model params size (MB)\n"
     ]
    },
    {
     "name": "stdout",
     "output_type": "stream",
     "text": [
      "Epoch 0: 100%|████████████████████████████████████████████████████████████████████████████████████| 12704/12704 [02:08<00:00, 98.50it/s]\n",
      "Epoch 1: 100%|██████████████████████████████████████████████████| 12704/12704 [02:09<00:00, 98.02it/s, train_loss=1.020, val_loss=0.843]\u001b[A\n",
      "Epoch 2: 100%|██████████████████████████████████████████████████| 12704/12704 [02:08<00:00, 98.73it/s, train_loss=0.884, val_loss=0.812]\u001b[A\n",
      "Epoch 3: 100%|██████████████████████████████████████████████████| 12704/12704 [02:08<00:00, 98.69it/s, train_loss=0.861, val_loss=0.798]\u001b[A\n",
      "Epoch 4: 100%|██████████████████████████████████████████████████| 12704/12704 [02:10<00:00, 97.27it/s, train_loss=0.846, val_loss=0.778]\u001b[A\n",
      "Epoch 5: 100%|██████████████████████████████████████████████████| 12704/12704 [02:10<00:00, 97.62it/s, train_loss=0.834, val_loss=0.775]\u001b[A\n",
      "Epoch 6: 100%|██████████████████████████████████████████████████| 12704/12704 [02:09<00:00, 97.88it/s, train_loss=0.824, val_loss=0.764]\u001b[A\n",
      "Epoch 7: 100%|██████████████████████████████████████████████████| 12704/12704 [02:09<00:00, 97.84it/s, train_loss=0.814, val_loss=0.752]\u001b[A\n",
      "Epoch 8: 100%|██████████████████████████████████████████████████| 12704/12704 [02:10<00:00, 97.41it/s, train_loss=0.807, val_loss=0.741]\u001b[A\n",
      "Epoch 9: 100%|██████████████████████████████████████████████████| 12704/12704 [02:11<00:00, 96.31it/s, train_loss=0.799, val_loss=0.735]\u001b[A\n",
      "Epoch 10: 100%|█████████████████████████████████████████████████| 12704/12704 [02:10<00:00, 97.49it/s, train_loss=0.792, val_loss=0.728]\u001b[A\n",
      "Epoch 11: 100%|█████████████████████████████████████████████████| 12704/12704 [02:09<00:00, 97.89it/s, train_loss=0.785, val_loss=0.721]\u001b[A\n",
      "Epoch 12: 100%|█████████████████████████████████████████████████| 12704/12704 [02:12<00:00, 95.91it/s, train_loss=0.780, val_loss=0.718]\u001b[A\n",
      "Epoch 13: 100%|█████████████████████████████████████████████████| 12704/12704 [02:10<00:00, 97.58it/s, train_loss=0.774, val_loss=0.710]\u001b[A\n",
      "Epoch 14: 100%|█████████████████████████████████████████████████| 12704/12704 [02:10<00:00, 97.20it/s, train_loss=0.768, val_loss=0.705]\u001b[A\n",
      "Epoch 15: 100%|█████████████████████████████████████████████████| 12704/12704 [02:10<00:00, 97.34it/s, train_loss=0.763, val_loss=0.700]\u001b[A\n",
      "Epoch 16: 100%|█████████████████████████████████████████████████| 12704/12704 [02:11<00:00, 96.38it/s, train_loss=0.758, val_loss=0.695]\u001b[A\n",
      "Epoch 17: 100%|█████████████████████████████████████████████████| 12704/12704 [02:10<00:00, 97.30it/s, train_loss=0.755, val_loss=0.692]\u001b[A\n",
      "Epoch 18: 100%|█████████████████████████████████████████████████| 12704/12704 [02:11<00:00, 96.90it/s, train_loss=0.750, val_loss=0.686]\u001b[A\n",
      "Epoch 19: 100%|█████████████████████████████████████████████████| 12704/12704 [02:09<00:00, 98.38it/s, train_loss=0.748, val_loss=0.688]\u001b[A\n",
      "Epoch 20: 100%|█████████████████████████████████████████████████| 12704/12704 [02:11<00:00, 96.84it/s, train_loss=0.743, val_loss=0.680]\u001b[A\n",
      "Epoch 21: 100%|█████████████████████████████████████████████████| 12704/12704 [02:09<00:00, 97.86it/s, train_loss=0.739, val_loss=0.682]\u001b[A\n",
      "Epoch 22: 100%|█████████████████████████████████████████████████| 12704/12704 [02:09<00:00, 97.88it/s, train_loss=0.737, val_loss=0.672]\u001b[A\n",
      "Epoch 23: 100%|█████████████████████████████████████████████████| 12704/12704 [02:10<00:00, 97.28it/s, train_loss=0.735, val_loss=0.668]\u001b[A\n",
      "Epoch 24: 100%|█████████████████████████████████████████████████| 12704/12704 [02:09<00:00, 98.08it/s, train_loss=0.731, val_loss=0.666]\u001b[A\n",
      "Epoch 25: 100%|█████████████████████████████████████████████████| 12704/12704 [02:09<00:00, 98.06it/s, train_loss=0.730, val_loss=0.666]\u001b[A\n",
      "Epoch 26: 100%|█████████████████████████████████████████████████| 12704/12704 [02:11<00:00, 96.30it/s, train_loss=0.728, val_loss=0.666]\u001b[A\n",
      "Epoch 27: 100%|█████████████████████████████████████████████████| 12704/12704 [02:10<00:00, 97.47it/s, train_loss=0.726, val_loss=0.664]\u001b[A\n",
      "Epoch 28: 100%|█████████████████████████████████████████████████| 12704/12704 [02:09<00:00, 98.08it/s, train_loss=0.723, val_loss=0.658]\u001b[A\n",
      "Epoch 29: 100%|█████████████████████████████████████████████████| 12704/12704 [02:09<00:00, 97.90it/s, train_loss=0.721, val_loss=0.663]\u001b[A\n",
      "Epoch 30: 100%|█████████████████████████████████████████████████| 12704/12704 [02:09<00:00, 98.26it/s, train_loss=0.720, val_loss=0.655]\u001b[A\n",
      "Epoch 31: 100%|█████████████████████████████████████████████████| 12704/12704 [02:09<00:00, 98.34it/s, train_loss=0.716, val_loss=0.656]\u001b[A\n",
      "Epoch 32: 100%|█████████████████████████████████████████████████| 12704/12704 [02:09<00:00, 98.04it/s, train_loss=0.716, val_loss=0.654]\u001b[A\n",
      "Epoch 33: 100%|█████████████████████████████████████████████████| 12704/12704 [02:09<00:00, 97.82it/s, train_loss=0.714, val_loss=0.655]\u001b[A\n",
      "Epoch 34: 100%|█████████████████████████████████████████████████| 12704/12704 [02:10<00:00, 97.42it/s, train_loss=0.713, val_loss=0.650]\u001b[A\n",
      "Epoch 35: 100%|█████████████████████████████████████████████████| 12704/12704 [02:09<00:00, 98.15it/s, train_loss=0.711, val_loss=0.648]\u001b[A\n",
      "Epoch 36: 100%|█████████████████████████████████████████████████| 12704/12704 [02:10<00:00, 97.41it/s, train_loss=0.710, val_loss=0.648]\u001b[A\n",
      "Epoch 37: 100%|█████████████████████████████████████████████████| 12704/12704 [02:09<00:00, 98.27it/s, train_loss=0.710, val_loss=0.647]\u001b[A\n",
      "Epoch 38: 100%|█████████████████████████████████████████████████| 12704/12704 [02:09<00:00, 98.47it/s, train_loss=0.708, val_loss=0.645]\u001b[A\n",
      "Epoch 39: 100%|█████████████████████████████████████████████████| 12704/12704 [02:08<00:00, 98.54it/s, train_loss=0.708, val_loss=0.644]\u001b[A\n",
      "Epoch 40: 100%|█████████████████████████████████████████████████| 12704/12704 [02:09<00:00, 98.09it/s, train_loss=0.707, val_loss=0.643]\u001b[A\n",
      "Epoch 41: 100%|█████████████████████████████████████████████████| 12704/12704 [02:10<00:00, 97.49it/s, train_loss=0.706, val_loss=0.644]\u001b[A\n",
      "Epoch 42: 100%|█████████████████████████████████████████████████| 12704/12704 [02:08<00:00, 98.67it/s, train_loss=0.707, val_loss=0.645]\u001b[A\n",
      "Epoch 43: 100%|█████████████████████████████████████████████████| 12704/12704 [02:10<00:00, 97.30it/s, train_loss=0.704, val_loss=0.642]\u001b[A\n",
      "Epoch 44: 100%|█████████████████████████████████████████████████| 12704/12704 [02:10<00:00, 97.29it/s, train_loss=0.705, val_loss=0.645]\u001b[A\n",
      "Epoch 45: 100%|█████████████████████████████████████████████████| 12704/12704 [02:08<00:00, 98.91it/s, train_loss=0.704, val_loss=0.642]\u001b[A\n",
      "Epoch 46: 100%|█████████████████████████████████████████████████| 12704/12704 [02:08<00:00, 98.83it/s, train_loss=0.704, val_loss=0.642]\u001b[A\n",
      "Epoch 47: 100%|█████████████████████████████████████████████████| 12704/12704 [02:09<00:00, 97.89it/s, train_loss=0.702, val_loss=0.639]\u001b[A\n",
      "Epoch 48: 100%|█████████████████████████████████████████████████| 12704/12704 [02:10<00:00, 97.14it/s, train_loss=0.703, val_loss=0.644]\u001b[A\n",
      "Epoch 49: 100%|█████████████████████████████████████████████████| 12704/12704 [02:09<00:00, 97.86it/s, train_loss=0.702, val_loss=0.636]\u001b[A\n",
      "Epoch 50: 100%|█████████████████████████████████████████████████| 12704/12704 [02:08<00:00, 98.68it/s, train_loss=0.701, val_loss=0.640]\u001b[A\n",
      "Epoch 51: 100%|█████████████████████████████████████████████████| 12704/12704 [02:10<00:00, 97.36it/s, train_loss=0.701, val_loss=0.642]\u001b[A\n",
      "Epoch 52: 100%|█████████████████████████████████████████████████| 12704/12704 [02:09<00:00, 98.41it/s, train_loss=0.700, val_loss=0.642]\u001b[A\n",
      "Epoch 53: 100%|█████████████████████████████████████████████████| 12704/12704 [02:11<00:00, 96.93it/s, train_loss=0.700, val_loss=0.636]\u001b[A\n",
      "Epoch 54: 100%|█████████████████████████████████████████████████| 12704/12704 [02:10<00:00, 97.41it/s, train_loss=0.699, val_loss=0.640]\u001b[A\n",
      "Epoch 55: 100%|█████████████████████████████████████████████████| 12704/12704 [02:11<00:00, 96.86it/s, train_loss=0.701, val_loss=0.641]\u001b[A\n",
      "Epoch 56: 100%|█████████████████████████████████████████████████| 12704/12704 [02:10<00:00, 97.21it/s, train_loss=0.698, val_loss=0.644]\u001b[A\n",
      "Epoch 57: 100%|█████████████████████████████████████████████████| 12704/12704 [02:10<00:00, 97.47it/s, train_loss=0.699, val_loss=0.639]\u001b[A\n",
      "Epoch 58: 100%|█████████████████████████████████████████████████| 12704/12704 [02:10<00:00, 97.44it/s, train_loss=0.698, val_loss=0.634]\u001b[A\n",
      "Epoch 59: 100%|█████████████████████████████████████████████████| 12704/12704 [02:10<00:00, 97.51it/s, train_loss=0.698, val_loss=0.637]\u001b[A\n",
      "Epoch 60: 100%|█████████████████████████████████████████████████| 12704/12704 [02:09<00:00, 98.25it/s, train_loss=0.700, val_loss=0.637]\u001b[A\n",
      "Epoch 61: 100%|█████████████████████████████████████████████████| 12704/12704 [02:10<00:00, 97.52it/s, train_loss=0.698, val_loss=0.638]\u001b[A\n",
      "Epoch 62: 100%|█████████████████████████████████████████████████| 12704/12704 [02:09<00:00, 97.74it/s, train_loss=0.698, val_loss=0.636]\u001b[A\n",
      "Epoch 63: 100%|█████████████████████████████████████████████████| 12704/12704 [02:10<00:00, 97.16it/s, train_loss=0.697, val_loss=0.633]\u001b[A\n",
      "Epoch 64: 100%|█████████████████████████████████████████████████| 12704/12704 [02:09<00:00, 98.03it/s, train_loss=0.700, val_loss=0.639]\u001b[A\n",
      "Epoch 65: 100%|█████████████████████████████████████████████████| 12704/12704 [02:10<00:00, 97.38it/s, train_loss=0.698, val_loss=0.631]\u001b[A\n",
      "Epoch 66: 100%|█████████████████████████████████████████████████| 12704/12704 [02:09<00:00, 98.35it/s, train_loss=0.697, val_loss=0.638]\u001b[A\n",
      "Epoch 67: 100%|█████████████████████████████████████████████████| 12704/12704 [02:10<00:00, 97.62it/s, train_loss=0.696, val_loss=0.633]\u001b[A\n",
      "Epoch 68: 100%|█████████████████████████████████████████████████| 12704/12704 [02:09<00:00, 98.11it/s, train_loss=0.695, val_loss=0.632]\u001b[A\n",
      "Epoch 69: 100%|█████████████████████████████████████████████████| 12704/12704 [02:09<00:00, 97.89it/s, train_loss=0.696, val_loss=0.633]\u001b[A\n",
      "Epoch 70: 100%|█████████████████████████████████████████████████| 12704/12704 [02:10<00:00, 97.62it/s, train_loss=0.694, val_loss=0.635]\u001b[A\n",
      "Epoch 71: 100%|█████████████████████████████████████████████████| 12704/12704 [02:10<00:00, 97.00it/s, train_loss=0.694, val_loss=0.633]\u001b[A\n",
      "Epoch 72: 100%|█████████████████████████████████████████████████| 12704/12704 [02:09<00:00, 98.12it/s, train_loss=0.694, val_loss=0.634]\u001b[A\n",
      "Epoch 73: 100%|█████████████████████████████████████████████████| 12704/12704 [02:10<00:00, 97.70it/s, train_loss=0.693, val_loss=0.633]\u001b[A\n",
      "Epoch 74: 100%|█████████████████████████████████████████████████| 12704/12704 [02:10<00:00, 97.58it/s, train_loss=0.692, val_loss=0.638]\u001b[A\n",
      "Epoch 75: 100%|█████████████████████████████████████████████████| 12704/12704 [02:09<00:00, 98.14it/s, train_loss=0.693, val_loss=0.634]\u001b[A\n",
      "Epoch 76: 100%|█████████████████████████████████████████████████| 12704/12704 [02:09<00:00, 97.97it/s, train_loss=0.692, val_loss=0.631]\u001b[A\n",
      "Epoch 77: 100%|█████████████████████████████████████████████████| 12704/12704 [02:10<00:00, 97.05it/s, train_loss=0.691, val_loss=0.636]\u001b[A\n",
      "Epoch 78: 100%|█████████████████████████████████████████████████| 12704/12704 [02:10<00:00, 97.14it/s, train_loss=0.692, val_loss=0.638]\u001b[A\n",
      "Epoch 79: 100%|█████████████████████████████████████████████████| 12704/12704 [02:10<00:00, 97.44it/s, train_loss=0.693, val_loss=0.636]\u001b[A\n",
      "Epoch 80: 100%|█████████████████████████████████████████████████| 12704/12704 [02:10<00:00, 97.39it/s, train_loss=0.691, val_loss=0.631]\u001b[A\n",
      "Epoch 81: 100%|█████████████████████████████████████████████████| 12704/12704 [02:10<00:00, 97.71it/s, train_loss=0.692, val_loss=0.633]\u001b[A\n",
      "Epoch 82: 100%|█████████████████████████████████████████████████| 12704/12704 [02:11<00:00, 96.96it/s, train_loss=0.691, val_loss=0.636]\u001b[A\n",
      "Epoch 83: 100%|█████████████████████████████████████████████████| 12704/12704 [02:11<00:00, 96.56it/s, train_loss=0.690, val_loss=0.633]\u001b[A\n",
      "Epoch 84: 100%|█████████████████████████████████████████████████| 12704/12704 [02:10<00:00, 97.27it/s, train_loss=0.690, val_loss=0.635]\u001b[A\n",
      "Epoch 85: 100%|█████████████████████████████████████████████████| 12704/12704 [02:10<00:00, 97.17it/s, train_loss=0.690, val_loss=0.640]\u001b[A\n",
      "Epoch 86: 100%|█████████████████████████████████████████████████| 12704/12704 [02:10<00:00, 97.31it/s, train_loss=0.691, val_loss=0.628]\u001b[A\n",
      "Epoch 87: 100%|█████████████████████████████████████████████████| 12704/12704 [02:09<00:00, 98.10it/s, train_loss=0.689, val_loss=0.631]\u001b[A\n",
      "Epoch 88: 100%|█████████████████████████████████████████████████| 12704/12704 [02:07<00:00, 99.38it/s, train_loss=0.689, val_loss=0.633]\u001b[A\n",
      "Epoch 89: 100%|█████████████████████████████████████████████████| 12704/12704 [02:08<00:00, 98.93it/s, train_loss=0.691, val_loss=0.627]\u001b[A\n",
      "Epoch 90: 100%|█████████████████████████████████████████████████| 12704/12704 [02:09<00:00, 97.89it/s, train_loss=0.689, val_loss=0.635]\u001b[A\n",
      "Epoch 91: 100%|█████████████████████████████████████████████████| 12704/12704 [02:09<00:00, 98.20it/s, train_loss=0.691, val_loss=0.634]\u001b[A\n",
      "Epoch 92: 100%|█████████████████████████████████████████████████| 12704/12704 [02:11<00:00, 96.63it/s, train_loss=0.689, val_loss=0.633]\u001b[A\n",
      "Epoch 93: 100%|█████████████████████████████████████████████████| 12704/12704 [02:10<00:00, 96.98it/s, train_loss=0.691, val_loss=0.633]\u001b[A\n",
      "Epoch 94: 100%|█████████████████████████████████████████████████| 12704/12704 [02:10<00:00, 97.01it/s, train_loss=0.689, val_loss=0.633]\u001b[A\n",
      "Epoch 95: 100%|█████████████████████████████████████████████████| 12704/12704 [02:09<00:00, 98.27it/s, train_loss=0.689, val_loss=0.632]\u001b[A\n",
      "Epoch 96: 100%|█████████████████████████████████████████████████| 12704/12704 [02:10<00:00, 97.51it/s, train_loss=0.688, val_loss=0.630]\u001b[A\n",
      "Epoch 97: 100%|█████████████████████████████████████████████████| 12704/12704 [02:09<00:00, 97.90it/s, train_loss=0.691, val_loss=0.630]\u001b[A\n",
      "Epoch 98: 100%|█████████████████████████████████████████████████| 12704/12704 [02:07<00:00, 99.59it/s, train_loss=0.689, val_loss=0.635]\u001b[A\n",
      "Epoch 99: 100%|█████████████████████████████████████████████████| 12704/12704 [02:09<00:00, 98.23it/s, train_loss=0.688, val_loss=0.631]\u001b[A\n",
      "Epoch 99: 100%|█████████████████████████████████████████████████| 12704/12704 [02:16<00:00, 92.75it/s, train_loss=0.688, val_loss=0.634]\u001b[A"
     ]
    },
    {
     "name": "stderr",
     "output_type": "stream",
     "text": [
      "`Trainer.fit` stopped: `max_epochs=100` reached.\n"
     ]
    },
    {
     "name": "stdout",
     "output_type": "stream",
     "text": [
      "Epoch 99: 100%|█████████████████████████████████████████████████| 12704/12704 [02:16<00:00, 92.74it/s, train_loss=0.688, val_loss=0.634]\n"
     ]
    },
    {
     "data": {
      "image/png": "[encoded data removed]",
      "text/plain": [
       "<Figure size 640x480 with 1 Axes>"
      ]
     },
     "metadata": {},
     "output_type": "display_data"
    },
    {
     "name": "stdout",
     "output_type": "stream",
     "text": [
      "DONE SAVING PRETRAINED MODEL\n",
      "   | Name                                             | Type        | Params | Mode \n",
      "------------------------------------------------------------------------------------------\n",
      "0  | task_loss_fn                                     | MSELoss     | 0      | train\n",
      "1  | mask_loss_fn                                     | BCELoss     | 0      | train\n",
      "2  | categorical_feature_loss                         | BCELoss     | 0      | train\n",
      "3  | continuous_feature_loss                          | MSELoss     | 0      | train\n",
      "4  | model                                            | DAE         | 214 K  | train\n",
      "5  | model._DAE__encoder                              | MLP         | 59.2 K | train\n",
      "6  | model._DAE__encoder.linear_0                     | Linear      | 18.6 K | train\n",
      "7  | model._DAE__encoder.batchnorm_0                  | BatchNorm1d | 400    | train\n",
      "8  | model._DAE__encoder.relu_0                       | ReLU        | 0      | train\n",
      "9  | model._DAE__encoder.dropout_0                    | Dropout     | 0      | train\n",
      "10 | model._DAE__encoder.linear_n_layers              | Linear      | 40.2 K | train\n",
      "11 | model.mask_predictor_head                        | MLP         | 27.2 K | train\n",
      "12 | model.mask_predictor_head.linear_0               | Linear      | 18.5 K | train\n",
      "13 | model.mask_predictor_head.batchnorm_0            | BatchNorm1d | 184    | train\n",
      "14 | model.mask_predictor_head.relu_0                 | ReLU        | 0      | train\n",
      "15 | model.mask_predictor_head.dropout_0              | Dropout     | 0      | train\n",
      "16 | model.mask_predictor_head.linear_n_layers        | Linear      | 8.6 K  | train\n",
      "17 | model.reconstruction_head                        | MLP         | 27.2 K | train\n",
      "18 | model.reconstruction_head.linear_0               | Linear      | 18.5 K | train\n",
      "19 | model.reconstruction_head.batchnorm_0            | BatchNorm1d | 184    | train\n",
      "20 | model.reconstruction_head.relu_0                 | ReLU        | 0      | train\n",
      "21 | model.reconstruction_head.dropout_0              | Dropout     | 0      | train\n",
      "22 | model.reconstruction_head.linear_n_layers        | Linear      | 8.6 K  | train\n",
      "23 | model.one_layer_prediction_head                  | Sequential  | 40.4 K | train\n",
      "24 | model.one_layer_prediction_head.head_linear_hid  | Linear      | 40.2 K | train\n",
      "25 | model.one_layer_prediction_head.head_activation  | ReLU        | 0      | train\n",
      "26 | model.one_layer_prediction_head.head_linear_out  | Linear      | 201    | train\n",
      "27 | model.two_layer_prediction_head                  | Sequential  | 60.4 K | train\n",
      "28 | model.two_layer_prediction_head.head_linear_hid1 | Linear      | 40.2 K | train\n",
      "29 | model.two_layer_prediction_head.head_activation1 | ReLU        | 0      | train\n",
      "30 | model.two_layer_prediction_head.head_linear_hid2 | Linear      | 20.1 K | train\n",
      "31 | model.two_layer_prediction_head.head_activation2 | ReLU        | 0      | train\n",
      "32 | model.two_layer_prediction_head.head_linear_out  | Linear      | 101    | train\n",
      "------------------------------------------------------------------------------------------\n",
      "214 K     Trainable params\n",
      "0         Non-trainable params\n",
      "214 K     Total params\n",
      "0.858     Total estimated model params size (MB)\n",
      "Time to pretrain model:  13768.807854413986\n",
      "DONE PRETRAINING\n"
     ]
    }
   ],
   "source": [
    "s3l_training(pretrain=True, # if True First Phase training\n",
    "             use_pretrained_model=False, # if True Second Phase learning\n",
    "             pt_type='dae', \n",
    "             pt_folder='FP8')"
   ]
  },
  {
   "cell_type": "code",
   "execution_count": null,
   "id": "de7160f9-4db4-4688-9556-ba884a04eafb",
   "metadata": {},
   "outputs": [],
   "source": []
  }
 ],
 "metadata": {
  "kernelspec": {
   "display_name": "Python 3 (ipykernel)",
   "language": "python",
   "name": "python3"
  },
  "language_info": {
   "codemirror_mode": {
    "name": "ipython",
    "version": 3
   },
   "file_extension": ".py",
   "mimetype": "text/x-python",
   "name": "python",
   "nbconvert_exporter": "python",
   "pygments_lexer": "ipython3",
   "version": "3.8.10"
  }
 },
 "nbformat": 4,
 "nbformat_minor": 5
}
