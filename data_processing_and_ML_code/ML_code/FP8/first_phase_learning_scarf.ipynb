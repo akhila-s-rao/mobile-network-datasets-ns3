{
 "cells": [
  {
   "cell_type": "code",
   "execution_count": 1,
   "id": "8ed58de6-5ac0-4bbb-95e7-c77e64dfaf11",
   "metadata": {},
   "outputs": [],
   "source": [
    "# reload\n",
    "#%reset\n",
    "%load_ext autoreload\n",
    "%autoreload 2 \n",
    "\n",
    "import warnings\n",
    "import logging\n",
    "import os\n",
    "\n",
    "# DEBUG MODE\n",
    "os.environ['TF_CPP_MIN_LOG_LEVEL'] = '3'\n",
    "warnings.filterwarnings('ignore')\n",
    "logging.getLogger('tensorflow').setLevel(logging.FATAL)\n",
    "    \n",
    "from s3l_training import s3l_training"
   ]
  },
  {
   "cell_type": "code",
   "execution_count": 2,
   "id": "26eb320c-c17f-40dd-8264-6dcbd0933f0b",
   "metadata": {},
   "outputs": [
    {
     "name": "stdout",
     "output_type": "stream",
     "text": [
      "Run with random seed:  561\n",
      "GPU is available.\n",
      "1\n",
      "True\n",
      "12.1\n",
      "Concatenating runs:  range(1, 11)\n",
      "Time to read csv file for run:  3.1768603324890137\n",
      "Loaded run 1\n",
      "Time to read csv file for run:  3.227384090423584\n",
      "Loaded run 2\n",
      "Time to read csv file for run:  3.117597818374634\n",
      "Loaded run 3\n",
      "Time to read csv file for run:  3.1088807582855225\n",
      "Loaded run 4\n",
      "Time to read csv file for run:  3.0977320671081543\n",
      "Loaded run 5\n",
      "Time to read csv file for run:  3.13840651512146\n",
      "Loaded run 6\n",
      "Time to read csv file for run:  3.0791311264038086\n",
      "Loaded run 7\n",
      "Time to read csv file for run:  3.099429130554199\n",
      "Loaded run 8\n",
      "Time to read csv file for run:  3.113926410675049\n",
      "Loaded run 9\n",
      "Time to read csv file for run:  3.1795313358306885\n",
      "Loaded run 10\n",
      "pretrain_data, before removing rows that dont have traffic  (1799100, 102)\n",
      "pretrain_data, after removing rows that dont have traffic  (1799100, 102)\n",
      "X_pretrain  (1796746, 92)\n"
     ]
    },
    {
     "name": "stderr",
     "output_type": "stream",
     "text": [
      "Seed set to 42\n"
     ]
    },
    {
     "name": "stdout",
     "output_type": "stream",
     "text": [
      "HYPERPARAMETERS:  {'loss_fn': 'MSELoss', 'metric': 'r2_score', 'hidden_dim': 200, 'max_epochs': 100, 'batch_size': 128, 'optim_hparams': {'lr': 0.0001, 'weight_decay': 5e-05}, 'encoder_depth': 2, 'head_depth': 2, 'dropout_rate': 0.1, 'corruption_rate': 0.3}\n"
     ]
    },
    {
     "name": "stderr",
     "output_type": "stream",
     "text": [
      "GPU available: True (cuda), used: True\n",
      "TPU available: False, using: 0 TPU cores\n",
      "HPU available: False, using: 0 HPUs\n",
      "LOCAL_RANK: 0 - CUDA_VISIBLE_DEVICES: [0]\n"
     ]
    },
    {
     "name": "stdout",
     "output_type": "stream",
     "text": [
      "refresh rate:  10\n"
     ]
    },
    {
     "name": "stderr",
     "output_type": "stream",
     "text": [
      "\n",
      "  | Name             | Type       | Params | Mode \n",
      "--------------------------------------------------------\n",
      "0 | task_loss_fn     | MSELoss    | 0      | train\n",
      "1 | contrastive_loss | NTXentLoss | 0      | train\n",
      "2 | model            | SCARF      | 240 K  | train\n",
      "--------------------------------------------------------\n",
      "240 K     Trainable params\n",
      "0         Non-trainable params\n",
      "240 K     Total params\n",
      "0.963     Total estimated model params size (MB)\n"
     ]
    },
    {
     "name": "stdout",
     "output_type": "stream",
     "text": [
      "Epoch 0: 100%|████████████████████████████████████████████████████████████████████████████████████| 12704/12704 [02:54<00:00, 72.89it/s]\n",
      "Epoch 1: 100%|██████████████████████████████████████████████████| 12704/12704 [02:57<00:00, 71.68it/s, train_loss=0.681, val_loss=0.821]\u001b[A\n",
      "Epoch 2: 100%|██████████████████████████████████████████████████| 12704/12704 [02:54<00:00, 72.73it/s, train_loss=0.485, val_loss=0.703]\u001b[A\n",
      "Epoch 3: 100%|██████████████████████████████████████████████████| 12704/12704 [02:58<00:00, 71.32it/s, train_loss=0.434, val_loss=0.579]\u001b[A\n",
      "Epoch 4: 100%|██████████████████████████████████████████████████| 12704/12704 [02:58<00:00, 71.18it/s, train_loss=0.387, val_loss=0.491]\u001b[A\n",
      "Epoch 5: 100%|██████████████████████████████████████████████████| 12704/12704 [02:56<00:00, 72.18it/s, train_loss=0.333, val_loss=0.380]\u001b[A\n",
      "Epoch 6: 100%|██████████████████████████████████████████████████| 12704/12704 [02:58<00:00, 71.25it/s, train_loss=0.289, val_loss=0.329]\u001b[A\n",
      "Epoch 7: 100%|██████████████████████████████████████████████████| 12704/12704 [02:56<00:00, 71.92it/s, train_loss=0.257, val_loss=0.289]\u001b[A\n",
      "Epoch 8: 100%|██████████████████████████████████████████████████| 12704/12704 [02:55<00:00, 72.19it/s, train_loss=0.232, val_loss=0.271]\u001b[A\n",
      "Epoch 9: 100%|██████████████████████████████████████████████████| 12704/12704 [02:55<00:00, 72.23it/s, train_loss=0.209, val_loss=0.238]\u001b[A\n",
      "Epoch 10: 100%|█████████████████████████████████████████████████| 12704/12704 [02:57<00:00, 71.66it/s, train_loss=0.194, val_loss=0.230]\u001b[A\n",
      "Epoch 11: 100%|█████████████████████████████████████████████████| 12704/12704 [02:58<00:00, 71.35it/s, train_loss=0.180, val_loss=0.212]\u001b[A\n",
      "Epoch 12: 100%|█████████████████████████████████████████████████| 12704/12704 [02:59<00:00, 70.85it/s, train_loss=0.169, val_loss=0.200]\u001b[A\n",
      "Epoch 13: 100%|█████████████████████████████████████████████████| 12704/12704 [02:56<00:00, 72.15it/s, train_loss=0.161, val_loss=0.192]\u001b[A\n",
      "Epoch 14: 100%|█████████████████████████████████████████████████| 12704/12704 [02:56<00:00, 71.83it/s, train_loss=0.155, val_loss=0.190]\u001b[A\n",
      "Epoch 15: 100%|█████████████████████████████████████████████████| 12704/12704 [02:56<00:00, 71.84it/s, train_loss=0.151, val_loss=0.181]\u001b[A\n",
      "Epoch 16: 100%|█████████████████████████████████████████████████| 12704/12704 [02:58<00:00, 71.11it/s, train_loss=0.146, val_loss=0.174]\u001b[A\n",
      "Epoch 17: 100%|█████████████████████████████████████████████████| 12704/12704 [02:57<00:00, 71.40it/s, train_loss=0.143, val_loss=0.172]\u001b[A\n",
      "Epoch 18: 100%|█████████████████████████████████████████████████| 12704/12704 [02:57<00:00, 71.60it/s, train_loss=0.140, val_loss=0.180]\u001b[A\n",
      "Epoch 19: 100%|█████████████████████████████████████████████████| 12704/12704 [02:59<00:00, 70.93it/s, train_loss=0.137, val_loss=0.173]\u001b[A\n",
      "Epoch 20: 100%|█████████████████████████████████████████████████| 12704/12704 [02:55<00:00, 72.37it/s, train_loss=0.135, val_loss=0.169]\u001b[A\n",
      "Epoch 21: 100%|█████████████████████████████████████████████████| 12704/12704 [02:59<00:00, 70.85it/s, train_loss=0.132, val_loss=0.164]\u001b[A\n",
      "Epoch 22: 100%|█████████████████████████████████████████████████| 12704/12704 [03:02<00:00, 69.64it/s, train_loss=0.130, val_loss=0.165]\u001b[A\n",
      "Epoch 23: 100%|█████████████████████████████████████████████████| 12704/12704 [03:00<00:00, 70.51it/s, train_loss=0.128, val_loss=0.165]\u001b[A\n",
      "Epoch 24: 100%|█████████████████████████████████████████████████| 12704/12704 [02:59<00:00, 70.89it/s, train_loss=0.127, val_loss=0.175]\u001b[A\n",
      "Epoch 25: 100%|█████████████████████████████████████████████████| 12704/12704 [02:58<00:00, 71.10it/s, train_loss=0.125, val_loss=0.158]\u001b[A\n",
      "Epoch 26: 100%|█████████████████████████████████████████████████| 12704/12704 [02:58<00:00, 71.29it/s, train_loss=0.123, val_loss=0.155]\u001b[A\n",
      "Epoch 27: 100%|█████████████████████████████████████████████████| 12704/12704 [02:57<00:00, 71.38it/s, train_loss=0.122, val_loss=0.161]\u001b[A\n",
      "Epoch 28: 100%|█████████████████████████████████████████████████| 12704/12704 [03:03<00:00, 69.22it/s, train_loss=0.121, val_loss=0.156]\u001b[A\n",
      "Epoch 29: 100%|█████████████████████████████████████████████████| 12704/12704 [02:59<00:00, 70.71it/s, train_loss=0.120, val_loss=0.155]\u001b[A\n",
      "Epoch 30: 100%|█████████████████████████████████████████████████| 12704/12704 [02:56<00:00, 71.89it/s, train_loss=0.119, val_loss=0.158]\u001b[A\n",
      "Epoch 31: 100%|█████████████████████████████████████████████████| 12704/12704 [02:57<00:00, 71.64it/s, train_loss=0.118, val_loss=0.153]\u001b[A\n",
      "Epoch 32: 100%|█████████████████████████████████████████████████| 12704/12704 [02:57<00:00, 71.41it/s, train_loss=0.118, val_loss=0.152]\u001b[A\n",
      "Epoch 33: 100%|█████████████████████████████████████████████████| 12704/12704 [02:55<00:00, 72.21it/s, train_loss=0.117, val_loss=0.154]\u001b[A\n",
      "Epoch 34: 100%|█████████████████████████████████████████████████| 12704/12704 [03:00<00:00, 70.40it/s, train_loss=0.116, val_loss=0.154]\u001b[A\n",
      "Epoch 35: 100%|█████████████████████████████████████████████████| 12704/12704 [02:56<00:00, 72.18it/s, train_loss=0.116, val_loss=0.148]\u001b[A\n",
      "Epoch 36: 100%|█████████████████████████████████████████████████| 12704/12704 [02:55<00:00, 72.57it/s, train_loss=0.115, val_loss=0.150]\u001b[A\n",
      "Epoch 37: 100%|█████████████████████████████████████████████████| 12704/12704 [02:56<00:00, 71.98it/s, train_loss=0.114, val_loss=0.145]\u001b[A\n",
      "Epoch 38: 100%|█████████████████████████████████████████████████| 12704/12704 [02:57<00:00, 71.55it/s, train_loss=0.114, val_loss=0.149]\u001b[A\n",
      "Epoch 39: 100%|█████████████████████████████████████████████████| 12704/12704 [02:56<00:00, 72.06it/s, train_loss=0.114, val_loss=0.149]\u001b[A\n",
      "Epoch 40: 100%|█████████████████████████████████████████████████| 12704/12704 [02:55<00:00, 72.31it/s, train_loss=0.113, val_loss=0.148]\u001b[A\n",
      "Epoch 41: 100%|█████████████████████████████████████████████████| 12704/12704 [02:56<00:00, 71.88it/s, train_loss=0.113, val_loss=0.149]\u001b[A\n",
      "Epoch 42: 100%|█████████████████████████████████████████████████| 12704/12704 [02:58<00:00, 71.22it/s, train_loss=0.112, val_loss=0.145]\u001b[A\n",
      "Epoch 43: 100%|█████████████████████████████████████████████████| 12704/12704 [02:55<00:00, 72.33it/s, train_loss=0.112, val_loss=0.148]\u001b[A\n",
      "Epoch 44: 100%|█████████████████████████████████████████████████| 12704/12704 [02:55<00:00, 72.31it/s, train_loss=0.112, val_loss=0.146]\u001b[A\n",
      "Epoch 45: 100%|█████████████████████████████████████████████████| 12704/12704 [02:55<00:00, 72.54it/s, train_loss=0.111, val_loss=0.146]\u001b[A\n",
      "Epoch 46: 100%|█████████████████████████████████████████████████| 12704/12704 [02:56<00:00, 71.81it/s, train_loss=0.111, val_loss=0.145]\u001b[A\n",
      "Epoch 47: 100%|█████████████████████████████████████████████████| 12704/12704 [02:58<00:00, 71.12it/s, train_loss=0.111, val_loss=0.146]\u001b[A\n",
      "Epoch 48: 100%|█████████████████████████████████████████████████| 12704/12704 [02:56<00:00, 71.94it/s, train_loss=0.111, val_loss=0.145]\u001b[A\n",
      "Epoch 49: 100%|█████████████████████████████████████████████████| 12704/12704 [02:56<00:00, 71.90it/s, train_loss=0.111, val_loss=0.147]\u001b[A\n",
      "Epoch 50: 100%|█████████████████████████████████████████████████| 12704/12704 [02:56<00:00, 72.18it/s, train_loss=0.110, val_loss=0.144]\u001b[A\n",
      "Epoch 51: 100%|█████████████████████████████████████████████████| 12704/12704 [02:55<00:00, 72.53it/s, train_loss=0.110, val_loss=0.139]\u001b[A\n",
      "Epoch 52: 100%|█████████████████████████████████████████████████| 12704/12704 [02:56<00:00, 71.79it/s, train_loss=0.110, val_loss=0.141]\u001b[A\n",
      "Epoch 53: 100%|█████████████████████████████████████████████████| 12704/12704 [02:55<00:00, 72.30it/s, train_loss=0.109, val_loss=0.144]\u001b[A\n",
      "Epoch 54: 100%|█████████████████████████████████████████████████| 12704/12704 [02:56<00:00, 71.90it/s, train_loss=0.109, val_loss=0.138]\u001b[A\n",
      "Epoch 55: 100%|█████████████████████████████████████████████████| 12704/12704 [02:55<00:00, 72.20it/s, train_loss=0.109, val_loss=0.142]\u001b[A\n",
      "Epoch 56: 100%|█████████████████████████████████████████████████| 12704/12704 [02:56<00:00, 72.08it/s, train_loss=0.109, val_loss=0.138]\u001b[A\n",
      "Epoch 57: 100%|█████████████████████████████████████████████████| 12704/12704 [02:58<00:00, 71.36it/s, train_loss=0.109, val_loss=0.141]\u001b[A\n",
      "Epoch 58: 100%|█████████████████████████████████████████████████| 12704/12704 [02:56<00:00, 71.88it/s, train_loss=0.108, val_loss=0.143]\u001b[A\n",
      "Epoch 59: 100%|█████████████████████████████████████████████████| 12704/12704 [02:56<00:00, 71.93it/s, train_loss=0.108, val_loss=0.140]\u001b[A\n",
      "Epoch 60: 100%|█████████████████████████████████████████████████| 12704/12704 [02:56<00:00, 72.06it/s, train_loss=0.108, val_loss=0.142]\u001b[A\n",
      "Epoch 61: 100%|█████████████████████████████████████████████████| 12704/12704 [02:58<00:00, 71.29it/s, train_loss=0.108, val_loss=0.138]\u001b[A\n",
      "Epoch 62: 100%|█████████████████████████████████████████████████| 12704/12704 [02:56<00:00, 71.80it/s, train_loss=0.108, val_loss=0.142]\u001b[A\n",
      "Epoch 63: 100%|█████████████████████████████████████████████████| 12704/12704 [02:56<00:00, 72.09it/s, train_loss=0.108, val_loss=0.141]\u001b[A\n",
      "Epoch 64: 100%|█████████████████████████████████████████████████| 12704/12704 [02:54<00:00, 72.70it/s, train_loss=0.107, val_loss=0.140]\u001b[A\n",
      "Epoch 65: 100%|█████████████████████████████████████████████████| 12704/12704 [03:03<00:00, 69.10it/s, train_loss=0.107, val_loss=0.142]\u001b[A\n",
      "Epoch 66: 100%|█████████████████████████████████████████████████| 12704/12704 [02:55<00:00, 72.45it/s, train_loss=0.107, val_loss=0.139]\u001b[A\n",
      "Epoch 67: 100%|█████████████████████████████████████████████████| 12704/12704 [02:56<00:00, 71.85it/s, train_loss=0.107, val_loss=0.136]\u001b[A\n",
      "Epoch 68: 100%|█████████████████████████████████████████████████| 12704/12704 [02:57<00:00, 71.39it/s, train_loss=0.107, val_loss=0.136]\u001b[A\n",
      "Epoch 69: 100%|█████████████████████████████████████████████████| 12704/12704 [02:57<00:00, 71.46it/s, train_loss=0.106, val_loss=0.140]\u001b[A\n",
      "Epoch 70: 100%|█████████████████████████████████████████████████| 12704/12704 [02:56<00:00, 72.18it/s, train_loss=0.106, val_loss=0.132]\u001b[A\n",
      "Epoch 71: 100%|█████████████████████████████████████████████████| 12704/12704 [02:57<00:00, 71.61it/s, train_loss=0.106, val_loss=0.142]\u001b[A\n",
      "Epoch 72: 100%|█████████████████████████████████████████████████| 12704/12704 [02:54<00:00, 72.65it/s, train_loss=0.106, val_loss=0.139]\u001b[A\n",
      "Epoch 73: 100%|█████████████████████████████████████████████████| 12704/12704 [02:50<00:00, 74.70it/s, train_loss=0.106, val_loss=0.133]\u001b[A\n",
      "Epoch 74: 100%|█████████████████████████████████████████████████| 12704/12704 [02:44<00:00, 77.16it/s, train_loss=0.106, val_loss=0.136]\u001b[A\n",
      "Epoch 75: 100%|█████████████████████████████████████████████████| 12704/12704 [02:42<00:00, 78.25it/s, train_loss=0.105, val_loss=0.139]\u001b[A\n",
      "Epoch 76: 100%|█████████████████████████████████████████████████| 12704/12704 [02:41<00:00, 78.84it/s, train_loss=0.105, val_loss=0.136]\u001b[A\n",
      "Epoch 77: 100%|█████████████████████████████████████████████████| 12704/12704 [02:44<00:00, 77.13it/s, train_loss=0.105, val_loss=0.136]\u001b[A\n",
      "Epoch 78: 100%|█████████████████████████████████████████████████| 12704/12704 [02:39<00:00, 79.71it/s, train_loss=0.105, val_loss=0.138]\u001b[A\n",
      "Epoch 79: 100%|█████████████████████████████████████████████████| 12704/12704 [02:46<00:00, 76.33it/s, train_loss=0.105, val_loss=0.132]\u001b[A\n",
      "Epoch 80: 100%|█████████████████████████████████████████████████| 12704/12704 [02:41<00:00, 78.55it/s, train_loss=0.105, val_loss=0.140]\u001b[A\n",
      "Epoch 81: 100%|█████████████████████████████████████████████████| 12704/12704 [02:40<00:00, 79.34it/s, train_loss=0.105, val_loss=0.138]\u001b[A\n",
      "Epoch 82: 100%|█████████████████████████████████████████████████| 12704/12704 [02:41<00:00, 78.84it/s, train_loss=0.105, val_loss=0.134]\u001b[A\n",
      "Epoch 83: 100%|█████████████████████████████████████████████████| 12704/12704 [02:42<00:00, 78.17it/s, train_loss=0.104, val_loss=0.137]\u001b[A\n",
      "Epoch 84: 100%|█████████████████████████████████████████████████| 12704/12704 [02:44<00:00, 77.24it/s, train_loss=0.104, val_loss=0.131]\u001b[A\n",
      "Epoch 85: 100%|█████████████████████████████████████████████████| 12704/12704 [02:38<00:00, 80.24it/s, train_loss=0.104, val_loss=0.131]\u001b[A\n",
      "Epoch 86: 100%|█████████████████████████████████████████████████| 12704/12704 [02:29<00:00, 85.22it/s, train_loss=0.104, val_loss=0.135]\u001b[A\n",
      "Epoch 87: 100%|█████████████████████████████████████████████████| 12704/12704 [02:32<00:00, 83.29it/s, train_loss=0.104, val_loss=0.132]\u001b[A\n",
      "Epoch 88: 100%|█████████████████████████████████████████████████| 12704/12704 [02:38<00:00, 80.02it/s, train_loss=0.104, val_loss=0.133]\u001b[A\n",
      "Epoch 89: 100%|█████████████████████████████████████████████████| 12704/12704 [02:33<00:00, 82.94it/s, train_loss=0.104, val_loss=0.130]\u001b[A\n",
      "Epoch 90: 100%|█████████████████████████████████████████████████| 12704/12704 [02:40<00:00, 79.22it/s, train_loss=0.104, val_loss=0.134]\u001b[A\n",
      "Epoch 91: 100%|█████████████████████████████████████████████████| 12704/12704 [02:33<00:00, 82.62it/s, train_loss=0.103, val_loss=0.132]\u001b[A\n",
      "Epoch 92: 100%|█████████████████████████████████████████████████| 12704/12704 [02:38<00:00, 80.11it/s, train_loss=0.103, val_loss=0.134]\u001b[A\n",
      "Epoch 93: 100%|█████████████████████████████████████████████████| 12704/12704 [02:40<00:00, 79.29it/s, train_loss=0.103, val_loss=0.134]\u001b[A\n",
      "Epoch 94: 100%|█████████████████████████████████████████████████| 12704/12704 [02:33<00:00, 82.58it/s, train_loss=0.103, val_loss=0.132]\u001b[A\n",
      "Epoch 95: 100%|█████████████████████████████████████████████████| 12704/12704 [02:38<00:00, 80.40it/s, train_loss=0.103, val_loss=0.132]\u001b[A\n",
      "Epoch 96: 100%|█████████████████████████████████████████████████| 12704/12704 [02:32<00:00, 83.17it/s, train_loss=0.103, val_loss=0.134]\u001b[A\n",
      "Epoch 97: 100%|█████████████████████████████████████████████████| 12704/12704 [02:41<00:00, 78.44it/s, train_loss=0.103, val_loss=0.133]\u001b[A\n",
      "Epoch 98: 100%|█████████████████████████████████████████████████| 12704/12704 [02:37<00:00, 80.56it/s, train_loss=0.103, val_loss=0.135]\u001b[A\n",
      "Epoch 99: 100%|█████████████████████████████████████████████████| 12704/12704 [02:35<00:00, 81.67it/s, train_loss=0.103, val_loss=0.133]\u001b[A\n",
      "Epoch 99: 100%|█████████████████████████████████████████████████| 12704/12704 [02:43<00:00, 77.54it/s, train_loss=0.103, val_loss=0.133]\u001b[A"
     ]
    },
    {
     "name": "stderr",
     "output_type": "stream",
     "text": [
      "`Trainer.fit` stopped: `max_epochs=100` reached.\n"
     ]
    },
    {
     "name": "stdout",
     "output_type": "stream",
     "text": [
      "Epoch 99: 100%|█████████████████████████████████████████████████| 12704/12704 [02:43<00:00, 77.52it/s, train_loss=0.103, val_loss=0.133]\n"
     ]
    },
    {
     "data": {
      "image/png": "[encoded data removed]",
      "text/plain": [
       "<Figure size 640x480 with 1 Axes>"
      ]
     },
     "metadata": {},
     "output_type": "display_data"
    },
    {
     "name": "stdout",
     "output_type": "stream",
     "text": [
      "DONE SAVING PRETRAINED MODEL\n",
      "   | Name                                             | Type        | Params | Mode \n",
      "------------------------------------------------------------------------------------------\n",
      "0  | task_loss_fn                                     | MSELoss     | 0      | train\n",
      "1  | contrastive_loss                                 | NTXentLoss  | 0      | train\n",
      "2  | model                                            | SCARF       | 240 K  | train\n",
      "3  | model._SCARF__encoder                            | MLP         | 59.2 K | train\n",
      "4  | model._SCARF__encoder.linear_0                   | Linear      | 18.6 K | train\n",
      "5  | model._SCARF__encoder.batchnorm_0                | BatchNorm1d | 400    | train\n",
      "6  | model._SCARF__encoder.relu_0                     | ReLU        | 0      | train\n",
      "7  | model._SCARF__encoder.dropout_0                  | Dropout     | 0      | train\n",
      "8  | model._SCARF__encoder.linear_n_layers            | Linear      | 40.2 K | train\n",
      "9  | model.pretraining_head                           | MLP         | 80.8 K | train\n",
      "10 | model.pretraining_head.linear_0                  | Linear      | 40.2 K | train\n",
      "11 | model.pretraining_head.batchnorm_0               | BatchNorm1d | 400    | train\n",
      "12 | model.pretraining_head.relu_0                    | ReLU        | 0      | train\n",
      "13 | model.pretraining_head.dropout_0                 | Dropout     | 0      | train\n",
      "14 | model.pretraining_head.linear_n_layers           | Linear      | 40.2 K | train\n",
      "15 | model.one_layer_prediction_head                  | Sequential  | 40.4 K | train\n",
      "16 | model.one_layer_prediction_head.head_linear_hid  | Linear      | 40.2 K | train\n",
      "17 | model.one_layer_prediction_head.head_activation  | ReLU        | 0      | train\n",
      "18 | model.one_layer_prediction_head.head_linear_out  | Linear      | 201    | train\n",
      "19 | model.two_layer_prediction_head                  | Sequential  | 60.4 K | train\n",
      "20 | model.two_layer_prediction_head.head_linear_hid1 | Linear      | 40.2 K | train\n",
      "21 | model.two_layer_prediction_head.head_activation1 | ReLU        | 0      | train\n",
      "22 | model.two_layer_prediction_head.head_linear_hid2 | Linear      | 20.1 K | train\n",
      "23 | model.two_layer_prediction_head.head_activation2 | ReLU        | 0      | train\n",
      "24 | model.two_layer_prediction_head.head_linear_out  | Linear      | 101    | train\n",
      "------------------------------------------------------------------------------------------\n",
      "240 K     Trainable params\n",
      "0         Non-trainable params\n",
      "240 K     Total params\n",
      "0.963     Total estimated model params size (MB)\n",
      "Time to pretrain model:  18203.269323587418\n",
      "DONE PRETRAINING\n"
     ]
    }
   ],
   "source": [
    "s3l_training(pretrain=True, # if True First Phase training\n",
    "             use_pretrained_model=False, # if True Second Phase learning\n",
    "             pt_type='scarf', \n",
    "             pt_folder='FP8')"
   ]
  },
  {
   "cell_type": "code",
   "execution_count": null,
   "id": "de7160f9-4db4-4688-9556-ba884a04eafb",
   "metadata": {},
   "outputs": [],
   "source": []
  }
 ],
 "metadata": {
  "kernelspec": {
   "display_name": "Python 3 (ipykernel)",
   "language": "python",
   "name": "python3"
  },
  "language_info": {
   "codemirror_mode": {
    "name": "ipython",
    "version": 3
   },
   "file_extension": ".py",
   "mimetype": "text/x-python",
   "name": "python",
   "nbconvert_exporter": "python",
   "pygments_lexer": "ipython3",
   "version": "3.8.10"
  }
 },
 "nbformat": 4,
 "nbformat_minor": 5
}
