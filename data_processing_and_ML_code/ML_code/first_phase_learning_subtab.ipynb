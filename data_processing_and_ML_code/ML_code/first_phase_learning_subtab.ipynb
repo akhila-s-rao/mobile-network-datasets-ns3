{
 "cells": [
  {
   "cell_type": "code",
   "execution_count": 1,
   "id": "8ed58de6-5ac0-4bbb-95e7-c77e64dfaf11",
   "metadata": {},
   "outputs": [],
   "source": [
    "# reload\n",
    "#%reset\n",
    "%load_ext autoreload\n",
    "%autoreload 2 \n",
    "\n",
    "import warnings\n",
    "import logging\n",
    "import os\n",
    "\n",
    "# DEBUG MODE\n",
    "os.environ['TF_CPP_MIN_LOG_LEVEL'] = '3'\n",
    "warnings.filterwarnings('ignore')\n",
    "logging.getLogger('tensorflow').setLevel(logging.FATAL)\n",
    "    \n",
    "from s3l_training import s3l_training"
   ]
  },
  {
   "cell_type": "code",
   "execution_count": 2,
   "id": "26eb320c-c17f-40dd-8264-6dcbd0933f0b",
   "metadata": {},
   "outputs": [
    {
     "name": "stdout",
     "output_type": "stream",
     "text": [
      "Run with random seed:  561\n",
      "GPU is available.\n",
      "1\n",
      "True\n",
      "12.1\n",
      "Concatenating runs:  range(1, 11)\n",
      "Time to read csv file for run:  3.547776937484741\n",
      "Loaded run 1\n",
      "Time to read csv file for run:  3.4172048568725586\n",
      "Loaded run 2\n",
      "Time to read csv file for run:  3.3367464542388916\n",
      "Loaded run 3\n",
      "Time to read csv file for run:  3.3362069129943848\n",
      "Loaded run 4\n",
      "Time to read csv file for run:  3.342918634414673\n",
      "Loaded run 5\n",
      "Time to read csv file for run:  3.138361930847168\n",
      "Loaded run 6\n",
      "Time to read csv file for run:  3.3358371257781982\n",
      "Loaded run 7\n",
      "Time to read csv file for run:  3.215341329574585\n",
      "Loaded run 8\n",
      "Time to read csv file for run:  3.3932785987854004\n",
      "Loaded run 9\n",
      "Time to read csv file for run:  3.3599252700805664\n",
      "Loaded run 10\n",
      "pretrain_data, before removing rows that dont have traffic  (1799100, 102)\n",
      "pretrain_data, after removing rows that dont have traffic  (102769, 102)\n",
      "X_pretrain  (102448, 92)\n"
     ]
    },
    {
     "name": "stderr",
     "output_type": "stream",
     "text": [
      "Seed set to 42\n"
     ]
    },
    {
     "name": "stdout",
     "output_type": "stream",
     "text": [
      "HYPERPARAMETERS:  {'loss_fn': 'MSELoss', 'metric': 'r2_score', 'hidden_dim': 200, 'max_epochs': 100, 'batch_size': 128, 'optim_hparams': {'lr': 0.0001, 'weight_decay': 5e-05}, 'encoder_depth': 4, 'head_depth': 2, 'noise_type': 'Swap', 'mask_ratio': 0.3, 'tau': 1.0, 'use_cosine_similarity': True, 'use_contrastive': True, 'use_distance': True, 'n_subsets': 4, 'overlap_ratio': 0.75}\n",
      "92 4 0.75 23\n",
      "23 17\n"
     ]
    },
    {
     "name": "stderr",
     "output_type": "stream",
     "text": [
      "GPU available: True (cuda), used: True\n",
      "TPU available: False, using: 0 TPU cores\n",
      "HPU available: False, using: 0 HPUs\n",
      "LOCAL_RANK: 0 - CUDA_VISIBLE_DEVICES: [0]\n"
     ]
    },
    {
     "name": "stdout",
     "output_type": "stream",
     "text": [
      "refresh rate:  10\n"
     ]
    },
    {
     "name": "stderr",
     "output_type": "stream",
     "text": [
      "\n",
      "  | Name          | Type      | Params | Mode \n",
      "----------------------------------------------------\n",
      "0 | task_loss_fn  | MSELoss   | 0      | train\n",
      "1 | joint_loss_fn | JointLoss | 0      | train\n",
      "2 | model         | SubTab    | 207 K  | train\n",
      "----------------------------------------------------\n",
      "207 K     Trainable params\n",
      "0         Non-trainable params\n",
      "207 K     Total params\n",
      "0.832     Total estimated model params size (MB)\n"
     ]
    },
    {
     "name": "stdout",
     "output_type": "stream",
     "text": [
      "Epoch 0: 100%|████████████████████████████████████████████████████████████████████████████████████████████| 725/725 [01:02<00:00, 11.59it/s]\n",
      "Epoch 1: 100%|██████████████████████████████████████████████████████████| 725/725 [01:08<00:00, 10.65it/s, train_loss=6.680, val_loss=5.530]\u001b[A\n",
      "Epoch 2: 100%|██████████████████████████████████████████████████████████| 725/725 [01:09<00:00, 10.48it/s, train_loss=5.400, val_loss=5.260]\u001b[A\n",
      "Epoch 3: 100%|██████████████████████████████████████████████████████████| 725/725 [01:08<00:00, 10.59it/s, train_loss=5.260, val_loss=5.200]\u001b[A\n",
      "Epoch 4: 100%|██████████████████████████████████████████████████████████| 725/725 [01:09<00:00, 10.45it/s, train_loss=5.230, val_loss=5.190]\u001b[A\n",
      "Epoch 5: 100%|██████████████████████████████████████████████████████████| 725/725 [01:08<00:00, 10.54it/s, train_loss=5.230, val_loss=5.180]\u001b[A\n",
      "Epoch 6: 100%|██████████████████████████████████████████████████████████| 725/725 [01:08<00:00, 10.57it/s, train_loss=5.210, val_loss=5.160]\u001b[A\n",
      "Epoch 7: 100%|██████████████████████████████████████████████████████████| 725/725 [01:08<00:00, 10.52it/s, train_loss=5.210, val_loss=5.160]\u001b[A\n",
      "Epoch 8: 100%|██████████████████████████████████████████████████████████| 725/725 [01:08<00:00, 10.59it/s, train_loss=5.200, val_loss=5.160]\u001b[A\n",
      "Epoch 9: 100%|██████████████████████████████████████████████████████████| 725/725 [01:09<00:00, 10.47it/s, train_loss=5.190, val_loss=5.150]\u001b[A\n",
      "Epoch 10: 100%|█████████████████████████████████████████████████████████| 725/725 [01:09<00:00, 10.47it/s, train_loss=5.180, val_loss=5.140]\u001b[A\n",
      "Epoch 11: 100%|█████████████████████████████████████████████████████████| 725/725 [01:08<00:00, 10.55it/s, train_loss=5.180, val_loss=5.130]\u001b[A\n",
      "Epoch 12: 100%|█████████████████████████████████████████████████████████| 725/725 [01:08<00:00, 10.51it/s, train_loss=5.170, val_loss=5.130]\u001b[A\n",
      "Epoch 13: 100%|█████████████████████████████████████████████████████████| 725/725 [01:09<00:00, 10.51it/s, train_loss=5.170, val_loss=5.120]\u001b[A\n",
      "Epoch 14: 100%|█████████████████████████████████████████████████████████| 725/725 [01:04<00:00, 11.17it/s, train_loss=5.160, val_loss=5.120]\u001b[A\n",
      "Epoch 15: 100%|█████████████████████████████████████████████████████████| 725/725 [01:05<00:00, 11.07it/s, train_loss=5.160, val_loss=5.110]\u001b[A\n",
      "Epoch 16: 100%|█████████████████████████████████████████████████████████| 725/725 [01:05<00:00, 11.10it/s, train_loss=5.150, val_loss=5.110]\u001b[A\n",
      "Epoch 17: 100%|█████████████████████████████████████████████████████████| 725/725 [01:05<00:00, 11.01it/s, train_loss=5.150, val_loss=5.100]\u001b[A\n",
      "Epoch 18: 100%|█████████████████████████████████████████████████████████| 725/725 [01:05<00:00, 11.01it/s, train_loss=5.140, val_loss=5.100]\u001b[A\n",
      "Epoch 19: 100%|█████████████████████████████████████████████████████████| 725/725 [01:03<00:00, 11.36it/s, train_loss=5.140, val_loss=5.100]\u001b[A\n",
      "Epoch 20: 100%|█████████████████████████████████████████████████████████| 725/725 [01:04<00:00, 11.30it/s, train_loss=5.130, val_loss=5.090]\u001b[A\n",
      "Epoch 21: 100%|█████████████████████████████████████████████████████████| 725/725 [01:02<00:00, 11.54it/s, train_loss=5.130, val_loss=5.090]\u001b[A\n",
      "Epoch 22: 100%|█████████████████████████████████████████████████████████| 725/725 [01:03<00:00, 11.46it/s, train_loss=5.130, val_loss=5.080]\u001b[A\n",
      "Epoch 23: 100%|█████████████████████████████████████████████████████████| 725/725 [01:03<00:00, 11.33it/s, train_loss=5.120, val_loss=5.080]\u001b[A\n",
      "Epoch 24: 100%|█████████████████████████████████████████████████████████| 725/725 [01:03<00:00, 11.47it/s, train_loss=5.120, val_loss=5.080]\u001b[A\n",
      "Epoch 25: 100%|█████████████████████████████████████████████████████████| 725/725 [01:04<00:00, 11.31it/s, train_loss=5.120, val_loss=5.080]\u001b[A\n",
      "Epoch 26: 100%|█████████████████████████████████████████████████████████| 725/725 [01:03<00:00, 11.40it/s, train_loss=5.120, val_loss=5.070]\u001b[A\n",
      "Epoch 27: 100%|█████████████████████████████████████████████████████████| 725/725 [01:03<00:00, 11.50it/s, train_loss=5.110, val_loss=5.080]\u001b[A\n",
      "Epoch 28: 100%|█████████████████████████████████████████████████████████| 725/725 [01:03<00:00, 11.42it/s, train_loss=5.110, val_loss=5.070]\u001b[A\n",
      "Epoch 29: 100%|█████████████████████████████████████████████████████████| 725/725 [01:03<00:00, 11.38it/s, train_loss=5.110, val_loss=5.060]\u001b[A\n",
      "Epoch 30: 100%|█████████████████████████████████████████████████████████| 725/725 [01:03<00:00, 11.43it/s, train_loss=5.110, val_loss=5.070]\u001b[A\n",
      "Epoch 31: 100%|█████████████████████████████████████████████████████████| 725/725 [01:03<00:00, 11.42it/s, train_loss=5.100, val_loss=5.060]\u001b[A\n",
      "Epoch 32: 100%|█████████████████████████████████████████████████████████| 725/725 [01:03<00:00, 11.47it/s, train_loss=5.100, val_loss=5.060]\u001b[A\n",
      "Epoch 33: 100%|█████████████████████████████████████████████████████████| 725/725 [01:03<00:00, 11.50it/s, train_loss=5.100, val_loss=5.060]\u001b[A\n",
      "Epoch 34: 100%|█████████████████████████████████████████████████████████| 725/725 [01:03<00:00, 11.33it/s, train_loss=5.100, val_loss=5.050]\u001b[A\n",
      "Epoch 35: 100%|█████████████████████████████████████████████████████████| 725/725 [01:03<00:00, 11.49it/s, train_loss=5.090, val_loss=5.050]\u001b[A\n",
      "Epoch 36: 100%|█████████████████████████████████████████████████████████| 725/725 [01:03<00:00, 11.40it/s, train_loss=5.090, val_loss=5.050]\u001b[A\n",
      "Epoch 37: 100%|█████████████████████████████████████████████████████████| 725/725 [00:59<00:00, 12.22it/s, train_loss=5.090, val_loss=5.050]\u001b[A\n",
      "Epoch 38: 100%|█████████████████████████████████████████████████████████| 725/725 [00:45<00:00, 15.98it/s, train_loss=5.090, val_loss=5.050]\u001b[A\n",
      "Epoch 39: 100%|█████████████████████████████████████████████████████████| 725/725 [00:45<00:00, 15.86it/s, train_loss=5.080, val_loss=5.050]\u001b[A\n",
      "Epoch 40: 100%|█████████████████████████████████████████████████████████| 725/725 [00:45<00:00, 15.90it/s, train_loss=5.090, val_loss=5.050]\u001b[A\n",
      "Epoch 41: 100%|█████████████████████████████████████████████████████████| 725/725 [00:46<00:00, 15.63it/s, train_loss=5.080, val_loss=5.040]\u001b[A\n",
      "Epoch 42: 100%|█████████████████████████████████████████████████████████| 725/725 [00:45<00:00, 15.86it/s, train_loss=5.080, val_loss=5.040]\u001b[A\n",
      "Epoch 43: 100%|█████████████████████████████████████████████████████████| 725/725 [00:45<00:00, 16.02it/s, train_loss=5.080, val_loss=5.040]\u001b[A\n",
      "Epoch 44: 100%|█████████████████████████████████████████████████████████| 725/725 [00:46<00:00, 15.54it/s, train_loss=5.080, val_loss=5.050]\u001b[A\n",
      "Epoch 45: 100%|█████████████████████████████████████████████████████████| 725/725 [00:46<00:00, 15.67it/s, train_loss=5.080, val_loss=5.040]\u001b[A\n",
      "Epoch 46: 100%|█████████████████████████████████████████████████████████| 725/725 [00:45<00:00, 15.77it/s, train_loss=5.080, val_loss=5.040]\u001b[A\n",
      "Epoch 47: 100%|█████████████████████████████████████████████████████████| 725/725 [00:46<00:00, 15.66it/s, train_loss=5.080, val_loss=5.030]\u001b[A\n",
      "Epoch 48: 100%|█████████████████████████████████████████████████████████| 725/725 [00:45<00:00, 15.97it/s, train_loss=5.080, val_loss=5.030]\u001b[A\n",
      "Epoch 49: 100%|█████████████████████████████████████████████████████████| 725/725 [00:46<00:00, 15.73it/s, train_loss=5.070, val_loss=5.030]\u001b[A\n",
      "Epoch 50: 100%|█████████████████████████████████████████████████████████| 725/725 [00:45<00:00, 15.82it/s, train_loss=5.070, val_loss=5.030]\u001b[A\n",
      "Epoch 51: 100%|█████████████████████████████████████████████████████████| 725/725 [00:45<00:00, 15.87it/s, train_loss=5.070, val_loss=5.030]\u001b[A\n",
      "Epoch 52: 100%|█████████████████████████████████████████████████████████| 725/725 [00:45<00:00, 15.94it/s, train_loss=5.070, val_loss=5.030]\u001b[A\n",
      "Epoch 53: 100%|█████████████████████████████████████████████████████████| 725/725 [00:45<00:00, 15.90it/s, train_loss=5.070, val_loss=5.030]\u001b[A\n",
      "Epoch 54: 100%|█████████████████████████████████████████████████████████| 725/725 [00:45<00:00, 15.93it/s, train_loss=5.070, val_loss=5.030]\u001b[A\n",
      "Epoch 55: 100%|█████████████████████████████████████████████████████████| 725/725 [00:45<00:00, 15.86it/s, train_loss=5.070, val_loss=5.030]\u001b[A\n",
      "Epoch 56: 100%|█████████████████████████████████████████████████████████| 725/725 [00:45<00:00, 15.83it/s, train_loss=5.070, val_loss=5.030]\u001b[A\n",
      "Epoch 57: 100%|█████████████████████████████████████████████████████████| 725/725 [00:45<00:00, 15.78it/s, train_loss=5.070, val_loss=5.030]\u001b[A\n",
      "Epoch 58: 100%|█████████████████████████████████████████████████████████| 725/725 [00:45<00:00, 16.03it/s, train_loss=5.070, val_loss=5.030]\u001b[A\n",
      "Epoch 59: 100%|█████████████████████████████████████████████████████████| 725/725 [00:45<00:00, 15.86it/s, train_loss=5.070, val_loss=5.030]\u001b[A\n",
      "Epoch 60: 100%|█████████████████████████████████████████████████████████| 725/725 [00:45<00:00, 15.82it/s, train_loss=5.060, val_loss=5.030]\u001b[A\n",
      "Epoch 61: 100%|█████████████████████████████████████████████████████████| 725/725 [00:45<00:00, 16.02it/s, train_loss=5.070, val_loss=5.020]\u001b[A\n",
      "Epoch 62: 100%|█████████████████████████████████████████████████████████| 725/725 [00:45<00:00, 15.80it/s, train_loss=5.060, val_loss=5.020]\u001b[A\n",
      "Epoch 63: 100%|█████████████████████████████████████████████████████████| 725/725 [00:45<00:00, 15.90it/s, train_loss=5.060, val_loss=5.020]\u001b[A\n",
      "Epoch 64: 100%|█████████████████████████████████████████████████████████| 725/725 [00:45<00:00, 16.00it/s, train_loss=5.060, val_loss=5.020]\u001b[A\n",
      "Epoch 65: 100%|█████████████████████████████████████████████████████████| 725/725 [00:45<00:00, 15.80it/s, train_loss=5.060, val_loss=5.020]\u001b[A\n",
      "Epoch 66: 100%|█████████████████████████████████████████████████████████| 725/725 [00:44<00:00, 16.16it/s, train_loss=5.060, val_loss=5.020]\u001b[A\n",
      "Epoch 67: 100%|█████████████████████████████████████████████████████████| 725/725 [00:46<00:00, 15.59it/s, train_loss=5.060, val_loss=5.020]\u001b[A\n",
      "Epoch 68: 100%|█████████████████████████████████████████████████████████| 725/725 [00:45<00:00, 15.85it/s, train_loss=5.060, val_loss=5.020]\u001b[A\n",
      "Epoch 69: 100%|█████████████████████████████████████████████████████████| 725/725 [00:45<00:00, 16.04it/s, train_loss=5.060, val_loss=5.020]\u001b[A\n",
      "Epoch 70: 100%|█████████████████████████████████████████████████████████| 725/725 [00:45<00:00, 15.83it/s, train_loss=5.060, val_loss=5.020]\u001b[A\n",
      "Epoch 71: 100%|█████████████████████████████████████████████████████████| 725/725 [00:30<00:00, 23.81it/s, train_loss=5.060, val_loss=5.020]\u001b[A\n",
      "Epoch 72: 100%|█████████████████████████████████████████████████████████| 725/725 [00:24<00:00, 29.29it/s, train_loss=5.060, val_loss=5.020]\u001b[A\n",
      "Epoch 73: 100%|█████████████████████████████████████████████████████████| 725/725 [00:24<00:00, 29.18it/s, train_loss=5.060, val_loss=5.010]\u001b[A\n",
      "Epoch 74: 100%|█████████████████████████████████████████████████████████| 725/725 [00:24<00:00, 29.19it/s, train_loss=5.060, val_loss=5.020]\u001b[A\n",
      "Epoch 75: 100%|█████████████████████████████████████████████████████████| 725/725 [00:24<00:00, 29.18it/s, train_loss=5.060, val_loss=5.010]\u001b[A\n",
      "Epoch 76: 100%|█████████████████████████████████████████████████████████| 725/725 [00:24<00:00, 29.09it/s, train_loss=5.060, val_loss=5.020]\u001b[A\n",
      "Epoch 77: 100%|█████████████████████████████████████████████████████████| 725/725 [00:24<00:00, 29.23it/s, train_loss=5.060, val_loss=5.020]\u001b[A\n",
      "Epoch 78: 100%|█████████████████████████████████████████████████████████| 725/725 [00:24<00:00, 29.11it/s, train_loss=5.060, val_loss=5.020]\u001b[A\n",
      "Epoch 79: 100%|█████████████████████████████████████████████████████████| 725/725 [00:24<00:00, 29.15it/s, train_loss=5.060, val_loss=5.020]\u001b[A\n",
      "Epoch 80: 100%|█████████████████████████████████████████████████████████| 725/725 [00:24<00:00, 29.23it/s, train_loss=5.060, val_loss=5.020]\u001b[A\n",
      "Epoch 81: 100%|█████████████████████████████████████████████████████████| 725/725 [00:24<00:00, 29.24it/s, train_loss=5.060, val_loss=5.010]\u001b[A\n",
      "Epoch 82: 100%|█████████████████████████████████████████████████████████| 725/725 [00:24<00:00, 29.26it/s, train_loss=5.060, val_loss=5.020]\u001b[A\n",
      "Epoch 83: 100%|█████████████████████████████████████████████████████████| 725/725 [00:24<00:00, 29.27it/s, train_loss=5.050, val_loss=5.020]\u001b[A\n",
      "Epoch 84: 100%|█████████████████████████████████████████████████████████| 725/725 [00:24<00:00, 29.23it/s, train_loss=5.050, val_loss=5.010]\u001b[A\n",
      "Epoch 85: 100%|█████████████████████████████████████████████████████████| 725/725 [00:24<00:00, 29.31it/s, train_loss=5.050, val_loss=5.010]\u001b[A\n",
      "Epoch 86: 100%|█████████████████████████████████████████████████████████| 725/725 [00:24<00:00, 29.02it/s, train_loss=5.060, val_loss=5.020]\u001b[A\n",
      "Epoch 87: 100%|█████████████████████████████████████████████████████████| 725/725 [00:25<00:00, 28.99it/s, train_loss=5.050, val_loss=5.010]\u001b[A\n",
      "Epoch 88: 100%|█████████████████████████████████████████████████████████| 725/725 [00:24<00:00, 29.15it/s, train_loss=5.050, val_loss=5.010]\u001b[A\n",
      "Epoch 89: 100%|█████████████████████████████████████████████████████████| 725/725 [00:24<00:00, 29.24it/s, train_loss=5.050, val_loss=5.010]\u001b[A\n",
      "Epoch 90: 100%|█████████████████████████████████████████████████████████| 725/725 [00:24<00:00, 29.30it/s, train_loss=5.050, val_loss=5.010]\u001b[A\n",
      "Epoch 91: 100%|█████████████████████████████████████████████████████████| 725/725 [00:24<00:00, 29.26it/s, train_loss=5.050, val_loss=5.010]\u001b[A\n",
      "Epoch 92: 100%|█████████████████████████████████████████████████████████| 725/725 [00:24<00:00, 29.39it/s, train_loss=5.050, val_loss=5.010]\u001b[A\n",
      "Epoch 93: 100%|█████████████████████████████████████████████████████████| 725/725 [00:24<00:00, 29.20it/s, train_loss=5.050, val_loss=5.010]\u001b[A\n",
      "Epoch 94: 100%|█████████████████████████████████████████████████████████| 725/725 [00:25<00:00, 28.78it/s, train_loss=5.050, val_loss=5.020]\u001b[A\n",
      "Epoch 95: 100%|█████████████████████████████████████████████████████████| 725/725 [00:25<00:00, 28.88it/s, train_loss=5.050, val_loss=5.010]\u001b[A\n",
      "Epoch 96: 100%|█████████████████████████████████████████████████████████| 725/725 [00:25<00:00, 28.81it/s, train_loss=5.050, val_loss=5.020]\u001b[A\n",
      "Epoch 97: 100%|█████████████████████████████████████████████████████████| 725/725 [00:24<00:00, 29.29it/s, train_loss=5.050, val_loss=5.010]\u001b[A\n",
      "Epoch 98: 100%|█████████████████████████████████████████████████████████| 725/725 [00:24<00:00, 29.04it/s, train_loss=5.050, val_loss=5.010]\u001b[A\n",
      "Epoch 99: 100%|█████████████████████████████████████████████████████████| 725/725 [00:24<00:00, 29.26it/s, train_loss=5.050, val_loss=5.010]\u001b[A\n",
      "Epoch 99: 100%|█████████████████████████████████████████████████████████| 725/725 [00:25<00:00, 28.03it/s, train_loss=5.050, val_loss=5.010]\u001b[A"
     ]
    },
    {
     "name": "stderr",
     "output_type": "stream",
     "text": [
      "`Trainer.fit` stopped: `max_epochs=100` reached.\n"
     ]
    },
    {
     "name": "stdout",
     "output_type": "stream",
     "text": [
      "Epoch 99: 100%|█████████████████████████████████████████████████████████| 725/725 [00:25<00:00, 28.02it/s, train_loss=5.050, val_loss=5.010]\n"
     ]
    },
    {
     "data": {
      "image/png": "[encoded data removed]",
      "text/plain": [
       "<Figure size 640x480 with 1 Axes>"
      ]
     },
     "metadata": {},
     "output_type": "display_data"
    },
    {
     "name": "stdout",
     "output_type": "stream",
     "text": [
      "DONE SAVING PRETRAINED MODEL\n",
      "   | Name                                             | Type             | Params | Mode \n",
      "-----------------------------------------------------------------------------------------------\n",
      "0  | task_loss_fn                                     | MSELoss          | 0      | train\n",
      "1  | joint_loss_fn                                    | JointLoss        | 0      | train\n",
      "2  | joint_loss_fn.mse_loss                           | MSELoss          | 0      | train\n",
      "3  | joint_loss_fn.criterion                          | CrossEntropyLoss | 0      | train\n",
      "4  | model                                            | SubTab           | 207 K  | train\n",
      "5  | model._SubTab__auto_encoder                      | AutoEncoder      | 107 K  | train\n",
      "6  | model._SubTab__auto_encoder.encoder              | ShallowEncoder   | 8.2 K  | train\n",
      "7  | model._SubTab__auto_encoder.encoder.net          | Sequential       | 8.2 K  | train\n",
      "8  | model._SubTab__auto_encoder.encoder.net.0        | Linear           | 8.2 K  | train\n",
      "9  | model._SubTab__auto_encoder.decoder              | ShallowDecoder   | 18.5 K | train\n",
      "10 | model._SubTab__auto_encoder.decoder.net          | Linear           | 18.5 K | train\n",
      "11 | model._SubTab__auto_encoder.projection_net       | Sequential       | 80.4 K | train\n",
      "12 | model._SubTab__auto_encoder.projection_net.0     | Linear           | 40.2 K | train\n",
      "13 | model._SubTab__auto_encoder.projection_net.1     | LeakyReLU        | 0      | train\n",
      "14 | model._SubTab__auto_encoder.projection_net.2     | Linear           | 40.2 K | train\n",
      "15 | model.one_layer_prediction_head                  | Sequential       | 40.4 K | train\n",
      "16 | model.one_layer_prediction_head.head_linear_hid  | Linear           | 40.2 K | train\n",
      "17 | model.one_layer_prediction_head.head_activation  | ReLU             | 0      | train\n",
      "18 | model.one_layer_prediction_head.head_linear_out  | Linear           | 201    | train\n",
      "19 | model.two_layer_prediction_head                  | Sequential       | 60.4 K | train\n",
      "20 | model.two_layer_prediction_head.head_linear_hid1 | Linear           | 40.2 K | train\n",
      "21 | model.two_layer_prediction_head.head_activation1 | ReLU             | 0      | train\n",
      "22 | model.two_layer_prediction_head.head_linear_hid2 | Linear           | 20.1 K | train\n",
      "23 | model.two_layer_prediction_head.head_activation2 | ReLU             | 0      | train\n",
      "24 | model.two_layer_prediction_head.head_linear_out  | Linear           | 101    | train\n",
      "-----------------------------------------------------------------------------------------------\n",
      "207 K     Trainable params\n",
      "0         Non-trainable params\n",
      "207 K     Total params\n",
      "0.832     Total estimated model params size (MB)\n",
      "Time to pretrain model:  4890.239197015762\n",
      "DONE PRETRAINING\n"
     ]
    }
   ],
   "source": [
    "s3l_training(pretrain=True, # if True First Phase training\n",
    "             use_pretrained_model=False, # if True Second Phase learning\n",
    "             pt_type='subtab', \n",
    "             pt_folder='FP4')"
   ]
  },
  {
   "cell_type": "code",
   "execution_count": null,
   "id": "f5a8d66f-43f4-4559-90b8-68a3a5bd8d2f",
   "metadata": {},
   "outputs": [],
   "source": []
  }
 ],
 "metadata": {
  "kernelspec": {
   "display_name": "Python 3 (ipykernel)",
   "language": "python",
   "name": "python3"
  },
  "language_info": {
   "codemirror_mode": {
    "name": "ipython",
    "version": 3
   },
   "file_extension": ".py",
   "mimetype": "text/x-python",
   "name": "python",
   "nbconvert_exporter": "python",
   "pygments_lexer": "ipython3",
   "version": "3.8.10"
  }
 },
 "nbformat": 4,
 "nbformat_minor": 5
}
