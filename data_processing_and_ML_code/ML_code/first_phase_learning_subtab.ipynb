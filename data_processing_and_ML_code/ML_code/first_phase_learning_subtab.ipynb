{
 "cells": [
  {
   "cell_type": "code",
   "execution_count": 1,
   "id": "8ed58de6-5ac0-4bbb-95e7-c77e64dfaf11",
   "metadata": {},
   "outputs": [],
   "source": [
    "# reload\n",
    "#%reset\n",
    "%load_ext autoreload\n",
    "%autoreload 2 \n",
    "\n",
    "import warnings\n",
    "import logging\n",
    "import os\n",
    "\n",
    "# DEBUG MODE\n",
    "os.environ['TF_CPP_MIN_LOG_LEVEL'] = '3'\n",
    "warnings.filterwarnings('ignore')\n",
    "logging.getLogger('tensorflow').setLevel(logging.FATAL)\n",
    "    \n",
    "from s3l_training import s3l_training"
   ]
  },
  {
   "cell_type": "code",
   "execution_count": 2,
   "id": "26eb320c-c17f-40dd-8264-6dcbd0933f0b",
   "metadata": {},
   "outputs": [
    {
     "name": "stdout",
     "output_type": "stream",
     "text": [
      "Run with random seed:  561\n",
      "GPU is available.\n",
      "1\n",
      "True\n",
      "12.1\n",
      "Concatenating runs:  range(1, 11)\n",
      "Time to read csv file for run:  3.0700690746307373\n",
      "Loaded run 1\n",
      "Time to read csv file for run:  3.015573263168335\n",
      "Loaded run 2\n",
      "Time to read csv file for run:  2.933241844177246\n",
      "Loaded run 3\n",
      "Time to read csv file for run:  2.8950843811035156\n",
      "Loaded run 4\n",
      "Time to read csv file for run:  2.935698986053467\n",
      "Loaded run 5\n",
      "Time to read csv file for run:  2.683563470840454\n",
      "Loaded run 6\n",
      "Time to read csv file for run:  2.906224250793457\n",
      "Loaded run 7\n",
      "Time to read csv file for run:  2.885139226913452\n",
      "Loaded run 8\n",
      "Time to read csv file for run:  2.912973642349243\n",
      "Loaded run 9\n",
      "Time to read csv file for run:  2.8928732872009277\n",
      "Loaded run 10\n",
      "pretrain_data, before removing rows that dont have traffic  (1799100, 102)\n",
      "pretrain_data, after removing rows that dont have traffic  (1799100, 102)\n",
      "X_pretrain  (1796746, 92)\n"
     ]
    },
    {
     "name": "stderr",
     "output_type": "stream",
     "text": [
      "Seed set to 42\n"
     ]
    },
    {
     "name": "stdout",
     "output_type": "stream",
     "text": [
      "HYPERPARAMETERS:  {'loss_fn': 'MSELoss', 'metric': 'r2_score', 'hidden_dim': 200, 'max_epochs': 100, 'batch_size': 128, 'optim_hparams': {'lr': 0.0001, 'weight_decay': 5e-05}, 'encoder_depth': 2, 'head_depth': 2, 'noise_type': 'Swap', 'mask_ratio': 0.3, 'tau': 1.0, 'use_cosine_similarity': True, 'use_contrastive': True, 'use_distance': True, 'n_subsets': 4, 'overlap_ratio': 0.75}\n",
      "92 4 0.75 23\n",
      "23 17\n"
     ]
    },
    {
     "name": "stderr",
     "output_type": "stream",
     "text": [
      "GPU available: True (cuda), used: True\n",
      "TPU available: False, using: 0 TPU cores\n",
      "HPU available: False, using: 0 HPUs\n",
      "LOCAL_RANK: 0 - CUDA_VISIBLE_DEVICES: [0]\n"
     ]
    },
    {
     "name": "stdout",
     "output_type": "stream",
     "text": [
      "refresh rate:  10\n"
     ]
    },
    {
     "name": "stderr",
     "output_type": "stream",
     "text": [
      "\n",
      "  | Name          | Type      | Params | Mode \n",
      "----------------------------------------------------\n",
      "0 | task_loss_fn  | MSELoss   | 0      | train\n",
      "1 | joint_loss_fn | JointLoss | 0      | train\n",
      "2 | model         | SubTab    | 207 K  | train\n",
      "----------------------------------------------------\n",
      "207 K     Trainable params\n",
      "0         Non-trainable params\n",
      "207 K     Total params\n",
      "0.832     Total estimated model params size (MB)\n"
     ]
    },
    {
     "name": "stdout",
     "output_type": "stream",
     "text": [
      "Epoch 0:  61%|██████████████████████████████████████████████████████▍                                  | 7770/12704 [04:57<03:08, 26.15it/s]"
     ]
    },
    {
     "ename": "NameError",
     "evalue": "name 'FormatStrFormatter' is not defined",
     "output_type": "error",
     "traceback": [
      "\u001b[0;31m---------------------------------------------------------------------------\u001b[0m",
      "\u001b[0;31mNameError\u001b[0m                                 Traceback (most recent call last)",
      "Cell \u001b[0;32mIn[2], line 1\u001b[0m\n\u001b[0;32m----> 1\u001b[0m \u001b[43ms3l_training\u001b[49m\u001b[43m(\u001b[49m\u001b[43mpretrain\u001b[49m\u001b[38;5;241;43m=\u001b[39;49m\u001b[38;5;28;43;01mTrue\u001b[39;49;00m\u001b[43m,\u001b[49m\u001b[43m \u001b[49m\u001b[38;5;66;43;03m# if True First Phase training\u001b[39;49;00m\n\u001b[1;32m      2\u001b[0m \u001b[43m             \u001b[49m\u001b[43muse_pretrained_model\u001b[49m\u001b[38;5;241;43m=\u001b[39;49m\u001b[38;5;28;43;01mFalse\u001b[39;49;00m\u001b[43m,\u001b[49m\u001b[43m \u001b[49m\u001b[38;5;66;43;03m# if True Second Phase learning\u001b[39;49;00m\n\u001b[1;32m      3\u001b[0m \u001b[43m             \u001b[49m\u001b[43mpt_type\u001b[49m\u001b[38;5;241;43m=\u001b[39;49m\u001b[38;5;124;43m'\u001b[39;49m\u001b[38;5;124;43msubtab\u001b[39;49m\u001b[38;5;124;43m'\u001b[39;49m\u001b[43m,\u001b[49m\u001b[43m \u001b[49m\n\u001b[1;32m      4\u001b[0m \u001b[43m             \u001b[49m\u001b[43mpt_folder\u001b[49m\u001b[38;5;241;43m=\u001b[39;49m\u001b[38;5;124;43m'\u001b[39;49m\u001b[38;5;124;43mFP8\u001b[39;49m\u001b[38;5;124;43m'\u001b[39;49m\u001b[43m)\u001b[49m\n",
      "File \u001b[0;32m~/mobile-network-datasets-ns3/data_processing_and_ML_code/ML_code/s3l_training.py:187\u001b[0m, in \u001b[0;36ms3l_training\u001b[0;34m(pretrain, use_pretrained_model, pred_head_type, pt_type, sup_model_type, random_initialize_model, sup_mlp_layers, SP_results_folder, pt_folder, freeze_encoder, pred_head_size, shift_samp_for_predict)\u001b[0m\n\u001b[1;32m    185\u001b[0m \u001b[38;5;66;03m# Pretrain\u001b[39;00m\n\u001b[1;32m    186\u001b[0m start_time \u001b[38;5;241m=\u001b[39m time\u001b[38;5;241m.\u001b[39mtime()\n\u001b[0;32m--> 187\u001b[0m pretrain_model, pre_trainer \u001b[38;5;241m=\u001b[39m \u001b[43ms3l_pretrain\u001b[49m\u001b[43m(\u001b[49m\u001b[43mX_pretrain\u001b[49m\u001b[43m,\u001b[49m\u001b[43m \u001b[49m\u001b[43mcontinuous_cols\u001b[49m\u001b[43m,\u001b[49m\u001b[43m \u001b[49m\u001b[43mcategorical_cols\u001b[49m\u001b[43m,\u001b[49m\u001b[43m \u001b[49m\u001b[43mpretrain_type\u001b[49m\u001b[43m,\u001b[49m\u001b[43m \u001b[49m\n\u001b[1;32m    188\u001b[0m \u001b[43m                                                \u001b[49m\u001b[43mpretrain_models_folder\u001b[49m\u001b[38;5;241;43m+\u001b[39;49m\u001b[43mpretrain_model_to_save_name\u001b[49m\u001b[43m)\u001b[49m\n\u001b[1;32m    190\u001b[0m \u001b[38;5;66;03m# save this pretrained model for later use\u001b[39;00m\n\u001b[1;32m    191\u001b[0m pre_trainer\u001b[38;5;241m.\u001b[39msave_checkpoint(pretrain_models_folder\u001b[38;5;241m+\u001b[39mpretrain_model_to_save_name\u001b[38;5;241m+\u001b[39m\u001b[38;5;124m'\u001b[39m\u001b[38;5;124m.ckpt\u001b[39m\u001b[38;5;124m'\u001b[39m)\n",
      "File \u001b[0;32m~/mobile-network-datasets-ns3/data_processing_and_ML_code/ML_code/helper_functions.py:717\u001b[0m, in \u001b[0;36ms3l_pretrain\u001b[0;34m(X_pretrain, continuous_cols, categorical_cols, pretrain_type, results_dir_name)\u001b[0m\n\u001b[1;32m    715\u001b[0m     pretrain_model, pre_trainer \u001b[38;5;241m=\u001b[39m s3l_pretrain_with_scarf(X_pretrain, continuous_cols, categorical_cols, s3l_hyp_ssl_scarf, results_dir_name)\n\u001b[1;32m    716\u001b[0m \u001b[38;5;28;01melif\u001b[39;00m pretrain_type \u001b[38;5;241m==\u001b[39m \u001b[38;5;124m'\u001b[39m\u001b[38;5;124ms3l_subtab\u001b[39m\u001b[38;5;124m'\u001b[39m:\n\u001b[0;32m--> 717\u001b[0m     pretrain_model, pre_trainer \u001b[38;5;241m=\u001b[39m \u001b[43ms3l_pretrain_with_subtab\u001b[49m\u001b[43m(\u001b[49m\u001b[43mX_pretrain\u001b[49m\u001b[43m,\u001b[49m\u001b[43m \u001b[49m\u001b[43mcontinuous_cols\u001b[49m\u001b[43m,\u001b[49m\u001b[43m \u001b[49m\u001b[43mcategorical_cols\u001b[49m\u001b[43m,\u001b[49m\u001b[43m \u001b[49m\u001b[43ms3l_hyp_ssl_subtab\u001b[49m\u001b[43m,\u001b[49m\u001b[43m \u001b[49m\u001b[43mresults_dir_name\u001b[49m\u001b[43m)\u001b[49m \n\u001b[1;32m    718\u001b[0m \u001b[38;5;28;01melif\u001b[39;00m pretrain_type \u001b[38;5;241m==\u001b[39m \u001b[38;5;124m'\u001b[39m\u001b[38;5;124ms3l_switchtab\u001b[39m\u001b[38;5;124m'\u001b[39m:\n\u001b[1;32m    719\u001b[0m     pretrain_model, pre_trainer \u001b[38;5;241m=\u001b[39m s3l_pretrain_with_switchtab(X_pretrain, continuous_cols, categorical_cols, s3l_hyp_ssl_switchtab, results_dir_name) \n",
      "File \u001b[0;32m~/mobile-network-datasets-ns3/data_processing_and_ML_code/ML_code/helper_functions.py:749\u001b[0m, in \u001b[0;36ms3l_pretrain_with_subtab\u001b[0;34m(X_unlabeled, continuous_cols, categorical_cols, hypp, save_path)\u001b[0m\n\u001b[1;32m    747\u001b[0m trainer\u001b[38;5;241m.\u001b[39mfit(pl_module, datamodule)\n\u001b[1;32m    748\u001b[0m plt_str\u001b[38;5;241m=\u001b[39m\u001b[38;5;124m'\u001b[39m\u001b[38;5;124mloss_curve_subtab.pdf\u001b[39m\u001b[38;5;124m'\u001b[39m\n\u001b[0;32m--> 749\u001b[0m \u001b[43mplot_model_train_info\u001b[49m\u001b[43m \u001b[49m\u001b[43m(\u001b[49m\u001b[43mpl_module\u001b[49m\u001b[38;5;241;43m.\u001b[39;49m\u001b[43mfirst_phase_train_loss\u001b[49m\u001b[43m,\u001b[49m\u001b[43m \u001b[49m\u001b[43mpl_module\u001b[49m\u001b[38;5;241;43m.\u001b[39;49m\u001b[43mfirst_phase_val_loss\u001b[49m\u001b[43m,\u001b[49m\u001b[43m \u001b[49m\u001b[38;5;124;43m'\u001b[39;49m\u001b[38;5;124;43mplots/\u001b[39;49m\u001b[38;5;124;43m'\u001b[39;49m\u001b[38;5;241;43m+\u001b[39;49m\u001b[43mplt_str\u001b[49m\u001b[43m)\u001b[49m\n\u001b[1;32m    751\u001b[0m \u001b[38;5;28;01mreturn\u001b[39;00m pl_module, trainer\n",
      "File \u001b[0;32m~/mobile-network-datasets-ns3/data_processing_and_ML_code/ML_code/plotting_functions.py:10\u001b[0m, in \u001b[0;36mplot_model_train_info\u001b[0;34m(train_losses, val_losses, save_path)\u001b[0m\n\u001b[1;32m      8\u001b[0m font_size \u001b[38;5;241m=\u001b[39m \u001b[38;5;241m25\u001b[39m\n\u001b[1;32m      9\u001b[0m plt\u001b[38;5;241m.\u001b[39mfigure(\u001b[38;5;241m1\u001b[39m)\n\u001b[0;32m---> 10\u001b[0m plt\u001b[38;5;241m.\u001b[39mgca()\u001b[38;5;241m.\u001b[39myaxis\u001b[38;5;241m.\u001b[39mset_major_formatter(\u001b[43mFormatStrFormatter\u001b[49m(\u001b[38;5;124m'\u001b[39m\u001b[38;5;132;01m%.1f\u001b[39;00m\u001b[38;5;124m'\u001b[39m))\n\u001b[1;32m     11\u001b[0m plt\u001b[38;5;241m.\u001b[39mplot(train_losses)\n\u001b[1;32m     12\u001b[0m plt\u001b[38;5;241m.\u001b[39mplot(val_losses)\n",
      "\u001b[0;31mNameError\u001b[0m: name 'FormatStrFormatter' is not defined"
     ]
    },
    {
     "name": "stdout",
     "output_type": "stream",
     "text": [
      "Error in callback <function flush_figures at 0x7f187b3f2e50> (for post_execute):\n"
     ]
    },
    {
     "name": "stderr",
     "output_type": "stream",
     "text": [
      "\n",
      "KeyboardInterrupt\n",
      "\n"
     ]
    }
   ],
   "source": [
    "s3l_training(pretrain=True, # if True First Phase training\n",
    "             use_pretrained_model=False, # if True Second Phase learning\n",
    "             pt_type='subtab', \n",
    "             pt_folder='FP8')"
   ]
  },
  {
   "cell_type": "code",
   "execution_count": null,
   "id": "f5a8d66f-43f4-4559-90b8-68a3a5bd8d2f",
   "metadata": {},
   "outputs": [],
   "source": []
  }
 ],
 "metadata": {
  "kernelspec": {
   "display_name": "Python 3 (ipykernel)",
   "language": "python",
   "name": "python3"
  },
  "language_info": {
   "codemirror_mode": {
    "name": "ipython",
    "version": 3
   },
   "file_extension": ".py",
   "mimetype": "text/x-python",
   "name": "python",
   "nbconvert_exporter": "python",
   "pygments_lexer": "ipython3",
   "version": "3.8.10"
  }
 },
 "nbformat": 4,
 "nbformat_minor": 5
}
