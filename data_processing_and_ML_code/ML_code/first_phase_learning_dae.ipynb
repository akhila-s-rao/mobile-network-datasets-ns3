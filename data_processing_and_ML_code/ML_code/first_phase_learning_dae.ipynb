{
 "cells": [
  {
   "cell_type": "code",
   "execution_count": 1,
   "id": "8ed58de6-5ac0-4bbb-95e7-c77e64dfaf11",
   "metadata": {},
   "outputs": [],
   "source": [
    "# reload\n",
    "#%reset\n",
    "%load_ext autoreload\n",
    "%autoreload 2 \n",
    "\n",
    "import warnings\n",
    "import logging\n",
    "import os\n",
    "\n",
    "# DEBUG MODE\n",
    "os.environ['TF_CPP_MIN_LOG_LEVEL'] = '3'\n",
    "warnings.filterwarnings('ignore')\n",
    "logging.getLogger('tensorflow').setLevel(logging.FATAL)\n",
    "    \n",
    "from s3l_training import s3l_training"
   ]
  },
  {
   "cell_type": "code",
   "execution_count": null,
   "id": "26eb320c-c17f-40dd-8264-6dcbd0933f0b",
   "metadata": {},
   "outputs": [
    {
     "name": "stdout",
     "output_type": "stream",
     "text": [
      "Run with random seed:  561\n",
      "GPU is available.\n",
      "1\n",
      "True\n",
      "12.1\n",
      "Concatenating runs:  range(1, 11)\n",
      "Time to read csv file for run:  3.040001630783081\n",
      "Loaded run 1\n",
      "Time to read csv file for run:  3.134861469268799\n",
      "Loaded run 2\n",
      "Time to read csv file for run:  3.0220820903778076\n",
      "Loaded run 3\n",
      "Time to read csv file for run:  3.174387216567993\n",
      "Loaded run 4\n",
      "Time to read csv file for run:  2.985837459564209\n",
      "Loaded run 5\n",
      "Time to read csv file for run:  2.8384697437286377\n",
      "Loaded run 6\n",
      "Time to read csv file for run:  3.0833349227905273\n",
      "Loaded run 7\n",
      "Time to read csv file for run:  2.9172825813293457\n",
      "Loaded run 8\n",
      "Time to read csv file for run:  2.892125129699707\n",
      "Loaded run 9\n",
      "Time to read csv file for run:  2.9930882453918457\n",
      "Loaded run 10\n",
      "pretrain_data, before removing rows that dont have traffic  (1799100, 102)\n",
      "pretrain_data, after removing rows that dont have traffic  (1799100, 102)\n",
      "X_pretrain  (1796746, 92)\n"
     ]
    },
    {
     "name": "stderr",
     "output_type": "stream",
     "text": [
      "Seed set to 42\n"
     ]
    },
    {
     "name": "stdout",
     "output_type": "stream",
     "text": [
      "HYPERPARAMETERS:  {'loss_fn': 'MSELoss', 'metric': 'r2_score', 'hidden_dim': 200, 'max_epochs': 100, 'batch_size': 128, 'optim_hparams': {'lr': 0.0001, 'weight_decay': 5e-05}, 'encoder_depth': 2, 'head_depth': 2, 'dropout_rate': 0.1, 'noise_type': 'Swap', 'noise_ratio': 0.3}\n"
     ]
    },
    {
     "name": "stderr",
     "output_type": "stream",
     "text": [
      "GPU available: True (cuda), used: True\n",
      "TPU available: False, using: 0 TPU cores\n",
      "HPU available: False, using: 0 HPUs\n",
      "LOCAL_RANK: 0 - CUDA_VISIBLE_DEVICES: [0]\n"
     ]
    },
    {
     "name": "stdout",
     "output_type": "stream",
     "text": [
      "refresh rate:  10\n"
     ]
    },
    {
     "name": "stderr",
     "output_type": "stream",
     "text": [
      "\n",
      "  | Name                     | Type    | Params | Mode \n",
      "-------------------------------------------------------------\n",
      "0 | task_loss_fn             | MSELoss | 0      | train\n",
      "1 | mask_loss_fn             | BCELoss | 0      | train\n",
      "2 | categorical_feature_loss | BCELoss | 0      | train\n",
      "3 | continuous_feature_loss  | MSELoss | 0      | train\n",
      "4 | model                    | DAE     | 214 K  | train\n",
      "-------------------------------------------------------------\n",
      "214 K     Trainable params\n",
      "0         Non-trainable params\n",
      "214 K     Total params\n",
      "0.858     Total estimated model params size (MB)\n"
     ]
    },
    {
     "name": "stdout",
     "output_type": "stream",
     "text": [
      "Epoch 0: 100%|█████████████████████████████████████████████████| 12704/12704 [02:09<00:00, 98.25it/s]\n",
      "Epoch 1: 100%|███████████████| 12704/12704 [02:15<00:00, 94.09it/s, train_loss=1.020, val_loss=0.841]\u001b[A\n",
      "Epoch 2: 100%|███████████████| 12704/12704 [02:13<00:00, 95.29it/s, train_loss=0.883, val_loss=0.815]\u001b[A\n",
      "Epoch 3: 100%|███████████████| 12704/12704 [02:10<00:00, 97.60it/s, train_loss=0.861, val_loss=0.794]\u001b[A\n",
      "Epoch 4: 100%|███████████████| 12704/12704 [02:12<00:00, 95.64it/s, train_loss=0.847, val_loss=0.781]\u001b[A\n",
      "Epoch 5: 100%|███████████████| 12704/12704 [02:11<00:00, 96.51it/s, train_loss=0.833, val_loss=0.774]\u001b[A\n",
      "Epoch 6: 100%|███████████████| 12704/12704 [02:12<00:00, 96.01it/s, train_loss=0.822, val_loss=0.757]\u001b[A\n",
      "Epoch 7: 100%|███████████████| 12704/12704 [02:10<00:00, 97.16it/s, train_loss=0.811, val_loss=0.748]\u001b[A\n",
      "Epoch 8: 100%|███████████████| 12704/12704 [02:10<00:00, 97.26it/s, train_loss=0.803, val_loss=0.740]\u001b[A\n",
      "Epoch 9: 100%|███████████████| 12704/12704 [02:12<00:00, 96.18it/s, train_loss=0.798, val_loss=0.733]\u001b[A\n",
      "Epoch 10: 100%|██████████████| 12704/12704 [02:12<00:00, 95.95it/s, train_loss=0.790, val_loss=0.727]\u001b[A\n",
      "Epoch 11: 100%|██████████████| 12704/12704 [02:10<00:00, 97.05it/s, train_loss=0.784, val_loss=0.719]\u001b[A\n",
      "Epoch 12: 100%|██████████████| 12704/12704 [02:10<00:00, 97.41it/s, train_loss=0.776, val_loss=0.715]\u001b[A\n",
      "Epoch 13: 100%|██████████████| 12704/12704 [02:11<00:00, 96.47it/s, train_loss=0.771, val_loss=0.710]\u001b[A\n",
      "Epoch 14: 100%|██████████████| 12704/12704 [02:11<00:00, 96.76it/s, train_loss=0.765, val_loss=0.701]\u001b[A\n",
      "Epoch 15: 100%|██████████████| 12704/12704 [02:10<00:00, 97.49it/s, train_loss=0.760, val_loss=0.695]\u001b[A\n",
      "Epoch 16: 100%|██████████████| 12704/12704 [02:10<00:00, 97.47it/s, train_loss=0.755, val_loss=0.694]\u001b[A\n",
      "Epoch 17: 100%|██████████████| 12704/12704 [02:11<00:00, 96.73it/s, train_loss=0.750, val_loss=0.687]\u001b[A\n",
      "Epoch 18: 100%|██████████████| 12704/12704 [02:11<00:00, 96.74it/s, train_loss=0.747, val_loss=0.686]\u001b[A\n",
      "Epoch 19: 100%|██████████████| 12704/12704 [02:12<00:00, 96.06it/s, train_loss=0.744, val_loss=0.678]\u001b[A\n",
      "Epoch 20: 100%|██████████████| 12704/12704 [02:10<00:00, 97.34it/s, train_loss=0.741, val_loss=0.679]\u001b[A\n",
      "Epoch 21: 100%|██████████████| 12704/12704 [02:11<00:00, 96.73it/s, train_loss=0.738, val_loss=0.677]\u001b[A\n",
      "Epoch 22: 100%|██████████████| 12704/12704 [02:12<00:00, 95.94it/s, train_loss=0.734, val_loss=0.671]\u001b[A\n",
      "Epoch 23: 100%|██████████████| 12704/12704 [02:12<00:00, 96.16it/s, train_loss=0.732, val_loss=0.668]\u001b[A\n",
      "Epoch 24: 100%|██████████████| 12704/12704 [02:10<00:00, 97.25it/s, train_loss=0.728, val_loss=0.668]\u001b[A\n",
      "Epoch 25: 100%|██████████████| 12704/12704 [02:10<00:00, 97.23it/s, train_loss=0.726, val_loss=0.667]\u001b[A\n",
      "Epoch 26: 100%|██████████████| 12704/12704 [02:11<00:00, 96.96it/s, train_loss=0.725, val_loss=0.666]\u001b[A\n",
      "Epoch 27: 100%|██████████████| 12704/12704 [02:09<00:00, 97.92it/s, train_loss=0.723, val_loss=0.659]\u001b[A\n",
      "Epoch 28: 100%|██████████████| 12704/12704 [02:11<00:00, 96.77it/s, train_loss=0.719, val_loss=0.661]\u001b[A\n",
      "Epoch 29: 100%|██████████████| 12704/12704 [02:11<00:00, 96.95it/s, train_loss=0.718, val_loss=0.655]\u001b[A\n",
      "Epoch 30: 100%|██████████████| 12704/12704 [02:11<00:00, 96.82it/s, train_loss=0.717, val_loss=0.664]\u001b[A\n",
      "Epoch 31: 100%|██████████████| 12704/12704 [02:10<00:00, 97.64it/s, train_loss=0.716, val_loss=0.654]\u001b[A\n",
      "Epoch 32: 100%|██████████████| 12704/12704 [02:10<00:00, 97.54it/s, train_loss=0.714, val_loss=0.652]\u001b[A\n",
      "Epoch 33: 100%|██████████████| 12704/12704 [02:11<00:00, 96.45it/s, train_loss=0.715, val_loss=0.651]\u001b[A\n",
      "Epoch 34: 100%|██████████████| 12704/12704 [02:11<00:00, 96.71it/s, train_loss=0.711, val_loss=0.648]\u001b[A\n",
      "Epoch 35: 100%|██████████████| 12704/12704 [02:12<00:00, 96.22it/s, train_loss=0.710, val_loss=0.647]\u001b[A\n",
      "Epoch 36: 100%|██████████████| 12704/12704 [02:11<00:00, 96.57it/s, train_loss=0.709, val_loss=0.663]\u001b[A\n",
      "Epoch 37: 100%|██████████████| 12704/12704 [02:11<00:00, 96.65it/s, train_loss=0.709, val_loss=0.647]\u001b[A\n",
      "Epoch 38: 100%|██████████████| 12704/12704 [02:11<00:00, 96.34it/s, train_loss=0.707, val_loss=0.647]\u001b[A\n",
      "Epoch 39: 100%|██████████████| 12704/12704 [02:10<00:00, 97.39it/s, train_loss=0.707, val_loss=0.644]\u001b[A\n",
      "Epoch 40: 100%|██████████████| 12704/12704 [02:11<00:00, 96.48it/s, train_loss=0.705, val_loss=0.646]\u001b[A\n",
      "Epoch 41: 100%|██████████████| 12704/12704 [02:09<00:00, 97.82it/s, train_loss=0.705, val_loss=0.640]\u001b[A\n",
      "Epoch 42: 100%|██████████████| 12704/12704 [02:12<00:00, 96.05it/s, train_loss=0.704, val_loss=0.647]\u001b[A\n",
      "Epoch 43: 100%|██████████████| 12704/12704 [02:11<00:00, 96.58it/s, train_loss=0.703, val_loss=0.640]\u001b[A\n",
      "Epoch 44: 100%|██████████████| 12704/12704 [02:10<00:00, 97.26it/s, train_loss=0.702, val_loss=0.642]\u001b[A\n",
      "Epoch 45: 100%|██████████████| 12704/12704 [02:11<00:00, 96.90it/s, train_loss=0.702, val_loss=0.640]\u001b[A\n",
      "Epoch 46: 100%|██████████████| 12704/12704 [02:11<00:00, 96.58it/s, train_loss=0.701, val_loss=0.640]\u001b[A\n",
      "Epoch 47: 100%|██████████████| 12704/12704 [02:11<00:00, 96.24it/s, train_loss=0.701, val_loss=0.642]\u001b[A\n",
      "Epoch 48: 100%|██████████████| 12704/12704 [02:12<00:00, 96.16it/s, train_loss=0.699, val_loss=0.636]\u001b[A\n",
      "Epoch 49: 100%|██████████████| 12704/12704 [02:10<00:00, 97.27it/s, train_loss=0.699, val_loss=0.637]\u001b[A\n",
      "Epoch 50:  79%|███████████   | 10030/12704 [01:43<00:27, 97.14it/s, train_loss=0.698, val_loss=0.638]\u001b[A"
     ]
    }
   ],
   "source": [
    "s3l_training(pretrain=True, # if True First Phase training\n",
    "             use_pretrained_model=False, # if True Second Phase learning\n",
    "             pt_type='dae', \n",
    "             pt_folder='FP8')"
   ]
  },
  {
   "cell_type": "code",
   "execution_count": null,
   "id": "de7160f9-4db4-4688-9556-ba884a04eafb",
   "metadata": {},
   "outputs": [],
   "source": []
  }
 ],
 "metadata": {
  "kernelspec": {
   "display_name": "Python 3 (ipykernel)",
   "language": "python",
   "name": "python3"
  },
  "language_info": {
   "codemirror_mode": {
    "name": "ipython",
    "version": 3
   },
   "file_extension": ".py",
   "mimetype": "text/x-python",
   "name": "python",
   "nbconvert_exporter": "python",
   "pygments_lexer": "ipython3",
   "version": "3.8.10"
  }
 },
 "nbformat": 4,
 "nbformat_minor": 5
}
