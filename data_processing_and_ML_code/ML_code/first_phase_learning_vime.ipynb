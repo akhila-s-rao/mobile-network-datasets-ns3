{
 "cells": [
  {
   "cell_type": "code",
   "execution_count": 1,
   "id": "8ed58de6-5ac0-4bbb-95e7-c77e64dfaf11",
   "metadata": {},
   "outputs": [],
   "source": [
    "# reload\n",
    "#%reset\n",
    "%load_ext autoreload\n",
    "%autoreload 2 \n",
    "\n",
    "import warnings\n",
    "import logging\n",
    "import os\n",
    "\n",
    "# DEBUG MODE\n",
    "os.environ['TF_CPP_MIN_LOG_LEVEL'] = '3'\n",
    "warnings.filterwarnings('ignore')\n",
    "logging.getLogger('tensorflow').setLevel(logging.FATAL)\n",
    "    \n",
    "from s3l_training import s3l_training"
   ]
  },
  {
   "cell_type": "code",
   "execution_count": null,
   "id": "26eb320c-c17f-40dd-8264-6dcbd0933f0b",
   "metadata": {},
   "outputs": [
    {
     "name": "stdout",
     "output_type": "stream",
     "text": [
      "Run with random seed:  561\n",
      "GPU is available.\n",
      "1\n",
      "True\n",
      "12.1\n",
      "Concatenating runs:  range(1, 11)\n",
      "Time to read csv file for run:  3.2328040599823\n",
      "Loaded run 1\n",
      "Time to read csv file for run:  3.2063050270080566\n",
      "Loaded run 2\n",
      "Time to read csv file for run:  3.0915255546569824\n",
      "Loaded run 3\n",
      "Time to read csv file for run:  3.0589115619659424\n",
      "Loaded run 4\n",
      "Time to read csv file for run:  3.0165770053863525\n",
      "Loaded run 5\n",
      "Time to read csv file for run:  2.8528859615325928\n",
      "Loaded run 6\n",
      "Time to read csv file for run:  3.032001256942749\n",
      "Loaded run 7\n",
      "Time to read csv file for run:  2.975722074508667\n",
      "Loaded run 8\n",
      "Time to read csv file for run:  2.9957735538482666\n",
      "Loaded run 9\n",
      "Time to read csv file for run:  2.897383213043213\n",
      "Loaded run 10\n",
      "pretrain_data, before removing rows that dont have traffic  (1799100, 102)\n",
      "pretrain_data, after removing rows that dont have traffic  (1799100, 102)\n",
      "X_pretrain  (1796746, 92)\n"
     ]
    },
    {
     "name": "stderr",
     "output_type": "stream",
     "text": [
      "Seed set to 42\n"
     ]
    },
    {
     "name": "stdout",
     "output_type": "stream",
     "text": [
      "HYPERPARAMETERS:  {'loss_fn': 'MSELoss', 'metric': 'r2_score', 'hidden_dim': 200, 'max_epochs': 100, 'batch_size': 128, 'optim_hparams': {'lr': 0.0001, 'weight_decay': 5e-05}, 'encoder_depth': 2, 'dropout_rate': 0.1, 'p_m': 0.3, 'alpha1': 2.0, 'alpha2': 2.0, 'K': 3, 'beta': 1.0}\n"
     ]
    },
    {
     "name": "stderr",
     "output_type": "stream",
     "text": [
      "GPU available: True (cuda), used: True\n",
      "TPU available: False, using: 0 TPU cores\n",
      "HPU available: False, using: 0 HPUs\n",
      "LOCAL_RANK: 0 - CUDA_VISIBLE_DEVICES: [0]\n"
     ]
    },
    {
     "name": "stdout",
     "output_type": "stream",
     "text": [
      "refresh rate:  10\n"
     ]
    },
    {
     "name": "stderr",
     "output_type": "stream",
     "text": [
      "\n",
      "  | Name                        | Type    | Params | Mode \n",
      "----------------------------------------------------------------\n",
      "0 | task_loss_fn                | MSELoss | 0      | train\n",
      "1 | mask_loss_fn                | BCELoss | 0      | train\n",
      "2 | categorical_feature_loss_fn | BCELoss | 0      | train\n",
      "3 | continuous_feature_loss_fn  | MSELoss | 0      | train\n",
      "4 | consistency_loss_fn         | MSELoss | 0      | train\n",
      "5 | model                       | VIME    | 196 K  | train\n",
      "----------------------------------------------------------------\n",
      "196 K     Trainable params\n",
      "0         Non-trainable params\n",
      "196 K     Total params\n",
      "0.788     Total estimated model params size (MB)\n"
     ]
    },
    {
     "name": "stdout",
     "output_type": "stream",
     "text": [
      "Epoch 0: 100%|█████████████████████████████████████████████████| 12704/12704 [02:27<00:00, 85.94it/s]\n",
      "Epoch 1: 100%|███████████████| 12704/12704 [02:28<00:00, 85.28it/s, train_loss=3.030, val_loss=2.920]\u001b[A\n",
      "Epoch 2: 100%|███████████████| 12704/12704 [02:25<00:00, 87.07it/s, train_loss=2.960, val_loss=2.900]\u001b[A\n",
      "Epoch 3: 100%|███████████████| 12704/12704 [02:22<00:00, 89.46it/s, train_loss=2.940, val_loss=2.880]\u001b[A\n",
      "Epoch 4: 100%|███████████████| 12704/12704 [02:24<00:00, 87.82it/s, train_loss=2.920, val_loss=2.860]\u001b[A\n",
      "Epoch 5: 100%|███████████████| 12704/12704 [02:24<00:00, 88.21it/s, train_loss=2.910, val_loss=2.850]\u001b[A\n",
      "Epoch 6: 100%|███████████████| 12704/12704 [02:23<00:00, 88.83it/s, train_loss=2.900, val_loss=2.840]\u001b[A\n",
      "Epoch 7: 100%|███████████████| 12704/12704 [02:20<00:00, 90.67it/s, train_loss=2.890, val_loss=2.830]\u001b[A\n",
      "Epoch 8: 100%|███████████████| 12704/12704 [02:23<00:00, 88.25it/s, train_loss=2.880, val_loss=2.820]\u001b[A\n",
      "Epoch 9: 100%|███████████████| 12704/12704 [02:20<00:00, 90.69it/s, train_loss=2.870, val_loss=2.810]\u001b[A\n",
      "Epoch 10: 100%|██████████████| 12704/12704 [02:21<00:00, 89.66it/s, train_loss=2.860, val_loss=2.800]\u001b[A\n",
      "Epoch 11: 100%|██████████████| 12704/12704 [02:23<00:00, 88.27it/s, train_loss=2.860, val_loss=2.790]\u001b[A\n",
      "Epoch 12: 100%|██████████████| 12704/12704 [02:25<00:00, 87.48it/s, train_loss=2.860, val_loss=2.790]\u001b[A\n",
      "Epoch 13: 100%|██████████████| 12704/12704 [02:22<00:00, 89.05it/s, train_loss=2.850, val_loss=2.790]\u001b[A\n",
      "Epoch 14: 100%|██████████████| 12704/12704 [02:22<00:00, 88.97it/s, train_loss=2.850, val_loss=2.780]\u001b[A\n",
      "Epoch 15: 100%|██████████████| 12704/12704 [02:21<00:00, 89.67it/s, train_loss=2.850, val_loss=2.780]\u001b[A\n",
      "Epoch 16: 100%|██████████████| 12704/12704 [02:23<00:00, 88.36it/s, train_loss=2.850, val_loss=2.780]\u001b[A\n",
      "Epoch 17: 100%|██████████████| 12704/12704 [02:22<00:00, 89.06it/s, train_loss=2.840, val_loss=2.780]\u001b[A\n",
      "Epoch 18: 100%|██████████████| 12704/12704 [02:24<00:00, 87.90it/s, train_loss=2.840, val_loss=2.770]\u001b[A\n",
      "Epoch 19: 100%|██████████████| 12704/12704 [02:25<00:00, 87.43it/s, train_loss=2.840, val_loss=2.770]\u001b[A\n",
      "Epoch 20: 100%|██████████████| 12704/12704 [02:24<00:00, 88.15it/s, train_loss=2.840, val_loss=2.770]\u001b[A\n",
      "Epoch 21: 100%|██████████████| 12704/12704 [02:22<00:00, 88.84it/s, train_loss=2.840, val_loss=2.770]\u001b[A\n",
      "Epoch 22: 100%|██████████████| 12704/12704 [02:22<00:00, 89.00it/s, train_loss=2.840, val_loss=2.770]\u001b[A\n",
      "Epoch 23: 100%|██████████████| 12704/12704 [02:24<00:00, 87.75it/s, train_loss=2.840, val_loss=2.770]\u001b[A\n",
      "Epoch 24: 100%|██████████████| 12704/12704 [02:20<00:00, 90.37it/s, train_loss=2.840, val_loss=2.770]\u001b[A\n",
      "Epoch 25: 100%|██████████████| 12704/12704 [02:23<00:00, 88.58it/s, train_loss=2.830, val_loss=2.760]\u001b[A\n",
      "Epoch 26: 100%|██████████████| 12704/12704 [02:25<00:00, 87.38it/s, train_loss=2.830, val_loss=2.760]\u001b[A\n",
      "Epoch 27: 100%|██████████████| 12704/12704 [02:23<00:00, 88.80it/s, train_loss=2.830, val_loss=2.760]\u001b[A\n",
      "Epoch 28: 100%|██████████████| 12704/12704 [02:22<00:00, 88.87it/s, train_loss=2.830, val_loss=2.760]\u001b[A\n",
      "Epoch 29: 100%|██████████████| 12704/12704 [02:24<00:00, 87.86it/s, train_loss=2.830, val_loss=2.760]\u001b[A\n",
      "Epoch 30: 100%|██████████████| 12704/12704 [02:24<00:00, 87.67it/s, train_loss=2.830, val_loss=2.760]\u001b[A\n",
      "Epoch 31: 100%|██████████████| 12704/12704 [02:27<00:00, 86.17it/s, train_loss=2.830, val_loss=2.760]\u001b[A\n",
      "Epoch 32: 100%|██████████████| 12704/12704 [02:23<00:00, 88.38it/s, train_loss=2.830, val_loss=2.760]\u001b[A\n",
      "Epoch 33: 100%|██████████████| 12704/12704 [02:25<00:00, 87.16it/s, train_loss=2.830, val_loss=2.760]\u001b[A\n",
      "Epoch 34: 100%|██████████████| 12704/12704 [02:24<00:00, 88.13it/s, train_loss=2.830, val_loss=2.770]\u001b[A\n",
      "Epoch 35: 100%|██████████████| 12704/12704 [02:23<00:00, 88.57it/s, train_loss=2.830, val_loss=2.760]\u001b[A\n",
      "Epoch 36: 100%|██████████████| 12704/12704 [02:23<00:00, 88.35it/s, train_loss=2.830, val_loss=2.760]\u001b[A\n",
      "Epoch 37: 100%|██████████████| 12704/12704 [02:23<00:00, 88.23it/s, train_loss=2.830, val_loss=2.760]\u001b[A\n",
      "Epoch 38: 100%|██████████████| 12704/12704 [02:25<00:00, 87.17it/s, train_loss=2.830, val_loss=2.760]\u001b[A\n",
      "Epoch 39: 100%|██████████████| 12704/12704 [02:24<00:00, 87.84it/s, train_loss=2.830, val_loss=2.760]\u001b[A\n",
      "Epoch 40: 100%|██████████████| 12704/12704 [02:23<00:00, 88.63it/s, train_loss=2.830, val_loss=2.760]\u001b[A\n",
      "Epoch 41: 100%|██████████████| 12704/12704 [02:23<00:00, 88.46it/s, train_loss=2.830, val_loss=2.760]\u001b[A\n",
      "Epoch 42: 100%|██████████████| 12704/12704 [02:23<00:00, 88.60it/s, train_loss=2.830, val_loss=2.760]\u001b[A\n",
      "Epoch 43:  73%|███████████    | 9330/12704 [01:47<00:38, 87.17it/s, train_loss=2.830, val_loss=2.760]\u001b[A"
     ]
    }
   ],
   "source": [
    "s3l_training(pretrain=True, # if True First Phase training\n",
    "             use_pretrained_model=False, # if True Second Phase learning\n",
    "             pt_type='vime', \n",
    "             pt_folder='FP8')"
   ]
  },
  {
   "cell_type": "code",
   "execution_count": null,
   "id": "de7160f9-4db4-4688-9556-ba884a04eafb",
   "metadata": {},
   "outputs": [],
   "source": []
  },
  {
   "cell_type": "code",
   "execution_count": null,
   "id": "44a0e795-750f-45ce-9a6a-b578608c7f1f",
   "metadata": {},
   "outputs": [],
   "source": []
  }
 ],
 "metadata": {
  "kernelspec": {
   "display_name": "Python 3 (ipykernel)",
   "language": "python",
   "name": "python3"
  },
  "language_info": {
   "codemirror_mode": {
    "name": "ipython",
    "version": 3
   },
   "file_extension": ".py",
   "mimetype": "text/x-python",
   "name": "python",
   "nbconvert_exporter": "python",
   "pygments_lexer": "ipython3",
   "version": "3.8.10"
  }
 },
 "nbformat": 4,
 "nbformat_minor": 5
}
