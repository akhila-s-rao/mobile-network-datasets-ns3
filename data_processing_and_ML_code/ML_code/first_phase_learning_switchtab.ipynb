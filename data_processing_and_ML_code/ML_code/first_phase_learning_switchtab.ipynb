{
 "cells": [
  {
   "cell_type": "code",
   "execution_count": 1,
   "id": "8ed58de6-5ac0-4bbb-95e7-c77e64dfaf11",
   "metadata": {},
   "outputs": [],
   "source": [
    "# reload\n",
    "#%reset\n",
    "%load_ext autoreload\n",
    "%autoreload 2 \n",
    "\n",
    "import warnings\n",
    "import logging\n",
    "import os\n",
    "\n",
    "# DEBUG MODE\n",
    "os.environ['TF_CPP_MIN_LOG_LEVEL'] = '3'\n",
    "warnings.filterwarnings('ignore')\n",
    "logging.getLogger('tensorflow').setLevel(logging.FATAL)\n",
    "    \n",
    "from s3l_training import s3l_training"
   ]
  },
  {
   "cell_type": "code",
   "execution_count": 2,
   "id": "26eb320c-c17f-40dd-8264-6dcbd0933f0b",
   "metadata": {},
   "outputs": [
    {
     "name": "stdout",
     "output_type": "stream",
     "text": [
      "Run with random seed:  561\n",
      "GPU is available.\n",
      "1\n",
      "True\n",
      "12.1\n",
      "Concatenating runs:  range(1, 11)\n",
      "Time to read csv file for run:  3.5196282863616943\n",
      "Loaded run 1\n",
      "Time to read csv file for run:  3.4027578830718994\n",
      "Loaded run 2\n",
      "Time to read csv file for run:  3.415864944458008\n",
      "Loaded run 3\n",
      "Time to read csv file for run:  3.3453681468963623\n",
      "Loaded run 4\n",
      "Time to read csv file for run:  3.3486475944519043\n",
      "Loaded run 5\n",
      "Time to read csv file for run:  3.3471338748931885\n",
      "Loaded run 6\n",
      "Time to read csv file for run:  3.311807632446289\n",
      "Loaded run 7\n",
      "Time to read csv file for run:  3.429471969604492\n",
      "Loaded run 8\n",
      "Time to read csv file for run:  3.4617273807525635\n",
      "Loaded run 9\n",
      "Time to read csv file for run:  3.5845673084259033\n",
      "Loaded run 10\n",
      "pretrain_data, before removing rows that dont have traffic  (1799100, 102)\n",
      "pretrain_data, after removing rows that dont have traffic  (102769, 102)\n",
      "X_pretrain  (102448, 92)\n"
     ]
    },
    {
     "name": "stderr",
     "output_type": "stream",
     "text": [
      "Seed set to 42\n"
     ]
    },
    {
     "name": "stdout",
     "output_type": "stream",
     "text": [
      "HYPERPARAMETERS:  {'loss_fn': 'MSELoss', 'metric': 'r2_score', 'hidden_dim': 200, 'max_epochs': 100, 'batch_size': 128, 'optim_hparams': {'lr': 0.0001, 'weight_decay': 5e-05}, 'encoder_depth': 1, 'corruption_rate': 0.3, 'dropout_rate': 0.1, 'n_head': 2, 'u_label': -1}\n"
     ]
    },
    {
     "name": "stderr",
     "output_type": "stream",
     "text": [
      "GPU available: True (cuda), used: True\n",
      "TPU available: False, using: 0 TPU cores\n",
      "HPU available: False, using: 0 HPUs\n",
      "LOCAL_RANK: 0 - CUDA_VISIBLE_DEVICES: [0]\n"
     ]
    },
    {
     "name": "stdout",
     "output_type": "stream",
     "text": [
      "refresh rate:  10\n"
     ]
    },
    {
     "name": "stderr",
     "output_type": "stream",
     "text": [
      "\n",
      "  | Name                   | Type      | Params | Mode \n",
      "-------------------------------------------------------------\n",
      "0 | task_loss_fn           | MSELoss   | 0      | train\n",
      "1 | reconstruction_loss_fn | MSELoss   | 0      | train\n",
      "2 | model                  | SwitchTab | 657 K  | train\n",
      "-------------------------------------------------------------\n",
      "657 K     Trainable params\n",
      "0         Non-trainable params\n",
      "657 K     Total params\n",
      "2.630     Total estimated model params size (MB)\n"
     ]
    },
    {
     "name": "stdout",
     "output_type": "stream",
     "text": [
      "Epoch 0: 100%|████████████████████████████████████████████████████████████████████████████████████████████| 725/725 [00:46<00:00, 15.66it/s]\n",
      "Epoch 1: 100%|██████████████████████████████████████████████████████████| 725/725 [00:46<00:00, 15.54it/s, train_loss=0.991, val_loss=0.863]\u001b[A\n",
      "Epoch 2: 100%|██████████████████████████████████████████████████████████| 725/725 [00:47<00:00, 15.34it/s, train_loss=0.844, val_loss=0.816]\u001b[A\n",
      "Epoch 3: 100%|██████████████████████████████████████████████████████████| 725/725 [00:47<00:00, 15.16it/s, train_loss=0.840, val_loss=0.801]\u001b[A\n",
      "Epoch 4: 100%|██████████████████████████████████████████████████████████| 725/725 [00:47<00:00, 15.27it/s, train_loss=0.828, val_loss=0.792]\u001b[A\n",
      "Epoch 5: 100%|██████████████████████████████████████████████████████████| 725/725 [00:46<00:00, 15.52it/s, train_loss=0.820, val_loss=0.788]\u001b[A\n",
      "Epoch 6: 100%|██████████████████████████████████████████████████████████| 725/725 [00:46<00:00, 15.50it/s, train_loss=0.815, val_loss=0.813]\u001b[A\n",
      "Epoch 7: 100%|██████████████████████████████████████████████████████████| 725/725 [00:47<00:00, 15.17it/s, train_loss=0.803, val_loss=0.790]\u001b[A\n",
      "Epoch 8: 100%|██████████████████████████████████████████████████████████| 725/725 [00:47<00:00, 15.26it/s, train_loss=0.830, val_loss=0.798]\u001b[A\n",
      "Epoch 9: 100%|██████████████████████████████████████████████████████████| 725/725 [00:46<00:00, 15.45it/s, train_loss=0.809, val_loss=0.801]\u001b[A\n",
      "Epoch 10: 100%|█████████████████████████████████████████████████████████| 725/725 [00:47<00:00, 15.21it/s, train_loss=0.811, val_loss=0.790]\u001b[A\n",
      "Epoch 11: 100%|█████████████████████████████████████████████████████████| 725/725 [00:46<00:00, 15.56it/s, train_loss=0.810, val_loss=0.778]\u001b[A\n",
      "Epoch 12: 100%|█████████████████████████████████████████████████████████| 725/725 [00:46<00:00, 15.48it/s, train_loss=0.807, val_loss=0.813]\u001b[A\n",
      "Epoch 13: 100%|█████████████████████████████████████████████████████████| 725/725 [00:48<00:00, 14.98it/s, train_loss=0.815, val_loss=0.794]\u001b[A\n",
      "Epoch 14: 100%|█████████████████████████████████████████████████████████| 725/725 [00:47<00:00, 15.15it/s, train_loss=0.819, val_loss=0.835]\u001b[A\n",
      "Epoch 15: 100%|█████████████████████████████████████████████████████████| 725/725 [00:46<00:00, 15.45it/s, train_loss=0.810, val_loss=0.789]\u001b[A\n",
      "Epoch 16: 100%|█████████████████████████████████████████████████████████| 725/725 [00:46<00:00, 15.44it/s, train_loss=0.815, val_loss=0.778]\u001b[A\n",
      "Epoch 17: 100%|█████████████████████████████████████████████████████████| 725/725 [00:47<00:00, 15.19it/s, train_loss=0.799, val_loss=0.795]\u001b[A\n",
      "Epoch 18: 100%|█████████████████████████████████████████████████████████| 725/725 [00:46<00:00, 15.55it/s, train_loss=0.800, val_loss=0.782]\u001b[A\n",
      "Epoch 19: 100%|█████████████████████████████████████████████████████████| 725/725 [00:47<00:00, 15.27it/s, train_loss=0.803, val_loss=0.810]\u001b[A\n",
      "Epoch 20: 100%|█████████████████████████████████████████████████████████| 725/725 [00:46<00:00, 15.71it/s, train_loss=0.792, val_loss=0.774]\u001b[A\n",
      "Epoch 21: 100%|█████████████████████████████████████████████████████████| 725/725 [00:44<00:00, 16.24it/s, train_loss=0.804, val_loss=0.794]\u001b[A\n",
      "Epoch 22: 100%|█████████████████████████████████████████████████████████| 725/725 [00:44<00:00, 16.21it/s, train_loss=0.816, val_loss=0.780]\u001b[A\n",
      "Epoch 23: 100%|█████████████████████████████████████████████████████████| 725/725 [00:45<00:00, 15.99it/s, train_loss=0.811, val_loss=0.802]\u001b[A\n",
      "Epoch 24: 100%|█████████████████████████████████████████████████████████| 725/725 [00:45<00:00, 15.96it/s, train_loss=0.800, val_loss=0.784]\u001b[A\n",
      "Epoch 25: 100%|█████████████████████████████████████████████████████████| 725/725 [00:45<00:00, 16.11it/s, train_loss=0.809, val_loss=0.800]\u001b[A\n",
      "Epoch 26: 100%|█████████████████████████████████████████████████████████| 725/725 [00:44<00:00, 16.14it/s, train_loss=0.794, val_loss=0.796]\u001b[A\n",
      "Epoch 27: 100%|█████████████████████████████████████████████████████████| 725/725 [00:45<00:00, 16.04it/s, train_loss=0.821, val_loss=0.785]\u001b[A\n",
      "Epoch 28: 100%|█████████████████████████████████████████████████████████| 725/725 [00:43<00:00, 16.63it/s, train_loss=0.792, val_loss=0.790]\u001b[A\n",
      "Epoch 29: 100%|█████████████████████████████████████████████████████████| 725/725 [00:43<00:00, 16.67it/s, train_loss=0.788, val_loss=0.806]\u001b[A\n",
      "Epoch 30: 100%|█████████████████████████████████████████████████████████| 725/725 [00:44<00:00, 16.34it/s, train_loss=0.797, val_loss=0.786]\u001b[A\n",
      "Epoch 31: 100%|█████████████████████████████████████████████████████████| 725/725 [00:44<00:00, 16.28it/s, train_loss=0.800, val_loss=0.804]\u001b[A\n",
      "Epoch 32: 100%|█████████████████████████████████████████████████████████| 725/725 [00:43<00:00, 16.55it/s, train_loss=0.792, val_loss=0.775]\u001b[A\n",
      "Epoch 33: 100%|█████████████████████████████████████████████████████████| 725/725 [00:43<00:00, 16.52it/s, train_loss=0.791, val_loss=0.787]\u001b[A\n",
      "Epoch 34: 100%|█████████████████████████████████████████████████████████| 725/725 [00:44<00:00, 16.29it/s, train_loss=0.794, val_loss=0.788]\u001b[A\n",
      "Epoch 35: 100%|█████████████████████████████████████████████████████████| 725/725 [00:43<00:00, 16.70it/s, train_loss=0.795, val_loss=0.788]\u001b[A\n",
      "Epoch 36: 100%|█████████████████████████████████████████████████████████| 725/725 [00:43<00:00, 16.71it/s, train_loss=0.786, val_loss=0.791]\u001b[A\n",
      "Epoch 37: 100%|█████████████████████████████████████████████████████████| 725/725 [00:44<00:00, 16.44it/s, train_loss=0.792, val_loss=0.780]\u001b[A\n",
      "Epoch 38: 100%|█████████████████████████████████████████████████████████| 725/725 [00:44<00:00, 16.41it/s, train_loss=0.802, val_loss=0.772]\u001b[A\n",
      "Epoch 39: 100%|█████████████████████████████████████████████████████████| 725/725 [00:44<00:00, 16.32it/s, train_loss=0.804, val_loss=0.798]\u001b[A\n",
      "Epoch 40: 100%|█████████████████████████████████████████████████████████| 725/725 [00:44<00:00, 16.44it/s, train_loss=0.800, val_loss=0.786]\u001b[A\n",
      "Epoch 41: 100%|█████████████████████████████████████████████████████████| 725/725 [00:43<00:00, 16.77it/s, train_loss=0.793, val_loss=0.784]\u001b[A\n",
      "Epoch 42: 100%|█████████████████████████████████████████████████████████| 725/725 [00:43<00:00, 16.61it/s, train_loss=0.787, val_loss=0.797]\u001b[A\n",
      "Epoch 43: 100%|█████████████████████████████████████████████████████████| 725/725 [00:43<00:00, 16.57it/s, train_loss=0.789, val_loss=0.779]\u001b[A\n",
      "Epoch 44: 100%|█████████████████████████████████████████████████████████| 725/725 [00:44<00:00, 16.28it/s, train_loss=0.787, val_loss=0.779]\u001b[A\n",
      "Epoch 45: 100%|█████████████████████████████████████████████████████████| 725/725 [00:44<00:00, 16.41it/s, train_loss=0.788, val_loss=0.812]\u001b[A\n",
      "Epoch 46: 100%|█████████████████████████████████████████████████████████| 725/725 [00:44<00:00, 16.47it/s, train_loss=0.791, val_loss=0.813]\u001b[A\n",
      "Epoch 47: 100%|█████████████████████████████████████████████████████████| 725/725 [00:44<00:00, 16.36it/s, train_loss=0.796, val_loss=0.776]\u001b[A\n",
      "Epoch 48: 100%|█████████████████████████████████████████████████████████| 725/725 [00:43<00:00, 16.71it/s, train_loss=0.811, val_loss=0.786]\u001b[A\n",
      "Epoch 49: 100%|█████████████████████████████████████████████████████████| 725/725 [00:43<00:00, 16.60it/s, train_loss=0.795, val_loss=0.792]\u001b[A\n",
      "Epoch 50: 100%|█████████████████████████████████████████████████████████| 725/725 [00:44<00:00, 16.29it/s, train_loss=0.792, val_loss=0.786]\u001b[A\n",
      "Epoch 51: 100%|█████████████████████████████████████████████████████████| 725/725 [00:44<00:00, 16.47it/s, train_loss=0.800, val_loss=0.768]\u001b[A\n",
      "Epoch 52: 100%|█████████████████████████████████████████████████████████| 725/725 [00:43<00:00, 16.67it/s, train_loss=0.793, val_loss=0.793]\u001b[A\n",
      "Epoch 53: 100%|█████████████████████████████████████████████████████████| 725/725 [00:38<00:00, 19.07it/s, train_loss=0.796, val_loss=0.776]\u001b[A\n",
      "Epoch 54: 100%|█████████████████████████████████████████████████████████| 725/725 [00:33<00:00, 21.63it/s, train_loss=0.803, val_loss=0.795]\u001b[A\n",
      "Epoch 55: 100%|█████████████████████████████████████████████████████████| 725/725 [00:32<00:00, 22.46it/s, train_loss=0.799, val_loss=0.793]\u001b[A\n",
      "Epoch 56: 100%|█████████████████████████████████████████████████████████| 725/725 [00:32<00:00, 22.52it/s, train_loss=0.791, val_loss=0.785]\u001b[A\n",
      "Epoch 57: 100%|█████████████████████████████████████████████████████████| 725/725 [00:33<00:00, 21.71it/s, train_loss=0.787, val_loss=0.772]\u001b[A\n",
      "Epoch 58: 100%|█████████████████████████████████████████████████████████| 725/725 [00:32<00:00, 22.27it/s, train_loss=0.799, val_loss=0.793]\u001b[A\n",
      "Epoch 59: 100%|█████████████████████████████████████████████████████████| 725/725 [00:31<00:00, 22.81it/s, train_loss=0.790, val_loss=0.775]\u001b[A\n",
      "Epoch 60: 100%|█████████████████████████████████████████████████████████| 725/725 [00:32<00:00, 22.41it/s, train_loss=0.808, val_loss=0.815]\u001b[A\n",
      "Epoch 61: 100%|█████████████████████████████████████████████████████████| 725/725 [00:33<00:00, 21.57it/s, train_loss=0.784, val_loss=0.774]\u001b[A\n",
      "Epoch 62: 100%|█████████████████████████████████████████████████████████| 725/725 [00:31<00:00, 22.89it/s, train_loss=0.795, val_loss=0.795]\u001b[A\n",
      "Epoch 63: 100%|█████████████████████████████████████████████████████████| 725/725 [00:31<00:00, 23.17it/s, train_loss=0.797, val_loss=0.793]\u001b[A\n",
      "Epoch 64: 100%|█████████████████████████████████████████████████████████| 725/725 [00:32<00:00, 22.42it/s, train_loss=0.797, val_loss=0.773]\u001b[A\n",
      "Epoch 65: 100%|█████████████████████████████████████████████████████████| 725/725 [00:32<00:00, 22.23it/s, train_loss=0.793, val_loss=0.780]\u001b[A\n",
      "Epoch 66: 100%|█████████████████████████████████████████████████████████| 725/725 [00:31<00:00, 22.73it/s, train_loss=0.788, val_loss=0.772]\u001b[A\n",
      "Epoch 67: 100%|█████████████████████████████████████████████████████████| 725/725 [00:31<00:00, 22.76it/s, train_loss=0.789, val_loss=0.782]\u001b[A\n",
      "Epoch 68: 100%|█████████████████████████████████████████████████████████| 725/725 [00:33<00:00, 21.91it/s, train_loss=0.802, val_loss=0.789]\u001b[A\n",
      "Epoch 69: 100%|█████████████████████████████████████████████████████████| 725/725 [00:32<00:00, 22.31it/s, train_loss=0.801, val_loss=0.787]\u001b[A\n",
      "Epoch 70: 100%|█████████████████████████████████████████████████████████| 725/725 [00:31<00:00, 23.03it/s, train_loss=0.793, val_loss=0.794]\u001b[A\n",
      "Epoch 71: 100%|█████████████████████████████████████████████████████████| 725/725 [00:33<00:00, 21.83it/s, train_loss=0.786, val_loss=0.779]\u001b[A\n",
      "Epoch 72: 100%|█████████████████████████████████████████████████████████| 725/725 [00:33<00:00, 21.72it/s, train_loss=0.795, val_loss=0.782]\u001b[A\n",
      "Epoch 73: 100%|█████████████████████████████████████████████████████████| 725/725 [00:32<00:00, 22.54it/s, train_loss=0.787, val_loss=0.790]\u001b[A\n",
      "Epoch 74: 100%|█████████████████████████████████████████████████████████| 725/725 [00:32<00:00, 22.50it/s, train_loss=0.791, val_loss=0.803]\u001b[A\n",
      "Epoch 75: 100%|█████████████████████████████████████████████████████████| 725/725 [00:32<00:00, 22.09it/s, train_loss=0.787, val_loss=0.797]\u001b[A\n",
      "Epoch 76: 100%|█████████████████████████████████████████████████████████| 725/725 [00:32<00:00, 22.37it/s, train_loss=0.788, val_loss=0.783]\u001b[A\n",
      "Epoch 77: 100%|█████████████████████████████████████████████████████████| 725/725 [00:32<00:00, 22.40it/s, train_loss=0.799, val_loss=0.800]\u001b[A\n",
      "Epoch 78: 100%|█████████████████████████████████████████████████████████| 725/725 [00:32<00:00, 22.57it/s, train_loss=0.803, val_loss=0.794]\u001b[A\n",
      "Epoch 79: 100%|█████████████████████████████████████████████████████████| 725/725 [00:32<00:00, 22.19it/s, train_loss=0.796, val_loss=0.764]\u001b[A\n",
      "Epoch 80: 100%|█████████████████████████████████████████████████████████| 725/725 [00:32<00:00, 22.44it/s, train_loss=0.783, val_loss=0.772]\u001b[A\n",
      "Epoch 81: 100%|█████████████████████████████████████████████████████████| 725/725 [00:31<00:00, 22.81it/s, train_loss=0.793, val_loss=0.771]\u001b[A\n",
      "Epoch 82: 100%|█████████████████████████████████████████████████████████| 725/725 [00:33<00:00, 21.62it/s, train_loss=0.794, val_loss=0.786]\u001b[A\n",
      "Epoch 83: 100%|█████████████████████████████████████████████████████████| 725/725 [00:32<00:00, 22.49it/s, train_loss=0.799, val_loss=0.768]\u001b[A\n",
      "Epoch 84: 100%|█████████████████████████████████████████████████████████| 725/725 [00:32<00:00, 22.55it/s, train_loss=0.792, val_loss=0.793]\u001b[A\n",
      "Epoch 85: 100%|█████████████████████████████████████████████████████████| 725/725 [00:32<00:00, 22.46it/s, train_loss=0.796, val_loss=0.785]\u001b[A\n",
      "Epoch 86: 100%|█████████████████████████████████████████████████████████| 725/725 [00:33<00:00, 21.57it/s, train_loss=0.808, val_loss=0.818]\u001b[A\n",
      "Epoch 87: 100%|█████████████████████████████████████████████████████████| 725/725 [00:31<00:00, 22.79it/s, train_loss=0.790, val_loss=0.762]\u001b[A\n",
      "Epoch 88: 100%|█████████████████████████████████████████████████████████| 725/725 [00:32<00:00, 22.47it/s, train_loss=0.793, val_loss=0.777]\u001b[A\n",
      "Epoch 89: 100%|█████████████████████████████████████████████████████████| 725/725 [00:32<00:00, 22.12it/s, train_loss=0.789, val_loss=0.774]\u001b[A\n",
      "Epoch 90: 100%|█████████████████████████████████████████████████████████| 725/725 [00:33<00:00, 21.54it/s, train_loss=0.799, val_loss=0.806]\u001b[A\n",
      "Epoch 91: 100%|█████████████████████████████████████████████████████████| 725/725 [00:31<00:00, 22.70it/s, train_loss=0.790, val_loss=0.782]\u001b[A\n",
      "Epoch 92: 100%|█████████████████████████████████████████████████████████| 725/725 [00:32<00:00, 22.49it/s, train_loss=0.787, val_loss=0.790]\u001b[A\n",
      "Epoch 93: 100%|█████████████████████████████████████████████████████████| 725/725 [00:33<00:00, 21.55it/s, train_loss=0.797, val_loss=0.775]\u001b[A\n",
      "Epoch 94: 100%|█████████████████████████████████████████████████████████| 725/725 [00:31<00:00, 23.02it/s, train_loss=0.782, val_loss=0.808]\u001b[A\n",
      "Epoch 95: 100%|█████████████████████████████████████████████████████████| 725/725 [00:32<00:00, 22.62it/s, train_loss=0.789, val_loss=0.809]\u001b[A\n",
      "Epoch 96: 100%|█████████████████████████████████████████████████████████| 725/725 [00:32<00:00, 22.40it/s, train_loss=0.801, val_loss=0.798]\u001b[A\n",
      "Epoch 97: 100%|█████████████████████████████████████████████████████████| 725/725 [00:33<00:00, 21.69it/s, train_loss=0.796, val_loss=0.795]\u001b[A\n",
      "Epoch 98: 100%|█████████████████████████████████████████████████████████| 725/725 [00:31<00:00, 22.74it/s, train_loss=0.790, val_loss=0.793]\u001b[A\n",
      "Epoch 99: 100%|█████████████████████████████████████████████████████████| 725/725 [00:32<00:00, 22.28it/s, train_loss=0.787, val_loss=0.786]\u001b[A\n",
      "Epoch 99: 100%|█████████████████████████████████████████████████████████| 725/725 [00:34<00:00, 21.17it/s, train_loss=0.786, val_loss=0.793]\u001b[A"
     ]
    },
    {
     "name": "stderr",
     "output_type": "stream",
     "text": [
      "`Trainer.fit` stopped: `max_epochs=100` reached.\n"
     ]
    },
    {
     "name": "stdout",
     "output_type": "stream",
     "text": [
      "Epoch 99: 100%|█████████████████████████████████████████████████████████| 725/725 [00:34<00:00, 21.15it/s, train_loss=0.786, val_loss=0.793]\n"
     ]
    },
    {
     "data": {
      "image/png": "[encoded data removed]",
      "text/plain": [
       "<Figure size 640x480 with 1 Axes>"
      ]
     },
     "metadata": {},
     "output_type": "display_data"
    },
    {
     "name": "stdout",
     "output_type": "stream",
     "text": [
      "DONE SAVING PRETRAINED MODEL\n",
      "   | Name                                                                     | Type               | Params | Mode \n",
      "-------------------------------------------------------------------------------------------------------------------------\n",
      "0  | task_loss_fn                                                             | MSELoss            | 0      | train\n",
      "1  | reconstruction_loss_fn                                                   | MSELoss            | 0      | train\n",
      "2  | model                                                                    | SwitchTab          | 657 K  | train\n",
      "3  | model._SwitchTab__encoder                                                | Encoder            | 439 K  | train\n",
      "4  | model._SwitchTab__encoder.transformer                                    | FTTransformer      | 439 K  | train\n",
      "5  | model._SwitchTab__encoder.transformer.tokenizer                          | FeatureTokenizer   | 37.0 K | train\n",
      "6  | model._SwitchTab__encoder.transformer.tokenizer.cat_weights              | Embedding          | 0      | train\n",
      "7  | model._SwitchTab__encoder.transformer.backbone                           | Sequential         | 402 K  | train\n",
      "8  | model._SwitchTab__encoder.transformer.backbone.0                         | Transformer        | 402 K  | train\n",
      "9  | model._SwitchTab__encoder.transformer.backbone.0.block                   | ModuleDict         | 402 K  | train\n",
      "10 | model._SwitchTab__encoder.transformer.backbone.0.block.attention         | MultiheadAttention | 160 K  | train\n",
      "11 | model._SwitchTab__encoder.transformer.backbone.0.block.attention.W_qkv   | Linear             | 120 K  | train\n",
      "12 | model._SwitchTab__encoder.transformer.backbone.0.block.attention.W_out   | Linear             | 40.2 K | train\n",
      "13 | model._SwitchTab__encoder.transformer.backbone.0.block.attention.dropout | Dropout            | 0      | train\n",
      "14 | model._SwitchTab__encoder.transformer.backbone.0.block.linear0           | Linear             | 160 K  | train\n",
      "15 | model._SwitchTab__encoder.transformer.backbone.0.block.linear1           | Linear             | 80.2 K | train\n",
      "16 | model._SwitchTab__encoder.transformer.backbone.0.block.norm1             | LayerNorm          | 400    | train\n",
      "17 | model._SwitchTab__encoder.transformer.backbone.0.block.ffn_dropout       | Dropout            | 0      | train\n",
      "18 | model.projector_m                                                        | Projector          | 40.2 K | train\n",
      "19 | model.projector_m.linear                                                 | Linear             | 40.2 K | train\n",
      "20 | model.projector_m.activation                                             | SiLU               | 0      | train\n",
      "21 | model.projector_s                                                        | Projector          | 40.2 K | train\n",
      "22 | model.projector_s.linear                                                 | Linear             | 40.2 K | train\n",
      "23 | model.projector_s.activation                                             | SiLU               | 0      | train\n",
      "24 | model.decoder                                                            | Decoder            | 36.9 K | train\n",
      "25 | model.decoder.linear                                                     | Linear             | 36.9 K | train\n",
      "26 | model.decoder.activation                                                 | SiLU               | 0      | train\n",
      "27 | model.head                                                               | Linear             | 201    | train\n",
      "28 | model.one_layer_prediction_head                                          | Sequential         | 40.4 K | train\n",
      "29 | model.one_layer_prediction_head.head_linear_hid                          | Linear             | 40.2 K | train\n",
      "30 | model.one_layer_prediction_head.head_activation                          | ReLU               | 0      | train\n",
      "31 | model.one_layer_prediction_head.head_linear_out                          | Linear             | 201    | train\n",
      "32 | model.two_layer_prediction_head                                          | Sequential         | 60.4 K | train\n",
      "33 | model.two_layer_prediction_head.head_linear_hid1                         | Linear             | 40.2 K | train\n",
      "34 | model.two_layer_prediction_head.head_activation1                         | ReLU               | 0      | train\n",
      "35 | model.two_layer_prediction_head.head_linear_hid2                         | Linear             | 20.1 K | train\n",
      "36 | model.two_layer_prediction_head.head_activation2                         | ReLU               | 0      | train\n",
      "37 | model.two_layer_prediction_head.head_linear_out                          | Linear             | 101    | train\n",
      "38 | model.activation                                                         | SiLU               | 0      | train\n",
      "-------------------------------------------------------------------------------------------------------------------------\n",
      "657 K     Trainable params\n",
      "0         Non-trainable params\n",
      "657 K     Total params\n",
      "2.630     Total estimated model params size (MB)\n",
      "Time to pretrain model:  4133.700175285339\n",
      "DONE PRETRAINING\n"
     ]
    }
   ],
   "source": [
    "s3l_training(pretrain=True, # if True First Phase training\n",
    "             use_pretrained_model=False, # if True Second Phase learning\n",
    "             pt_type='switchtab', \n",
    "             pt_folder='FP4')"
   ]
  },
  {
   "cell_type": "code",
   "execution_count": null,
   "id": "de7160f9-4db4-4688-9556-ba884a04eafb",
   "metadata": {},
   "outputs": [],
   "source": []
  }
 ],
 "metadata": {
  "kernelspec": {
   "display_name": "Python 3 (ipykernel)",
   "language": "python",
   "name": "python3"
  },
  "language_info": {
   "codemirror_mode": {
    "name": "ipython",
    "version": 3
   },
   "file_extension": ".py",
   "mimetype": "text/x-python",
   "name": "python",
   "nbconvert_exporter": "python",
   "pygments_lexer": "ipython3",
   "version": "3.8.10"
  }
 },
 "nbformat": 4,
 "nbformat_minor": 5
}
