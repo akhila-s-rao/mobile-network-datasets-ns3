{
 "cells": [
  {
   "cell_type": "code",
   "execution_count": 1,
   "id": "8ed58de6-5ac0-4bbb-95e7-c77e64dfaf11",
   "metadata": {},
   "outputs": [],
   "source": [
    "# reload\n",
    "#%reset\n",
    "%load_ext autoreload\n",
    "%autoreload 2 \n",
    "\n",
    "import warnings\n",
    "import logging\n",
    "import os\n",
    "\n",
    "# DEBUG MODE\n",
    "os.environ['TF_CPP_MIN_LOG_LEVEL'] = '3'\n",
    "warnings.filterwarnings('ignore')\n",
    "logging.getLogger('tensorflow').setLevel(logging.FATAL)\n",
    "    \n",
    "from s3l_training import s3l_training"
   ]
  },
  {
   "cell_type": "code",
   "execution_count": 2,
   "id": "26eb320c-c17f-40dd-8264-6dcbd0933f0b",
   "metadata": {},
   "outputs": [
    {
     "name": "stdout",
     "output_type": "stream",
     "text": [
      "Run with random seed:  561\n",
      "GPU is available.\n",
      "1\n",
      "True\n",
      "12.1\n",
      "Concatenating runs:  range(1, 11)\n",
      "Time to read csv file for run:  3.05268931388855\n",
      "Loaded run 1\n",
      "Time to read csv file for run:  3.0190248489379883\n",
      "Loaded run 2\n",
      "Time to read csv file for run:  3.024742841720581\n",
      "Loaded run 3\n",
      "Time to read csv file for run:  3.035168409347534\n",
      "Loaded run 4\n",
      "Time to read csv file for run:  2.9593427181243896\n",
      "Loaded run 5\n",
      "Time to read csv file for run:  2.7412216663360596\n",
      "Loaded run 6\n",
      "Time to read csv file for run:  2.9267027378082275\n",
      "Loaded run 7\n",
      "Time to read csv file for run:  2.9339375495910645\n",
      "Loaded run 8\n",
      "Time to read csv file for run:  2.9613659381866455\n",
      "Loaded run 9\n",
      "Time to read csv file for run:  2.9616498947143555\n",
      "Loaded run 10\n",
      "pretrain_data, before removing rows that dont have traffic  (1799100, 102)\n",
      "pretrain_data, after removing rows that dont have traffic  (1799100, 102)\n",
      "X_pretrain  (1796746, 92)\n"
     ]
    },
    {
     "name": "stderr",
     "output_type": "stream",
     "text": [
      "Seed set to 42\n"
     ]
    },
    {
     "name": "stdout",
     "output_type": "stream",
     "text": [
      "HYPERPARAMETERS:  {'loss_fn': 'MSELoss', 'metric': 'r2_score', 'hidden_dim': 200, 'max_epochs': 100, 'batch_size': 128, 'optim_hparams': {'lr': 0.0001, 'weight_decay': 5e-05}, 'encoder_depth': 2, 'dropout_rate': 0.1, 'p_m': 0.3, 'alpha1': 2.0, 'alpha2': 2.0, 'K': 3, 'beta': 1.0}\n"
     ]
    },
    {
     "name": "stderr",
     "output_type": "stream",
     "text": [
      "GPU available: True (cuda), used: True\n",
      "TPU available: False, using: 0 TPU cores\n",
      "HPU available: False, using: 0 HPUs\n",
      "LOCAL_RANK: 0 - CUDA_VISIBLE_DEVICES: [0]\n"
     ]
    },
    {
     "name": "stdout",
     "output_type": "stream",
     "text": [
      "refresh rate:  10\n"
     ]
    },
    {
     "name": "stderr",
     "output_type": "stream",
     "text": [
      "\n",
      "  | Name                        | Type    | Params | Mode \n",
      "----------------------------------------------------------------\n",
      "0 | task_loss_fn                | MSELoss | 0      | train\n",
      "1 | mask_loss_fn                | BCELoss | 0      | train\n",
      "2 | categorical_feature_loss_fn | BCELoss | 0      | train\n",
      "3 | continuous_feature_loss_fn  | MSELoss | 0      | train\n",
      "4 | consistency_loss_fn         | MSELoss | 0      | train\n",
      "5 | model                       | VIME    | 196 K  | train\n",
      "----------------------------------------------------------------\n",
      "196 K     Trainable params\n",
      "0         Non-trainable params\n",
      "196 K     Total params\n",
      "0.788     Total estimated model params size (MB)\n"
     ]
    },
    {
     "name": "stdout",
     "output_type": "stream",
     "text": [
      "Epoch 0: 100%|████████████████████████████████████████████████████████████████████████████████████| 12704/12704 [02:20<00:00, 90.25it/s]\n",
      "Epoch 1: 100%|██████████████████████████████████████████████████| 12704/12704 [02:18<00:00, 91.68it/s, train_loss=3.030, val_loss=2.920]\u001b[A\n",
      "Epoch 2: 100%|██████████████████████████████████████████████████| 12704/12704 [02:17<00:00, 92.43it/s, train_loss=2.960, val_loss=2.900]\u001b[A\n",
      "Epoch 3: 100%|██████████████████████████████████████████████████| 12704/12704 [02:21<00:00, 89.80it/s, train_loss=2.940, val_loss=2.880]\u001b[A\n",
      "Epoch 4: 100%|██████████████████████████████████████████████████| 12704/12704 [02:22<00:00, 89.21it/s, train_loss=2.930, val_loss=2.870]\u001b[A\n",
      "Epoch 5: 100%|██████████████████████████████████████████████████| 12704/12704 [02:22<00:00, 89.00it/s, train_loss=2.910, val_loss=2.850]\u001b[A\n",
      "Epoch 6: 100%|██████████████████████████████████████████████████| 12704/12704 [02:23<00:00, 88.38it/s, train_loss=2.900, val_loss=2.830]\u001b[A\n",
      "Epoch 7: 100%|██████████████████████████████████████████████████| 12704/12704 [02:22<00:00, 89.33it/s, train_loss=2.890, val_loss=2.820]\u001b[A\n",
      "Epoch 8: 100%|██████████████████████████████████████████████████| 12704/12704 [02:24<00:00, 88.21it/s, train_loss=2.880, val_loss=2.810]\u001b[A\n",
      "Epoch 9: 100%|██████████████████████████████████████████████████| 12704/12704 [02:24<00:00, 88.01it/s, train_loss=2.870, val_loss=2.810]\u001b[A\n",
      "Epoch 10: 100%|█████████████████████████████████████████████████| 12704/12704 [02:21<00:00, 89.71it/s, train_loss=2.870, val_loss=2.800]\u001b[A\n",
      "Epoch 11: 100%|█████████████████████████████████████████████████| 12704/12704 [02:21<00:00, 89.63it/s, train_loss=2.860, val_loss=2.800]\u001b[A\n",
      "Epoch 12: 100%|█████████████████████████████████████████████████| 12704/12704 [02:21<00:00, 89.53it/s, train_loss=2.860, val_loss=2.790]\u001b[A\n",
      "Epoch 13: 100%|█████████████████████████████████████████████████| 12704/12704 [02:20<00:00, 90.15it/s, train_loss=2.860, val_loss=2.790]\u001b[A\n",
      "Epoch 14: 100%|█████████████████████████████████████████████████| 12704/12704 [02:24<00:00, 87.83it/s, train_loss=2.850, val_loss=2.780]\u001b[A\n",
      "Epoch 15: 100%|█████████████████████████████████████████████████| 12704/12704 [02:20<00:00, 90.62it/s, train_loss=2.850, val_loss=2.780]\u001b[A\n",
      "Epoch 16: 100%|█████████████████████████████████████████████████| 12704/12704 [02:18<00:00, 91.65it/s, train_loss=2.850, val_loss=2.780]\u001b[A\n",
      "Epoch 17: 100%|█████████████████████████████████████████████████| 12704/12704 [02:19<00:00, 91.18it/s, train_loss=2.840, val_loss=2.780]\u001b[A\n",
      "Epoch 18: 100%|█████████████████████████████████████████████████| 12704/12704 [02:22<00:00, 89.23it/s, train_loss=2.840, val_loss=2.770]\u001b[A\n",
      "Epoch 19: 100%|█████████████████████████████████████████████████| 12704/12704 [02:22<00:00, 88.91it/s, train_loss=2.840, val_loss=2.770]\u001b[A\n",
      "Epoch 20: 100%|█████████████████████████████████████████████████| 12704/12704 [02:21<00:00, 89.72it/s, train_loss=2.840, val_loss=2.770]\u001b[A\n",
      "Epoch 21: 100%|█████████████████████████████████████████████████| 12704/12704 [02:23<00:00, 88.71it/s, train_loss=2.840, val_loss=2.770]\u001b[A\n",
      "Epoch 22: 100%|█████████████████████████████████████████████████| 12704/12704 [02:18<00:00, 91.55it/s, train_loss=2.840, val_loss=2.770]\u001b[A\n",
      "Epoch 23: 100%|█████████████████████████████████████████████████| 12704/12704 [02:21<00:00, 89.90it/s, train_loss=2.840, val_loss=2.770]\u001b[A\n",
      "Epoch 24: 100%|█████████████████████████████████████████████████| 12704/12704 [02:24<00:00, 87.95it/s, train_loss=2.830, val_loss=2.770]\u001b[A\n",
      "Epoch 25: 100%|█████████████████████████████████████████████████| 12704/12704 [02:21<00:00, 89.56it/s, train_loss=2.830, val_loss=2.760]\u001b[A\n",
      "Epoch 26: 100%|█████████████████████████████████████████████████| 12704/12704 [02:21<00:00, 89.89it/s, train_loss=2.830, val_loss=2.760]\u001b[A\n",
      "Epoch 27: 100%|█████████████████████████████████████████████████| 12704/12704 [02:25<00:00, 87.11it/s, train_loss=2.830, val_loss=2.760]\u001b[A\n",
      "Epoch 28: 100%|█████████████████████████████████████████████████| 12704/12704 [02:23<00:00, 88.71it/s, train_loss=2.830, val_loss=2.760]\u001b[A\n",
      "Epoch 29: 100%|█████████████████████████████████████████████████| 12704/12704 [02:22<00:00, 88.86it/s, train_loss=2.830, val_loss=2.760]\u001b[A\n",
      "Epoch 30: 100%|█████████████████████████████████████████████████| 12704/12704 [02:22<00:00, 89.15it/s, train_loss=2.830, val_loss=2.760]\u001b[A\n",
      "Epoch 31: 100%|█████████████████████████████████████████████████| 12704/12704 [02:21<00:00, 89.57it/s, train_loss=2.830, val_loss=2.760]\u001b[A\n",
      "Epoch 32: 100%|█████████████████████████████████████████████████| 12704/12704 [02:23<00:00, 88.80it/s, train_loss=2.830, val_loss=2.760]\u001b[A\n",
      "Epoch 33: 100%|█████████████████████████████████████████████████| 12704/12704 [02:24<00:00, 87.96it/s, train_loss=2.830, val_loss=2.760]\u001b[A\n",
      "Epoch 34: 100%|█████████████████████████████████████████████████| 12704/12704 [02:22<00:00, 89.40it/s, train_loss=2.830, val_loss=2.770]\u001b[A\n",
      "Epoch 35: 100%|█████████████████████████████████████████████████| 12704/12704 [02:23<00:00, 88.75it/s, train_loss=2.830, val_loss=2.760]\u001b[A\n",
      "Epoch 36: 100%|█████████████████████████████████████████████████| 12704/12704 [02:24<00:00, 88.18it/s, train_loss=2.830, val_loss=2.760]\u001b[A\n",
      "Epoch 37: 100%|█████████████████████████████████████████████████| 12704/12704 [02:21<00:00, 89.47it/s, train_loss=2.830, val_loss=2.760]\u001b[A\n",
      "Epoch 38: 100%|█████████████████████████████████████████████████| 12704/12704 [02:26<00:00, 86.81it/s, train_loss=2.830, val_loss=2.760]\u001b[A\n",
      "Epoch 39: 100%|█████████████████████████████████████████████████| 12704/12704 [02:21<00:00, 90.10it/s, train_loss=2.830, val_loss=2.760]\u001b[A\n",
      "Epoch 40: 100%|█████████████████████████████████████████████████| 12704/12704 [02:21<00:00, 90.05it/s, train_loss=2.830, val_loss=2.760]\u001b[A\n",
      "Epoch 41: 100%|█████████████████████████████████████████████████| 12704/12704 [02:22<00:00, 88.95it/s, train_loss=2.830, val_loss=2.750]\u001b[A\n",
      "Epoch 42: 100%|█████████████████████████████████████████████████| 12704/12704 [02:22<00:00, 89.30it/s, train_loss=2.830, val_loss=2.760]\u001b[A\n",
      "Epoch 43: 100%|█████████████████████████████████████████████████| 12704/12704 [02:22<00:00, 88.90it/s, train_loss=2.830, val_loss=2.760]\u001b[A\n",
      "Epoch 44: 100%|█████████████████████████████████████████████████| 12704/12704 [02:22<00:00, 89.06it/s, train_loss=2.830, val_loss=2.750]\u001b[A\n",
      "Epoch 45: 100%|█████████████████████████████████████████████████| 12704/12704 [02:21<00:00, 89.84it/s, train_loss=2.830, val_loss=2.750]\u001b[A\n",
      "Epoch 46: 100%|█████████████████████████████████████████████████| 12704/12704 [02:23<00:00, 88.62it/s, train_loss=2.830, val_loss=2.760]\u001b[A\n",
      "Epoch 47: 100%|█████████████████████████████████████████████████| 12704/12704 [02:23<00:00, 88.43it/s, train_loss=2.830, val_loss=2.750]\u001b[A\n",
      "Epoch 48: 100%|█████████████████████████████████████████████████| 12704/12704 [02:21<00:00, 89.75it/s, train_loss=2.830, val_loss=2.750]\u001b[A\n",
      "Epoch 49: 100%|█████████████████████████████████████████████████| 12704/12704 [02:23<00:00, 88.60it/s, train_loss=2.830, val_loss=2.750]\u001b[A\n",
      "Epoch 50: 100%|█████████████████████████████████████████████████| 12704/12704 [02:21<00:00, 89.51it/s, train_loss=2.830, val_loss=2.750]\u001b[A\n",
      "Epoch 51: 100%|█████████████████████████████████████████████████| 12704/12704 [02:22<00:00, 88.88it/s, train_loss=2.830, val_loss=2.750]\u001b[A\n",
      "Epoch 52: 100%|█████████████████████████████████████████████████| 12704/12704 [02:21<00:00, 89.93it/s, train_loss=2.830, val_loss=2.750]\u001b[A\n",
      "Epoch 53: 100%|█████████████████████████████████████████████████| 12704/12704 [02:22<00:00, 88.99it/s, train_loss=2.830, val_loss=2.750]\u001b[A\n",
      "Epoch 54: 100%|█████████████████████████████████████████████████| 12704/12704 [02:21<00:00, 89.72it/s, train_loss=2.830, val_loss=2.750]\u001b[A\n",
      "Epoch 55: 100%|█████████████████████████████████████████████████| 12704/12704 [02:22<00:00, 88.86it/s, train_loss=2.830, val_loss=2.750]\u001b[A\n",
      "Epoch 56: 100%|█████████████████████████████████████████████████| 12704/12704 [02:21<00:00, 89.75it/s, train_loss=2.830, val_loss=2.750]\u001b[A\n",
      "Epoch 57: 100%|█████████████████████████████████████████████████| 12704/12704 [02:20<00:00, 90.39it/s, train_loss=2.820, val_loss=2.750]\u001b[A\n",
      "Epoch 58: 100%|█████████████████████████████████████████████████| 12704/12704 [02:21<00:00, 90.04it/s, train_loss=2.820, val_loss=2.750]\u001b[A\n",
      "Epoch 59: 100%|█████████████████████████████████████████████████| 12704/12704 [02:23<00:00, 88.56it/s, train_loss=2.820, val_loss=2.750]\u001b[A\n",
      "Epoch 60: 100%|█████████████████████████████████████████████████| 12704/12704 [02:21<00:00, 89.64it/s, train_loss=2.820, val_loss=2.750]\u001b[A\n",
      "Epoch 61: 100%|█████████████████████████████████████████████████| 12704/12704 [02:24<00:00, 88.22it/s, train_loss=2.820, val_loss=2.750]\u001b[A\n",
      "Epoch 62: 100%|█████████████████████████████████████████████████| 12704/12704 [02:26<00:00, 86.85it/s, train_loss=2.820, val_loss=2.750]\u001b[A\n",
      "Epoch 63: 100%|█████████████████████████████████████████████████| 12704/12704 [02:23<00:00, 88.73it/s, train_loss=2.820, val_loss=2.750]\u001b[A\n",
      "Epoch 64: 100%|█████████████████████████████████████████████████| 12704/12704 [02:24<00:00, 87.85it/s, train_loss=2.820, val_loss=2.750]\u001b[A\n",
      "Epoch 65: 100%|█████████████████████████████████████████████████| 12704/12704 [02:25<00:00, 87.13it/s, train_loss=2.820, val_loss=2.750]\u001b[A\n",
      "Epoch 66: 100%|█████████████████████████████████████████████████| 12704/12704 [02:23<00:00, 88.58it/s, train_loss=2.820, val_loss=2.750]\u001b[A\n",
      "Epoch 67: 100%|█████████████████████████████████████████████████| 12704/12704 [02:22<00:00, 88.87it/s, train_loss=2.820, val_loss=2.750]\u001b[A\n",
      "Epoch 68: 100%|█████████████████████████████████████████████████| 12704/12704 [02:21<00:00, 89.89it/s, train_loss=2.820, val_loss=2.750]\u001b[A\n",
      "Epoch 69: 100%|█████████████████████████████████████████████████| 12704/12704 [02:23<00:00, 88.32it/s, train_loss=2.820, val_loss=2.750]\u001b[A\n",
      "Epoch 70: 100%|█████████████████████████████████████████████████| 12704/12704 [02:24<00:00, 87.93it/s, train_loss=2.820, val_loss=2.750]\u001b[A\n",
      "Epoch 71: 100%|█████████████████████████████████████████████████| 12704/12704 [02:24<00:00, 88.00it/s, train_loss=2.820, val_loss=2.750]\u001b[A\n",
      "Epoch 72: 100%|█████████████████████████████████████████████████| 12704/12704 [02:24<00:00, 87.77it/s, train_loss=2.820, val_loss=2.750]\u001b[A\n",
      "Epoch 73: 100%|█████████████████████████████████████████████████| 12704/12704 [02:25<00:00, 87.46it/s, train_loss=2.820, val_loss=2.750]\u001b[A\n",
      "Epoch 74: 100%|█████████████████████████████████████████████████| 12704/12704 [02:24<00:00, 87.78it/s, train_loss=2.820, val_loss=2.750]\u001b[A\n",
      "Epoch 75: 100%|█████████████████████████████████████████████████| 12704/12704 [02:20<00:00, 90.33it/s, train_loss=2.820, val_loss=2.750]\u001b[A\n",
      "Epoch 76: 100%|█████████████████████████████████████████████████| 12704/12704 [02:23<00:00, 88.76it/s, train_loss=2.820, val_loss=2.750]\u001b[A\n",
      "Epoch 77: 100%|█████████████████████████████████████████████████| 12704/12704 [02:22<00:00, 89.37it/s, train_loss=2.820, val_loss=2.750]\u001b[A\n",
      "Epoch 78: 100%|█████████████████████████████████████████████████| 12704/12704 [02:21<00:00, 89.58it/s, train_loss=2.820, val_loss=2.750]\u001b[A\n",
      "Epoch 79: 100%|█████████████████████████████████████████████████| 12704/12704 [02:24<00:00, 88.01it/s, train_loss=2.820, val_loss=2.750]\u001b[A\n",
      "Epoch 80: 100%|█████████████████████████████████████████████████| 12704/12704 [02:21<00:00, 90.02it/s, train_loss=2.820, val_loss=2.750]\u001b[A\n",
      "Epoch 81: 100%|█████████████████████████████████████████████████| 12704/12704 [02:22<00:00, 89.16it/s, train_loss=2.820, val_loss=2.750]\u001b[A\n",
      "Epoch 82: 100%|█████████████████████████████████████████████████| 12704/12704 [02:22<00:00, 89.00it/s, train_loss=2.820, val_loss=2.750]\u001b[A\n",
      "Epoch 83: 100%|█████████████████████████████████████████████████| 12704/12704 [02:20<00:00, 90.21it/s, train_loss=2.820, val_loss=2.750]\u001b[A\n",
      "Epoch 84: 100%|█████████████████████████████████████████████████| 12704/12704 [02:22<00:00, 89.41it/s, train_loss=2.820, val_loss=2.750]\u001b[A\n",
      "Epoch 85: 100%|█████████████████████████████████████████████████| 12704/12704 [02:21<00:00, 89.83it/s, train_loss=2.820, val_loss=2.750]\u001b[A\n",
      "Epoch 86: 100%|█████████████████████████████████████████████████| 12704/12704 [02:20<00:00, 90.70it/s, train_loss=2.820, val_loss=2.750]\u001b[A\n",
      "Epoch 87: 100%|█████████████████████████████████████████████████| 12704/12704 [02:20<00:00, 90.63it/s, train_loss=2.820, val_loss=2.750]\u001b[A\n",
      "Epoch 88: 100%|█████████████████████████████████████████████████| 12704/12704 [02:14<00:00, 94.47it/s, train_loss=2.820, val_loss=2.750]\u001b[A\n",
      "Epoch 89: 100%|█████████████████████████████████████████████████| 12704/12704 [02:19<00:00, 91.00it/s, train_loss=2.820, val_loss=2.750]\u001b[A\n",
      "Epoch 90: 100%|█████████████████████████████████████████████████| 12704/12704 [02:18<00:00, 91.73it/s, train_loss=2.820, val_loss=2.750]\u001b[A\n",
      "Epoch 91: 100%|█████████████████████████████████████████████████| 12704/12704 [02:15<00:00, 93.75it/s, train_loss=2.820, val_loss=2.750]\u001b[A\n",
      "Epoch 92: 100%|█████████████████████████████████████████████████| 12704/12704 [02:13<00:00, 95.47it/s, train_loss=2.820, val_loss=2.750]\u001b[A\n",
      "Epoch 93: 100%|█████████████████████████████████████████████████| 12704/12704 [02:18<00:00, 91.79it/s, train_loss=2.820, val_loss=2.750]\u001b[A\n",
      "Epoch 94: 100%|█████████████████████████████████████████████████| 12704/12704 [02:17<00:00, 92.56it/s, train_loss=2.820, val_loss=2.750]\u001b[A\n",
      "Epoch 95: 100%|█████████████████████████████████████████████████| 12704/12704 [02:20<00:00, 90.71it/s, train_loss=2.820, val_loss=2.750]\u001b[A\n",
      "Epoch 96: 100%|█████████████████████████████████████████████████| 12704/12704 [02:20<00:00, 90.49it/s, train_loss=2.820, val_loss=2.750]\u001b[A\n",
      "Epoch 97: 100%|█████████████████████████████████████████████████| 12704/12704 [02:17<00:00, 92.37it/s, train_loss=2.820, val_loss=2.750]\u001b[A\n",
      "Epoch 98: 100%|█████████████████████████████████████████████████| 12704/12704 [02:18<00:00, 91.87it/s, train_loss=2.820, val_loss=2.750]\u001b[A\n",
      "Epoch 99: 100%|█████████████████████████████████████████████████| 12704/12704 [02:16<00:00, 92.99it/s, train_loss=2.820, val_loss=2.750]\u001b[A\n",
      "Epoch 99: 100%|█████████████████████████████████████████████████| 12704/12704 [02:29<00:00, 84.70it/s, train_loss=2.820, val_loss=2.750]\u001b[A"
     ]
    },
    {
     "name": "stderr",
     "output_type": "stream",
     "text": [
      "`Trainer.fit` stopped: `max_epochs=100` reached.\n"
     ]
    },
    {
     "name": "stdout",
     "output_type": "stream",
     "text": [
      "Epoch 99: 100%|█████████████████████████████████████████████████| 12704/12704 [02:30<00:00, 84.69it/s, train_loss=2.820, val_loss=2.750]\n"
     ]
    },
    {
     "data": {
      "image/png": "[encoded data removed]",
      "text/plain": [
       "<Figure size 640x480 with 1 Axes>"
      ]
     },
     "metadata": {},
     "output_type": "display_data"
    },
    {
     "name": "stdout",
     "output_type": "stream",
     "text": [
      "DONE SAVING PRETRAINED MODEL\n",
      "   | Name                                         | Type                 | Params | Mode \n",
      "-----------------------------------------------------------------------------------------------\n",
      "0  | task_loss_fn                                 | MSELoss              | 0      | train\n",
      "1  | mask_loss_fn                                 | BCELoss              | 0      | train\n",
      "2  | categorical_feature_loss_fn                  | BCELoss              | 0      | train\n",
      "3  | continuous_feature_loss_fn                   | MSELoss              | 0      | train\n",
      "4  | consistency_loss_fn                          | MSELoss              | 0      | train\n",
      "5  | model                                        | VIME                 | 196 K  | train\n",
      "6  | model._VIME__encoder                         | VIMESelfSupervised   | 96.2 K | train\n",
      "7  | model._VIME__encoder.encoder                 | MLP                  | 59.2 K | train\n",
      "8  | model._VIME__encoder.encoder.linear_0        | Linear               | 18.6 K | train\n",
      "9  | model._VIME__encoder.encoder.batchnorm_0     | BatchNorm1d          | 400    | train\n",
      "10 | model._VIME__encoder.encoder.relu_0          | ReLU                 | 0      | train\n",
      "11 | model._VIME__encoder.encoder.dropout_0       | Dropout              | 0      | train\n",
      "12 | model._VIME__encoder.encoder.linear_n_layers | Linear               | 40.2 K | train\n",
      "13 | model._VIME__encoder.mask_output             | Linear               | 18.5 K | train\n",
      "14 | model._VIME__encoder.feature_output          | Linear               | 18.5 K | train\n",
      "15 | model.one_layer_prediction_head              | VIMESemiSupervised_1 | 40.4 K | train\n",
      "16 | model.one_layer_prediction_head.fc1          | Linear               | 40.2 K | train\n",
      "17 | model.one_layer_prediction_head.fc3          | Linear               | 201    | train\n",
      "18 | model.two_layer_prediction_head              | VIMESemiSupervised_2 | 60.4 K | train\n",
      "19 | model.two_layer_prediction_head.fc1          | Linear               | 40.2 K | train\n",
      "20 | model.two_layer_prediction_head.fc2          | Linear               | 20.1 K | train\n",
      "21 | model.two_layer_prediction_head.fc3          | Linear               | 101    | train\n",
      "-----------------------------------------------------------------------------------------------\n",
      "196 K     Trainable params\n",
      "0         Non-trainable params\n",
      "196 K     Total params\n",
      "0.788     Total estimated model params size (MB)\n",
      "Time to pretrain model:  15663.803432703018\n",
      "DONE PRETRAINING\n"
     ]
    }
   ],
   "source": [
    "s3l_training(pretrain=True, # if True First Phase training\n",
    "             use_pretrained_model=False, # if True Second Phase learning\n",
    "             pt_type='vime', \n",
    "             pt_folder='FP8')"
   ]
  },
  {
   "cell_type": "code",
   "execution_count": null,
   "id": "de7160f9-4db4-4688-9556-ba884a04eafb",
   "metadata": {},
   "outputs": [],
   "source": []
  },
  {
   "cell_type": "code",
   "execution_count": null,
   "id": "44a0e795-750f-45ce-9a6a-b578608c7f1f",
   "metadata": {},
   "outputs": [],
   "source": []
  }
 ],
 "metadata": {
  "kernelspec": {
   "display_name": "Python 3 (ipykernel)",
   "language": "python",
   "name": "python3"
  },
  "language_info": {
   "codemirror_mode": {
    "name": "ipython",
    "version": 3
   },
   "file_extension": ".py",
   "mimetype": "text/x-python",
   "name": "python",
   "nbconvert_exporter": "python",
   "pygments_lexer": "ipython3",
   "version": "3.8.10"
  }
 },
 "nbformat": 4,
 "nbformat_minor": 5
}
