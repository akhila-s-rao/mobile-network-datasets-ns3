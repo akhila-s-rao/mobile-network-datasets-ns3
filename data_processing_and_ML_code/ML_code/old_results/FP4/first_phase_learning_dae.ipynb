{
 "cells": [
  {
   "cell_type": "code",
   "execution_count": 1,
   "id": "8ed58de6-5ac0-4bbb-95e7-c77e64dfaf11",
   "metadata": {},
   "outputs": [],
   "source": [
    "# reload\n",
    "#%reset\n",
    "%load_ext autoreload\n",
    "%autoreload 2 \n",
    "\n",
    "import warnings\n",
    "import logging\n",
    "import os\n",
    "\n",
    "# DEBUG MODE\n",
    "os.environ['TF_CPP_MIN_LOG_LEVEL'] = '3'\n",
    "warnings.filterwarnings('ignore')\n",
    "logging.getLogger('tensorflow').setLevel(logging.FATAL)\n",
    "    \n",
    "from s3l_training import s3l_training"
   ]
  },
  {
   "cell_type": "code",
   "execution_count": 2,
   "id": "26eb320c-c17f-40dd-8264-6dcbd0933f0b",
   "metadata": {},
   "outputs": [
    {
     "name": "stdout",
     "output_type": "stream",
     "text": [
      "Run with random seed:  561\n",
      "GPU is available.\n",
      "1\n",
      "True\n",
      "12.1\n",
      "Concatenating runs:  range(1, 11)\n",
      "Time to read csv file for run:  3.1419031620025635\n",
      "Loaded run 1\n",
      "Time to read csv file for run:  3.0334601402282715\n",
      "Loaded run 2\n",
      "Time to read csv file for run:  3.190735340118408\n",
      "Loaded run 3\n",
      "Time to read csv file for run:  3.35813045501709\n",
      "Loaded run 4\n",
      "Time to read csv file for run:  3.323596954345703\n",
      "Loaded run 5\n",
      "Time to read csv file for run:  3.0525145530700684\n",
      "Loaded run 6\n",
      "Time to read csv file for run:  3.3212127685546875\n",
      "Loaded run 7\n",
      "Time to read csv file for run:  3.194218873977661\n",
      "Loaded run 8\n",
      "Time to read csv file for run:  3.189804792404175\n",
      "Loaded run 9\n",
      "Time to read csv file for run:  3.3004684448242188\n",
      "Loaded run 10\n",
      "pretrain_data, before removing rows that dont have traffic  (1799100, 102)\n",
      "pretrain_data, after removing rows that dont have traffic  (102769, 102)\n",
      "X_pretrain  (102448, 92)\n"
     ]
    },
    {
     "name": "stderr",
     "output_type": "stream",
     "text": [
      "Seed set to 42\n"
     ]
    },
    {
     "name": "stdout",
     "output_type": "stream",
     "text": [
      "HYPERPARAMETERS:  {'loss_fn': 'MSELoss', 'metric': 'r2_score', 'hidden_dim': 200, 'max_epochs': 100, 'batch_size': 128, 'optim_hparams': {'lr': 0.0001, 'weight_decay': 5e-05}, 'encoder_depth': 4, 'head_depth': 2, 'dropout_rate': 0.1, 'noise_type': 'Swap', 'noise_ratio': 0.3}\n"
     ]
    },
    {
     "name": "stderr",
     "output_type": "stream",
     "text": [
      "GPU available: True (cuda), used: True\n",
      "TPU available: False, using: 0 TPU cores\n",
      "HPU available: False, using: 0 HPUs\n",
      "LOCAL_RANK: 0 - CUDA_VISIBLE_DEVICES: [0]\n"
     ]
    },
    {
     "name": "stdout",
     "output_type": "stream",
     "text": [
      "refresh rate:  10\n"
     ]
    },
    {
     "name": "stderr",
     "output_type": "stream",
     "text": [
      "\n",
      "  | Name                     | Type    | Params | Mode \n",
      "-------------------------------------------------------------\n",
      "0 | task_loss_fn             | MSELoss | 0      | train\n",
      "1 | mask_loss_fn             | BCELoss | 0      | train\n",
      "2 | categorical_feature_loss | BCELoss | 0      | train\n",
      "3 | continuous_feature_loss  | MSELoss | 0      | train\n",
      "4 | model                    | DAE     | 295 K  | train\n",
      "-------------------------------------------------------------\n",
      "295 K     Trainable params\n",
      "0         Non-trainable params\n",
      "295 K     Total params\n",
      "1.183     Total estimated model params size (MB)\n"
     ]
    },
    {
     "name": "stdout",
     "output_type": "stream",
     "text": [
      "Epoch 0: 100%|████████████████████████████████████████████████████████████████████████████████████████████| 725/725 [00:08<00:00, 89.52it/s]\n",
      "Epoch 1: 100%|██████████████████████████████████████████████████████████| 725/725 [00:08<00:00, 83.76it/s, train_loss=1.740, val_loss=1.230]\u001b[A\n",
      "Epoch 2: 100%|██████████████████████████████████████████████████████████| 725/725 [00:08<00:00, 80.90it/s, train_loss=1.200, val_loss=1.060]\u001b[A\n",
      "Epoch 3: 100%|██████████████████████████████████████████████████████████| 725/725 [00:09<00:00, 75.98it/s, train_loss=1.090, val_loss=0.995]\u001b[A\n",
      "Epoch 4: 100%|██████████████████████████████████████████████████████████| 725/725 [00:09<00:00, 77.18it/s, train_loss=1.040, val_loss=0.966]\u001b[A\n",
      "Epoch 5: 100%|██████████████████████████████████████████████████████████| 725/725 [00:09<00:00, 74.56it/s, train_loss=1.010, val_loss=0.935]\u001b[A\n",
      "Epoch 6: 100%|██████████████████████████████████████████████████████████| 725/725 [00:09<00:00, 76.57it/s, train_loss=0.989, val_loss=0.916]\u001b[A\n",
      "Epoch 7: 100%|██████████████████████████████████████████████████████████| 725/725 [00:09<00:00, 76.48it/s, train_loss=0.975, val_loss=0.898]\u001b[A\n",
      "Epoch 8: 100%|██████████████████████████████████████████████████████████| 725/725 [00:09<00:00, 74.78it/s, train_loss=0.959, val_loss=0.906]\u001b[A\n",
      "Epoch 9: 100%|██████████████████████████████████████████████████████████| 725/725 [00:09<00:00, 75.93it/s, train_loss=0.949, val_loss=0.889]\u001b[A\n",
      "Epoch 10: 100%|█████████████████████████████████████████████████████████| 725/725 [00:09<00:00, 75.87it/s, train_loss=0.940, val_loss=0.870]\u001b[A\n",
      "Epoch 11: 100%|█████████████████████████████████████████████████████████| 725/725 [00:09<00:00, 73.66it/s, train_loss=0.934, val_loss=0.885]\u001b[A\n",
      "Epoch 12: 100%|█████████████████████████████████████████████████████████| 725/725 [00:09<00:00, 75.87it/s, train_loss=0.928, val_loss=0.869]\u001b[A\n",
      "Epoch 13: 100%|█████████████████████████████████████████████████████████| 725/725 [00:09<00:00, 77.31it/s, train_loss=0.923, val_loss=0.888]\u001b[A\n",
      "Epoch 14: 100%|█████████████████████████████████████████████████████████| 725/725 [00:09<00:00, 76.29it/s, train_loss=0.917, val_loss=0.867]\u001b[A\n",
      "Epoch 15: 100%|█████████████████████████████████████████████████████████| 725/725 [00:09<00:00, 75.14it/s, train_loss=0.913, val_loss=0.847]\u001b[A\n",
      "Epoch 16: 100%|█████████████████████████████████████████████████████████| 725/725 [00:09<00:00, 76.10it/s, train_loss=0.908, val_loss=0.869]\u001b[A\n",
      "Epoch 17: 100%|█████████████████████████████████████████████████████████| 725/725 [00:09<00:00, 76.78it/s, train_loss=0.904, val_loss=0.856]\u001b[A\n",
      "Epoch 18: 100%|█████████████████████████████████████████████████████████| 725/725 [00:09<00:00, 76.14it/s, train_loss=0.901, val_loss=0.844]\u001b[A\n",
      "Epoch 19: 100%|█████████████████████████████████████████████████████████| 725/725 [00:09<00:00, 77.12it/s, train_loss=0.898, val_loss=0.861]\u001b[A\n",
      "Epoch 20: 100%|█████████████████████████████████████████████████████████| 725/725 [00:09<00:00, 76.92it/s, train_loss=0.895, val_loss=0.843]\u001b[A\n",
      "Epoch 21: 100%|█████████████████████████████████████████████████████████| 725/725 [00:09<00:00, 76.84it/s, train_loss=0.891, val_loss=0.848]\u001b[A\n",
      "Epoch 22: 100%|█████████████████████████████████████████████████████████| 725/725 [00:09<00:00, 75.01it/s, train_loss=0.890, val_loss=0.839]\u001b[A\n",
      "Epoch 23: 100%|█████████████████████████████████████████████████████████| 725/725 [00:09<00:00, 75.81it/s, train_loss=0.888, val_loss=0.851]\u001b[A\n",
      "Epoch 24: 100%|█████████████████████████████████████████████████████████| 725/725 [00:09<00:00, 78.40it/s, train_loss=0.884, val_loss=0.855]\u001b[A\n",
      "Epoch 25: 100%|█████████████████████████████████████████████████████████| 725/725 [00:09<00:00, 77.72it/s, train_loss=0.882, val_loss=0.829]\u001b[A\n",
      "Epoch 26: 100%|█████████████████████████████████████████████████████████| 725/725 [00:09<00:00, 76.22it/s, train_loss=0.880, val_loss=0.831]\u001b[A\n",
      "Epoch 27: 100%|█████████████████████████████████████████████████████████| 725/725 [00:09<00:00, 77.62it/s, train_loss=0.879, val_loss=0.851]\u001b[A\n",
      "Epoch 28: 100%|█████████████████████████████████████████████████████████| 725/725 [00:09<00:00, 78.48it/s, train_loss=0.875, val_loss=0.833]\u001b[A\n",
      "Epoch 29: 100%|█████████████████████████████████████████████████████████| 725/725 [00:09<00:00, 75.75it/s, train_loss=0.876, val_loss=0.829]\u001b[A\n",
      "Epoch 30: 100%|█████████████████████████████████████████████████████████| 725/725 [00:09<00:00, 77.09it/s, train_loss=0.873, val_loss=0.840]\u001b[A\n",
      "Epoch 31: 100%|█████████████████████████████████████████████████████████| 725/725 [00:09<00:00, 75.71it/s, train_loss=0.872, val_loss=0.819]\u001b[A\n",
      "Epoch 32: 100%|█████████████████████████████████████████████████████████| 725/725 [00:09<00:00, 75.73it/s, train_loss=0.869, val_loss=0.843]\u001b[A\n",
      "Epoch 33: 100%|█████████████████████████████████████████████████████████| 725/725 [00:09<00:00, 78.12it/s, train_loss=0.870, val_loss=0.836]\u001b[A\n",
      "Epoch 34: 100%|█████████████████████████████████████████████████████████| 725/725 [00:09<00:00, 76.05it/s, train_loss=0.867, val_loss=0.836]\u001b[A\n",
      "Epoch 35: 100%|█████████████████████████████████████████████████████████| 725/725 [00:09<00:00, 77.61it/s, train_loss=0.868, val_loss=0.836]\u001b[A\n",
      "Epoch 36: 100%|█████████████████████████████████████████████████████████| 725/725 [00:09<00:00, 76.18it/s, train_loss=0.868, val_loss=0.839]\u001b[A\n",
      "Epoch 37: 100%|█████████████████████████████████████████████████████████| 725/725 [00:09<00:00, 75.58it/s, train_loss=0.867, val_loss=0.830]\u001b[A\n",
      "Epoch 38: 100%|█████████████████████████████████████████████████████████| 725/725 [00:09<00:00, 76.78it/s, train_loss=0.866, val_loss=0.835]\u001b[A\n",
      "Epoch 39: 100%|█████████████████████████████████████████████████████████| 725/725 [00:09<00:00, 76.66it/s, train_loss=0.864, val_loss=0.830]\u001b[A\n",
      "Epoch 40: 100%|█████████████████████████████████████████████████████████| 725/725 [00:09<00:00, 74.93it/s, train_loss=0.863, val_loss=0.825]\u001b[A\n",
      "Epoch 41: 100%|█████████████████████████████████████████████████████████| 725/725 [00:09<00:00, 75.83it/s, train_loss=0.862, val_loss=0.838]\u001b[A\n",
      "Epoch 42: 100%|█████████████████████████████████████████████████████████| 725/725 [00:09<00:00, 76.28it/s, train_loss=0.859, val_loss=0.815]\u001b[A\n",
      "Epoch 43: 100%|█████████████████████████████████████████████████████████| 725/725 [00:09<00:00, 75.21it/s, train_loss=0.861, val_loss=0.825]\u001b[A\n",
      "Epoch 44: 100%|█████████████████████████████████████████████████████████| 725/725 [00:09<00:00, 76.02it/s, train_loss=0.861, val_loss=0.815]\u001b[A\n",
      "Epoch 45: 100%|█████████████████████████████████████████████████████████| 725/725 [00:09<00:00, 76.04it/s, train_loss=0.861, val_loss=0.814]\u001b[A\n",
      "Epoch 46: 100%|█████████████████████████████████████████████████████████| 725/725 [00:09<00:00, 77.30it/s, train_loss=0.858, val_loss=0.807]\u001b[A\n",
      "Epoch 47: 100%|█████████████████████████████████████████████████████████| 725/725 [00:09<00:00, 75.94it/s, train_loss=0.857, val_loss=0.854]\u001b[A\n",
      "Epoch 48: 100%|█████████████████████████████████████████████████████████| 725/725 [00:09<00:00, 78.44it/s, train_loss=0.858, val_loss=0.860]\u001b[A\n",
      "Epoch 49: 100%|█████████████████████████████████████████████████████████| 725/725 [00:09<00:00, 77.48it/s, train_loss=0.855, val_loss=0.824]\u001b[A\n",
      "Epoch 50: 100%|█████████████████████████████████████████████████████████| 725/725 [00:09<00:00, 78.38it/s, train_loss=0.856, val_loss=0.813]\u001b[A\n",
      "Epoch 51: 100%|█████████████████████████████████████████████████████████| 725/725 [00:09<00:00, 75.24it/s, train_loss=0.854, val_loss=0.836]\u001b[A\n",
      "Epoch 52: 100%|█████████████████████████████████████████████████████████| 725/725 [00:09<00:00, 76.31it/s, train_loss=0.852, val_loss=0.874]\u001b[A\n",
      "Epoch 53: 100%|█████████████████████████████████████████████████████████| 725/725 [00:09<00:00, 76.83it/s, train_loss=0.849, val_loss=0.854]\u001b[A\n",
      "Epoch 54: 100%|█████████████████████████████████████████████████████████| 725/725 [00:09<00:00, 77.27it/s, train_loss=0.853, val_loss=0.814]\u001b[A\n",
      "Epoch 55: 100%|█████████████████████████████████████████████████████████| 725/725 [00:09<00:00, 77.71it/s, train_loss=0.856, val_loss=0.849]\u001b[A\n",
      "Epoch 56: 100%|█████████████████████████████████████████████████████████| 725/725 [00:09<00:00, 76.00it/s, train_loss=0.850, val_loss=0.869]\u001b[A\n",
      "Epoch 57: 100%|█████████████████████████████████████████████████████████| 725/725 [00:09<00:00, 76.09it/s, train_loss=0.852, val_loss=0.813]\u001b[A\n",
      "Epoch 58: 100%|█████████████████████████████████████████████████████████| 725/725 [00:09<00:00, 76.98it/s, train_loss=0.853, val_loss=0.848]\u001b[A\n",
      "Epoch 59: 100%|█████████████████████████████████████████████████████████| 725/725 [00:09<00:00, 77.33it/s, train_loss=0.847, val_loss=0.827]\u001b[A\n",
      "Epoch 60: 100%|█████████████████████████████████████████████████████████| 725/725 [00:09<00:00, 76.72it/s, train_loss=0.847, val_loss=0.798]\u001b[A\n",
      "Epoch 61: 100%|█████████████████████████████████████████████████████████| 725/725 [00:09<00:00, 76.97it/s, train_loss=0.848, val_loss=0.806]\u001b[A\n",
      "Epoch 62: 100%|█████████████████████████████████████████████████████████| 725/725 [00:09<00:00, 76.68it/s, train_loss=0.847, val_loss=0.822]\u001b[A\n",
      "Epoch 63: 100%|█████████████████████████████████████████████████████████| 725/725 [00:09<00:00, 76.20it/s, train_loss=0.847, val_loss=0.818]\u001b[A\n",
      "Epoch 64: 100%|█████████████████████████████████████████████████████████| 725/725 [00:09<00:00, 76.10it/s, train_loss=0.849, val_loss=0.814]\u001b[A\n",
      "Epoch 65: 100%|█████████████████████████████████████████████████████████| 725/725 [00:09<00:00, 75.71it/s, train_loss=0.848, val_loss=0.799]\u001b[A\n",
      "Epoch 66: 100%|█████████████████████████████████████████████████████████| 725/725 [00:09<00:00, 75.16it/s, train_loss=0.845, val_loss=0.809]\u001b[A\n",
      "Epoch 67: 100%|█████████████████████████████████████████████████████████| 725/725 [00:09<00:00, 75.34it/s, train_loss=0.844, val_loss=0.810]\u001b[A\n",
      "Epoch 68: 100%|█████████████████████████████████████████████████████████| 725/725 [00:09<00:00, 78.12it/s, train_loss=0.845, val_loss=0.847]\u001b[A\n",
      "Epoch 69: 100%|█████████████████████████████████████████████████████████| 725/725 [00:09<00:00, 75.45it/s, train_loss=0.844, val_loss=0.825]\u001b[A\n",
      "Epoch 70: 100%|█████████████████████████████████████████████████████████| 725/725 [00:09<00:00, 75.99it/s, train_loss=0.840, val_loss=0.848]\u001b[A\n",
      "Epoch 71: 100%|█████████████████████████████████████████████████████████| 725/725 [00:09<00:00, 76.62it/s, train_loss=0.841, val_loss=0.811]\u001b[A\n",
      "Epoch 72: 100%|█████████████████████████████████████████████████████████| 725/725 [00:09<00:00, 76.44it/s, train_loss=0.841, val_loss=0.807]\u001b[A\n",
      "Epoch 73: 100%|█████████████████████████████████████████████████████████| 725/725 [00:09<00:00, 77.39it/s, train_loss=0.842, val_loss=0.855]\u001b[A\n",
      "Epoch 74: 100%|█████████████████████████████████████████████████████████| 725/725 [00:09<00:00, 76.42it/s, train_loss=0.838, val_loss=0.831]\u001b[A\n",
      "Epoch 75: 100%|█████████████████████████████████████████████████████████| 725/725 [00:09<00:00, 75.32it/s, train_loss=0.837, val_loss=0.845]\u001b[A\n",
      "Epoch 76: 100%|█████████████████████████████████████████████████████████| 725/725 [00:09<00:00, 76.46it/s, train_loss=0.838, val_loss=0.816]\u001b[A\n",
      "Epoch 77: 100%|█████████████████████████████████████████████████████████| 725/725 [00:09<00:00, 76.04it/s, train_loss=0.844, val_loss=0.806]\u001b[A\n",
      "Epoch 78: 100%|█████████████████████████████████████████████████████████| 725/725 [00:08<00:00, 80.86it/s, train_loss=0.841, val_loss=0.807]\u001b[A\n",
      "Epoch 79: 100%|█████████████████████████████████████████████████████████| 725/725 [00:09<00:00, 77.11it/s, train_loss=0.838, val_loss=0.814]\u001b[A\n",
      "Epoch 80: 100%|█████████████████████████████████████████████████████████| 725/725 [00:09<00:00, 77.09it/s, train_loss=0.840, val_loss=0.801]\u001b[A\n",
      "Epoch 81: 100%|█████████████████████████████████████████████████████████| 725/725 [00:09<00:00, 76.59it/s, train_loss=0.837, val_loss=0.792]\u001b[A\n",
      "Epoch 82: 100%|█████████████████████████████████████████████████████████| 725/725 [00:09<00:00, 74.86it/s, train_loss=0.837, val_loss=0.808]\u001b[A\n",
      "Epoch 83: 100%|█████████████████████████████████████████████████████████| 725/725 [00:09<00:00, 76.55it/s, train_loss=0.837, val_loss=0.812]\u001b[A\n",
      "Epoch 84: 100%|█████████████████████████████████████████████████████████| 725/725 [00:09<00:00, 77.56it/s, train_loss=0.836, val_loss=0.829]\u001b[A\n",
      "Epoch 85: 100%|█████████████████████████████████████████████████████████| 725/725 [00:09<00:00, 74.20it/s, train_loss=0.835, val_loss=0.824]\u001b[A\n",
      "Epoch 86: 100%|█████████████████████████████████████████████████████████| 725/725 [00:09<00:00, 76.43it/s, train_loss=0.836, val_loss=0.808]\u001b[A\n",
      "Epoch 87: 100%|█████████████████████████████████████████████████████████| 725/725 [00:09<00:00, 74.51it/s, train_loss=0.837, val_loss=0.799]\u001b[A\n",
      "Epoch 88: 100%|█████████████████████████████████████████████████████████| 725/725 [00:09<00:00, 76.67it/s, train_loss=0.836, val_loss=0.795]\u001b[A\n",
      "Epoch 89: 100%|█████████████████████████████████████████████████████████| 725/725 [00:09<00:00, 77.64it/s, train_loss=0.835, val_loss=0.834]\u001b[A\n",
      "Epoch 90: 100%|█████████████████████████████████████████████████████████| 725/725 [00:09<00:00, 76.79it/s, train_loss=0.834, val_loss=0.799]\u001b[A\n",
      "Epoch 91: 100%|█████████████████████████████████████████████████████████| 725/725 [00:09<00:00, 77.51it/s, train_loss=0.836, val_loss=0.819]\u001b[A\n",
      "Epoch 92: 100%|█████████████████████████████████████████████████████████| 725/725 [00:09<00:00, 75.98it/s, train_loss=0.836, val_loss=0.803]\u001b[A\n",
      "Epoch 93: 100%|█████████████████████████████████████████████████████████| 725/725 [00:09<00:00, 75.49it/s, train_loss=0.832, val_loss=0.821]\u001b[A\n",
      "Epoch 94: 100%|█████████████████████████████████████████████████████████| 725/725 [00:09<00:00, 77.88it/s, train_loss=0.834, val_loss=0.796]\u001b[A\n",
      "Epoch 95: 100%|█████████████████████████████████████████████████████████| 725/725 [00:09<00:00, 75.07it/s, train_loss=0.832, val_loss=0.811]\u001b[A\n",
      "Epoch 96: 100%|█████████████████████████████████████████████████████████| 725/725 [00:09<00:00, 75.15it/s, train_loss=0.830, val_loss=0.824]\u001b[A\n",
      "Epoch 97: 100%|█████████████████████████████████████████████████████████| 725/725 [00:09<00:00, 77.36it/s, train_loss=0.828, val_loss=0.832]\u001b[A\n",
      "Epoch 98: 100%|█████████████████████████████████████████████████████████| 725/725 [00:09<00:00, 77.14it/s, train_loss=0.831, val_loss=0.818]\u001b[A\n",
      "Epoch 99: 100%|█████████████████████████████████████████████████████████| 725/725 [00:09<00:00, 77.18it/s, train_loss=0.834, val_loss=0.815]\u001b[A\n",
      "Epoch 99: 100%|█████████████████████████████████████████████████████████| 725/725 [00:10<00:00, 70.85it/s, train_loss=0.831, val_loss=0.801]\u001b[A"
     ]
    },
    {
     "name": "stderr",
     "output_type": "stream",
     "text": [
      "`Trainer.fit` stopped: `max_epochs=100` reached.\n"
     ]
    },
    {
     "name": "stdout",
     "output_type": "stream",
     "text": [
      "Epoch 99: 100%|█████████████████████████████████████████████████████████| 725/725 [00:10<00:00, 70.62it/s, train_loss=0.831, val_loss=0.801]\n"
     ]
    },
    {
     "data": {
      "image/png": "[encoded data removed]",
      "text/plain": [
       "<Figure size 640x480 with 1 Axes>"
      ]
     },
     "metadata": {},
     "output_type": "display_data"
    },
    {
     "name": "stdout",
     "output_type": "stream",
     "text": [
      "DONE SAVING PRETRAINED MODEL\n",
      "   | Name                                             | Type        | Params | Mode \n",
      "------------------------------------------------------------------------------------------\n",
      "0  | task_loss_fn                                     | MSELoss     | 0      | train\n",
      "1  | mask_loss_fn                                     | BCELoss     | 0      | train\n",
      "2  | categorical_feature_loss                         | BCELoss     | 0      | train\n",
      "3  | continuous_feature_loss                          | MSELoss     | 0      | train\n",
      "4  | model                                            | DAE         | 295 K  | train\n",
      "5  | model._DAE__encoder                              | MLP         | 140 K  | train\n",
      "6  | model._DAE__encoder.linear_0                     | Linear      | 18.6 K | train\n",
      "7  | model._DAE__encoder.batchnorm_0                  | BatchNorm1d | 400    | train\n",
      "8  | model._DAE__encoder.relu_0                       | ReLU        | 0      | train\n",
      "9  | model._DAE__encoder.dropout_0                    | Dropout     | 0      | train\n",
      "10 | model._DAE__encoder.linear_1                     | Linear      | 40.2 K | train\n",
      "11 | model._DAE__encoder.batchnorm_1                  | BatchNorm1d | 400    | train\n",
      "12 | model._DAE__encoder.relu_1                       | ReLU        | 0      | train\n",
      "13 | model._DAE__encoder.dropout_1                    | Dropout     | 0      | train\n",
      "14 | model._DAE__encoder.linear_2                     | Linear      | 40.2 K | train\n",
      "15 | model._DAE__encoder.batchnorm_2                  | BatchNorm1d | 400    | train\n",
      "16 | model._DAE__encoder.relu_2                       | ReLU        | 0      | train\n",
      "17 | model._DAE__encoder.dropout_2                    | Dropout     | 0      | train\n",
      "18 | model._DAE__encoder.linear_n_layers              | Linear      | 40.2 K | train\n",
      "19 | model.mask_predictor_head                        | MLP         | 27.2 K | train\n",
      "20 | model.mask_predictor_head.linear_0               | Linear      | 18.5 K | train\n",
      "21 | model.mask_predictor_head.batchnorm_0            | BatchNorm1d | 184    | train\n",
      "22 | model.mask_predictor_head.relu_0                 | ReLU        | 0      | train\n",
      "23 | model.mask_predictor_head.dropout_0              | Dropout     | 0      | train\n",
      "24 | model.mask_predictor_head.linear_n_layers        | Linear      | 8.6 K  | train\n",
      "25 | model.reconstruction_head                        | MLP         | 27.2 K | train\n",
      "26 | model.reconstruction_head.linear_0               | Linear      | 18.5 K | train\n",
      "27 | model.reconstruction_head.batchnorm_0            | BatchNorm1d | 184    | train\n",
      "28 | model.reconstruction_head.relu_0                 | ReLU        | 0      | train\n",
      "29 | model.reconstruction_head.dropout_0              | Dropout     | 0      | train\n",
      "30 | model.reconstruction_head.linear_n_layers        | Linear      | 8.6 K  | train\n",
      "31 | model.one_layer_prediction_head                  | Sequential  | 40.4 K | train\n",
      "32 | model.one_layer_prediction_head.head_linear_hid  | Linear      | 40.2 K | train\n",
      "33 | model.one_layer_prediction_head.head_activation  | ReLU        | 0      | train\n",
      "34 | model.one_layer_prediction_head.head_linear_out  | Linear      | 201    | train\n",
      "35 | model.two_layer_prediction_head                  | Sequential  | 60.4 K | train\n",
      "36 | model.two_layer_prediction_head.head_linear_hid1 | Linear      | 40.2 K | train\n",
      "37 | model.two_layer_prediction_head.head_activation1 | ReLU        | 0      | train\n",
      "38 | model.two_layer_prediction_head.head_linear_hid2 | Linear      | 20.1 K | train\n",
      "39 | model.two_layer_prediction_head.head_activation2 | ReLU        | 0      | train\n",
      "40 | model.two_layer_prediction_head.head_linear_out  | Linear      | 101    | train\n",
      "------------------------------------------------------------------------------------------\n",
      "295 K     Trainable params\n",
      "0         Non-trainable params\n",
      "295 K     Total params\n",
      "1.183     Total estimated model params size (MB)\n",
      "Time to pretrain model:  1023.1435725688934\n",
      "DONE PRETRAINING\n"
     ]
    }
   ],
   "source": [
    "s3l_training(pretrain=True, # if True First Phase training\n",
    "             use_pretrained_model=False, # if True Second Phase learning\n",
    "             pt_type='dae', \n",
    "             pt_folder='FP4')"
   ]
  },
  {
   "cell_type": "code",
   "execution_count": null,
   "id": "de7160f9-4db4-4688-9556-ba884a04eafb",
   "metadata": {},
   "outputs": [],
   "source": []
  }
 ],
 "metadata": {
  "kernelspec": {
   "display_name": "Python 3 (ipykernel)",
   "language": "python",
   "name": "python3"
  },
  "language_info": {
   "codemirror_mode": {
    "name": "ipython",
    "version": 3
   },
   "file_extension": ".py",
   "mimetype": "text/x-python",
   "name": "python",
   "nbconvert_exporter": "python",
   "pygments_lexer": "ipython3",
   "version": "3.8.10"
  }
 },
 "nbformat": 4,
 "nbformat_minor": 5
}
