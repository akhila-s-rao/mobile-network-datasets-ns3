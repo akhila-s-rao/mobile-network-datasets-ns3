{
 "cells": [
  {
   "cell_type": "code",
   "execution_count": 1,
   "id": "8ed58de6-5ac0-4bbb-95e7-c77e64dfaf11",
   "metadata": {},
   "outputs": [],
   "source": [
    "# reload\n",
    "#%reset\n",
    "%load_ext autoreload\n",
    "%autoreload 2 \n",
    "\n",
    "import warnings\n",
    "import logging\n",
    "import os\n",
    "\n",
    "# DEBUG MODE\n",
    "os.environ['TF_CPP_MIN_LOG_LEVEL'] = '3'\n",
    "warnings.filterwarnings('ignore')\n",
    "logging.getLogger('tensorflow').setLevel(logging.FATAL)\n",
    "    \n",
    "from s3l_training import s3l_training"
   ]
  },
  {
   "cell_type": "code",
   "execution_count": 2,
   "id": "26eb320c-c17f-40dd-8264-6dcbd0933f0b",
   "metadata": {},
   "outputs": [
    {
     "name": "stdout",
     "output_type": "stream",
     "text": [
      "Run with random seed:  561\n",
      "GPU is available.\n",
      "1\n",
      "True\n",
      "12.1\n",
      "Concatenating runs:  range(1, 11)\n",
      "Time to read csv file for run:  3.0914173126220703\n",
      "Loaded run 1\n",
      "Time to read csv file for run:  2.984769105911255\n",
      "Loaded run 2\n",
      "Time to read csv file for run:  3.004986047744751\n",
      "Loaded run 3\n",
      "Time to read csv file for run:  2.956943988800049\n",
      "Loaded run 4\n",
      "Time to read csv file for run:  2.9947168827056885\n",
      "Loaded run 5\n",
      "Time to read csv file for run:  2.9255239963531494\n",
      "Loaded run 6\n",
      "Time to read csv file for run:  2.981025457382202\n",
      "Loaded run 7\n",
      "Time to read csv file for run:  2.9656379222869873\n",
      "Loaded run 8\n",
      "Time to read csv file for run:  3.145258665084839\n",
      "Loaded run 9\n",
      "Time to read csv file for run:  3.224724769592285\n",
      "Loaded run 10\n",
      "pretrain_data, before removing rows that dont have traffic  (1799100, 102)\n",
      "pretrain_data, after removing rows that dont have traffic  (102769, 102)\n",
      "X_pretrain  (102448, 92)\n"
     ]
    },
    {
     "name": "stderr",
     "output_type": "stream",
     "text": [
      "Seed set to 42\n"
     ]
    },
    {
     "name": "stdout",
     "output_type": "stream",
     "text": [
      "HYPERPARAMETERS:  {'loss_fn': 'MSELoss', 'metric': 'r2_score', 'hidden_dim': 200, 'max_epochs': 100, 'batch_size': 128, 'optim_hparams': {'lr': 0.0001, 'weight_decay': 5e-05}, 'encoder_depth': 4, 'dropout_rate': 0.1, 'p_m': 0.3, 'alpha1': 2.0, 'alpha2': 2.0, 'K': 3, 'beta': 1.0}\n"
     ]
    },
    {
     "name": "stderr",
     "output_type": "stream",
     "text": [
      "GPU available: True (cuda), used: True\n",
      "TPU available: False, using: 0 TPU cores\n",
      "HPU available: False, using: 0 HPUs\n",
      "LOCAL_RANK: 0 - CUDA_VISIBLE_DEVICES: [0]\n"
     ]
    },
    {
     "name": "stdout",
     "output_type": "stream",
     "text": [
      "refresh rate:  10\n"
     ]
    },
    {
     "name": "stderr",
     "output_type": "stream",
     "text": [
      "\n",
      "  | Name                        | Type    | Params | Mode \n",
      "----------------------------------------------------------------\n",
      "0 | task_loss_fn                | MSELoss | 0      | train\n",
      "1 | mask_loss_fn                | BCELoss | 0      | train\n",
      "2 | categorical_feature_loss_fn | BCELoss | 0      | train\n",
      "3 | continuous_feature_loss_fn  | MSELoss | 0      | train\n",
      "4 | consistency_loss_fn         | MSELoss | 0      | train\n",
      "5 | model                       | VIME    | 278 K  | train\n",
      "----------------------------------------------------------------\n",
      "278 K     Trainable params\n",
      "0         Non-trainable params\n",
      "278 K     Total params\n",
      "1.113     Total estimated model params size (MB)\n"
     ]
    },
    {
     "name": "stdout",
     "output_type": "stream",
     "text": [
      "Epoch 0: 100%|████████████████████████████████████████████████████████████████████████████████████████████| 725/725 [00:11<00:00, 61.88it/s]\n",
      "Epoch 1: 100%|██████████████████████████████████████████████████████████| 725/725 [00:12<00:00, 58.38it/s, train_loss=3.610, val_loss=3.240]\u001b[A\n",
      "Epoch 2: 100%|██████████████████████████████████████████████████████████| 725/725 [00:12<00:00, 57.45it/s, train_loss=3.230, val_loss=3.150]\u001b[A\n",
      "Epoch 3: 100%|██████████████████████████████████████████████████████████| 725/725 [00:12<00:00, 58.20it/s, train_loss=3.170, val_loss=3.120]\u001b[A\n",
      "Epoch 4: 100%|██████████████████████████████████████████████████████████| 725/725 [00:12<00:00, 58.69it/s, train_loss=3.140, val_loss=3.090]\u001b[A\n",
      "Epoch 5: 100%|██████████████████████████████████████████████████████████| 725/725 [00:12<00:00, 57.81it/s, train_loss=3.120, val_loss=3.080]\u001b[A\n",
      "Epoch 6: 100%|██████████████████████████████████████████████████████████| 725/725 [00:12<00:00, 57.36it/s, train_loss=3.110, val_loss=3.070]\u001b[A\n",
      "Epoch 7: 100%|██████████████████████████████████████████████████████████| 725/725 [00:12<00:00, 57.97it/s, train_loss=3.100, val_loss=3.060]\u001b[A\n",
      "Epoch 8: 100%|██████████████████████████████████████████████████████████| 725/725 [00:12<00:00, 56.63it/s, train_loss=3.100, val_loss=3.060]\u001b[A\n",
      "Epoch 9: 100%|██████████████████████████████████████████████████████████| 725/725 [00:12<00:00, 59.07it/s, train_loss=3.090, val_loss=3.060]\u001b[A\n",
      "Epoch 10: 100%|█████████████████████████████████████████████████████████| 725/725 [00:12<00:00, 57.56it/s, train_loss=3.090, val_loss=3.050]\u001b[A\n",
      "Epoch 11: 100%|█████████████████████████████████████████████████████████| 725/725 [00:12<00:00, 57.93it/s, train_loss=3.080, val_loss=3.050]\u001b[A\n",
      "Epoch 12: 100%|█████████████████████████████████████████████████████████| 725/725 [00:12<00:00, 56.83it/s, train_loss=3.080, val_loss=3.050]\u001b[A\n",
      "Epoch 13: 100%|█████████████████████████████████████████████████████████| 725/725 [00:12<00:00, 57.71it/s, train_loss=3.080, val_loss=3.050]\u001b[A\n",
      "Epoch 14: 100%|█████████████████████████████████████████████████████████| 725/725 [00:12<00:00, 58.35it/s, train_loss=3.080, val_loss=3.040]\u001b[A\n",
      "Epoch 15: 100%|█████████████████████████████████████████████████████████| 725/725 [00:12<00:00, 57.18it/s, train_loss=3.070, val_loss=3.040]\u001b[A\n",
      "Epoch 16: 100%|█████████████████████████████████████████████████████████| 725/725 [00:12<00:00, 56.83it/s, train_loss=3.070, val_loss=3.040]\u001b[A\n",
      "Epoch 17: 100%|█████████████████████████████████████████████████████████| 725/725 [00:12<00:00, 56.93it/s, train_loss=3.070, val_loss=3.040]\u001b[A\n",
      "Epoch 18: 100%|█████████████████████████████████████████████████████████| 725/725 [00:12<00:00, 57.15it/s, train_loss=3.070, val_loss=3.040]\u001b[A\n",
      "Epoch 19: 100%|█████████████████████████████████████████████████████████| 725/725 [00:12<00:00, 58.11it/s, train_loss=3.070, val_loss=3.030]\u001b[A\n",
      "Epoch 20: 100%|█████████████████████████████████████████████████████████| 725/725 [00:12<00:00, 56.99it/s, train_loss=3.070, val_loss=3.040]\u001b[A\n",
      "Epoch 21: 100%|█████████████████████████████████████████████████████████| 725/725 [00:12<00:00, 57.78it/s, train_loss=3.060, val_loss=3.040]\u001b[A\n",
      "Epoch 22: 100%|█████████████████████████████████████████████████████████| 725/725 [00:12<00:00, 57.57it/s, train_loss=3.060, val_loss=3.030]\u001b[A\n",
      "Epoch 23: 100%|█████████████████████████████████████████████████████████| 725/725 [00:12<00:00, 57.53it/s, train_loss=3.060, val_loss=3.030]\u001b[A\n",
      "Epoch 24: 100%|█████████████████████████████████████████████████████████| 725/725 [00:12<00:00, 57.47it/s, train_loss=3.060, val_loss=3.030]\u001b[A\n",
      "Epoch 25: 100%|█████████████████████████████████████████████████████████| 725/725 [00:12<00:00, 58.18it/s, train_loss=3.060, val_loss=3.030]\u001b[A\n",
      "Epoch 26: 100%|█████████████████████████████████████████████████████████| 725/725 [00:12<00:00, 57.18it/s, train_loss=3.060, val_loss=3.030]\u001b[A\n",
      "Epoch 27: 100%|█████████████████████████████████████████████████████████| 725/725 [00:12<00:00, 56.83it/s, train_loss=3.060, val_loss=3.030]\u001b[A\n",
      "Epoch 28: 100%|█████████████████████████████████████████████████████████| 725/725 [00:12<00:00, 57.74it/s, train_loss=3.060, val_loss=3.030]\u001b[A\n",
      "Epoch 29: 100%|█████████████████████████████████████████████████████████| 725/725 [00:12<00:00, 57.60it/s, train_loss=3.060, val_loss=3.030]\u001b[A\n",
      "Epoch 30: 100%|█████████████████████████████████████████████████████████| 725/725 [00:12<00:00, 58.15it/s, train_loss=3.060, val_loss=3.030]\u001b[A\n",
      "Epoch 31: 100%|█████████████████████████████████████████████████████████| 725/725 [00:12<00:00, 57.41it/s, train_loss=3.050, val_loss=3.020]\u001b[A\n",
      "Epoch 32: 100%|█████████████████████████████████████████████████████████| 725/725 [00:12<00:00, 57.47it/s, train_loss=3.050, val_loss=3.030]\u001b[A\n",
      "Epoch 33: 100%|█████████████████████████████████████████████████████████| 725/725 [00:12<00:00, 57.00it/s, train_loss=3.050, val_loss=3.020]\u001b[A\n",
      "Epoch 34: 100%|█████████████████████████████████████████████████████████| 725/725 [00:12<00:00, 57.09it/s, train_loss=3.050, val_loss=3.030]\u001b[A\n",
      "Epoch 35: 100%|█████████████████████████████████████████████████████████| 725/725 [00:12<00:00, 57.87it/s, train_loss=3.050, val_loss=3.020]\u001b[A\n",
      "Epoch 36: 100%|█████████████████████████████████████████████████████████| 725/725 [00:12<00:00, 58.17it/s, train_loss=3.050, val_loss=3.020]\u001b[A\n",
      "Epoch 37: 100%|█████████████████████████████████████████████████████████| 725/725 [00:12<00:00, 57.89it/s, train_loss=3.050, val_loss=3.020]\u001b[A\n",
      "Epoch 38: 100%|█████████████████████████████████████████████████████████| 725/725 [00:12<00:00, 56.99it/s, train_loss=3.050, val_loss=3.020]\u001b[A\n",
      "Epoch 39: 100%|█████████████████████████████████████████████████████████| 725/725 [00:12<00:00, 58.01it/s, train_loss=3.050, val_loss=3.020]\u001b[A\n",
      "Epoch 40: 100%|█████████████████████████████████████████████████████████| 725/725 [00:12<00:00, 59.35it/s, train_loss=3.050, val_loss=3.020]\u001b[A\n",
      "Epoch 41: 100%|█████████████████████████████████████████████████████████| 725/725 [00:12<00:00, 57.12it/s, train_loss=3.050, val_loss=3.020]\u001b[A\n",
      "Epoch 42: 100%|█████████████████████████████████████████████████████████| 725/725 [00:12<00:00, 58.28it/s, train_loss=3.050, val_loss=3.020]\u001b[A\n",
      "Epoch 43: 100%|█████████████████████████████████████████████████████████| 725/725 [00:12<00:00, 57.23it/s, train_loss=3.050, val_loss=3.020]\u001b[A\n",
      "Epoch 44: 100%|█████████████████████████████████████████████████████████| 725/725 [00:12<00:00, 57.81it/s, train_loss=3.050, val_loss=3.020]\u001b[A\n",
      "Epoch 45: 100%|█████████████████████████████████████████████████████████| 725/725 [00:12<00:00, 58.27it/s, train_loss=3.050, val_loss=3.010]\u001b[A\n",
      "Epoch 46: 100%|█████████████████████████████████████████████████████████| 725/725 [00:12<00:00, 58.59it/s, train_loss=3.050, val_loss=3.020]\u001b[A\n",
      "Epoch 47: 100%|█████████████████████████████████████████████████████████| 725/725 [00:12<00:00, 57.89it/s, train_loss=3.050, val_loss=3.020]\u001b[A\n",
      "Epoch 48: 100%|█████████████████████████████████████████████████████████| 725/725 [00:12<00:00, 56.68it/s, train_loss=3.050, val_loss=3.020]\u001b[A\n",
      "Epoch 49: 100%|█████████████████████████████████████████████████████████| 725/725 [00:12<00:00, 56.80it/s, train_loss=3.050, val_loss=3.020]\u001b[A\n",
      "Epoch 50: 100%|█████████████████████████████████████████████████████████| 725/725 [00:12<00:00, 58.68it/s, train_loss=3.050, val_loss=3.010]\u001b[A\n",
      "Epoch 51: 100%|█████████████████████████████████████████████████████████| 725/725 [00:12<00:00, 57.18it/s, train_loss=3.040, val_loss=3.010]\u001b[A\n",
      "Epoch 52: 100%|█████████████████████████████████████████████████████████| 725/725 [00:12<00:00, 57.87it/s, train_loss=3.040, val_loss=3.010]\u001b[A\n",
      "Epoch 53: 100%|█████████████████████████████████████████████████████████| 725/725 [00:12<00:00, 57.42it/s, train_loss=3.040, val_loss=3.020]\u001b[A\n",
      "Epoch 54: 100%|█████████████████████████████████████████████████████████| 725/725 [00:12<00:00, 57.23it/s, train_loss=3.040, val_loss=3.010]\u001b[A\n",
      "Epoch 55: 100%|█████████████████████████████████████████████████████████| 725/725 [00:12<00:00, 57.28it/s, train_loss=3.040, val_loss=3.010]\u001b[A\n",
      "Epoch 56: 100%|█████████████████████████████████████████████████████████| 725/725 [00:12<00:00, 58.66it/s, train_loss=3.040, val_loss=3.010]\u001b[A\n",
      "Epoch 57: 100%|█████████████████████████████████████████████████████████| 725/725 [00:12<00:00, 57.18it/s, train_loss=3.040, val_loss=3.010]\u001b[A\n",
      "Epoch 58: 100%|█████████████████████████████████████████████████████████| 725/725 [00:12<00:00, 58.11it/s, train_loss=3.040, val_loss=3.010]\u001b[A\n",
      "Epoch 59: 100%|█████████████████████████████████████████████████████████| 725/725 [00:12<00:00, 56.96it/s, train_loss=3.040, val_loss=3.010]\u001b[A\n",
      "Epoch 60: 100%|█████████████████████████████████████████████████████████| 725/725 [00:12<00:00, 57.17it/s, train_loss=3.040, val_loss=3.010]\u001b[A\n",
      "Epoch 61: 100%|█████████████████████████████████████████████████████████| 725/725 [00:13<00:00, 55.38it/s, train_loss=3.040, val_loss=3.010]\u001b[A\n",
      "Epoch 62: 100%|█████████████████████████████████████████████████████████| 725/725 [00:12<00:00, 57.28it/s, train_loss=3.040, val_loss=3.010]\u001b[A\n",
      "Epoch 63: 100%|█████████████████████████████████████████████████████████| 725/725 [00:12<00:00, 57.38it/s, train_loss=3.040, val_loss=3.010]\u001b[A\n",
      "Epoch 64: 100%|█████████████████████████████████████████████████████████| 725/725 [00:12<00:00, 56.82it/s, train_loss=3.040, val_loss=3.010]\u001b[A\n",
      "Epoch 65: 100%|█████████████████████████████████████████████████████████| 725/725 [00:12<00:00, 57.22it/s, train_loss=3.040, val_loss=3.010]\u001b[A\n",
      "Epoch 66: 100%|█████████████████████████████████████████████████████████| 725/725 [00:12<00:00, 58.49it/s, train_loss=3.040, val_loss=3.010]\u001b[A\n",
      "Epoch 67: 100%|█████████████████████████████████████████████████████████| 725/725 [00:12<00:00, 56.51it/s, train_loss=3.040, val_loss=3.010]\u001b[A\n",
      "Epoch 68: 100%|█████████████████████████████████████████████████████████| 725/725 [00:12<00:00, 57.90it/s, train_loss=3.040, val_loss=3.010]\u001b[A\n",
      "Epoch 69: 100%|█████████████████████████████████████████████████████████| 725/725 [00:12<00:00, 56.83it/s, train_loss=3.040, val_loss=3.010]\u001b[A\n",
      "Epoch 70: 100%|█████████████████████████████████████████████████████████| 725/725 [00:12<00:00, 57.97it/s, train_loss=3.040, val_loss=3.010]\u001b[A\n",
      "Epoch 71: 100%|█████████████████████████████████████████████████████████| 725/725 [00:12<00:00, 57.60it/s, train_loss=3.040, val_loss=3.010]\u001b[A\n",
      "Epoch 72: 100%|█████████████████████████████████████████████████████████| 725/725 [00:12<00:00, 58.69it/s, train_loss=3.040, val_loss=3.010]\u001b[A\n",
      "Epoch 73: 100%|█████████████████████████████████████████████████████████| 725/725 [00:12<00:00, 58.33it/s, train_loss=3.040, val_loss=3.010]\u001b[A\n",
      "Epoch 74: 100%|█████████████████████████████████████████████████████████| 725/725 [00:11<00:00, 60.45it/s, train_loss=3.040, val_loss=3.010]\u001b[A\n",
      "Epoch 75: 100%|█████████████████████████████████████████████████████████| 725/725 [00:11<00:00, 60.78it/s, train_loss=3.040, val_loss=3.010]\u001b[A\n",
      "Epoch 76: 100%|█████████████████████████████████████████████████████████| 725/725 [00:11<00:00, 60.71it/s, train_loss=3.040, val_loss=3.010]\u001b[A\n",
      "Epoch 77: 100%|█████████████████████████████████████████████████████████| 725/725 [00:12<00:00, 58.41it/s, train_loss=3.030, val_loss=3.010]\u001b[A\n",
      "Epoch 78: 100%|█████████████████████████████████████████████████████████| 725/725 [00:12<00:00, 58.35it/s, train_loss=3.030, val_loss=3.000]\u001b[A\n",
      "Epoch 79: 100%|█████████████████████████████████████████████████████████| 725/725 [00:12<00:00, 58.66it/s, train_loss=3.030, val_loss=3.010]\u001b[A\n",
      "Epoch 80: 100%|█████████████████████████████████████████████████████████| 725/725 [00:12<00:00, 59.88it/s, train_loss=3.030, val_loss=3.000]\u001b[A\n",
      "Epoch 81: 100%|█████████████████████████████████████████████████████████| 725/725 [00:12<00:00, 60.08it/s, train_loss=3.030, val_loss=3.010]\u001b[A\n",
      "Epoch 82: 100%|█████████████████████████████████████████████████████████| 725/725 [00:11<00:00, 60.76it/s, train_loss=3.030, val_loss=3.000]\u001b[A\n",
      "Epoch 83: 100%|█████████████████████████████████████████████████████████| 725/725 [00:12<00:00, 59.79it/s, train_loss=3.030, val_loss=3.010]\u001b[A\n",
      "Epoch 84: 100%|█████████████████████████████████████████████████████████| 725/725 [00:11<00:00, 61.60it/s, train_loss=3.030, val_loss=3.000]\u001b[A\n",
      "Epoch 85: 100%|█████████████████████████████████████████████████████████| 725/725 [00:12<00:00, 59.95it/s, train_loss=3.030, val_loss=3.000]\u001b[A\n",
      "Epoch 86: 100%|█████████████████████████████████████████████████████████| 725/725 [00:11<00:00, 61.64it/s, train_loss=3.030, val_loss=3.000]\u001b[A\n",
      "Epoch 87: 100%|█████████████████████████████████████████████████████████| 725/725 [00:11<00:00, 65.19it/s, train_loss=3.030, val_loss=3.000]\u001b[A\n",
      "Epoch 88: 100%|█████████████████████████████████████████████████████████| 725/725 [00:11<00:00, 64.53it/s, train_loss=3.030, val_loss=3.000]\u001b[A\n",
      "Epoch 89: 100%|█████████████████████████████████████████████████████████| 725/725 [00:11<00:00, 61.06it/s, train_loss=3.030, val_loss=3.000]\u001b[A\n",
      "Epoch 90: 100%|█████████████████████████████████████████████████████████| 725/725 [00:11<00:00, 62.80it/s, train_loss=3.030, val_loss=3.010]\u001b[A\n",
      "Epoch 91: 100%|█████████████████████████████████████████████████████████| 725/725 [00:12<00:00, 60.32it/s, train_loss=3.030, val_loss=3.000]\u001b[A\n",
      "Epoch 92: 100%|█████████████████████████████████████████████████████████| 725/725 [00:11<00:00, 61.85it/s, train_loss=3.030, val_loss=3.000]\u001b[A\n",
      "Epoch 93: 100%|█████████████████████████████████████████████████████████| 725/725 [00:12<00:00, 59.56it/s, train_loss=3.030, val_loss=3.000]\u001b[A\n",
      "Epoch 94: 100%|█████████████████████████████████████████████████████████| 725/725 [00:12<00:00, 60.11it/s, train_loss=3.030, val_loss=3.000]\u001b[A\n",
      "Epoch 95: 100%|█████████████████████████████████████████████████████████| 725/725 [00:11<00:00, 61.84it/s, train_loss=3.030, val_loss=3.010]\u001b[A\n",
      "Epoch 96: 100%|█████████████████████████████████████████████████████████| 725/725 [00:11<00:00, 64.95it/s, train_loss=3.030, val_loss=3.000]\u001b[A\n",
      "Epoch 97: 100%|█████████████████████████████████████████████████████████| 725/725 [00:11<00:00, 61.77it/s, train_loss=3.030, val_loss=3.000]\u001b[A\n",
      "Epoch 98: 100%|█████████████████████████████████████████████████████████| 725/725 [00:11<00:00, 61.38it/s, train_loss=3.030, val_loss=3.000]\u001b[A\n",
      "Epoch 99: 100%|█████████████████████████████████████████████████████████| 725/725 [00:11<00:00, 60.91it/s, train_loss=3.030, val_loss=3.000]\u001b[A\n",
      "Epoch 99: 100%|█████████████████████████████████████████████████████████| 725/725 [00:13<00:00, 55.59it/s, train_loss=3.030, val_loss=3.000]\u001b[A"
     ]
    },
    {
     "name": "stderr",
     "output_type": "stream",
     "text": [
      "`Trainer.fit` stopped: `max_epochs=100` reached.\n"
     ]
    },
    {
     "name": "stdout",
     "output_type": "stream",
     "text": [
      "Epoch 99: 100%|█████████████████████████████████████████████████████████| 725/725 [00:13<00:00, 55.50it/s, train_loss=3.030, val_loss=3.000]\n"
     ]
    },
    {
     "data": {
      "image/png": "[encoded data removed]",
      "text/plain": [
       "<Figure size 640x480 with 1 Axes>"
      ]
     },
     "metadata": {},
     "output_type": "display_data"
    },
    {
     "name": "stdout",
     "output_type": "stream",
     "text": [
      "DONE SAVING PRETRAINED MODEL\n",
      "   | Name                                         | Type                 | Params | Mode \n",
      "-----------------------------------------------------------------------------------------------\n",
      "0  | task_loss_fn                                 | MSELoss              | 0      | train\n",
      "1  | mask_loss_fn                                 | BCELoss              | 0      | train\n",
      "2  | categorical_feature_loss_fn                  | BCELoss              | 0      | train\n",
      "3  | continuous_feature_loss_fn                   | MSELoss              | 0      | train\n",
      "4  | consistency_loss_fn                          | MSELoss              | 0      | train\n",
      "5  | model                                        | VIME                 | 278 K  | train\n",
      "6  | model._VIME__encoder                         | VIMESelfSupervised   | 177 K  | train\n",
      "7  | model._VIME__encoder.encoder                 | MLP                  | 140 K  | train\n",
      "8  | model._VIME__encoder.encoder.linear_0        | Linear               | 18.6 K | train\n",
      "9  | model._VIME__encoder.encoder.batchnorm_0     | BatchNorm1d          | 400    | train\n",
      "10 | model._VIME__encoder.encoder.relu_0          | ReLU                 | 0      | train\n",
      "11 | model._VIME__encoder.encoder.dropout_0       | Dropout              | 0      | train\n",
      "12 | model._VIME__encoder.encoder.linear_1        | Linear               | 40.2 K | train\n",
      "13 | model._VIME__encoder.encoder.batchnorm_1     | BatchNorm1d          | 400    | train\n",
      "14 | model._VIME__encoder.encoder.relu_1          | ReLU                 | 0      | train\n",
      "15 | model._VIME__encoder.encoder.dropout_1       | Dropout              | 0      | train\n",
      "16 | model._VIME__encoder.encoder.linear_2        | Linear               | 40.2 K | train\n",
      "17 | model._VIME__encoder.encoder.batchnorm_2     | BatchNorm1d          | 400    | train\n",
      "18 | model._VIME__encoder.encoder.relu_2          | ReLU                 | 0      | train\n",
      "19 | model._VIME__encoder.encoder.dropout_2       | Dropout              | 0      | train\n",
      "20 | model._VIME__encoder.encoder.linear_n_layers | Linear               | 40.2 K | train\n",
      "21 | model._VIME__encoder.mask_output             | Linear               | 18.5 K | train\n",
      "22 | model._VIME__encoder.feature_output          | Linear               | 18.5 K | train\n",
      "23 | model.one_layer_prediction_head              | VIMESemiSupervised_1 | 40.4 K | train\n",
      "24 | model.one_layer_prediction_head.fc1          | Linear               | 40.2 K | train\n",
      "25 | model.one_layer_prediction_head.fc3          | Linear               | 201    | train\n",
      "26 | model.two_layer_prediction_head              | VIMESemiSupervised_2 | 60.4 K | train\n",
      "27 | model.two_layer_prediction_head.fc1          | Linear               | 40.2 K | train\n",
      "28 | model.two_layer_prediction_head.fc2          | Linear               | 20.1 K | train\n",
      "29 | model.two_layer_prediction_head.fc3          | Linear               | 101    | train\n",
      "-----------------------------------------------------------------------------------------------\n",
      "278 K     Trainable params\n",
      "0         Non-trainable params\n",
      "278 K     Total params\n",
      "1.113     Total estimated model params size (MB)\n",
      "Time to pretrain model:  1358.480376958847\n",
      "DONE PRETRAINING\n"
     ]
    }
   ],
   "source": [
    "s3l_training(pretrain=True, # if True First Phase training\n",
    "             use_pretrained_model=False, # if True Second Phase learning\n",
    "             pt_type='vime', \n",
    "             pt_folder='FP4')"
   ]
  },
  {
   "cell_type": "code",
   "execution_count": null,
   "id": "de7160f9-4db4-4688-9556-ba884a04eafb",
   "metadata": {},
   "outputs": [],
   "source": []
  },
  {
   "cell_type": "code",
   "execution_count": null,
   "id": "44a0e795-750f-45ce-9a6a-b578608c7f1f",
   "metadata": {},
   "outputs": [],
   "source": []
  }
 ],
 "metadata": {
  "kernelspec": {
   "display_name": "Python 3 (ipykernel)",
   "language": "python",
   "name": "python3"
  },
  "language_info": {
   "codemirror_mode": {
    "name": "ipython",
    "version": 3
   },
   "file_extension": ".py",
   "mimetype": "text/x-python",
   "name": "python",
   "nbconvert_exporter": "python",
   "pygments_lexer": "ipython3",
   "version": "3.8.10"
  }
 },
 "nbformat": 4,
 "nbformat_minor": 5
}
