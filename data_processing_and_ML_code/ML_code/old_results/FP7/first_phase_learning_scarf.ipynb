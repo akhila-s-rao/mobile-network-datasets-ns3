{
 "cells": [
  {
   "cell_type": "code",
   "execution_count": 1,
   "id": "8ed58de6-5ac0-4bbb-95e7-c77e64dfaf11",
   "metadata": {},
   "outputs": [],
   "source": [
    "# reload\n",
    "#%reset\n",
    "%load_ext autoreload\n",
    "%autoreload 2 \n",
    "\n",
    "import warnings\n",
    "import logging\n",
    "import os\n",
    "\n",
    "# DEBUG MODE\n",
    "os.environ['TF_CPP_MIN_LOG_LEVEL'] = '3'\n",
    "warnings.filterwarnings('ignore')\n",
    "logging.getLogger('tensorflow').setLevel(logging.FATAL)\n",
    "    \n",
    "from s3l_training import s3l_training"
   ]
  },
  {
   "cell_type": "code",
   "execution_count": 2,
   "id": "26eb320c-c17f-40dd-8264-6dcbd0933f0b",
   "metadata": {},
   "outputs": [
    {
     "name": "stdout",
     "output_type": "stream",
     "text": [
      "Run with random seed:  561\n",
      "GPU is available.\n",
      "1\n",
      "True\n",
      "12.1\n",
      "Concatenating runs:  range(1, 11)\n",
      "Time to read csv file for run:  3.0195300579071045\n",
      "Loaded run 1\n",
      "Time to read csv file for run:  2.9143033027648926\n",
      "Loaded run 2\n",
      "Time to read csv file for run:  2.9065303802490234\n",
      "Loaded run 3\n",
      "Time to read csv file for run:  2.9183108806610107\n",
      "Loaded run 4\n",
      "Time to read csv file for run:  2.9135994911193848\n",
      "Loaded run 5\n",
      "Time to read csv file for run:  2.9010820388793945\n",
      "Loaded run 6\n",
      "Time to read csv file for run:  2.9333672523498535\n",
      "Loaded run 7\n",
      "Time to read csv file for run:  2.924891948699951\n",
      "Loaded run 8\n",
      "Time to read csv file for run:  2.9184250831604004\n",
      "Loaded run 9\n",
      "Time to read csv file for run:  2.8835434913635254\n",
      "Loaded run 10\n",
      "pretrain_data, before removing rows that dont have traffic  (1799100, 102)\n",
      "pretrain_data, after removing rows that dont have traffic  (1799100, 102)\n",
      "X_pretrain  (1796746, 92)\n"
     ]
    },
    {
     "name": "stderr",
     "output_type": "stream",
     "text": [
      "Seed set to 42\n"
     ]
    },
    {
     "name": "stdout",
     "output_type": "stream",
     "text": [
      "HYPERPARAMETERS:  {'loss_fn': 'MSELoss', 'metric': 'r2_score', 'hidden_dim': 300, 'max_epochs': 100, 'batch_size': 128, 'optim_hparams': {'lr': 0.0001, 'weight_decay': 5e-05}, 'encoder_depth': 4, 'head_depth': 2, 'dropout_rate': 0.1, 'corruption_rate': 0.3}\n"
     ]
    },
    {
     "name": "stderr",
     "output_type": "stream",
     "text": [
      "GPU available: True (cuda), used: True\n",
      "TPU available: False, using: 0 TPU cores\n",
      "HPU available: False, using: 0 HPUs\n",
      "LOCAL_RANK: 0 - CUDA_VISIBLE_DEVICES: [0]\n"
     ]
    },
    {
     "name": "stdout",
     "output_type": "stream",
     "text": [
      "refresh rate:  10\n"
     ]
    },
    {
     "name": "stderr",
     "output_type": "stream",
     "text": [
      "\n",
      "  | Name             | Type       | Params | Mode \n",
      "--------------------------------------------------------\n",
      "0 | task_loss_fn     | MSELoss    | 0      | train\n",
      "1 | contrastive_loss | NTXentLoss | 0      | train\n",
      "2 | model            | SCARF      | 692 K  | train\n",
      "--------------------------------------------------------\n",
      "692 K     Trainable params\n",
      "0         Non-trainable params\n",
      "692 K     Total params\n",
      "2.772     Total estimated model params size (MB)\n"
     ]
    },
    {
     "name": "stdout",
     "output_type": "stream",
     "text": [
      "Epoch 0: 100%|█████████████████████████████████████████████████| 12704/12704 [03:43<00:00, 56.78it/s]\n",
      "Epoch 1: 100%|███████████████| 12704/12704 [03:48<00:00, 55.48it/s, train_loss=0.598, val_loss=0.733]\u001b[A\n",
      "Epoch 2: 100%|███████████████| 12704/12704 [03:59<00:00, 53.01it/s, train_loss=0.404, val_loss=0.545]\u001b[A\n",
      "Epoch 3: 100%|███████████████| 12704/12704 [03:59<00:00, 53.02it/s, train_loss=0.335, val_loss=0.420]\u001b[A\n",
      "Epoch 4: 100%|███████████████| 12704/12704 [03:57<00:00, 53.52it/s, train_loss=0.279, val_loss=0.345]\u001b[A\n",
      "Epoch 5: 100%|███████████████| 12704/12704 [03:52<00:00, 54.76it/s, train_loss=0.239, val_loss=0.295]\u001b[A\n",
      "Epoch 6: 100%|███████████████| 12704/12704 [03:52<00:00, 54.72it/s, train_loss=0.205, val_loss=0.247]\u001b[A\n",
      "Epoch 7: 100%|███████████████| 12704/12704 [03:51<00:00, 54.88it/s, train_loss=0.182, val_loss=0.221]\u001b[A\n",
      "Epoch 8: 100%|███████████████| 12704/12704 [03:51<00:00, 54.77it/s, train_loss=0.164, val_loss=0.204]\u001b[A\n",
      "Epoch 9: 100%|███████████████| 12704/12704 [03:51<00:00, 54.78it/s, train_loss=0.148, val_loss=0.181]\u001b[A\n",
      "Epoch 10: 100%|██████████████| 12704/12704 [03:51<00:00, 54.97it/s, train_loss=0.136, val_loss=0.168]\u001b[A\n",
      "Epoch 11: 100%|██████████████| 12704/12704 [03:52<00:00, 54.65it/s, train_loss=0.126, val_loss=0.160]\u001b[A\n",
      "Epoch 12: 100%|██████████████| 12704/12704 [03:51<00:00, 54.81it/s, train_loss=0.118, val_loss=0.149]\u001b[A\n",
      "Epoch 13: 100%|██████████████| 12704/12704 [03:51<00:00, 54.92it/s, train_loss=0.111, val_loss=0.141]\u001b[A\n",
      "Epoch 14: 100%|██████████████| 12704/12704 [03:51<00:00, 54.89it/s, train_loss=0.105, val_loss=0.136]\u001b[A\n",
      "Epoch 15: 100%|██████████████| 12704/12704 [03:51<00:00, 54.82it/s, train_loss=0.100, val_loss=0.130]\u001b[A\n",
      "Epoch 16: 100%|█████████████| 12704/12704 [03:51<00:00, 54.94it/s, train_loss=0.0954, val_loss=0.121]\u001b[A\n",
      "Epoch 17: 100%|█████████████| 12704/12704 [03:54<00:00, 54.15it/s, train_loss=0.0914, val_loss=0.118]\u001b[A\n",
      "Epoch 18: 100%|█████████████| 12704/12704 [03:52<00:00, 54.76it/s, train_loss=0.0881, val_loss=0.116]\u001b[A\n",
      "Epoch 19: 100%|█████████████| 12704/12704 [03:51<00:00, 54.92it/s, train_loss=0.0852, val_loss=0.111]\u001b[A\n",
      "Epoch 20: 100%|█████████████| 12704/12704 [03:51<00:00, 54.91it/s, train_loss=0.0826, val_loss=0.107]\u001b[A\n",
      "Epoch 21: 100%|█████████████| 12704/12704 [03:51<00:00, 54.91it/s, train_loss=0.0803, val_loss=0.105]\u001b[A\n",
      "Epoch 22: 100%|█████████████| 12704/12704 [03:51<00:00, 54.81it/s, train_loss=0.0786, val_loss=0.102]\u001b[A\n",
      "Epoch 23: 100%|████████████| 12704/12704 [03:51<00:00, 54.98it/s, train_loss=0.0767, val_loss=0.0982]\u001b[A\n",
      "Epoch 24: 100%|████████████| 12704/12704 [03:52<00:00, 54.74it/s, train_loss=0.0748, val_loss=0.0958]\u001b[A\n",
      "Epoch 25: 100%|████████████| 12704/12704 [03:51<00:00, 54.77it/s, train_loss=0.0733, val_loss=0.0955]\u001b[A\n",
      "Epoch 26: 100%|█████████████| 12704/12704 [03:53<00:00, 54.40it/s, train_loss=0.072, val_loss=0.0939]\u001b[A\n",
      "Epoch 27: 100%|████████████| 12704/12704 [03:51<00:00, 54.91it/s, train_loss=0.0707, val_loss=0.0919]\u001b[A\n",
      "Epoch 28: 100%|████████████| 12704/12704 [03:52<00:00, 54.75it/s, train_loss=0.0695, val_loss=0.0885]\u001b[A\n",
      "Epoch 29: 100%|████████████| 12704/12704 [03:52<00:00, 54.73it/s, train_loss=0.0683, val_loss=0.0869]\u001b[A\n",
      "Epoch 30: 100%|████████████| 12704/12704 [03:52<00:00, 54.72it/s, train_loss=0.0674, val_loss=0.0862]\u001b[A\n",
      "Epoch 31: 100%|████████████| 12704/12704 [03:51<00:00, 54.85it/s, train_loss=0.0664, val_loss=0.0845]\u001b[A\n",
      "Epoch 32: 100%|████████████| 12704/12704 [03:51<00:00, 54.86it/s, train_loss=0.0655, val_loss=0.0835]\u001b[A\n",
      "Epoch 33: 100%|████████████| 12704/12704 [03:51<00:00, 54.89it/s, train_loss=0.0645, val_loss=0.0857]\u001b[A\n",
      "Epoch 34: 100%|████████████| 12704/12704 [03:51<00:00, 54.96it/s, train_loss=0.0639, val_loss=0.0817]\u001b[A\n",
      "Epoch 35: 100%|████████████| 12704/12704 [03:52<00:00, 54.75it/s, train_loss=0.0632, val_loss=0.0821]\u001b[A\n",
      "Epoch 36: 100%|████████████| 12704/12704 [03:51<00:00, 54.84it/s, train_loss=0.0626, val_loss=0.0811]\u001b[A\n",
      "Epoch 37: 100%|████████████| 12704/12704 [03:52<00:00, 54.75it/s, train_loss=0.0621, val_loss=0.0804]\u001b[A\n",
      "Epoch 38: 100%|████████████| 12704/12704 [03:53<00:00, 54.48it/s, train_loss=0.0616, val_loss=0.0803]\u001b[A\n",
      "Epoch 39: 100%|████████████| 12704/12704 [03:51<00:00, 54.80it/s, train_loss=0.0609, val_loss=0.0796]\u001b[A\n",
      "Epoch 40: 100%|████████████| 12704/12704 [03:51<00:00, 54.89it/s, train_loss=0.0603, val_loss=0.0786]\u001b[A\n",
      "Epoch 41: 100%|████████████| 12704/12704 [03:52<00:00, 54.73it/s, train_loss=0.0598, val_loss=0.0762]\u001b[A\n",
      "Epoch 42: 100%|████████████| 12704/12704 [03:51<00:00, 54.88it/s, train_loss=0.0594, val_loss=0.0777]\u001b[A\n",
      "Epoch 43: 100%|█████████████| 12704/12704 [03:52<00:00, 54.65it/s, train_loss=0.059, val_loss=0.0767]\u001b[A\n",
      "Epoch 44: 100%|████████████| 12704/12704 [03:54<00:00, 54.19it/s, train_loss=0.0586, val_loss=0.0759]\u001b[A\n",
      "Epoch 45: 100%|█████████████| 12704/12704 [03:52<00:00, 54.65it/s, train_loss=0.0582, val_loss=0.074]\u001b[A\n",
      "Epoch 46: 100%|█████████████| 12704/12704 [03:51<00:00, 54.98it/s, train_loss=0.0577, val_loss=0.075]\u001b[A\n",
      "Epoch 47: 100%|████████████| 12704/12704 [03:51<00:00, 54.88it/s, train_loss=0.0574, val_loss=0.0741]\u001b[A\n",
      "Epoch 48: 100%|█████████████| 12704/12704 [03:51<00:00, 54.80it/s, train_loss=0.057, val_loss=0.0735]\u001b[A\n",
      "Epoch 49: 100%|████████████| 12704/12704 [03:51<00:00, 54.88it/s, train_loss=0.0567, val_loss=0.0731]\u001b[A\n",
      "Epoch 50: 100%|████████████| 12704/12704 [03:51<00:00, 54.93it/s, train_loss=0.0563, val_loss=0.0722]\u001b[A\n",
      "Epoch 51: 100%|█████████████| 12704/12704 [03:52<00:00, 54.65it/s, train_loss=0.056, val_loss=0.0751]\u001b[A\n",
      "Epoch 52: 100%|████████████| 12704/12704 [03:51<00:00, 54.89it/s, train_loss=0.0556, val_loss=0.0744]\u001b[A\n",
      "Epoch 53: 100%|████████████| 12704/12704 [03:51<00:00, 54.91it/s, train_loss=0.0555, val_loss=0.0715]\u001b[A\n",
      "Epoch 54: 100%|████████████| 12704/12704 [03:52<00:00, 54.64it/s, train_loss=0.0551, val_loss=0.0714]\u001b[A\n",
      "Epoch 55: 100%|████████████| 12704/12704 [03:51<00:00, 54.95it/s, train_loss=0.0548, val_loss=0.0709]\u001b[A\n",
      "Epoch 56: 100%|████████████| 12704/12704 [03:51<00:00, 54.83it/s, train_loss=0.0545, val_loss=0.0721]\u001b[A\n",
      "Epoch 57: 100%|█████████████| 12704/12704 [03:51<00:00, 54.87it/s, train_loss=0.0543, val_loss=0.071]\u001b[A\n",
      "Epoch 58: 100%|████████████| 12704/12704 [03:51<00:00, 54.94it/s, train_loss=0.0541, val_loss=0.0718]\u001b[A\n",
      "Epoch 59: 100%|████████████| 12704/12704 [03:52<00:00, 54.67it/s, train_loss=0.0538, val_loss=0.0703]\u001b[A\n",
      "Epoch 60: 100%|████████████| 12704/12704 [03:51<00:00, 54.79it/s, train_loss=0.0535, val_loss=0.0698]\u001b[A\n",
      "Epoch 61: 100%|████████████| 12704/12704 [03:29<00:00, 60.66it/s, train_loss=0.0532, val_loss=0.0703]\u001b[A\n",
      "Epoch 62: 100%|████████████| 12704/12704 [03:31<00:00, 60.11it/s, train_loss=0.0532, val_loss=0.0696]\u001b[A\n",
      "Epoch 63: 100%|█████████████| 12704/12704 [03:32<00:00, 59.69it/s, train_loss=0.053, val_loss=0.0696]\u001b[A\n",
      "Epoch 64: 100%|████████████| 12704/12704 [03:32<00:00, 59.80it/s, train_loss=0.0528, val_loss=0.0681]\u001b[A\n",
      "Epoch 65: 100%|█████████████| 12704/12704 [03:31<00:00, 60.03it/s, train_loss=0.0525, val_loss=0.068]\u001b[A\n",
      "Epoch 66: 100%|████████████| 12704/12704 [03:32<00:00, 59.76it/s, train_loss=0.0523, val_loss=0.0687]\u001b[A\n",
      "Epoch 67: 100%|████████████| 12704/12704 [03:24<00:00, 62.26it/s, train_loss=0.0522, val_loss=0.0672]\u001b[A\n",
      "Epoch 68: 100%|█████████████| 12704/12704 [03:22<00:00, 62.82it/s, train_loss=0.052, val_loss=0.0673]\u001b[A\n",
      "Epoch 69: 100%|████████████| 12704/12704 [03:19<00:00, 63.82it/s, train_loss=0.0518, val_loss=0.0681]\u001b[A\n",
      "Epoch 70: 100%|████████████| 12704/12704 [03:19<00:00, 63.53it/s, train_loss=0.0516, val_loss=0.0685]\u001b[A\n",
      "Epoch 71: 100%|████████████| 12704/12704 [03:22<00:00, 62.61it/s, train_loss=0.0513, val_loss=0.0676]\u001b[A\n",
      "Epoch 72: 100%|████████████| 12704/12704 [03:23<00:00, 62.43it/s, train_loss=0.0512, val_loss=0.0678]\u001b[A\n",
      "Epoch 73: 100%|█████████████| 12704/12704 [03:17<00:00, 64.42it/s, train_loss=0.0511, val_loss=0.068]\u001b[A\n",
      "Epoch 74: 100%|████████████| 12704/12704 [03:20<00:00, 63.36it/s, train_loss=0.0509, val_loss=0.0664]\u001b[A\n",
      "Epoch 75: 100%|████████████| 12704/12704 [03:19<00:00, 63.81it/s, train_loss=0.0507, val_loss=0.0666]\u001b[A\n",
      "Epoch 76: 100%|████████████| 12704/12704 [03:18<00:00, 63.94it/s, train_loss=0.0505, val_loss=0.0662]\u001b[A\n",
      "Epoch 77: 100%|████████████| 12704/12704 [03:19<00:00, 63.57it/s, train_loss=0.0503, val_loss=0.0665]\u001b[A\n",
      "Epoch 78: 100%|████████████| 12704/12704 [03:15<00:00, 64.87it/s, train_loss=0.0502, val_loss=0.0673]\u001b[A\n",
      "Epoch 79: 100%|████████████| 12704/12704 [03:19<00:00, 63.55it/s, train_loss=0.0502, val_loss=0.0672]\u001b[A\n",
      "Epoch 80: 100%|████████████| 12704/12704 [03:19<00:00, 63.71it/s, train_loss=0.0499, val_loss=0.0663]\u001b[A\n",
      "Epoch 81: 100%|████████████| 12704/12704 [03:16<00:00, 64.62it/s, train_loss=0.0499, val_loss=0.0669]\u001b[A\n",
      "Epoch 82: 100%|████████████| 12704/12704 [03:20<00:00, 63.37it/s, train_loss=0.0499, val_loss=0.0663]\u001b[A\n",
      "Epoch 83: 100%|████████████| 12704/12704 [03:23<00:00, 62.45it/s, train_loss=0.0496, val_loss=0.0658]\u001b[A\n",
      "Epoch 84: 100%|████████████| 12704/12704 [03:25<00:00, 61.80it/s, train_loss=0.0496, val_loss=0.0658]\u001b[A\n",
      "Epoch 85: 100%|████████████| 12704/12704 [03:24<00:00, 62.21it/s, train_loss=0.0495, val_loss=0.0655]\u001b[A\n",
      "Epoch 86: 100%|████████████| 12704/12704 [03:24<00:00, 62.04it/s, train_loss=0.0494, val_loss=0.0669]\u001b[A\n",
      "Epoch 87: 100%|████████████| 12704/12704 [03:21<00:00, 63.03it/s, train_loss=0.0492, val_loss=0.0654]\u001b[A\n",
      "Epoch 88: 100%|████████████| 12704/12704 [03:24<00:00, 62.03it/s, train_loss=0.0491, val_loss=0.0666]\u001b[A\n",
      "Epoch 89: 100%|████████████| 12704/12704 [03:25<00:00, 61.93it/s, train_loss=0.0491, val_loss=0.0654]\u001b[A\n",
      "Epoch 90: 100%|████████████| 12704/12704 [03:21<00:00, 63.11it/s, train_loss=0.0489, val_loss=0.0658]\u001b[A\n",
      "Epoch 91: 100%|████████████| 12704/12704 [03:13<00:00, 65.67it/s, train_loss=0.0488, val_loss=0.0663]\u001b[A\n",
      "Epoch 92: 100%|████████████| 12704/12704 [03:19<00:00, 63.71it/s, train_loss=0.0488, val_loss=0.0655]\u001b[A\n",
      "Epoch 93: 100%|████████████| 12704/12704 [03:25<00:00, 61.86it/s, train_loss=0.0487, val_loss=0.0646]\u001b[A\n",
      "Epoch 94: 100%|████████████| 12704/12704 [03:18<00:00, 63.94it/s, train_loss=0.0486, val_loss=0.0653]\u001b[A\n",
      "Epoch 95: 100%|████████████| 12704/12704 [03:24<00:00, 62.06it/s, train_loss=0.0485, val_loss=0.0656]\u001b[A\n",
      "Epoch 96: 100%|████████████| 12704/12704 [03:19<00:00, 63.74it/s, train_loss=0.0484, val_loss=0.0634]\u001b[A\n",
      "Epoch 97: 100%|████████████| 12704/12704 [03:21<00:00, 63.02it/s, train_loss=0.0482, val_loss=0.0651]\u001b[A\n",
      "Epoch 98: 100%|████████████| 12704/12704 [03:22<00:00, 62.81it/s, train_loss=0.0481, val_loss=0.0632]\u001b[A\n",
      "Epoch 99: 100%|█████████████| 12704/12704 [03:19<00:00, 63.60it/s, train_loss=0.0481, val_loss=0.064]\u001b[A\n",
      "Epoch 99: 100%|█████████████| 12704/12704 [03:30<00:00, 60.44it/s, train_loss=0.048, val_loss=0.0645]\u001b[A"
     ]
    },
    {
     "name": "stderr",
     "output_type": "stream",
     "text": [
      "`Trainer.fit` stopped: `max_epochs=100` reached.\n"
     ]
    },
    {
     "name": "stdout",
     "output_type": "stream",
     "text": [
      "Epoch 99: 100%|█████████████| 12704/12704 [03:30<00:00, 60.43it/s, train_loss=0.048, val_loss=0.0645]\n"
     ]
    },
    {
     "data": {
      "image/png": "[encoded data removed]",
      "text/plain": [
       "<Figure size 640x480 with 1 Axes>"
      ]
     },
     "metadata": {},
     "output_type": "display_data"
    },
    {
     "name": "stdout",
     "output_type": "stream",
     "text": [
      "DONE SAVING PRETRAINED MODEL\n",
      "   | Name                                             | Type        | Params | Mode \n",
      "------------------------------------------------------------------------------------------\n",
      "0  | task_loss_fn                                     | MSELoss     | 0      | train\n",
      "1  | contrastive_loss                                 | NTXentLoss  | 0      | train\n",
      "2  | model                                            | SCARF       | 692 K  | train\n",
      "3  | model._SCARF__encoder                            | MLP         | 300 K  | train\n",
      "4  | model._SCARF__encoder.linear_0                   | Linear      | 27.9 K | train\n",
      "5  | model._SCARF__encoder.batchnorm_0                | BatchNorm1d | 600    | train\n",
      "6  | model._SCARF__encoder.relu_0                     | ReLU        | 0      | train\n",
      "7  | model._SCARF__encoder.dropout_0                  | Dropout     | 0      | train\n",
      "8  | model._SCARF__encoder.linear_1                   | Linear      | 90.3 K | train\n",
      "9  | model._SCARF__encoder.batchnorm_1                | BatchNorm1d | 600    | train\n",
      "10 | model._SCARF__encoder.relu_1                     | ReLU        | 0      | train\n",
      "11 | model._SCARF__encoder.dropout_1                  | Dropout     | 0      | train\n",
      "12 | model._SCARF__encoder.linear_2                   | Linear      | 90.3 K | train\n",
      "13 | model._SCARF__encoder.batchnorm_2                | BatchNorm1d | 600    | train\n",
      "14 | model._SCARF__encoder.relu_2                     | ReLU        | 0      | train\n",
      "15 | model._SCARF__encoder.dropout_2                  | Dropout     | 0      | train\n",
      "16 | model._SCARF__encoder.linear_n_layers            | Linear      | 90.3 K | train\n",
      "17 | model.pretraining_head                           | MLP         | 181 K  | train\n",
      "18 | model.pretraining_head.linear_0                  | Linear      | 90.3 K | train\n",
      "19 | model.pretraining_head.batchnorm_0               | BatchNorm1d | 600    | train\n",
      "20 | model.pretraining_head.relu_0                    | ReLU        | 0      | train\n",
      "21 | model.pretraining_head.dropout_0                 | Dropout     | 0      | train\n",
      "22 | model.pretraining_head.linear_n_layers           | Linear      | 90.3 K | train\n",
      "23 | model.one_layer_prediction_head                  | Sequential  | 90.6 K | train\n",
      "24 | model.one_layer_prediction_head.head_linear_hid  | Linear      | 90.3 K | train\n",
      "25 | model.one_layer_prediction_head.head_activation  | ReLU        | 0      | train\n",
      "26 | model.one_layer_prediction_head.head_linear_out  | Linear      | 301    | train\n",
      "27 | model.two_layer_prediction_head                  | Sequential  | 120 K  | train\n",
      "28 | model.two_layer_prediction_head.head_linear_hid1 | Linear      | 90.3 K | train\n",
      "29 | model.two_layer_prediction_head.head_activation1 | ReLU        | 0      | train\n",
      "30 | model.two_layer_prediction_head.head_linear_hid2 | Linear      | 30.1 K | train\n",
      "31 | model.two_layer_prediction_head.head_activation2 | ReLU        | 0      | train\n",
      "32 | model.two_layer_prediction_head.head_linear_out  | Linear      | 101    | train\n",
      "------------------------------------------------------------------------------------------\n",
      "692 K     Trainable params\n",
      "0         Non-trainable params\n",
      "692 K     Total params\n",
      "2.772     Total estimated model params size (MB)\n",
      "Time to pretrain model:  23166.67139697075\n",
      "DONE PRETRAINING\n"
     ]
    }
   ],
   "source": [
    "s3l_training(pretrain=True, # if True First Phase training\n",
    "             use_pretrained_model=False, # if True Second Phase learning\n",
    "             pt_type='scarf', \n",
    "             pt_folder='FP7')"
   ]
  },
  {
   "cell_type": "code",
   "execution_count": null,
   "id": "de7160f9-4db4-4688-9556-ba884a04eafb",
   "metadata": {},
   "outputs": [],
   "source": []
  }
 ],
 "metadata": {
  "kernelspec": {
   "display_name": "Python 3 (ipykernel)",
   "language": "python",
   "name": "python3"
  },
  "language_info": {
   "codemirror_mode": {
    "name": "ipython",
    "version": 3
   },
   "file_extension": ".py",
   "mimetype": "text/x-python",
   "name": "python",
   "nbconvert_exporter": "python",
   "pygments_lexer": "ipython3",
   "version": "3.8.10"
  }
 },
 "nbformat": 4,
 "nbformat_minor": 5
}
