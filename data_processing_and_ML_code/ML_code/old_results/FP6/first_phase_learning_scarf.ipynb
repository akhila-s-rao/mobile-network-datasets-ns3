{
 "cells": [
  {
   "cell_type": "code",
   "execution_count": 1,
   "id": "8ed58de6-5ac0-4bbb-95e7-c77e64dfaf11",
   "metadata": {},
   "outputs": [],
   "source": [
    "# reload\n",
    "#%reset\n",
    "%load_ext autoreload\n",
    "%autoreload 2 \n",
    "\n",
    "import warnings\n",
    "import logging\n",
    "import os\n",
    "\n",
    "# DEBUG MODE\n",
    "os.environ['TF_CPP_MIN_LOG_LEVEL'] = '3'\n",
    "warnings.filterwarnings('ignore')\n",
    "logging.getLogger('tensorflow').setLevel(logging.FATAL)\n",
    "    \n",
    "from s3l_training import s3l_training"
   ]
  },
  {
   "cell_type": "code",
   "execution_count": 2,
   "id": "26eb320c-c17f-40dd-8264-6dcbd0933f0b",
   "metadata": {},
   "outputs": [
    {
     "name": "stdout",
     "output_type": "stream",
     "text": [
      "Run with random seed:  561\n",
      "GPU is available.\n",
      "1\n",
      "True\n",
      "12.1\n",
      "Concatenating runs:  range(1, 11)\n",
      "Time to read csv file for run:  3.1686835289001465\n",
      "Loaded run 1\n",
      "Time to read csv file for run:  3.040606737136841\n",
      "Loaded run 2\n",
      "Time to read csv file for run:  3.176887035369873\n",
      "Loaded run 3\n",
      "Time to read csv file for run:  3.2341151237487793\n",
      "Loaded run 4\n",
      "Time to read csv file for run:  3.424386739730835\n",
      "Loaded run 5\n",
      "Time to read csv file for run:  3.206275463104248\n",
      "Loaded run 6\n",
      "Time to read csv file for run:  3.059760332107544\n",
      "Loaded run 7\n",
      "Time to read csv file for run:  3.0852911472320557\n",
      "Loaded run 8\n",
      "Time to read csv file for run:  3.215074062347412\n",
      "Loaded run 9\n",
      "Time to read csv file for run:  3.1315927505493164\n",
      "Loaded run 10\n",
      "pretrain_data, before removing rows that dont have traffic  (1799100, 102)\n",
      "pretrain_data, after removing rows that dont have traffic  (1799100, 102)\n",
      "X_pretrain  (1796746, 92)\n"
     ]
    },
    {
     "name": "stderr",
     "output_type": "stream",
     "text": [
      "Seed set to 42\n"
     ]
    },
    {
     "name": "stdout",
     "output_type": "stream",
     "text": [
      "HYPERPARAMETERS:  {'loss_fn': 'MSELoss', 'metric': 'r2_score', 'hidden_dim': 200, 'max_epochs': 100, 'batch_size': 128, 'optim_hparams': {'lr': 0.0001, 'weight_decay': 5e-05}, 'encoder_depth': 8, 'head_depth': 2, 'dropout_rate': 0.1, 'corruption_rate': 0.3}\n"
     ]
    },
    {
     "name": "stderr",
     "output_type": "stream",
     "text": [
      "GPU available: True (cuda), used: True\n",
      "TPU available: False, using: 0 TPU cores\n",
      "HPU available: False, using: 0 HPUs\n",
      "LOCAL_RANK: 0 - CUDA_VISIBLE_DEVICES: [0]\n"
     ]
    },
    {
     "name": "stdout",
     "output_type": "stream",
     "text": [
      "refresh rate:  10\n"
     ]
    },
    {
     "name": "stderr",
     "output_type": "stream",
     "text": [
      "\n",
      "  | Name             | Type       | Params | Mode \n",
      "--------------------------------------------------------\n",
      "0 | task_loss_fn     | MSELoss    | 0      | train\n",
      "1 | contrastive_loss | NTXentLoss | 0      | train\n",
      "2 | model            | SCARF      | 484 K  | train\n",
      "--------------------------------------------------------\n",
      "484 K     Trainable params\n",
      "0         Non-trainable params\n",
      "484 K     Total params\n",
      "1.938     Total estimated model params size (MB)\n"
     ]
    },
    {
     "name": "stdout",
     "output_type": "stream",
     "text": [
      "Epoch 0: 100%|████████████████████████████████████████████████████| 12704/12704 [05:38<00:00, 37.55it/s]\n",
      "Epoch 1: 100%|██████████████████| 12704/12704 [05:36<00:00, 37.76it/s, train_loss=0.821, val_loss=1.050]\u001b[A\n",
      "Epoch 2: 100%|██████████████████| 12704/12704 [05:15<00:00, 40.28it/s, train_loss=0.483, val_loss=0.808]\u001b[A\n",
      "Epoch 3: 100%|██████████████████| 12704/12704 [05:34<00:00, 38.00it/s, train_loss=0.418, val_loss=0.660]\u001b[A\n",
      "Epoch 4: 100%|██████████████████| 12704/12704 [05:15<00:00, 40.31it/s, train_loss=0.368, val_loss=0.532]\u001b[A\n",
      "Epoch 5: 100%|██████████████████| 12704/12704 [05:13<00:00, 40.49it/s, train_loss=0.323, val_loss=0.450]\u001b[A\n",
      "Epoch 6: 100%|██████████████████| 12704/12704 [05:27<00:00, 38.80it/s, train_loss=0.286, val_loss=0.397]\u001b[A\n",
      "Epoch 7: 100%|██████████████████| 12704/12704 [05:13<00:00, 40.49it/s, train_loss=0.254, val_loss=0.347]\u001b[A\n",
      "Epoch 8: 100%|██████████████████| 12704/12704 [05:20<00:00, 39.60it/s, train_loss=0.228, val_loss=0.308]\u001b[A\n",
      "Epoch 9: 100%|██████████████████| 12704/12704 [05:23<00:00, 39.28it/s, train_loss=0.206, val_loss=0.283]\u001b[A\n",
      "Epoch 10: 100%|█████████████████| 12704/12704 [05:17<00:00, 40.06it/s, train_loss=0.185, val_loss=0.257]\u001b[A\n",
      "Epoch 11: 100%|█████████████████| 12704/12704 [05:25<00:00, 39.01it/s, train_loss=0.170, val_loss=0.238]\u001b[A\n",
      "Epoch 12: 100%|█████████████████| 12704/12704 [05:22<00:00, 39.40it/s, train_loss=0.158, val_loss=0.224]\u001b[A\n",
      "Epoch 13: 100%|█████████████████| 12704/12704 [05:14<00:00, 40.40it/s, train_loss=0.147, val_loss=0.213]\u001b[A\n",
      "Epoch 14: 100%|█████████████████| 12704/12704 [05:26<00:00, 38.95it/s, train_loss=0.139, val_loss=0.199]\u001b[A\n",
      "Epoch 15: 100%|█████████████████| 12704/12704 [05:30<00:00, 38.40it/s, train_loss=0.132, val_loss=0.193]\u001b[A\n",
      "Epoch 16: 100%|█████████████████| 12704/12704 [05:14<00:00, 40.38it/s, train_loss=0.126, val_loss=0.182]\u001b[A\n",
      "Epoch 17: 100%|█████████████████| 12704/12704 [05:23<00:00, 39.30it/s, train_loss=0.120, val_loss=0.176]\u001b[A\n",
      "Epoch 18: 100%|█████████████████| 12704/12704 [05:33<00:00, 38.09it/s, train_loss=0.116, val_loss=0.168]\u001b[A\n",
      "Epoch 19: 100%|█████████████████| 12704/12704 [05:18<00:00, 39.94it/s, train_loss=0.111, val_loss=0.161]\u001b[A\n",
      "Epoch 20: 100%|█████████████████| 12704/12704 [05:22<00:00, 39.44it/s, train_loss=0.108, val_loss=0.159]\u001b[A\n",
      "Epoch 21: 100%|█████████████████| 12704/12704 [05:38<00:00, 37.49it/s, train_loss=0.104, val_loss=0.152]\u001b[A\n",
      "Epoch 22: 100%|█████████████████| 12704/12704 [05:30<00:00, 38.47it/s, train_loss=0.101, val_loss=0.145]\u001b[A\n",
      "Epoch 23: 100%|████████████████| 12704/12704 [05:12<00:00, 40.69it/s, train_loss=0.0978, val_loss=0.142]\u001b[A\n",
      "Epoch 24: 100%|████████████████| 12704/12704 [05:30<00:00, 38.39it/s, train_loss=0.0956, val_loss=0.142]\u001b[A\n",
      "Epoch 25: 100%|████████████████| 12704/12704 [05:30<00:00, 38.46it/s, train_loss=0.0928, val_loss=0.135]\u001b[A\n",
      "Epoch 26: 100%|████████████████| 12704/12704 [05:18<00:00, 39.92it/s, train_loss=0.0902, val_loss=0.130]\u001b[A\n",
      "Epoch 27: 100%|████████████████| 12704/12704 [05:14<00:00, 40.42it/s, train_loss=0.0882, val_loss=0.128]\u001b[A\n",
      "Epoch 28: 100%|████████████████| 12704/12704 [05:32<00:00, 38.19it/s, train_loss=0.0864, val_loss=0.126]\u001b[A\n",
      "Epoch 29: 100%|████████████████| 12704/12704 [05:22<00:00, 39.34it/s, train_loss=0.0848, val_loss=0.122]\u001b[A\n",
      "Epoch 30: 100%|█████████████████| 12704/12704 [05:17<00:00, 39.95it/s, train_loss=0.083, val_loss=0.122]\u001b[A\n",
      "Epoch 31: 100%|████████████████| 12704/12704 [05:19<00:00, 39.77it/s, train_loss=0.0813, val_loss=0.119]\u001b[A\n",
      "Epoch 32: 100%|████████████████| 12704/12704 [05:29<00:00, 38.61it/s, train_loss=0.0801, val_loss=0.117]\u001b[A\n",
      "Epoch 33: 100%|████████████████| 12704/12704 [05:21<00:00, 39.46it/s, train_loss=0.0788, val_loss=0.115]\u001b[A\n",
      "Epoch 34: 100%|████████████████| 12704/12704 [05:18<00:00, 39.89it/s, train_loss=0.0778, val_loss=0.112]\u001b[A\n",
      "Epoch 35: 100%|████████████████| 12704/12704 [05:20<00:00, 39.64it/s, train_loss=0.0768, val_loss=0.112]\u001b[A\n",
      "Epoch 36: 100%|████████████████| 12704/12704 [05:21<00:00, 39.48it/s, train_loss=0.0757, val_loss=0.110]\u001b[A\n",
      "Epoch 37: 100%|████████████████| 12704/12704 [05:21<00:00, 39.51it/s, train_loss=0.0748, val_loss=0.109]\u001b[A\n",
      "Epoch 38: 100%|████████████████| 12704/12704 [05:21<00:00, 39.57it/s, train_loss=0.0737, val_loss=0.106]\u001b[A\n",
      "Epoch 39: 100%|████████████████| 12704/12704 [05:18<00:00, 39.86it/s, train_loss=0.0729, val_loss=0.105]\u001b[A\n",
      "Epoch 40: 100%|█████████████████| 12704/12704 [05:23<00:00, 39.30it/s, train_loss=0.072, val_loss=0.105]\u001b[A\n",
      "Epoch 41: 100%|████████████████| 12704/12704 [05:23<00:00, 39.21it/s, train_loss=0.0714, val_loss=0.104]\u001b[A\n",
      "Epoch 42: 100%|████████████████| 12704/12704 [05:26<00:00, 38.86it/s, train_loss=0.0708, val_loss=0.103]\u001b[A\n",
      "Epoch 43: 100%|████████████████| 12704/12704 [05:20<00:00, 39.67it/s, train_loss=0.0698, val_loss=0.103]\u001b[A\n",
      "Epoch 44: 100%|████████████████| 12704/12704 [05:19<00:00, 39.74it/s, train_loss=0.0693, val_loss=0.101]\u001b[A\n",
      "Epoch 45: 100%|████████████████| 12704/12704 [05:23<00:00, 39.28it/s, train_loss=0.0685, val_loss=0.101]\u001b[A\n",
      "Epoch 46: 100%|████████████████| 12704/12704 [05:28<00:00, 38.70it/s, train_loss=0.068, val_loss=0.0991]\u001b[A\n",
      "Epoch 47: 100%|███████████████| 12704/12704 [05:21<00:00, 39.52it/s, train_loss=0.0673, val_loss=0.0969]\u001b[A\n",
      "Epoch 48: 100%|███████████████| 12704/12704 [05:17<00:00, 39.99it/s, train_loss=0.0668, val_loss=0.0972]\u001b[A\n",
      "Epoch 49: 100%|███████████████| 12704/12704 [05:20<00:00, 39.60it/s, train_loss=0.0662, val_loss=0.0983]\u001b[A\n",
      "Epoch 50: 100%|███████████████| 12704/12704 [05:25<00:00, 39.08it/s, train_loss=0.0656, val_loss=0.0956]\u001b[A\n",
      "Epoch 51: 100%|███████████████| 12704/12704 [05:22<00:00, 39.44it/s, train_loss=0.0651, val_loss=0.0996]\u001b[A\n",
      "Epoch 52: 100%|███████████████| 12704/12704 [05:21<00:00, 39.54it/s, train_loss=0.0646, val_loss=0.0966]\u001b[A\n",
      "Epoch 53: 100%|███████████████| 12704/12704 [05:17<00:00, 39.96it/s, train_loss=0.0643, val_loss=0.0972]\u001b[A\n",
      "Epoch 54: 100%|███████████████| 12704/12704 [05:24<00:00, 39.14it/s, train_loss=0.0638, val_loss=0.0939]\u001b[A\n",
      "Epoch 55: 100%|███████████████| 12704/12704 [05:26<00:00, 38.96it/s, train_loss=0.0633, val_loss=0.0943]\u001b[A\n",
      "Epoch 56: 100%|███████████████| 12704/12704 [05:22<00:00, 39.36it/s, train_loss=0.0627, val_loss=0.0935]\u001b[A\n",
      "Epoch 57: 100%|███████████████| 12704/12704 [05:18<00:00, 39.90it/s, train_loss=0.0623, val_loss=0.0921]\u001b[A\n",
      "Epoch 58: 100%|███████████████| 12704/12704 [05:19<00:00, 39.75it/s, train_loss=0.0619, val_loss=0.0924]\u001b[A\n",
      "Epoch 59: 100%|███████████████| 12704/12704 [05:22<00:00, 39.42it/s, train_loss=0.0617, val_loss=0.0932]\u001b[A\n",
      "Epoch 60: 100%|███████████████| 12704/12704 [05:22<00:00, 39.42it/s, train_loss=0.0613, val_loss=0.0913]\u001b[A\n",
      "Epoch 61: 100%|███████████████| 12704/12704 [05:19<00:00, 39.75it/s, train_loss=0.0608, val_loss=0.0895]\u001b[A\n",
      "Epoch 62: 100%|████████████████| 12704/12704 [05:10<00:00, 40.87it/s, train_loss=0.0603, val_loss=0.089]\u001b[A\n",
      "Epoch 63: 100%|███████████████| 12704/12704 [05:11<00:00, 40.81it/s, train_loss=0.0601, val_loss=0.0906]\u001b[A\n",
      "Epoch 64: 100%|███████████████| 12704/12704 [05:06<00:00, 41.40it/s, train_loss=0.0598, val_loss=0.0894]\u001b[A\n",
      "Epoch 65: 100%|███████████████| 12704/12704 [05:05<00:00, 41.61it/s, train_loss=0.0592, val_loss=0.0887]\u001b[A\n",
      "Epoch 66: 100%|████████████████| 12704/12704 [04:46<00:00, 44.38it/s, train_loss=0.0591, val_loss=0.087]\u001b[A\n",
      "Epoch 67: 100%|███████████████| 12704/12704 [04:31<00:00, 46.87it/s, train_loss=0.0588, val_loss=0.0868]\u001b[A\n",
      "Epoch 68: 100%|███████████████| 12704/12704 [04:28<00:00, 47.27it/s, train_loss=0.0585, val_loss=0.0869]\u001b[A\n",
      "Epoch 69: 100%|███████████████| 12704/12704 [04:17<00:00, 49.31it/s, train_loss=0.0582, val_loss=0.0871]\u001b[A\n",
      "Epoch 70: 100%|███████████████| 12704/12704 [04:08<00:00, 51.11it/s, train_loss=0.0577, val_loss=0.0863]\u001b[A\n",
      "Epoch 71: 100%|███████████████| 12704/12704 [04:07<00:00, 51.24it/s, train_loss=0.0575, val_loss=0.0873]\u001b[A\n",
      "Epoch 72: 100%|███████████████| 12704/12704 [04:10<00:00, 50.67it/s, train_loss=0.0574, val_loss=0.0865]\u001b[A\n",
      "Epoch 73: 100%|████████████████| 12704/12704 [04:02<00:00, 52.37it/s, train_loss=0.0571, val_loss=0.086]\u001b[A\n",
      "Epoch 74: 100%|███████████████| 12704/12704 [04:07<00:00, 51.31it/s, train_loss=0.0567, val_loss=0.0839]\u001b[A\n",
      "Epoch 75: 100%|████████████████| 12704/12704 [04:02<00:00, 52.43it/s, train_loss=0.0568, val_loss=0.084]\u001b[A\n",
      "Epoch 76: 100%|███████████████| 12704/12704 [03:57<00:00, 53.47it/s, train_loss=0.0563, val_loss=0.0839]\u001b[A\n",
      "Epoch 77: 100%|████████████████| 12704/12704 [04:03<00:00, 52.21it/s, train_loss=0.056, val_loss=0.0828]\u001b[A\n",
      "Epoch 78: 100%|████████████████| 12704/12704 [03:55<00:00, 53.99it/s, train_loss=0.0558, val_loss=0.085]\u001b[A\n",
      "Epoch 79: 100%|███████████████| 12704/12704 [04:05<00:00, 51.85it/s, train_loss=0.0557, val_loss=0.0837]\u001b[A\n",
      "Epoch 80: 100%|███████████████| 12704/12704 [04:06<00:00, 51.55it/s, train_loss=0.0554, val_loss=0.0829]\u001b[A\n",
      "Epoch 81: 100%|███████████████| 12704/12704 [04:02<00:00, 52.44it/s, train_loss=0.0551, val_loss=0.0836]\u001b[A\n",
      "Epoch 82: 100%|████████████████| 12704/12704 [04:00<00:00, 52.78it/s, train_loss=0.0548, val_loss=0.082]\u001b[A\n",
      "Epoch 83: 100%|███████████████| 12704/12704 [04:01<00:00, 52.70it/s, train_loss=0.0548, val_loss=0.0831]\u001b[A\n",
      "Epoch 84: 100%|███████████████| 12704/12704 [04:03<00:00, 52.26it/s, train_loss=0.0545, val_loss=0.0818]\u001b[A\n",
      "Epoch 85: 100%|███████████████| 12704/12704 [04:03<00:00, 52.12it/s, train_loss=0.0544, val_loss=0.0843]\u001b[A\n",
      "Epoch 86: 100%|███████████████| 12704/12704 [04:03<00:00, 52.19it/s, train_loss=0.0542, val_loss=0.0834]\u001b[A\n",
      "Epoch 87: 100%|███████████████| 12704/12704 [03:55<00:00, 53.94it/s, train_loss=0.0542, val_loss=0.0814]\u001b[A\n",
      "Epoch 88: 100%|███████████████| 12704/12704 [04:03<00:00, 52.28it/s, train_loss=0.0539, val_loss=0.0848]\u001b[A\n",
      "Epoch 89: 100%|███████████████| 12704/12704 [03:58<00:00, 53.22it/s, train_loss=0.0539, val_loss=0.0821]\u001b[A\n",
      "Epoch 90: 100%|████████████████| 12704/12704 [04:02<00:00, 52.31it/s, train_loss=0.0535, val_loss=0.081]\u001b[A\n",
      "Epoch 91: 100%|███████████████| 12704/12704 [04:00<00:00, 52.85it/s, train_loss=0.0534, val_loss=0.0819]\u001b[A\n",
      "Epoch 92: 100%|███████████████| 12704/12704 [04:00<00:00, 52.89it/s, train_loss=0.0532, val_loss=0.0808]\u001b[A\n",
      "Epoch 93: 100%|████████████████| 12704/12704 [04:06<00:00, 51.51it/s, train_loss=0.053, val_loss=0.0829]\u001b[A\n",
      "Epoch 94: 100%|███████████████| 12704/12704 [04:05<00:00, 51.66it/s, train_loss=0.0529, val_loss=0.0796]\u001b[A\n",
      "Epoch 95: 100%|████████████████| 12704/12704 [04:08<00:00, 51.14it/s, train_loss=0.053, val_loss=0.0811]\u001b[A\n",
      "Epoch 96: 100%|████████████████| 12704/12704 [04:02<00:00, 52.43it/s, train_loss=0.0526, val_loss=0.080]\u001b[A\n",
      "Epoch 97: 100%|███████████████| 12704/12704 [04:04<00:00, 51.93it/s, train_loss=0.0524, val_loss=0.0793]\u001b[A\n",
      "Epoch 98: 100%|███████████████| 12704/12704 [04:04<00:00, 51.93it/s, train_loss=0.0523, val_loss=0.0773]\u001b[A\n",
      "Epoch 99: 100%|███████████████| 12704/12704 [03:54<00:00, 54.19it/s, train_loss=0.0521, val_loss=0.0799]\u001b[A\n",
      "Epoch 99: 100%|████████████████| 12704/12704 [04:06<00:00, 51.56it/s, train_loss=0.052, val_loss=0.0788]\u001b[A"
     ]
    },
    {
     "name": "stderr",
     "output_type": "stream",
     "text": [
      "`Trainer.fit` stopped: `max_epochs=100` reached.\n"
     ]
    },
    {
     "name": "stdout",
     "output_type": "stream",
     "text": [
      "Epoch 99: 100%|████████████████| 12704/12704 [04:06<00:00, 51.55it/s, train_loss=0.052, val_loss=0.0788]\n"
     ]
    },
    {
     "data": {
      "image/png": "[encoded data removed]",
      "text/plain": [
       "<Figure size 640x480 with 1 Axes>"
      ]
     },
     "metadata": {},
     "output_type": "display_data"
    },
    {
     "name": "stdout",
     "output_type": "stream",
     "text": [
      "DONE SAVING PRETRAINED MODEL\n",
      "   | Name                                             | Type        | Params | Mode \n",
      "------------------------------------------------------------------------------------------\n",
      "0  | task_loss_fn                                     | MSELoss     | 0      | train\n",
      "1  | contrastive_loss                                 | NTXentLoss  | 0      | train\n",
      "2  | model                                            | SCARF       | 484 K  | train\n",
      "3  | model._SCARF__encoder                            | MLP         | 302 K  | train\n",
      "4  | model._SCARF__encoder.linear_0                   | Linear      | 18.6 K | train\n",
      "5  | model._SCARF__encoder.batchnorm_0                | BatchNorm1d | 400    | train\n",
      "6  | model._SCARF__encoder.relu_0                     | ReLU        | 0      | train\n",
      "7  | model._SCARF__encoder.dropout_0                  | Dropout     | 0      | train\n",
      "8  | model._SCARF__encoder.linear_1                   | Linear      | 40.2 K | train\n",
      "9  | model._SCARF__encoder.batchnorm_1                | BatchNorm1d | 400    | train\n",
      "10 | model._SCARF__encoder.relu_1                     | ReLU        | 0      | train\n",
      "11 | model._SCARF__encoder.dropout_1                  | Dropout     | 0      | train\n",
      "12 | model._SCARF__encoder.linear_2                   | Linear      | 40.2 K | train\n",
      "13 | model._SCARF__encoder.batchnorm_2                | BatchNorm1d | 400    | train\n",
      "14 | model._SCARF__encoder.relu_2                     | ReLU        | 0      | train\n",
      "15 | model._SCARF__encoder.dropout_2                  | Dropout     | 0      | train\n",
      "16 | model._SCARF__encoder.linear_3                   | Linear      | 40.2 K | train\n",
      "17 | model._SCARF__encoder.batchnorm_3                | BatchNorm1d | 400    | train\n",
      "18 | model._SCARF__encoder.relu_3                     | ReLU        | 0      | train\n",
      "19 | model._SCARF__encoder.dropout_3                  | Dropout     | 0      | train\n",
      "20 | model._SCARF__encoder.linear_4                   | Linear      | 40.2 K | train\n",
      "21 | model._SCARF__encoder.batchnorm_4                | BatchNorm1d | 400    | train\n",
      "22 | model._SCARF__encoder.relu_4                     | ReLU        | 0      | train\n",
      "23 | model._SCARF__encoder.dropout_4                  | Dropout     | 0      | train\n",
      "24 | model._SCARF__encoder.linear_5                   | Linear      | 40.2 K | train\n",
      "25 | model._SCARF__encoder.batchnorm_5                | BatchNorm1d | 400    | train\n",
      "26 | model._SCARF__encoder.relu_5                     | ReLU        | 0      | train\n",
      "27 | model._SCARF__encoder.dropout_5                  | Dropout     | 0      | train\n",
      "28 | model._SCARF__encoder.linear_6                   | Linear      | 40.2 K | train\n",
      "29 | model._SCARF__encoder.batchnorm_6                | BatchNorm1d | 400    | train\n",
      "30 | model._SCARF__encoder.relu_6                     | ReLU        | 0      | train\n",
      "31 | model._SCARF__encoder.dropout_6                  | Dropout     | 0      | train\n",
      "32 | model._SCARF__encoder.linear_n_layers            | Linear      | 40.2 K | train\n",
      "33 | model.pretraining_head                           | MLP         | 80.8 K | train\n",
      "34 | model.pretraining_head.linear_0                  | Linear      | 40.2 K | train\n",
      "35 | model.pretraining_head.batchnorm_0               | BatchNorm1d | 400    | train\n",
      "36 | model.pretraining_head.relu_0                    | ReLU        | 0      | train\n",
      "37 | model.pretraining_head.dropout_0                 | Dropout     | 0      | train\n",
      "38 | model.pretraining_head.linear_n_layers           | Linear      | 40.2 K | train\n",
      "39 | model.one_layer_prediction_head                  | Sequential  | 40.4 K | train\n",
      "40 | model.one_layer_prediction_head.head_linear_hid  | Linear      | 40.2 K | train\n",
      "41 | model.one_layer_prediction_head.head_activation  | ReLU        | 0      | train\n",
      "42 | model.one_layer_prediction_head.head_linear_out  | Linear      | 201    | train\n",
      "43 | model.two_layer_prediction_head                  | Sequential  | 60.4 K | train\n",
      "44 | model.two_layer_prediction_head.head_linear_hid1 | Linear      | 40.2 K | train\n",
      "45 | model.two_layer_prediction_head.head_activation1 | ReLU        | 0      | train\n",
      "46 | model.two_layer_prediction_head.head_linear_hid2 | Linear      | 20.1 K | train\n",
      "47 | model.two_layer_prediction_head.head_activation2 | ReLU        | 0      | train\n",
      "48 | model.two_layer_prediction_head.head_linear_out  | Linear      | 101    | train\n",
      "------------------------------------------------------------------------------------------\n",
      "484 K     Trainable params\n",
      "0         Non-trainable params\n",
      "484 K     Total params\n",
      "1.938     Total estimated model params size (MB)\n",
      "Time to pretrain model:  31238.56956100464\n",
      "DONE PRETRAINING\n"
     ]
    }
   ],
   "source": [
    "s3l_training(pretrain=True, # if True First Phase training\n",
    "             use_pretrained_model=False, # if True Second Phase learning\n",
    "             pt_type='scarf', \n",
    "             pt_folder='FP6')"
   ]
  },
  {
   "cell_type": "code",
   "execution_count": null,
   "id": "de7160f9-4db4-4688-9556-ba884a04eafb",
   "metadata": {},
   "outputs": [],
   "source": []
  }
 ],
 "metadata": {
  "kernelspec": {
   "display_name": "Python 3 (ipykernel)",
   "language": "python",
   "name": "python3"
  },
  "language_info": {
   "codemirror_mode": {
    "name": "ipython",
    "version": 3
   },
   "file_extension": ".py",
   "mimetype": "text/x-python",
   "name": "python",
   "nbconvert_exporter": "python",
   "pygments_lexer": "ipython3",
   "version": "3.8.10"
  }
 },
 "nbformat": 4,
 "nbformat_minor": 5
}
