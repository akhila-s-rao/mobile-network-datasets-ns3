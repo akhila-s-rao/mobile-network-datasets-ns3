{
 "cells": [
  {
   "cell_type": "code",
   "execution_count": 1,
   "id": "8ed58de6-5ac0-4bbb-95e7-c77e64dfaf11",
   "metadata": {},
   "outputs": [],
   "source": [
    "# reload\n",
    "#%reset\n",
    "%load_ext autoreload\n",
    "%autoreload 2 \n",
    "\n",
    "import warnings\n",
    "import logging\n",
    "import os\n",
    "\n",
    "# DEBUG MODE\n",
    "os.environ['TF_CPP_MIN_LOG_LEVEL'] = '3'\n",
    "warnings.filterwarnings('ignore')\n",
    "logging.getLogger('tensorflow').setLevel(logging.FATAL)\n",
    "    \n",
    "from s3l_training import s3l_training"
   ]
  },
  {
   "cell_type": "code",
   "execution_count": 2,
   "id": "26eb320c-c17f-40dd-8264-6dcbd0933f0b",
   "metadata": {},
   "outputs": [
    {
     "name": "stdout",
     "output_type": "stream",
     "text": [
      "Run with random seed:  561\n",
      "GPU is available.\n",
      "1\n",
      "True\n",
      "12.1\n",
      "Concatenating runs:  range(1, 11)\n",
      "Time to read csv file for run:  3.1742448806762695\n",
      "Loaded run 1\n",
      "Time to read csv file for run:  3.3481764793395996\n",
      "Loaded run 2\n",
      "Time to read csv file for run:  3.2192420959472656\n",
      "Loaded run 3\n",
      "Time to read csv file for run:  3.2746410369873047\n",
      "Loaded run 4\n",
      "Time to read csv file for run:  3.2422077655792236\n",
      "Loaded run 5\n",
      "Time to read csv file for run:  3.166292428970337\n",
      "Loaded run 6\n",
      "Time to read csv file for run:  3.2349767684936523\n",
      "Loaded run 7\n",
      "Time to read csv file for run:  3.084707498550415\n",
      "Loaded run 8\n",
      "Time to read csv file for run:  3.086672067642212\n",
      "Loaded run 9\n",
      "Time to read csv file for run:  3.2674007415771484\n",
      "Loaded run 10\n",
      "pretrain_data, before removing rows that dont have traffic  (1799100, 102)\n",
      "pretrain_data, after removing rows that dont have traffic  (1799100, 102)\n",
      "X_pretrain  (1796746, 92)\n"
     ]
    },
    {
     "name": "stderr",
     "output_type": "stream",
     "text": [
      "Seed set to 42\n"
     ]
    },
    {
     "name": "stdout",
     "output_type": "stream",
     "text": [
      "HYPERPARAMETERS:  {'loss_fn': 'MSELoss', 'metric': 'r2_score', 'hidden_dim': 200, 'max_epochs': 100, 'batch_size': 128, 'optim_hparams': {'lr': 0.0001, 'weight_decay': 5e-05}, 'encoder_depth': 8, 'dropout_rate': 0.1, 'p_m': 0.3, 'alpha1': 2.0, 'alpha2': 2.0, 'K': 3, 'beta': 1.0}\n"
     ]
    },
    {
     "name": "stderr",
     "output_type": "stream",
     "text": [
      "GPU available: True (cuda), used: True\n",
      "TPU available: False, using: 0 TPU cores\n",
      "HPU available: False, using: 0 HPUs\n"
     ]
    },
    {
     "name": "stdout",
     "output_type": "stream",
     "text": [
      "refresh rate:  10\n"
     ]
    },
    {
     "name": "stderr",
     "output_type": "stream",
     "text": [
      "LOCAL_RANK: 0 - CUDA_VISIBLE_DEVICES: [0]\n",
      "\n",
      "  | Name                        | Type    | Params | Mode \n",
      "----------------------------------------------------------------\n",
      "0 | task_loss_fn                | MSELoss | 0      | train\n",
      "1 | mask_loss_fn                | BCELoss | 0      | train\n",
      "2 | categorical_feature_loss_fn | BCELoss | 0      | train\n",
      "3 | continuous_feature_loss_fn  | MSELoss | 0      | train\n",
      "4 | consistency_loss_fn         | MSELoss | 0      | train\n",
      "5 | model                       | VIME    | 440 K  | train\n",
      "----------------------------------------------------------------\n",
      "440 K     Trainable params\n",
      "0         Non-trainable params\n",
      "440 K     Total params\n",
      "1.762     Total estimated model params size (MB)\n"
     ]
    },
    {
     "name": "stdout",
     "output_type": "stream",
     "text": [
      "Epoch 0: 100%|████████████████████████████████████████████████████| 12704/12704 [03:56<00:00, 53.67it/s]\n",
      "Epoch 1: 100%|██████████████████| 12704/12704 [03:59<00:00, 53.09it/s, train_loss=3.120, val_loss=2.960]\u001b[A\n",
      "Epoch 2: 100%|██████████████████| 12704/12704 [03:29<00:00, 60.72it/s, train_loss=3.020, val_loss=2.940]\u001b[A\n",
      "Epoch 3: 100%|██████████████████| 12704/12704 [03:17<00:00, 64.22it/s, train_loss=3.000, val_loss=2.930]\u001b[A\n",
      "Epoch 4: 100%|██████████████████| 12704/12704 [03:43<00:00, 56.83it/s, train_loss=2.990, val_loss=2.930]\u001b[A\n",
      "Epoch 5: 100%|██████████████████| 12704/12704 [03:47<00:00, 55.85it/s, train_loss=2.990, val_loss=2.920]\u001b[A\n",
      "Epoch 6: 100%|██████████████████| 12704/12704 [03:27<00:00, 61.16it/s, train_loss=2.980, val_loss=2.920]\u001b[A\n",
      "Epoch 7: 100%|██████████████████| 12704/12704 [03:21<00:00, 62.97it/s, train_loss=2.980, val_loss=2.920]\u001b[A\n",
      "Epoch 8: 100%|██████████████████| 12704/12704 [03:35<00:00, 58.91it/s, train_loss=2.980, val_loss=2.910]\u001b[A\n",
      "Epoch 9: 100%|██████████████████| 12704/12704 [03:45<00:00, 56.25it/s, train_loss=2.970, val_loss=2.910]\u001b[A\n",
      "Epoch 10: 100%|█████████████████| 12704/12704 [03:30<00:00, 60.46it/s, train_loss=2.970, val_loss=2.910]\u001b[A\n",
      "Epoch 11: 100%|█████████████████| 12704/12704 [03:29<00:00, 60.61it/s, train_loss=2.970, val_loss=2.910]\u001b[A\n",
      "Epoch 12: 100%|█████████████████| 12704/12704 [03:36<00:00, 58.59it/s, train_loss=2.970, val_loss=2.900]\u001b[A\n",
      "Epoch 13: 100%|█████████████████| 12704/12704 [03:38<00:00, 58.09it/s, train_loss=2.960, val_loss=2.900]\u001b[A\n",
      "Epoch 14: 100%|█████████████████| 12704/12704 [03:34<00:00, 59.28it/s, train_loss=2.960, val_loss=2.900]\u001b[A\n",
      "Epoch 15: 100%|█████████████████| 12704/12704 [03:28<00:00, 61.03it/s, train_loss=2.960, val_loss=2.900]\u001b[A\n",
      "Epoch 16: 100%|█████████████████| 12704/12704 [03:39<00:00, 57.93it/s, train_loss=2.960, val_loss=2.900]\u001b[A\n",
      "Epoch 17: 100%|█████████████████| 12704/12704 [03:38<00:00, 58.24it/s, train_loss=2.950, val_loss=2.890]\u001b[A\n",
      "Epoch 18: 100%|█████████████████| 12704/12704 [03:28<00:00, 60.88it/s, train_loss=2.950, val_loss=2.890]\u001b[A\n",
      "Epoch 19: 100%|█████████████████| 12704/12704 [03:29<00:00, 60.73it/s, train_loss=2.950, val_loss=2.890]\u001b[A\n",
      "Epoch 20: 100%|█████████████████| 12704/12704 [03:34<00:00, 59.23it/s, train_loss=2.950, val_loss=2.890]\u001b[A\n",
      "Epoch 21: 100%|█████████████████| 12704/12704 [03:46<00:00, 56.11it/s, train_loss=2.950, val_loss=2.890]\u001b[A\n",
      "Epoch 22: 100%|█████████████████| 12704/12704 [03:39<00:00, 57.77it/s, train_loss=2.950, val_loss=2.890]\u001b[A\n",
      "Epoch 23: 100%|█████████████████| 12704/12704 [03:21<00:00, 62.95it/s, train_loss=2.950, val_loss=2.890]\u001b[A\n",
      "Epoch 24: 100%|█████████████████| 12704/12704 [03:29<00:00, 60.59it/s, train_loss=2.940, val_loss=2.880]\u001b[A\n",
      "Epoch 25: 100%|█████████████████| 12704/12704 [03:39<00:00, 57.77it/s, train_loss=2.940, val_loss=2.880]\u001b[A\n",
      "Epoch 26: 100%|█████████████████| 12704/12704 [03:46<00:00, 56.12it/s, train_loss=2.940, val_loss=2.880]\u001b[A\n",
      "Epoch 27: 100%|█████████████████| 12704/12704 [03:37<00:00, 58.47it/s, train_loss=2.940, val_loss=2.880]\u001b[A\n",
      "Epoch 28: 100%|█████████████████| 12704/12704 [03:18<00:00, 63.92it/s, train_loss=2.940, val_loss=2.880]\u001b[A\n",
      "Epoch 29: 100%|█████████████████| 12704/12704 [03:28<00:00, 60.95it/s, train_loss=2.940, val_loss=2.880]\u001b[A\n",
      "Epoch 30: 100%|█████████████████| 12704/12704 [03:46<00:00, 56.10it/s, train_loss=2.940, val_loss=2.880]\u001b[A\n",
      "Epoch 31: 100%|█████████████████| 12704/12704 [03:45<00:00, 56.42it/s, train_loss=2.940, val_loss=2.880]\u001b[A\n",
      "Epoch 32: 100%|█████████████████| 12704/12704 [03:38<00:00, 58.17it/s, train_loss=2.940, val_loss=2.880]\u001b[A\n",
      "Epoch 33: 100%|█████████████████| 12704/12704 [03:18<00:00, 64.14it/s, train_loss=2.930, val_loss=2.880]\u001b[A\n",
      "Epoch 34: 100%|█████████████████| 12704/12704 [03:26<00:00, 61.37it/s, train_loss=2.930, val_loss=2.870]\u001b[A\n",
      "Epoch 35: 100%|█████████████████| 12704/12704 [03:45<00:00, 56.26it/s, train_loss=2.930, val_loss=2.870]\u001b[A\n",
      "Epoch 36: 100%|█████████████████| 12704/12704 [03:45<00:00, 56.44it/s, train_loss=2.930, val_loss=2.870]\u001b[A\n",
      "Epoch 37: 100%|█████████████████| 12704/12704 [03:33<00:00, 59.46it/s, train_loss=2.930, val_loss=2.870]\u001b[A\n",
      "Epoch 38: 100%|█████████████████| 12704/12704 [03:27<00:00, 61.12it/s, train_loss=2.930, val_loss=2.870]\u001b[A\n",
      "Epoch 39: 100%|█████████████████| 12704/12704 [03:22<00:00, 62.64it/s, train_loss=2.930, val_loss=2.870]\u001b[A\n",
      "Epoch 40: 100%|█████████████████| 12704/12704 [03:42<00:00, 57.09it/s, train_loss=2.930, val_loss=2.870]\u001b[A\n",
      "Epoch 41: 100%|█████████████████| 12704/12704 [03:42<00:00, 57.18it/s, train_loss=2.930, val_loss=2.870]\u001b[A\n",
      "Epoch 42: 100%|█████████████████| 12704/12704 [03:33<00:00, 59.53it/s, train_loss=2.930, val_loss=2.870]\u001b[A\n",
      "Epoch 43: 100%|█████████████████| 12704/12704 [03:32<00:00, 59.67it/s, train_loss=2.930, val_loss=2.870]\u001b[A\n",
      "Epoch 44: 100%|█████████████████| 12704/12704 [03:24<00:00, 62.22it/s, train_loss=2.930, val_loss=2.870]\u001b[A\n",
      "Epoch 45: 100%|█████████████████| 12704/12704 [03:34<00:00, 59.25it/s, train_loss=2.930, val_loss=2.870]\u001b[A\n",
      "Epoch 46: 100%|█████████████████| 12704/12704 [03:40<00:00, 57.50it/s, train_loss=2.930, val_loss=2.870]\u001b[A\n",
      "Epoch 47: 100%|█████████████████| 12704/12704 [03:31<00:00, 60.07it/s, train_loss=2.920, val_loss=2.870]\u001b[A\n",
      "Epoch 48: 100%|█████████████████| 12704/12704 [03:36<00:00, 58.74it/s, train_loss=2.920, val_loss=2.860]\u001b[A\n",
      "Epoch 49: 100%|█████████████████| 12704/12704 [03:32<00:00, 59.86it/s, train_loss=2.920, val_loss=2.860]\u001b[A\n",
      "Epoch 50: 100%|█████████████████| 12704/12704 [03:28<00:00, 61.04it/s, train_loss=2.920, val_loss=2.860]\u001b[A\n",
      "Epoch 51: 100%|█████████████████| 12704/12704 [03:34<00:00, 59.24it/s, train_loss=2.920, val_loss=2.860]\u001b[A\n",
      "Epoch 52: 100%|█████████████████| 12704/12704 [03:33<00:00, 59.47it/s, train_loss=2.920, val_loss=2.860]\u001b[A\n",
      "Epoch 53: 100%|█████████████████| 12704/12704 [03:34<00:00, 59.22it/s, train_loss=2.920, val_loss=2.860]\u001b[A\n",
      "Epoch 54: 100%|█████████████████| 12704/12704 [03:32<00:00, 59.84it/s, train_loss=2.920, val_loss=2.860]\u001b[A\n",
      "Epoch 55: 100%|█████████████████| 12704/12704 [03:33<00:00, 59.49it/s, train_loss=2.920, val_loss=2.860]\u001b[A\n",
      "Epoch 56: 100%|█████████████████| 12704/12704 [03:33<00:00, 59.56it/s, train_loss=2.920, val_loss=2.860]\u001b[A\n",
      "Epoch 57: 100%|█████████████████| 12704/12704 [03:32<00:00, 59.81it/s, train_loss=2.920, val_loss=2.860]\u001b[A\n",
      "Epoch 58: 100%|█████████████████| 12704/12704 [03:35<00:00, 59.07it/s, train_loss=2.920, val_loss=2.860]\u001b[A\n",
      "Epoch 59: 100%|█████████████████| 12704/12704 [03:38<00:00, 58.03it/s, train_loss=2.920, val_loss=2.860]\u001b[A\n",
      "Epoch 60: 100%|█████████████████| 12704/12704 [03:32<00:00, 59.78it/s, train_loss=2.920, val_loss=2.860]\u001b[A\n",
      "Epoch 61: 100%|█████████████████| 12704/12704 [03:40<00:00, 57.52it/s, train_loss=2.920, val_loss=2.860]\u001b[A\n",
      "Epoch 62: 100%|█████████████████| 12704/12704 [03:34<00:00, 59.17it/s, train_loss=2.920, val_loss=2.860]\u001b[A\n",
      "Epoch 63: 100%|█████████████████| 12704/12704 [03:24<00:00, 62.24it/s, train_loss=2.920, val_loss=2.860]\u001b[A\n",
      "Epoch 64: 100%|█████████████████| 12704/12704 [03:38<00:00, 58.06it/s, train_loss=2.920, val_loss=2.850]\u001b[A\n",
      "Epoch 65: 100%|█████████████████| 12704/12704 [03:32<00:00, 59.65it/s, train_loss=2.920, val_loss=2.860]\u001b[A\n",
      "Epoch 66: 100%|█████████████████| 12704/12704 [03:40<00:00, 57.67it/s, train_loss=2.910, val_loss=2.850]\u001b[A\n",
      "Epoch 67: 100%|█████████████████| 12704/12704 [03:37<00:00, 58.40it/s, train_loss=2.910, val_loss=2.850]\u001b[A\n",
      "Epoch 68: 100%|█████████████████| 12704/12704 [03:31<00:00, 60.09it/s, train_loss=2.910, val_loss=2.850]\u001b[A\n",
      "Epoch 69: 100%|█████████████████| 12704/12704 [03:29<00:00, 60.50it/s, train_loss=2.910, val_loss=2.850]\u001b[A\n",
      "Epoch 70: 100%|█████████████████| 12704/12704 [03:30<00:00, 60.28it/s, train_loss=2.910, val_loss=2.850]\u001b[A\n",
      "Epoch 71: 100%|█████████████████| 12704/12704 [03:35<00:00, 58.86it/s, train_loss=2.910, val_loss=2.850]\u001b[A\n",
      "Epoch 72: 100%|█████████████████| 12704/12704 [03:36<00:00, 58.70it/s, train_loss=2.910, val_loss=2.850]\u001b[A\n",
      "Epoch 73: 100%|█████████████████| 12704/12704 [03:34<00:00, 59.13it/s, train_loss=2.910, val_loss=2.850]\u001b[A\n",
      "Epoch 74: 100%|█████████████████| 12704/12704 [03:35<00:00, 59.00it/s, train_loss=2.910, val_loss=2.850]\u001b[A\n",
      "Epoch 75: 100%|█████████████████| 12704/12704 [03:25<00:00, 61.96it/s, train_loss=2.910, val_loss=2.850]\u001b[A\n",
      "Epoch 76: 100%|█████████████████| 12704/12704 [03:30<00:00, 60.36it/s, train_loss=2.910, val_loss=2.850]\u001b[A\n",
      "Epoch 77: 100%|█████████████████| 12704/12704 [03:29<00:00, 60.55it/s, train_loss=2.910, val_loss=2.850]\u001b[A\n",
      "Epoch 78: 100%|█████████████████| 12704/12704 [03:37<00:00, 58.52it/s, train_loss=2.910, val_loss=2.850]\u001b[A\n",
      "Epoch 79: 100%|█████████████████| 12704/12704 [03:36<00:00, 58.62it/s, train_loss=2.910, val_loss=2.850]\u001b[A\n",
      "Epoch 80: 100%|█████████████████| 12704/12704 [03:35<00:00, 58.96it/s, train_loss=2.910, val_loss=2.850]\u001b[A\n",
      "Epoch 81: 100%|█████████████████| 12704/12704 [03:34<00:00, 59.17it/s, train_loss=2.910, val_loss=2.850]\u001b[A\n",
      "Epoch 82: 100%|█████████████████| 12704/12704 [03:25<00:00, 61.96it/s, train_loss=2.910, val_loss=2.850]\u001b[A\n",
      "Epoch 83: 100%|█████████████████| 12704/12704 [03:34<00:00, 59.19it/s, train_loss=2.910, val_loss=2.860]\u001b[A\n",
      "Epoch 84: 100%|█████████████████| 12704/12704 [03:30<00:00, 60.22it/s, train_loss=2.910, val_loss=2.850]\u001b[A\n",
      "Epoch 85: 100%|█████████████████| 12704/12704 [03:35<00:00, 59.00it/s, train_loss=2.910, val_loss=2.850]\u001b[A\n",
      "Epoch 86: 100%|█████████████████| 12704/12704 [03:34<00:00, 59.14it/s, train_loss=2.910, val_loss=2.850]\u001b[A\n",
      "Epoch 87: 100%|█████████████████| 12704/12704 [03:33<00:00, 59.37it/s, train_loss=2.910, val_loss=2.850]\u001b[A\n",
      "Epoch 88: 100%|█████████████████| 12704/12704 [03:32<00:00, 59.80it/s, train_loss=2.910, val_loss=2.850]\u001b[A\n",
      "Epoch 89: 100%|█████████████████| 12704/12704 [03:23<00:00, 62.35it/s, train_loss=2.910, val_loss=2.850]\u001b[A\n",
      "Epoch 90: 100%|█████████████████| 12704/12704 [03:19<00:00, 63.73it/s, train_loss=2.900, val_loss=2.850]\u001b[A\n",
      "Epoch 91: 100%|█████████████████| 12704/12704 [03:16<00:00, 64.66it/s, train_loss=2.900, val_loss=2.850]\u001b[A\n",
      "Epoch 92: 100%|█████████████████| 12704/12704 [03:17<00:00, 64.26it/s, train_loss=2.900, val_loss=2.850]\u001b[A\n",
      "Epoch 93: 100%|█████████████████| 12704/12704 [03:17<00:00, 64.42it/s, train_loss=2.900, val_loss=2.850]\u001b[A\n",
      "Epoch 94: 100%|█████████████████| 12704/12704 [03:17<00:00, 64.27it/s, train_loss=2.900, val_loss=2.850]\u001b[A\n",
      "Epoch 95: 100%|█████████████████| 12704/12704 [03:04<00:00, 68.72it/s, train_loss=2.900, val_loss=2.850]\u001b[A\n",
      "Epoch 96: 100%|█████████████████| 12704/12704 [02:59<00:00, 70.79it/s, train_loss=2.900, val_loss=2.850]\u001b[A\n",
      "Epoch 97: 100%|█████████████████| 12704/12704 [03:01<00:00, 70.12it/s, train_loss=2.900, val_loss=2.850]\u001b[A\n",
      "Epoch 98: 100%|█████████████████| 12704/12704 [02:54<00:00, 72.87it/s, train_loss=2.900, val_loss=2.840]\u001b[A\n",
      "Epoch 99: 100%|█████████████████| 12704/12704 [03:00<00:00, 70.30it/s, train_loss=2.900, val_loss=2.840]\u001b[A\n",
      "Epoch 99: 100%|█████████████████| 12704/12704 [03:18<00:00, 63.88it/s, train_loss=2.900, val_loss=2.840]\u001b[A"
     ]
    },
    {
     "name": "stderr",
     "output_type": "stream",
     "text": [
      "`Trainer.fit` stopped: `max_epochs=100` reached.\n"
     ]
    },
    {
     "name": "stdout",
     "output_type": "stream",
     "text": [
      "Epoch 99: 100%|█████████████████| 12704/12704 [03:18<00:00, 63.87it/s, train_loss=2.900, val_loss=2.840]\n"
     ]
    },
    {
     "data": {
      "image/png": "[encoded data removed]",
      "text/plain": [
       "<Figure size 640x480 with 1 Axes>"
      ]
     },
     "metadata": {},
     "output_type": "display_data"
    },
    {
     "name": "stdout",
     "output_type": "stream",
     "text": [
      "DONE SAVING PRETRAINED MODEL\n",
      "   | Name                                         | Type                 | Params | Mode \n",
      "-----------------------------------------------------------------------------------------------\n",
      "0  | task_loss_fn                                 | MSELoss              | 0      | train\n",
      "1  | mask_loss_fn                                 | BCELoss              | 0      | train\n",
      "2  | categorical_feature_loss_fn                  | BCELoss              | 0      | train\n",
      "3  | continuous_feature_loss_fn                   | MSELoss              | 0      | train\n",
      "4  | consistency_loss_fn                          | MSELoss              | 0      | train\n",
      "5  | model                                        | VIME                 | 440 K  | train\n",
      "6  | model._VIME__encoder                         | VIMESelfSupervised   | 339 K  | train\n",
      "7  | model._VIME__encoder.encoder                 | MLP                  | 302 K  | train\n",
      "8  | model._VIME__encoder.encoder.linear_0        | Linear               | 18.6 K | train\n",
      "9  | model._VIME__encoder.encoder.batchnorm_0     | BatchNorm1d          | 400    | train\n",
      "10 | model._VIME__encoder.encoder.relu_0          | ReLU                 | 0      | train\n",
      "11 | model._VIME__encoder.encoder.dropout_0       | Dropout              | 0      | train\n",
      "12 | model._VIME__encoder.encoder.linear_1        | Linear               | 40.2 K | train\n",
      "13 | model._VIME__encoder.encoder.batchnorm_1     | BatchNorm1d          | 400    | train\n",
      "14 | model._VIME__encoder.encoder.relu_1          | ReLU                 | 0      | train\n",
      "15 | model._VIME__encoder.encoder.dropout_1       | Dropout              | 0      | train\n",
      "16 | model._VIME__encoder.encoder.linear_2        | Linear               | 40.2 K | train\n",
      "17 | model._VIME__encoder.encoder.batchnorm_2     | BatchNorm1d          | 400    | train\n",
      "18 | model._VIME__encoder.encoder.relu_2          | ReLU                 | 0      | train\n",
      "19 | model._VIME__encoder.encoder.dropout_2       | Dropout              | 0      | train\n",
      "20 | model._VIME__encoder.encoder.linear_3        | Linear               | 40.2 K | train\n",
      "21 | model._VIME__encoder.encoder.batchnorm_3     | BatchNorm1d          | 400    | train\n",
      "22 | model._VIME__encoder.encoder.relu_3          | ReLU                 | 0      | train\n",
      "23 | model._VIME__encoder.encoder.dropout_3       | Dropout              | 0      | train\n",
      "24 | model._VIME__encoder.encoder.linear_4        | Linear               | 40.2 K | train\n",
      "25 | model._VIME__encoder.encoder.batchnorm_4     | BatchNorm1d          | 400    | train\n",
      "26 | model._VIME__encoder.encoder.relu_4          | ReLU                 | 0      | train\n",
      "27 | model._VIME__encoder.encoder.dropout_4       | Dropout              | 0      | train\n",
      "28 | model._VIME__encoder.encoder.linear_5        | Linear               | 40.2 K | train\n",
      "29 | model._VIME__encoder.encoder.batchnorm_5     | BatchNorm1d          | 400    | train\n",
      "30 | model._VIME__encoder.encoder.relu_5          | ReLU                 | 0      | train\n",
      "31 | model._VIME__encoder.encoder.dropout_5       | Dropout              | 0      | train\n",
      "32 | model._VIME__encoder.encoder.linear_6        | Linear               | 40.2 K | train\n",
      "33 | model._VIME__encoder.encoder.batchnorm_6     | BatchNorm1d          | 400    | train\n",
      "34 | model._VIME__encoder.encoder.relu_6          | ReLU                 | 0      | train\n",
      "35 | model._VIME__encoder.encoder.dropout_6       | Dropout              | 0      | train\n",
      "36 | model._VIME__encoder.encoder.linear_n_layers | Linear               | 40.2 K | train\n",
      "37 | model._VIME__encoder.mask_output             | Linear               | 18.5 K | train\n",
      "38 | model._VIME__encoder.feature_output          | Linear               | 18.5 K | train\n",
      "39 | model.one_layer_prediction_head              | VIMESemiSupervised_1 | 40.4 K | train\n",
      "40 | model.one_layer_prediction_head.fc1          | Linear               | 40.2 K | train\n",
      "41 | model.one_layer_prediction_head.fc3          | Linear               | 201    | train\n",
      "42 | model.two_layer_prediction_head              | VIMESemiSupervised_2 | 60.4 K | train\n",
      "43 | model.two_layer_prediction_head.fc1          | Linear               | 40.2 K | train\n",
      "44 | model.two_layer_prediction_head.fc2          | Linear               | 20.1 K | train\n",
      "45 | model.two_layer_prediction_head.fc3          | Linear               | 101    | train\n",
      "-----------------------------------------------------------------------------------------------\n",
      "440 K     Trainable params\n",
      "0         Non-trainable params\n",
      "440 K     Total params\n",
      "1.762     Total estimated model params size (MB)\n",
      "Time to pretrain model:  23370.233692884445\n",
      "DONE PRETRAINING\n"
     ]
    }
   ],
   "source": [
    "s3l_training(pretrain=True, # if True First Phase training\n",
    "             use_pretrained_model=False, # if True Second Phase learning\n",
    "             pt_type='vime', \n",
    "             pt_folder='FP6')"
   ]
  },
  {
   "cell_type": "code",
   "execution_count": null,
   "id": "de7160f9-4db4-4688-9556-ba884a04eafb",
   "metadata": {},
   "outputs": [],
   "source": []
  },
  {
   "cell_type": "code",
   "execution_count": null,
   "id": "44a0e795-750f-45ce-9a6a-b578608c7f1f",
   "metadata": {},
   "outputs": [],
   "source": []
  }
 ],
 "metadata": {
  "kernelspec": {
   "display_name": "Python 3 (ipykernel)",
   "language": "python",
   "name": "python3"
  },
  "language_info": {
   "codemirror_mode": {
    "name": "ipython",
    "version": 3
   },
   "file_extension": ".py",
   "mimetype": "text/x-python",
   "name": "python",
   "nbconvert_exporter": "python",
   "pygments_lexer": "ipython3",
   "version": "3.8.10"
  }
 },
 "nbformat": 4,
 "nbformat_minor": 5
}
