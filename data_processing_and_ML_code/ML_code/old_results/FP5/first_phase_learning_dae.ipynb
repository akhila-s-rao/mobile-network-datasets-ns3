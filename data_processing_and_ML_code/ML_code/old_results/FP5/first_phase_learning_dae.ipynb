{
 "cells": [
  {
   "cell_type": "code",
   "execution_count": 1,
   "id": "8ed58de6-5ac0-4bbb-95e7-c77e64dfaf11",
   "metadata": {},
   "outputs": [],
   "source": [
    "# reload\n",
    "#%reset\n",
    "%load_ext autoreload\n",
    "%autoreload 2 \n",
    "\n",
    "import warnings\n",
    "import logging\n",
    "import os\n",
    "\n",
    "# DEBUG MODE\n",
    "os.environ['TF_CPP_MIN_LOG_LEVEL'] = '3'\n",
    "warnings.filterwarnings('ignore')\n",
    "logging.getLogger('tensorflow').setLevel(logging.FATAL)\n",
    "    \n",
    "from s3l_training import s3l_training"
   ]
  },
  {
   "cell_type": "code",
   "execution_count": 2,
   "id": "26eb320c-c17f-40dd-8264-6dcbd0933f0b",
   "metadata": {},
   "outputs": [
    {
     "name": "stdout",
     "output_type": "stream",
     "text": [
      "Run with random seed:  561\n",
      "GPU is available.\n",
      "1\n",
      "True\n",
      "12.1\n",
      "Concatenating runs:  range(1, 11)\n",
      "Time to read csv file for run:  3.0850369930267334\n",
      "Loaded run 1\n",
      "Time to read csv file for run:  3.071093797683716\n",
      "Loaded run 2\n",
      "Time to read csv file for run:  2.971658945083618\n",
      "Loaded run 3\n",
      "Time to read csv file for run:  2.9766063690185547\n",
      "Loaded run 4\n",
      "Time to read csv file for run:  2.9507265090942383\n",
      "Loaded run 5\n",
      "Time to read csv file for run:  2.7477569580078125\n",
      "Loaded run 6\n",
      "Time to read csv file for run:  3.0132155418395996\n",
      "Loaded run 7\n",
      "Time to read csv file for run:  2.994603395462036\n",
      "Loaded run 8\n",
      "Time to read csv file for run:  2.9903244972229004\n",
      "Loaded run 9\n",
      "Time to read csv file for run:  2.9107978343963623\n",
      "Loaded run 10\n",
      "pretrain_data, before removing rows that dont have traffic  (1799100, 102)\n",
      "pretrain_data, after removing rows that dont have traffic  (205538, 102)\n",
      "X_pretrain  (205086, 92)\n"
     ]
    },
    {
     "name": "stderr",
     "output_type": "stream",
     "text": [
      "Seed set to 42\n"
     ]
    },
    {
     "name": "stdout",
     "output_type": "stream",
     "text": [
      "HYPERPARAMETERS:  {'loss_fn': 'MSELoss', 'metric': 'r2_score', 'hidden_dim': 200, 'max_epochs': 100, 'batch_size': 128, 'optim_hparams': {'lr': 0.0001, 'weight_decay': 5e-05}, 'encoder_depth': 4, 'head_depth': 2, 'dropout_rate': 0.1, 'noise_type': 'Swap', 'noise_ratio': 0.3}\n"
     ]
    },
    {
     "name": "stderr",
     "output_type": "stream",
     "text": [
      "GPU available: True (cuda), used: True\n",
      "TPU available: False, using: 0 TPU cores\n",
      "HPU available: False, using: 0 HPUs\n",
      "LOCAL_RANK: 0 - CUDA_VISIBLE_DEVICES: [0]\n"
     ]
    },
    {
     "name": "stdout",
     "output_type": "stream",
     "text": [
      "refresh rate:  10\n"
     ]
    },
    {
     "name": "stderr",
     "output_type": "stream",
     "text": [
      "\n",
      "  | Name                     | Type    | Params | Mode \n",
      "-------------------------------------------------------------\n",
      "0 | task_loss_fn             | MSELoss | 0      | train\n",
      "1 | mask_loss_fn             | BCELoss | 0      | train\n",
      "2 | categorical_feature_loss | BCELoss | 0      | train\n",
      "3 | continuous_feature_loss  | MSELoss | 0      | train\n",
      "4 | model                    | DAE     | 295 K  | train\n",
      "-------------------------------------------------------------\n",
      "295 K     Trainable params\n",
      "0         Non-trainable params\n",
      "295 K     Total params\n",
      "1.183     Total estimated model params size (MB)\n"
     ]
    },
    {
     "name": "stdout",
     "output_type": "stream",
     "text": [
      "Epoch 0: 100%|██████████████████████████████████████████████████████████████████████████████████████████| 1451/1451 [00:15<00:00, 91.91it/s]\n",
      "Epoch 1: 100%|████████████████████████████████████████████████████████| 1451/1451 [00:17<00:00, 83.53it/s, train_loss=1.480, val_loss=1.090]\u001b[A\n",
      "Epoch 2: 100%|████████████████████████████████████████████████████████| 1451/1451 [00:16<00:00, 86.20it/s, train_loss=1.090, val_loss=0.976]\u001b[A\n",
      "Epoch 3: 100%|████████████████████████████████████████████████████████| 1451/1451 [00:16<00:00, 86.41it/s, train_loss=1.020, val_loss=0.932]\u001b[A\n",
      "Epoch 4: 100%|████████████████████████████████████████████████████████| 1451/1451 [00:16<00:00, 86.10it/s, train_loss=0.983, val_loss=0.910]\u001b[A\n",
      "Epoch 5: 100%|████████████████████████████████████████████████████████| 1451/1451 [00:17<00:00, 84.57it/s, train_loss=0.963, val_loss=0.891]\u001b[A\n",
      "Epoch 6: 100%|████████████████████████████████████████████████████████| 1451/1451 [00:17<00:00, 84.38it/s, train_loss=0.948, val_loss=0.880]\u001b[A\n",
      "Epoch 7: 100%|████████████████████████████████████████████████████████| 1451/1451 [00:16<00:00, 86.26it/s, train_loss=0.933, val_loss=0.881]\u001b[A\n",
      "Epoch 8: 100%|████████████████████████████████████████████████████████| 1451/1451 [00:16<00:00, 88.55it/s, train_loss=0.926, val_loss=0.870]\u001b[A\n",
      "Epoch 9: 100%|████████████████████████████████████████████████████████| 1451/1451 [00:16<00:00, 89.68it/s, train_loss=0.919, val_loss=0.860]\u001b[A\n",
      "Epoch 10: 100%|███████████████████████████████████████████████████████| 1451/1451 [00:16<00:00, 89.42it/s, train_loss=0.915, val_loss=0.854]\u001b[A\n",
      "Epoch 11: 100%|███████████████████████████████████████████████████████| 1451/1451 [00:16<00:00, 86.04it/s, train_loss=0.909, val_loss=0.852]\u001b[A\n",
      "Epoch 12: 100%|███████████████████████████████████████████████████████| 1451/1451 [00:16<00:00, 88.37it/s, train_loss=0.903, val_loss=0.863]\u001b[A\n",
      "Epoch 13: 100%|███████████████████████████████████████████████████████| 1451/1451 [00:16<00:00, 89.00it/s, train_loss=0.900, val_loss=0.858]\u001b[A\n",
      "Epoch 14: 100%|███████████████████████████████████████████████████████| 1451/1451 [00:16<00:00, 88.78it/s, train_loss=0.897, val_loss=0.865]\u001b[A\n",
      "Epoch 15: 100%|███████████████████████████████████████████████████████| 1451/1451 [00:16<00:00, 89.56it/s, train_loss=0.891, val_loss=0.858]\u001b[A\n",
      "Epoch 16: 100%|███████████████████████████████████████████████████████| 1451/1451 [00:16<00:00, 88.05it/s, train_loss=0.893, val_loss=0.855]\u001b[A\n",
      "Epoch 17: 100%|███████████████████████████████████████████████████████| 1451/1451 [00:16<00:00, 88.34it/s, train_loss=0.884, val_loss=0.833]\u001b[A\n",
      "Epoch 18: 100%|███████████████████████████████████████████████████████| 1451/1451 [00:16<00:00, 89.46it/s, train_loss=0.884, val_loss=0.840]\u001b[A\n",
      "Epoch 19: 100%|███████████████████████████████████████████████████████| 1451/1451 [00:16<00:00, 89.10it/s, train_loss=0.879, val_loss=0.831]\u001b[A\n",
      "Epoch 20: 100%|███████████████████████████████████████████████████████| 1451/1451 [00:16<00:00, 88.07it/s, train_loss=0.878, val_loss=0.839]\u001b[A\n",
      "Epoch 21: 100%|███████████████████████████████████████████████████████| 1451/1451 [00:16<00:00, 88.31it/s, train_loss=0.880, val_loss=0.824]\u001b[A\n",
      "Epoch 22: 100%|███████████████████████████████████████████████████████| 1451/1451 [00:16<00:00, 87.95it/s, train_loss=0.877, val_loss=0.824]\u001b[A\n",
      "Epoch 23: 100%|███████████████████████████████████████████████████████| 1451/1451 [00:16<00:00, 88.51it/s, train_loss=0.874, val_loss=0.828]\u001b[A\n",
      "Epoch 24: 100%|███████████████████████████████████████████████████████| 1451/1451 [00:17<00:00, 84.77it/s, train_loss=0.871, val_loss=0.827]\u001b[A\n",
      "Epoch 25: 100%|███████████████████████████████████████████████████████| 1451/1451 [00:16<00:00, 88.35it/s, train_loss=0.870, val_loss=0.849]\u001b[A\n",
      "Epoch 26: 100%|███████████████████████████████████████████████████████| 1451/1451 [00:16<00:00, 89.64it/s, train_loss=0.866, val_loss=0.822]\u001b[A\n",
      "Epoch 27: 100%|███████████████████████████████████████████████████████| 1451/1451 [00:16<00:00, 87.32it/s, train_loss=0.869, val_loss=0.823]\u001b[A\n",
      "Epoch 28: 100%|███████████████████████████████████████████████████████| 1451/1451 [00:16<00:00, 90.49it/s, train_loss=0.864, val_loss=0.822]\u001b[A\n",
      "Epoch 29: 100%|███████████████████████████████████████████████████████| 1451/1451 [00:16<00:00, 88.54it/s, train_loss=0.862, val_loss=0.816]\u001b[A\n",
      "Epoch 30: 100%|███████████████████████████████████████████████████████| 1451/1451 [00:16<00:00, 89.80it/s, train_loss=0.862, val_loss=0.813]\u001b[A\n",
      "Epoch 31: 100%|███████████████████████████████████████████████████████| 1451/1451 [00:16<00:00, 87.51it/s, train_loss=0.863, val_loss=0.813]\u001b[A\n",
      "Epoch 32: 100%|███████████████████████████████████████████████████████| 1451/1451 [00:16<00:00, 85.61it/s, train_loss=0.860, val_loss=0.836]\u001b[A\n",
      "Epoch 33: 100%|███████████████████████████████████████████████████████| 1451/1451 [00:16<00:00, 88.51it/s, train_loss=0.859, val_loss=0.832]\u001b[A\n",
      "Epoch 34: 100%|███████████████████████████████████████████████████████| 1451/1451 [00:16<00:00, 89.27it/s, train_loss=0.858, val_loss=0.831]\u001b[A\n",
      "Epoch 35: 100%|███████████████████████████████████████████████████████| 1451/1451 [00:16<00:00, 88.67it/s, train_loss=0.859, val_loss=0.842]\u001b[A\n",
      "Epoch 36: 100%|███████████████████████████████████████████████████████| 1451/1451 [00:16<00:00, 88.67it/s, train_loss=0.857, val_loss=0.822]\u001b[A\n",
      "Epoch 37: 100%|███████████████████████████████████████████████████████| 1451/1451 [00:16<00:00, 89.78it/s, train_loss=0.854, val_loss=0.812]\u001b[A\n",
      "Epoch 38: 100%|███████████████████████████████████████████████████████| 1451/1451 [00:16<00:00, 86.90it/s, train_loss=0.853, val_loss=0.816]\u001b[A\n",
      "Epoch 39: 100%|███████████████████████████████████████████████████████| 1451/1451 [00:16<00:00, 88.11it/s, train_loss=0.851, val_loss=0.820]\u001b[A\n",
      "Epoch 40: 100%|███████████████████████████████████████████████████████| 1451/1451 [00:16<00:00, 88.47it/s, train_loss=0.850, val_loss=0.805]\u001b[A\n",
      "Epoch 41: 100%|███████████████████████████████████████████████████████| 1451/1451 [00:16<00:00, 88.39it/s, train_loss=0.853, val_loss=0.808]\u001b[A\n",
      "Epoch 42: 100%|███████████████████████████████████████████████████████| 1451/1451 [00:16<00:00, 89.64it/s, train_loss=0.848, val_loss=0.810]\u001b[A\n",
      "Epoch 43: 100%|███████████████████████████████████████████████████████| 1451/1451 [00:16<00:00, 88.03it/s, train_loss=0.846, val_loss=0.811]\u001b[A\n",
      "Epoch 44: 100%|███████████████████████████████████████████████████████| 1451/1451 [00:15<00:00, 91.78it/s, train_loss=0.848, val_loss=0.824]\u001b[A\n",
      "Epoch 45: 100%|███████████████████████████████████████████████████████| 1451/1451 [00:16<00:00, 88.61it/s, train_loss=0.848, val_loss=0.806]\u001b[A\n",
      "Epoch 46: 100%|███████████████████████████████████████████████████████| 1451/1451 [00:16<00:00, 87.02it/s, train_loss=0.848, val_loss=0.799]\u001b[A\n",
      "Epoch 47: 100%|███████████████████████████████████████████████████████| 1451/1451 [00:16<00:00, 89.42it/s, train_loss=0.849, val_loss=0.800]\u001b[A\n",
      "Epoch 48: 100%|███████████████████████████████████████████████████████| 1451/1451 [00:16<00:00, 88.15it/s, train_loss=0.843, val_loss=0.805]\u001b[A\n",
      "Epoch 49: 100%|███████████████████████████████████████████████████████| 1451/1451 [00:16<00:00, 89.02it/s, train_loss=0.846, val_loss=0.828]\u001b[A\n",
      "Epoch 50: 100%|███████████████████████████████████████████████████████| 1451/1451 [00:16<00:00, 88.56it/s, train_loss=0.842, val_loss=0.808]\u001b[A\n",
      "Epoch 51: 100%|███████████████████████████████████████████████████████| 1451/1451 [00:16<00:00, 87.15it/s, train_loss=0.842, val_loss=0.810]\u001b[A\n",
      "Epoch 52: 100%|███████████████████████████████████████████████████████| 1451/1451 [00:16<00:00, 88.64it/s, train_loss=0.839, val_loss=0.797]\u001b[A\n",
      "Epoch 53: 100%|███████████████████████████████████████████████████████| 1451/1451 [00:16<00:00, 87.63it/s, train_loss=0.841, val_loss=0.813]\u001b[A\n",
      "Epoch 54: 100%|███████████████████████████████████████████████████████| 1451/1451 [00:16<00:00, 89.59it/s, train_loss=0.837, val_loss=0.822]\u001b[A\n",
      "Epoch 55: 100%|███████████████████████████████████████████████████████| 1451/1451 [00:16<00:00, 87.60it/s, train_loss=0.839, val_loss=0.798]\u001b[A\n",
      "Epoch 56: 100%|███████████████████████████████████████████████████████| 1451/1451 [00:15<00:00, 91.70it/s, train_loss=0.837, val_loss=0.807]\u001b[A\n",
      "Epoch 57: 100%|███████████████████████████████████████████████████████| 1451/1451 [00:16<00:00, 89.88it/s, train_loss=0.833, val_loss=0.797]\u001b[A\n",
      "Epoch 58: 100%|███████████████████████████████████████████████████████| 1451/1451 [00:16<00:00, 90.57it/s, train_loss=0.834, val_loss=0.814]\u001b[A\n",
      "Epoch 59: 100%|███████████████████████████████████████████████████████| 1451/1451 [00:16<00:00, 89.58it/s, train_loss=0.833, val_loss=0.791]\u001b[A\n",
      "Epoch 60: 100%|███████████████████████████████████████████████████████| 1451/1451 [00:16<00:00, 87.62it/s, train_loss=0.839, val_loss=0.787]\u001b[A\n",
      "Epoch 61: 100%|███████████████████████████████████████████████████████| 1451/1451 [00:16<00:00, 89.97it/s, train_loss=0.837, val_loss=0.815]\u001b[A\n",
      "Epoch 62: 100%|███████████████████████████████████████████████████████| 1451/1451 [00:16<00:00, 89.52it/s, train_loss=0.832, val_loss=0.789]\u001b[A\n",
      "Epoch 63: 100%|███████████████████████████████████████████████████████| 1451/1451 [00:16<00:00, 88.35it/s, train_loss=0.831, val_loss=0.794]\u001b[A\n",
      "Epoch 64: 100%|███████████████████████████████████████████████████████| 1451/1451 [00:16<00:00, 89.80it/s, train_loss=0.827, val_loss=0.803]\u001b[A\n",
      "Epoch 65: 100%|███████████████████████████████████████████████████████| 1451/1451 [00:16<00:00, 88.40it/s, train_loss=0.830, val_loss=0.792]\u001b[A\n",
      "Epoch 66: 100%|███████████████████████████████████████████████████████| 1451/1451 [00:16<00:00, 89.55it/s, train_loss=0.827, val_loss=0.798]\u001b[A\n",
      "Epoch 67: 100%|███████████████████████████████████████████████████████| 1451/1451 [00:16<00:00, 88.02it/s, train_loss=0.826, val_loss=0.783]\u001b[A\n",
      "Epoch 68: 100%|███████████████████████████████████████████████████████| 1451/1451 [00:16<00:00, 87.82it/s, train_loss=0.829, val_loss=0.789]\u001b[A\n",
      "Epoch 69: 100%|███████████████████████████████████████████████████████| 1451/1451 [00:16<00:00, 88.53it/s, train_loss=0.828, val_loss=0.781]\u001b[A\n",
      "Epoch 70: 100%|███████████████████████████████████████████████████████| 1451/1451 [00:16<00:00, 89.53it/s, train_loss=0.828, val_loss=0.784]\u001b[A\n",
      "Epoch 71: 100%|███████████████████████████████████████████████████████| 1451/1451 [00:16<00:00, 87.88it/s, train_loss=0.830, val_loss=0.781]\u001b[A\n",
      "Epoch 72: 100%|███████████████████████████████████████████████████████| 1451/1451 [00:16<00:00, 89.81it/s, train_loss=0.830, val_loss=0.788]\u001b[A\n",
      "Epoch 73: 100%|███████████████████████████████████████████████████████| 1451/1451 [00:16<00:00, 89.58it/s, train_loss=0.825, val_loss=0.801]\u001b[A\n",
      "Epoch 74: 100%|███████████████████████████████████████████████████████| 1451/1451 [00:16<00:00, 90.60it/s, train_loss=0.823, val_loss=0.783]\u001b[A\n",
      "Epoch 75: 100%|███████████████████████████████████████████████████████| 1451/1451 [00:16<00:00, 88.80it/s, train_loss=0.823, val_loss=0.793]\u001b[A\n",
      "Epoch 76: 100%|███████████████████████████████████████████████████████| 1451/1451 [00:16<00:00, 86.72it/s, train_loss=0.827, val_loss=0.778]\u001b[A\n",
      "Epoch 77: 100%|███████████████████████████████████████████████████████| 1451/1451 [00:16<00:00, 88.92it/s, train_loss=0.823, val_loss=0.782]\u001b[A\n",
      "Epoch 78: 100%|███████████████████████████████████████████████████████| 1451/1451 [00:16<00:00, 88.49it/s, train_loss=0.819, val_loss=0.782]\u001b[A\n",
      "Epoch 79: 100%|███████████████████████████████████████████████████████| 1451/1451 [00:16<00:00, 87.98it/s, train_loss=0.824, val_loss=0.776]\u001b[A\n",
      "Epoch 80: 100%|███████████████████████████████████████████████████████| 1451/1451 [00:16<00:00, 89.18it/s, train_loss=0.819, val_loss=0.784]\u001b[A\n",
      "Epoch 81: 100%|███████████████████████████████████████████████████████| 1451/1451 [00:16<00:00, 89.70it/s, train_loss=0.822, val_loss=0.776]\u001b[A\n",
      "Epoch 82: 100%|███████████████████████████████████████████████████████| 1451/1451 [00:16<00:00, 89.44it/s, train_loss=0.819, val_loss=0.771]\u001b[A\n",
      "Epoch 83: 100%|███████████████████████████████████████████████████████| 1451/1451 [00:16<00:00, 90.00it/s, train_loss=0.817, val_loss=0.764]\u001b[A\n",
      "Epoch 84: 100%|███████████████████████████████████████████████████████| 1451/1451 [00:16<00:00, 88.87it/s, train_loss=0.816, val_loss=0.789]\u001b[A\n",
      "Epoch 85: 100%|███████████████████████████████████████████████████████| 1451/1451 [00:16<00:00, 88.10it/s, train_loss=0.817, val_loss=0.774]\u001b[A\n",
      "Epoch 86: 100%|███████████████████████████████████████████████████████| 1451/1451 [00:16<00:00, 86.90it/s, train_loss=0.817, val_loss=0.793]\u001b[A\n",
      "Epoch 87: 100%|███████████████████████████████████████████████████████| 1451/1451 [00:16<00:00, 86.80it/s, train_loss=0.819, val_loss=0.773]\u001b[A\n",
      "Epoch 88: 100%|███████████████████████████████████████████████████████| 1451/1451 [00:16<00:00, 89.32it/s, train_loss=0.814, val_loss=0.774]\u001b[A\n",
      "Epoch 89: 100%|███████████████████████████████████████████████████████| 1451/1451 [00:16<00:00, 89.73it/s, train_loss=0.815, val_loss=0.787]\u001b[A\n",
      "Epoch 90: 100%|███████████████████████████████████████████████████████| 1451/1451 [00:16<00:00, 86.97it/s, train_loss=0.816, val_loss=0.783]\u001b[A\n",
      "Epoch 91: 100%|███████████████████████████████████████████████████████| 1451/1451 [00:16<00:00, 89.18it/s, train_loss=0.816, val_loss=0.782]\u001b[A\n",
      "Epoch 92: 100%|███████████████████████████████████████████████████████| 1451/1451 [00:16<00:00, 90.45it/s, train_loss=0.813, val_loss=0.776]\u001b[A\n",
      "Epoch 93: 100%|███████████████████████████████████████████████████████| 1451/1451 [00:16<00:00, 90.50it/s, train_loss=0.818, val_loss=0.775]\u001b[A\n",
      "Epoch 94: 100%|███████████████████████████████████████████████████████| 1451/1451 [00:16<00:00, 86.43it/s, train_loss=0.816, val_loss=0.788]\u001b[A\n",
      "Epoch 95: 100%|███████████████████████████████████████████████████████| 1451/1451 [00:16<00:00, 88.83it/s, train_loss=0.813, val_loss=0.801]\u001b[A\n",
      "Epoch 96: 100%|███████████████████████████████████████████████████████| 1451/1451 [00:16<00:00, 87.83it/s, train_loss=0.811, val_loss=0.788]\u001b[A\n",
      "Epoch 97: 100%|███████████████████████████████████████████████████████| 1451/1451 [00:16<00:00, 87.89it/s, train_loss=0.813, val_loss=0.768]\u001b[A\n",
      "Epoch 98: 100%|███████████████████████████████████████████████████████| 1451/1451 [00:16<00:00, 88.05it/s, train_loss=0.814, val_loss=0.775]\u001b[A\n",
      "Epoch 99: 100%|███████████████████████████████████████████████████████| 1451/1451 [00:16<00:00, 88.15it/s, train_loss=0.812, val_loss=0.801]\u001b[A\n",
      "Epoch 99: 100%|███████████████████████████████████████████████████████| 1451/1451 [00:17<00:00, 82.48it/s, train_loss=0.811, val_loss=0.780]\u001b[A"
     ]
    },
    {
     "name": "stderr",
     "output_type": "stream",
     "text": [
      "`Trainer.fit` stopped: `max_epochs=100` reached.\n"
     ]
    },
    {
     "name": "stdout",
     "output_type": "stream",
     "text": [
      "Epoch 99: 100%|███████████████████████████████████████████████████████| 1451/1451 [00:17<00:00, 82.34it/s, train_loss=0.811, val_loss=0.780]\n"
     ]
    },
    {
     "data": {
      "image/png": "[encoded data removed]",
      "text/plain": [
       "<Figure size 640x480 with 1 Axes>"
      ]
     },
     "metadata": {},
     "output_type": "display_data"
    },
    {
     "name": "stdout",
     "output_type": "stream",
     "text": [
      "DONE SAVING PRETRAINED MODEL\n",
      "   | Name                                             | Type        | Params | Mode \n",
      "------------------------------------------------------------------------------------------\n",
      "0  | task_loss_fn                                     | MSELoss     | 0      | train\n",
      "1  | mask_loss_fn                                     | BCELoss     | 0      | train\n",
      "2  | categorical_feature_loss                         | BCELoss     | 0      | train\n",
      "3  | continuous_feature_loss                          | MSELoss     | 0      | train\n",
      "4  | model                                            | DAE         | 295 K  | train\n",
      "5  | model._DAE__encoder                              | MLP         | 140 K  | train\n",
      "6  | model._DAE__encoder.linear_0                     | Linear      | 18.6 K | train\n",
      "7  | model._DAE__encoder.batchnorm_0                  | BatchNorm1d | 400    | train\n",
      "8  | model._DAE__encoder.relu_0                       | ReLU        | 0      | train\n",
      "9  | model._DAE__encoder.dropout_0                    | Dropout     | 0      | train\n",
      "10 | model._DAE__encoder.linear_1                     | Linear      | 40.2 K | train\n",
      "11 | model._DAE__encoder.batchnorm_1                  | BatchNorm1d | 400    | train\n",
      "12 | model._DAE__encoder.relu_1                       | ReLU        | 0      | train\n",
      "13 | model._DAE__encoder.dropout_1                    | Dropout     | 0      | train\n",
      "14 | model._DAE__encoder.linear_2                     | Linear      | 40.2 K | train\n",
      "15 | model._DAE__encoder.batchnorm_2                  | BatchNorm1d | 400    | train\n",
      "16 | model._DAE__encoder.relu_2                       | ReLU        | 0      | train\n",
      "17 | model._DAE__encoder.dropout_2                    | Dropout     | 0      | train\n",
      "18 | model._DAE__encoder.linear_n_layers              | Linear      | 40.2 K | train\n",
      "19 | model.mask_predictor_head                        | MLP         | 27.2 K | train\n",
      "20 | model.mask_predictor_head.linear_0               | Linear      | 18.5 K | train\n",
      "21 | model.mask_predictor_head.batchnorm_0            | BatchNorm1d | 184    | train\n",
      "22 | model.mask_predictor_head.relu_0                 | ReLU        | 0      | train\n",
      "23 | model.mask_predictor_head.dropout_0              | Dropout     | 0      | train\n",
      "24 | model.mask_predictor_head.linear_n_layers        | Linear      | 8.6 K  | train\n",
      "25 | model.reconstruction_head                        | MLP         | 27.2 K | train\n",
      "26 | model.reconstruction_head.linear_0               | Linear      | 18.5 K | train\n",
      "27 | model.reconstruction_head.batchnorm_0            | BatchNorm1d | 184    | train\n",
      "28 | model.reconstruction_head.relu_0                 | ReLU        | 0      | train\n",
      "29 | model.reconstruction_head.dropout_0              | Dropout     | 0      | train\n",
      "30 | model.reconstruction_head.linear_n_layers        | Linear      | 8.6 K  | train\n",
      "31 | model.one_layer_prediction_head                  | Sequential  | 40.4 K | train\n",
      "32 | model.one_layer_prediction_head.head_linear_hid  | Linear      | 40.2 K | train\n",
      "33 | model.one_layer_prediction_head.head_activation  | ReLU        | 0      | train\n",
      "34 | model.one_layer_prediction_head.head_linear_out  | Linear      | 201    | train\n",
      "35 | model.two_layer_prediction_head                  | Sequential  | 60.4 K | train\n",
      "36 | model.two_layer_prediction_head.head_linear_hid1 | Linear      | 40.2 K | train\n",
      "37 | model.two_layer_prediction_head.head_activation1 | ReLU        | 0      | train\n",
      "38 | model.two_layer_prediction_head.head_linear_hid2 | Linear      | 20.1 K | train\n",
      "39 | model.two_layer_prediction_head.head_activation2 | ReLU        | 0      | train\n",
      "40 | model.two_layer_prediction_head.head_linear_out  | Linear      | 101    | train\n",
      "------------------------------------------------------------------------------------------\n",
      "295 K     Trainable params\n",
      "0         Non-trainable params\n",
      "295 K     Total params\n",
      "1.183     Total estimated model params size (MB)\n",
      "Time to pretrain model:  1752.2524762153625\n",
      "DONE PRETRAINING\n"
     ]
    }
   ],
   "source": [
    "s3l_training(pretrain=True, # if True First Phase training\n",
    "             use_pretrained_model=False, # if True Second Phase learning\n",
    "             pt_type='dae', \n",
    "             pt_folder='FP5')"
   ]
  },
  {
   "cell_type": "code",
   "execution_count": null,
   "id": "de7160f9-4db4-4688-9556-ba884a04eafb",
   "metadata": {},
   "outputs": [],
   "source": []
  }
 ],
 "metadata": {
  "kernelspec": {
   "display_name": "Python 3 (ipykernel)",
   "language": "python",
   "name": "python3"
  },
  "language_info": {
   "codemirror_mode": {
    "name": "ipython",
    "version": 3
   },
   "file_extension": ".py",
   "mimetype": "text/x-python",
   "name": "python",
   "nbconvert_exporter": "python",
   "pygments_lexer": "ipython3",
   "version": "3.8.10"
  }
 },
 "nbformat": 4,
 "nbformat_minor": 5
}
