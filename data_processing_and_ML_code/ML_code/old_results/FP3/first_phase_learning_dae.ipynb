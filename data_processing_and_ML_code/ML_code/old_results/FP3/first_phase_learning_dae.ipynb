{
 "cells": [
  {
   "cell_type": "code",
   "execution_count": 29,
   "id": "8ed58de6-5ac0-4bbb-95e7-c77e64dfaf11",
   "metadata": {},
   "outputs": [
    {
     "name": "stdout",
     "output_type": "stream",
     "text": [
      "The autoreload extension is already loaded. To reload it, use:\n",
      "  %reload_ext autoreload\n"
     ]
    }
   ],
   "source": [
    "# reload\n",
    "#%reset\n",
    "%load_ext autoreload\n",
    "%autoreload 2 \n",
    "\n",
    "import warnings\n",
    "import logging\n",
    "import os\n",
    "\n",
    "# DEBUG MODE\n",
    "os.environ['TF_CPP_MIN_LOG_LEVEL'] = '3'\n",
    "warnings.filterwarnings('ignore')\n",
    "logging.getLogger('tensorflow').setLevel(logging.FATAL)\n",
    "    \n",
    "from s3l_training import s3l_training"
   ]
  },
  {
   "cell_type": "code",
   "execution_count": 30,
   "id": "26eb320c-c17f-40dd-8264-6dcbd0933f0b",
   "metadata": {},
   "outputs": [
    {
     "name": "stdout",
     "output_type": "stream",
     "text": [
      "Run with random seed:  561\n",
      "GPU is available.\n",
      "1\n",
      "True\n",
      "12.1\n",
      "Concatenating runs:  range(1, 11)\n",
      "Time to read csv file for run:  2.950144052505493\n",
      "Loaded run 1\n",
      "Time to read csv file for run:  2.813403367996216\n",
      "Loaded run 2\n",
      "Time to read csv file for run:  2.7962393760681152\n",
      "Loaded run 3\n",
      "Time to read csv file for run:  2.793963670730591\n",
      "Loaded run 4\n",
      "Time to read csv file for run:  2.704453468322754\n",
      "Loaded run 5\n",
      "Time to read csv file for run:  2.7630717754364014\n",
      "Loaded run 6\n",
      "Time to read csv file for run:  2.882958173751831\n",
      "Loaded run 7\n",
      "Time to read csv file for run:  2.893468141555786\n",
      "Loaded run 8\n",
      "Time to read csv file for run:  2.7737042903900146\n",
      "Loaded run 9\n",
      "Time to read csv file for run:  2.9070119857788086\n",
      "Loaded run 10\n"
     ]
    },
    {
     "name": "stderr",
     "output_type": "stream",
     "text": [
      "Seed set to 42\n"
     ]
    },
    {
     "name": "stdout",
     "output_type": "stream",
     "text": [
      "pretrain_data, before removing rows that dont have traffic  (1799100, 102)\n",
      "pretrain_data, after removing rows that dont have traffic  (33026, 102)\n",
      "X_pretrain  (32705, 92)\n",
      "HYPERPARAMETERS:  {'loss_fn': 'MSELoss', 'metric': 'r2_score', 'hidden_dim': 200, 'max_epochs': 100, 'batch_size': 128, 'optim_hparams': {'lr': 0.0001, 'weight_decay': 5e-05}, 'encoder_depth': 4, 'head_depth': 2, 'dropout_rate': 0.1, 'noise_type': 'Swap', 'noise_ratio': 0.3}\n"
     ]
    },
    {
     "name": "stderr",
     "output_type": "stream",
     "text": [
      "GPU available: True (cuda), used: True\n",
      "TPU available: False, using: 0 TPU cores\n",
      "HPU available: False, using: 0 HPUs\n",
      "LOCAL_RANK: 0 - CUDA_VISIBLE_DEVICES: [0]\n"
     ]
    },
    {
     "name": "stdout",
     "output_type": "stream",
     "text": [
      "refresh rate:  10\n"
     ]
    },
    {
     "name": "stderr",
     "output_type": "stream",
     "text": [
      "\n",
      "  | Name                     | Type    | Params | Mode \n",
      "-------------------------------------------------------------\n",
      "0 | task_loss_fn             | MSELoss | 0      | train\n",
      "1 | mask_loss_fn             | BCELoss | 0      | train\n",
      "2 | categorical_feature_loss | BCELoss | 0      | train\n",
      "3 | continuous_feature_loss  | MSELoss | 0      | train\n",
      "4 | model                    | DAE     | 295 K  | train\n",
      "-------------------------------------------------------------\n",
      "295 K     Trainable params\n",
      "0         Non-trainable params\n",
      "295 K     Total params\n",
      "1.183     Total estimated model params size (MB)\n"
     ]
    },
    {
     "name": "stdout",
     "output_type": "stream",
     "text": [
      "Epoch 0: 100%|████████████████████████████████████████████████████████████████████████████████████████████| 232/232 [00:02<00:00, 99.50it/s]\n",
      "Epoch 1: 100%|█████████████████████████████████████████████████████████| 232/232 [00:02<00:00, 101.48it/s, train_loss=2.300, val_loss=1.600]\u001b[A\n",
      "Epoch 2: 100%|██████████████████████████████████████████████████████████| 232/232 [00:02<00:00, 97.15it/s, train_loss=1.480, val_loss=1.320]\u001b[A\n",
      "Epoch 3: 100%|██████████████████████████████████████████████████████████| 232/232 [00:02<00:00, 98.35it/s, train_loss=1.310, val_loss=1.230]\u001b[A\n",
      "Epoch 4: 100%|██████████████████████████████████████████████████████████| 232/232 [00:02<00:00, 94.70it/s, train_loss=1.230, val_loss=1.150]\u001b[A\n",
      "Epoch 5: 100%|██████████████████████████████████████████████████████████| 232/232 [00:02<00:00, 96.51it/s, train_loss=1.180, val_loss=1.100]\u001b[A\n",
      "Epoch 6: 100%|█████████████████████████████████████████████████████████| 232/232 [00:02<00:00, 100.95it/s, train_loss=1.130, val_loss=1.060]\u001b[A\n",
      "Epoch 7: 100%|█████████████████████████████████████████████████████████| 232/232 [00:02<00:00, 103.70it/s, train_loss=1.100, val_loss=1.030]\u001b[A\n",
      "Epoch 8: 100%|██████████████████████████████████████████████████████████| 232/232 [00:02<00:00, 97.61it/s, train_loss=1.070, val_loss=1.010]\u001b[A\n",
      "Epoch 9: 100%|██████████████████████████████████████████████████████████| 232/232 [00:02<00:00, 94.78it/s, train_loss=1.050, val_loss=0.986]\u001b[A\n",
      "Epoch 10: 100%|████████████████████████████████████████████████████████| 232/232 [00:02<00:00, 101.19it/s, train_loss=1.030, val_loss=0.964]\u001b[A\n",
      "Epoch 11: 100%|████████████████████████████████████████████████████████| 232/232 [00:02<00:00, 103.22it/s, train_loss=1.020, val_loss=0.953]\u001b[A\n",
      "Epoch 12: 100%|█████████████████████████████████████████████████████████| 232/232 [00:02<00:00, 96.74it/s, train_loss=1.010, val_loss=0.950]\u001b[A\n",
      "Epoch 13: 100%|█████████████████████████████████████████████████████████| 232/232 [00:02<00:00, 92.05it/s, train_loss=1.000, val_loss=0.943]\u001b[A\n",
      "Epoch 14: 100%|█████████████████████████████████████████████████████████| 232/232 [00:02<00:00, 94.63it/s, train_loss=0.990, val_loss=0.932]\u001b[A\n",
      "Epoch 15: 100%|█████████████████████████████████████████████████████████| 232/232 [00:02<00:00, 93.45it/s, train_loss=0.982, val_loss=0.932]\u001b[A\n",
      "Epoch 16: 100%|█████████████████████████████████████████████████████████| 232/232 [00:02<00:00, 87.30it/s, train_loss=0.975, val_loss=0.917]\u001b[A\n",
      "Epoch 17: 100%|█████████████████████████████████████████████████████████| 232/232 [00:02<00:00, 84.79it/s, train_loss=0.968, val_loss=0.915]\u001b[A\n",
      "Epoch 18: 100%|█████████████████████████████████████████████████████████| 232/232 [00:02<00:00, 83.67it/s, train_loss=0.962, val_loss=0.892]\u001b[A\n",
      "Epoch 19: 100%|█████████████████████████████████████████████████████████| 232/232 [00:02<00:00, 81.67it/s, train_loss=0.955, val_loss=0.903]\u001b[A\n",
      "Epoch 20: 100%|█████████████████████████████████████████████████████████| 232/232 [00:02<00:00, 83.78it/s, train_loss=0.947, val_loss=0.896]\u001b[A\n",
      "Epoch 21: 100%|█████████████████████████████████████████████████████████| 232/232 [00:02<00:00, 87.18it/s, train_loss=0.944, val_loss=0.893]\u001b[A\n",
      "Epoch 22: 100%|█████████████████████████████████████████████████████████| 232/232 [00:02<00:00, 86.66it/s, train_loss=0.944, val_loss=0.887]\u001b[A\n",
      "Epoch 23: 100%|█████████████████████████████████████████████████████████| 232/232 [00:02<00:00, 88.93it/s, train_loss=0.940, val_loss=0.878]\u001b[A\n",
      "Epoch 24: 100%|█████████████████████████████████████████████████████████| 232/232 [00:02<00:00, 87.36it/s, train_loss=0.934, val_loss=0.877]\u001b[A\n",
      "Epoch 25: 100%|█████████████████████████████████████████████████████████| 232/232 [00:02<00:00, 88.72it/s, train_loss=0.928, val_loss=0.885]\u001b[A\n",
      "Epoch 26: 100%|█████████████████████████████████████████████████████████| 232/232 [00:02<00:00, 80.38it/s, train_loss=0.922, val_loss=0.874]\u001b[A\n",
      "Epoch 27: 100%|█████████████████████████████████████████████████████████| 232/232 [00:02<00:00, 83.63it/s, train_loss=0.924, val_loss=0.871]\u001b[A\n",
      "Epoch 28: 100%|█████████████████████████████████████████████████████████| 232/232 [00:02<00:00, 83.24it/s, train_loss=0.921, val_loss=0.876]\u001b[A\n",
      "Epoch 29: 100%|█████████████████████████████████████████████████████████| 232/232 [00:02<00:00, 84.11it/s, train_loss=0.917, val_loss=0.865]\u001b[A\n",
      "Epoch 30: 100%|█████████████████████████████████████████████████████████| 232/232 [00:02<00:00, 84.22it/s, train_loss=0.914, val_loss=0.856]\u001b[A\n",
      "Epoch 31: 100%|█████████████████████████████████████████████████████████| 232/232 [00:02<00:00, 84.34it/s, train_loss=0.913, val_loss=0.869]\u001b[A\n",
      "Epoch 32: 100%|█████████████████████████████████████████████████████████| 232/232 [00:02<00:00, 81.82it/s, train_loss=0.909, val_loss=0.876]\u001b[A\n",
      "Epoch 33: 100%|█████████████████████████████████████████████████████████| 232/232 [00:02<00:00, 83.82it/s, train_loss=0.910, val_loss=0.859]\u001b[A\n",
      "Epoch 34: 100%|█████████████████████████████████████████████████████████| 232/232 [00:02<00:00, 86.88it/s, train_loss=0.907, val_loss=0.855]\u001b[A\n",
      "Epoch 35: 100%|█████████████████████████████████████████████████████████| 232/232 [00:02<00:00, 86.70it/s, train_loss=0.902, val_loss=0.853]\u001b[A\n",
      "Epoch 36: 100%|█████████████████████████████████████████████████████████| 232/232 [00:02<00:00, 82.40it/s, train_loss=0.899, val_loss=0.856]\u001b[A\n",
      "Epoch 37: 100%|█████████████████████████████████████████████████████████| 232/232 [00:02<00:00, 87.19it/s, train_loss=0.903, val_loss=0.851]\u001b[A\n",
      "Epoch 38: 100%|█████████████████████████████████████████████████████████| 232/232 [00:02<00:00, 82.42it/s, train_loss=0.891, val_loss=0.866]\u001b[A\n",
      "Epoch 39: 100%|█████████████████████████████████████████████████████████| 232/232 [00:02<00:00, 83.34it/s, train_loss=0.892, val_loss=0.838]\u001b[A\n",
      "Epoch 40: 100%|█████████████████████████████████████████████████████████| 232/232 [00:02<00:00, 81.54it/s, train_loss=0.895, val_loss=0.857]\u001b[A\n",
      "Epoch 41: 100%|█████████████████████████████████████████████████████████| 232/232 [00:02<00:00, 83.88it/s, train_loss=0.889, val_loss=0.841]\u001b[A\n",
      "Epoch 42: 100%|█████████████████████████████████████████████████████████| 232/232 [00:02<00:00, 83.09it/s, train_loss=0.891, val_loss=0.857]\u001b[A\n",
      "Epoch 43: 100%|█████████████████████████████████████████████████████████| 232/232 [00:02<00:00, 84.39it/s, train_loss=0.892, val_loss=0.854]\u001b[A\n",
      "Epoch 44: 100%|█████████████████████████████████████████████████████████| 232/232 [00:02<00:00, 83.44it/s, train_loss=0.883, val_loss=0.842]\u001b[A\n",
      "Epoch 45: 100%|█████████████████████████████████████████████████████████| 232/232 [00:02<00:00, 85.10it/s, train_loss=0.891, val_loss=0.852]\u001b[A\n",
      "Epoch 46: 100%|█████████████████████████████████████████████████████████| 232/232 [00:02<00:00, 81.33it/s, train_loss=0.881, val_loss=0.846]\u001b[A\n",
      "Epoch 47: 100%|█████████████████████████████████████████████████████████| 232/232 [00:02<00:00, 85.03it/s, train_loss=0.889, val_loss=0.858]\u001b[A\n",
      "Epoch 48: 100%|█████████████████████████████████████████████████████████| 232/232 [00:02<00:00, 83.29it/s, train_loss=0.881, val_loss=0.851]\u001b[A\n",
      "Epoch 49: 100%|█████████████████████████████████████████████████████████| 232/232 [00:02<00:00, 81.31it/s, train_loss=0.878, val_loss=0.852]\u001b[A\n",
      "Epoch 50: 100%|█████████████████████████████████████████████████████████| 232/232 [00:02<00:00, 87.99it/s, train_loss=0.881, val_loss=0.848]\u001b[A\n",
      "Epoch 51: 100%|█████████████████████████████████████████████████████████| 232/232 [00:02<00:00, 84.12it/s, train_loss=0.879, val_loss=0.834]\u001b[A\n",
      "Epoch 52: 100%|█████████████████████████████████████████████████████████| 232/232 [00:02<00:00, 85.93it/s, train_loss=0.877, val_loss=0.825]\u001b[A\n",
      "Epoch 53: 100%|█████████████████████████████████████████████████████████| 232/232 [00:02<00:00, 82.05it/s, train_loss=0.881, val_loss=0.831]\u001b[A\n",
      "Epoch 54: 100%|█████████████████████████████████████████████████████████| 232/232 [00:02<00:00, 82.65it/s, train_loss=0.874, val_loss=0.861]\u001b[A\n",
      "Epoch 55: 100%|█████████████████████████████████████████████████████████| 232/232 [00:02<00:00, 80.57it/s, train_loss=0.871, val_loss=0.829]\u001b[A\n",
      "Epoch 56: 100%|█████████████████████████████████████████████████████████| 232/232 [00:02<00:00, 85.48it/s, train_loss=0.872, val_loss=0.830]\u001b[A\n",
      "Epoch 57: 100%|█████████████████████████████████████████████████████████| 232/232 [00:02<00:00, 86.68it/s, train_loss=0.869, val_loss=0.839]\u001b[A\n",
      "Epoch 58: 100%|█████████████████████████████████████████████████████████| 232/232 [00:02<00:00, 85.06it/s, train_loss=0.868, val_loss=0.852]\u001b[A\n",
      "Epoch 59: 100%|█████████████████████████████████████████████████████████| 232/232 [00:02<00:00, 79.82it/s, train_loss=0.871, val_loss=0.852]\u001b[A\n",
      "Epoch 60: 100%|█████████████████████████████████████████████████████████| 232/232 [00:02<00:00, 83.07it/s, train_loss=0.871, val_loss=0.855]\u001b[A\n",
      "Epoch 61: 100%|█████████████████████████████████████████████████████████| 232/232 [00:02<00:00, 83.65it/s, train_loss=0.867, val_loss=0.834]\u001b[A\n",
      "Epoch 62: 100%|█████████████████████████████████████████████████████████| 232/232 [00:02<00:00, 80.75it/s, train_loss=0.869, val_loss=0.830]\u001b[A\n",
      "Epoch 63: 100%|█████████████████████████████████████████████████████████| 232/232 [00:02<00:00, 78.92it/s, train_loss=0.865, val_loss=0.827]\u001b[A\n",
      "Epoch 64: 100%|█████████████████████████████████████████████████████████| 232/232 [00:02<00:00, 81.40it/s, train_loss=0.870, val_loss=0.821]\u001b[A\n",
      "Epoch 65: 100%|█████████████████████████████████████████████████████████| 232/232 [00:02<00:00, 82.47it/s, train_loss=0.867, val_loss=0.832]\u001b[A\n",
      "Epoch 66: 100%|█████████████████████████████████████████████████████████| 232/232 [00:02<00:00, 85.71it/s, train_loss=0.870, val_loss=0.852]\u001b[A\n",
      "Epoch 67: 100%|█████████████████████████████████████████████████████████| 232/232 [00:02<00:00, 85.01it/s, train_loss=0.861, val_loss=0.848]\u001b[A\n",
      "Epoch 68: 100%|█████████████████████████████████████████████████████████| 232/232 [00:02<00:00, 82.51it/s, train_loss=0.864, val_loss=0.834]\u001b[A\n",
      "Epoch 69: 100%|█████████████████████████████████████████████████████████| 232/232 [00:02<00:00, 84.10it/s, train_loss=0.860, val_loss=0.826]\u001b[A\n",
      "Epoch 70: 100%|█████████████████████████████████████████████████████████| 232/232 [00:02<00:00, 83.17it/s, train_loss=0.863, val_loss=0.851]\u001b[A\n",
      "Epoch 71: 100%|█████████████████████████████████████████████████████████| 232/232 [00:02<00:00, 82.78it/s, train_loss=0.866, val_loss=0.821]\u001b[A\n",
      "Epoch 72: 100%|█████████████████████████████████████████████████████████| 232/232 [00:02<00:00, 85.17it/s, train_loss=0.865, val_loss=0.822]\u001b[A\n",
      "Epoch 73: 100%|█████████████████████████████████████████████████████████| 232/232 [00:02<00:00, 86.89it/s, train_loss=0.855, val_loss=0.825]\u001b[A\n",
      "Epoch 74: 100%|█████████████████████████████████████████████████████████| 232/232 [00:02<00:00, 84.24it/s, train_loss=0.854, val_loss=0.851]\u001b[A\n",
      "Epoch 75: 100%|█████████████████████████████████████████████████████████| 232/232 [00:02<00:00, 80.94it/s, train_loss=0.856, val_loss=0.815]\u001b[A\n",
      "Epoch 76: 100%|█████████████████████████████████████████████████████████| 232/232 [00:02<00:00, 83.94it/s, train_loss=0.860, val_loss=0.825]\u001b[A\n",
      "Epoch 77: 100%|█████████████████████████████████████████████████████████| 232/232 [00:02<00:00, 82.85it/s, train_loss=0.855, val_loss=0.811]\u001b[A\n",
      "Epoch 78: 100%|█████████████████████████████████████████████████████████| 232/232 [00:02<00:00, 81.70it/s, train_loss=0.855, val_loss=0.816]\u001b[A\n",
      "Epoch 79: 100%|█████████████████████████████████████████████████████████| 232/232 [00:02<00:00, 80.56it/s, train_loss=0.855, val_loss=0.813]\u001b[A\n",
      "Epoch 80: 100%|█████████████████████████████████████████████████████████| 232/232 [00:02<00:00, 83.88it/s, train_loss=0.855, val_loss=0.816]\u001b[A\n",
      "Epoch 81: 100%|█████████████████████████████████████████████████████████| 232/232 [00:02<00:00, 80.31it/s, train_loss=0.852, val_loss=0.828]\u001b[A\n",
      "Epoch 82: 100%|█████████████████████████████████████████████████████████| 232/232 [00:02<00:00, 82.88it/s, train_loss=0.859, val_loss=0.818]\u001b[A\n",
      "Epoch 83: 100%|█████████████████████████████████████████████████████████| 232/232 [00:02<00:00, 82.10it/s, train_loss=0.853, val_loss=0.832]\u001b[A\n",
      "Epoch 84: 100%|█████████████████████████████████████████████████████████| 232/232 [00:02<00:00, 81.92it/s, train_loss=0.853, val_loss=0.824]\u001b[A\n",
      "Epoch 85: 100%|█████████████████████████████████████████████████████████| 232/232 [00:02<00:00, 84.59it/s, train_loss=0.854, val_loss=0.810]\u001b[A\n",
      "Epoch 86: 100%|█████████████████████████████████████████████████████████| 232/232 [00:02<00:00, 81.99it/s, train_loss=0.851, val_loss=0.812]\u001b[A\n",
      "Epoch 87: 100%|█████████████████████████████████████████████████████████| 232/232 [00:02<00:00, 79.66it/s, train_loss=0.849, val_loss=0.838]\u001b[A\n",
      "Epoch 88: 100%|█████████████████████████████████████████████████████████| 232/232 [00:02<00:00, 81.91it/s, train_loss=0.848, val_loss=0.851]\u001b[A\n",
      "Epoch 89: 100%|█████████████████████████████████████████████████████████| 232/232 [00:02<00:00, 81.93it/s, train_loss=0.848, val_loss=0.816]\u001b[A\n",
      "Epoch 90: 100%|█████████████████████████████████████████████████████████| 232/232 [00:03<00:00, 77.04it/s, train_loss=0.852, val_loss=0.821]\u001b[A\n",
      "Epoch 91: 100%|█████████████████████████████████████████████████████████| 232/232 [00:02<00:00, 81.85it/s, train_loss=0.850, val_loss=0.817]\u001b[A\n",
      "Epoch 92: 100%|█████████████████████████████████████████████████████████| 232/232 [00:02<00:00, 83.89it/s, train_loss=0.848, val_loss=0.827]\u001b[A\n",
      "Epoch 93: 100%|█████████████████████████████████████████████████████████| 232/232 [00:02<00:00, 82.01it/s, train_loss=0.847, val_loss=0.814]\u001b[A\n",
      "Epoch 94: 100%|█████████████████████████████████████████████████████████| 232/232 [00:02<00:00, 81.56it/s, train_loss=0.853, val_loss=0.855]\u001b[A\n",
      "Epoch 95: 100%|█████████████████████████████████████████████████████████| 232/232 [00:02<00:00, 84.23it/s, train_loss=0.847, val_loss=0.803]\u001b[A\n",
      "Epoch 96: 100%|█████████████████████████████████████████████████████████| 232/232 [00:02<00:00, 84.15it/s, train_loss=0.851, val_loss=0.826]\u001b[A\n",
      "Epoch 97: 100%|█████████████████████████████████████████████████████████| 232/232 [00:02<00:00, 83.21it/s, train_loss=0.844, val_loss=0.820]\u001b[A\n",
      "Epoch 98: 100%|█████████████████████████████████████████████████████████| 232/232 [00:02<00:00, 85.96it/s, train_loss=0.849, val_loss=0.832]\u001b[A\n",
      "Epoch 99: 100%|█████████████████████████████████████████████████████████| 232/232 [00:02<00:00, 81.51it/s, train_loss=0.845, val_loss=0.811]\u001b[A\n",
      "Epoch 99: 100%|█████████████████████████████████████████████████████████| 232/232 [00:03<00:00, 72.81it/s, train_loss=0.843, val_loss=0.833]\u001b[A"
     ]
    },
    {
     "name": "stderr",
     "output_type": "stream",
     "text": [
      "`Trainer.fit` stopped: `max_epochs=100` reached.\n"
     ]
    },
    {
     "name": "stdout",
     "output_type": "stream",
     "text": [
      "Epoch 99: 100%|█████████████████████████████████████████████████████████| 232/232 [00:03<00:00, 71.75it/s, train_loss=0.843, val_loss=0.833]\n"
     ]
    },
    {
     "data": {
      "image/png": "[encoded data removed]",
      "text/plain": [
       "<Figure size 640x480 with 1 Axes>"
      ]
     },
     "metadata": {},
     "output_type": "display_data"
    },
    {
     "name": "stdout",
     "output_type": "stream",
     "text": [
      "DONE SAVING PRETRAINED MODEL\n",
      "   | Name                                             | Type        | Params | Mode \n",
      "------------------------------------------------------------------------------------------\n",
      "0  | task_loss_fn                                     | MSELoss     | 0      | train\n",
      "1  | mask_loss_fn                                     | BCELoss     | 0      | train\n",
      "2  | categorical_feature_loss                         | BCELoss     | 0      | train\n",
      "3  | continuous_feature_loss                          | MSELoss     | 0      | train\n",
      "4  | model                                            | DAE         | 295 K  | train\n",
      "5  | model._DAE__encoder                              | MLP         | 140 K  | train\n",
      "6  | model._DAE__encoder.linear_0                     | Linear      | 18.6 K | train\n",
      "7  | model._DAE__encoder.batchnorm_0                  | BatchNorm1d | 400    | train\n",
      "8  | model._DAE__encoder.relu_0                       | ReLU        | 0      | train\n",
      "9  | model._DAE__encoder.dropout_0                    | Dropout     | 0      | train\n",
      "10 | model._DAE__encoder.linear_1                     | Linear      | 40.2 K | train\n",
      "11 | model._DAE__encoder.batchnorm_1                  | BatchNorm1d | 400    | train\n",
      "12 | model._DAE__encoder.relu_1                       | ReLU        | 0      | train\n",
      "13 | model._DAE__encoder.dropout_1                    | Dropout     | 0      | train\n",
      "14 | model._DAE__encoder.linear_2                     | Linear      | 40.2 K | train\n",
      "15 | model._DAE__encoder.batchnorm_2                  | BatchNorm1d | 400    | train\n",
      "16 | model._DAE__encoder.relu_2                       | ReLU        | 0      | train\n",
      "17 | model._DAE__encoder.dropout_2                    | Dropout     | 0      | train\n",
      "18 | model._DAE__encoder.linear_n_layers              | Linear      | 40.2 K | train\n",
      "19 | model.mask_predictor_head                        | MLP         | 27.2 K | train\n",
      "20 | model.mask_predictor_head.linear_0               | Linear      | 18.5 K | train\n",
      "21 | model.mask_predictor_head.batchnorm_0            | BatchNorm1d | 184    | train\n",
      "22 | model.mask_predictor_head.relu_0                 | ReLU        | 0      | train\n",
      "23 | model.mask_predictor_head.dropout_0              | Dropout     | 0      | train\n",
      "24 | model.mask_predictor_head.linear_n_layers        | Linear      | 8.6 K  | train\n",
      "25 | model.reconstruction_head                        | MLP         | 27.2 K | train\n",
      "26 | model.reconstruction_head.linear_0               | Linear      | 18.5 K | train\n",
      "27 | model.reconstruction_head.batchnorm_0            | BatchNorm1d | 184    | train\n",
      "28 | model.reconstruction_head.relu_0                 | ReLU        | 0      | train\n",
      "29 | model.reconstruction_head.dropout_0              | Dropout     | 0      | train\n",
      "30 | model.reconstruction_head.linear_n_layers        | Linear      | 8.6 K  | train\n",
      "31 | model.one_layer_prediction_head                  | Sequential  | 40.4 K | train\n",
      "32 | model.one_layer_prediction_head.head_linear_hid  | Linear      | 40.2 K | train\n",
      "33 | model.one_layer_prediction_head.head_activation  | ReLU        | 0      | train\n",
      "34 | model.one_layer_prediction_head.head_linear_out  | Linear      | 201    | train\n",
      "35 | model.two_layer_prediction_head                  | Sequential  | 60.4 K | train\n",
      "36 | model.two_layer_prediction_head.head_linear_hid1 | Linear      | 40.2 K | train\n",
      "37 | model.two_layer_prediction_head.head_activation1 | ReLU        | 0      | train\n",
      "38 | model.two_layer_prediction_head.head_linear_hid2 | Linear      | 20.1 K | train\n",
      "39 | model.two_layer_prediction_head.head_activation2 | ReLU        | 0      | train\n",
      "40 | model.two_layer_prediction_head.head_linear_out  | Linear      | 101    | train\n",
      "------------------------------------------------------------------------------------------\n",
      "295 K     Trainable params\n",
      "0         Non-trainable params\n",
      "295 K     Total params\n",
      "1.183     Total estimated model params size (MB)\n",
      "Time to pretrain model:  309.4491262435913\n",
      "DONE PRETRAINING\n"
     ]
    }
   ],
   "source": [
    "s3l_training(pretrain=True, # if True First Phase training\n",
    "             use_pretrained_model=False, # if True Second Phase learning\n",
    "             pt_type='dae', \n",
    "             pt_folder='FP3')"
   ]
  },
  {
   "cell_type": "code",
   "execution_count": null,
   "id": "de7160f9-4db4-4688-9556-ba884a04eafb",
   "metadata": {},
   "outputs": [],
   "source": []
  }
 ],
 "metadata": {
  "kernelspec": {
   "display_name": "Python 3 (ipykernel)",
   "language": "python",
   "name": "python3"
  },
  "language_info": {
   "codemirror_mode": {
    "name": "ipython",
    "version": 3
   },
   "file_extension": ".py",
   "mimetype": "text/x-python",
   "name": "python",
   "nbconvert_exporter": "python",
   "pygments_lexer": "ipython3",
   "version": "3.8.10"
  }
 },
 "nbformat": 4,
 "nbformat_minor": 5
}
