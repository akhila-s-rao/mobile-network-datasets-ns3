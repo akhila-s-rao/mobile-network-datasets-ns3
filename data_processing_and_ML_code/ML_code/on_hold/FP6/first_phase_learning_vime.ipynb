{
 "cells": [
  {
   "cell_type": "code",
   "execution_count": 1,
   "id": "8ed58de6-5ac0-4bbb-95e7-c77e64dfaf11",
   "metadata": {},
   "outputs": [],
   "source": [
    "# reload\n",
    "#%reset\n",
    "%load_ext autoreload\n",
    "%autoreload 2 \n",
    "\n",
    "import warnings\n",
    "import logging\n",
    "import os\n",
    "\n",
    "# DEBUG MODE\n",
    "os.environ['TF_CPP_MIN_LOG_LEVEL'] = '3'\n",
    "warnings.filterwarnings('ignore')\n",
    "logging.getLogger('tensorflow').setLevel(logging.FATAL)\n",
    "    \n",
    "from s3l_training import s3l_training"
   ]
  },
  {
   "cell_type": "code",
   "execution_count": 2,
   "id": "26eb320c-c17f-40dd-8264-6dcbd0933f0b",
   "metadata": {},
   "outputs": [
    {
     "name": "stdout",
     "output_type": "stream",
     "text": [
      "Run with random seed:  561\n",
      "GPU is available.\n",
      "1\n",
      "True\n",
      "12.1\n",
      "Concatenating runs:  range(1, 11)\n",
      "Time to read csv file for run:  3.129539966583252\n",
      "Loaded run 1\n",
      "Time to read csv file for run:  3.101879358291626\n",
      "Loaded run 2\n",
      "Time to read csv file for run:  3.0353097915649414\n",
      "Loaded run 3\n",
      "Time to read csv file for run:  3.0360422134399414\n",
      "Loaded run 4\n",
      "Time to read csv file for run:  2.9905295372009277\n",
      "Loaded run 5\n",
      "Time to read csv file for run:  2.8679606914520264\n",
      "Loaded run 6\n",
      "Time to read csv file for run:  2.946958303451538\n",
      "Loaded run 7\n",
      "Time to read csv file for run:  2.948047637939453\n",
      "Loaded run 8\n",
      "Time to read csv file for run:  2.988121271133423\n",
      "Loaded run 9\n",
      "Time to read csv file for run:  3.2483651638031006\n",
      "Loaded run 10\n",
      "pretrain_data, before removing rows that dont have traffic  (1799100, 102)\n",
      "pretrain_data, after removing rows that dont have traffic  (205538, 102)\n",
      "X_pretrain  (205086, 92)\n"
     ]
    },
    {
     "name": "stderr",
     "output_type": "stream",
     "text": [
      "Seed set to 42\n"
     ]
    },
    {
     "name": "stdout",
     "output_type": "stream",
     "text": [
      "HYPERPARAMETERS:  {'loss_fn': 'MSELoss', 'metric': 'r2_score', 'hidden_dim': 200, 'max_epochs': 100, 'batch_size': 128, 'optim_hparams': {'lr': 0.0001, 'weight_decay': 5e-05}, 'encoder_depth': 8, 'dropout_rate': 0.1, 'p_m': 0.3, 'alpha1': 2.0, 'alpha2': 2.0, 'K': 3, 'beta': 1.0}\n"
     ]
    },
    {
     "name": "stderr",
     "output_type": "stream",
     "text": [
      "GPU available: True (cuda), used: True\n",
      "TPU available: False, using: 0 TPU cores\n",
      "HPU available: False, using: 0 HPUs\n",
      "LOCAL_RANK: 0 - CUDA_VISIBLE_DEVICES: [0]\n"
     ]
    },
    {
     "name": "stdout",
     "output_type": "stream",
     "text": [
      "refresh rate:  10\n"
     ]
    },
    {
     "name": "stderr",
     "output_type": "stream",
     "text": [
      "\n",
      "  | Name                        | Type    | Params | Mode \n",
      "----------------------------------------------------------------\n",
      "0 | task_loss_fn                | MSELoss | 0      | train\n",
      "1 | mask_loss_fn                | BCELoss | 0      | train\n",
      "2 | categorical_feature_loss_fn | BCELoss | 0      | train\n",
      "3 | continuous_feature_loss_fn  | MSELoss | 0      | train\n",
      "4 | consistency_loss_fn         | MSELoss | 0      | train\n",
      "5 | model                       | VIME    | 440 K  | train\n",
      "----------------------------------------------------------------\n",
      "440 K     Trainable params\n",
      "0         Non-trainable params\n",
      "440 K     Total params\n",
      "1.762     Total estimated model params size (MB)\n"
     ]
    },
    {
     "name": "stdout",
     "output_type": "stream",
     "text": [
      "Epoch 0: 100%|██████████████████████████████████████████████████████████████████████████████████████████| 1451/1451 [00:21<00:00, 67.82it/s]\n",
      "Epoch 1: 100%|████████████████████████████████████████████████████████| 1451/1451 [00:20<00:00, 70.11it/s, train_loss=3.470, val_loss=3.180]\u001b[A\n",
      "Epoch 2: 100%|████████████████████████████████████████████████████████| 1451/1451 [00:20<00:00, 72.44it/s, train_loss=3.210, val_loss=3.100]\u001b[A\n",
      "Epoch 3: 100%|████████████████████████████████████████████████████████| 1451/1451 [00:20<00:00, 71.87it/s, train_loss=3.140, val_loss=3.050]\u001b[A\n",
      "Epoch 4: 100%|████████████████████████████████████████████████████████| 1451/1451 [00:19<00:00, 72.58it/s, train_loss=3.120, val_loss=3.040]\u001b[A\n",
      "Epoch 5: 100%|████████████████████████████████████████████████████████| 1451/1451 [00:19<00:00, 73.99it/s, train_loss=3.100, val_loss=3.030]\u001b[A\n",
      "Epoch 6: 100%|████████████████████████████████████████████████████████| 1451/1451 [00:19<00:00, 76.18it/s, train_loss=3.090, val_loss=3.020]\u001b[A\n",
      "Epoch 7: 100%|████████████████████████████████████████████████████████| 1451/1451 [00:19<00:00, 73.10it/s, train_loss=3.080, val_loss=3.010]\u001b[A\n",
      "Epoch 8: 100%|████████████████████████████████████████████████████████| 1451/1451 [00:19<00:00, 73.32it/s, train_loss=3.070, val_loss=3.000]\u001b[A\n",
      "Epoch 9: 100%|████████████████████████████████████████████████████████| 1451/1451 [00:19<00:00, 73.43it/s, train_loss=3.070, val_loss=3.000]\u001b[A\n",
      "Epoch 10: 100%|███████████████████████████████████████████████████████| 1451/1451 [00:19<00:00, 73.98it/s, train_loss=3.060, val_loss=3.000]\u001b[A\n",
      "Epoch 11: 100%|███████████████████████████████████████████████████████| 1451/1451 [00:19<00:00, 73.85it/s, train_loss=3.060, val_loss=2.990]\u001b[A\n",
      "Epoch 12: 100%|███████████████████████████████████████████████████████| 1451/1451 [00:20<00:00, 72.11it/s, train_loss=3.060, val_loss=3.000]\u001b[A\n",
      "Epoch 13: 100%|███████████████████████████████████████████████████████| 1451/1451 [00:19<00:00, 73.68it/s, train_loss=3.050, val_loss=2.990]\u001b[A\n",
      "Epoch 14: 100%|███████████████████████████████████████████████████████| 1451/1451 [00:20<00:00, 72.35it/s, train_loss=3.050, val_loss=2.990]\u001b[A\n",
      "Epoch 15: 100%|███████████████████████████████████████████████████████| 1451/1451 [00:19<00:00, 75.51it/s, train_loss=3.050, val_loss=2.980]\u001b[A\n",
      "Epoch 16: 100%|███████████████████████████████████████████████████████| 1451/1451 [00:19<00:00, 74.59it/s, train_loss=3.050, val_loss=2.990]\u001b[A\n",
      "Epoch 17: 100%|███████████████████████████████████████████████████████| 1451/1451 [00:19<00:00, 73.65it/s, train_loss=3.040, val_loss=2.990]\u001b[A\n",
      "Epoch 18: 100%|███████████████████████████████████████████████████████| 1451/1451 [00:19<00:00, 73.20it/s, train_loss=3.040, val_loss=2.980]\u001b[A\n",
      "Epoch 19: 100%|███████████████████████████████████████████████████████| 1451/1451 [00:20<00:00, 71.76it/s, train_loss=3.040, val_loss=2.980]\u001b[A\n",
      "Epoch 20: 100%|███████████████████████████████████████████████████████| 1451/1451 [00:19<00:00, 73.03it/s, train_loss=3.040, val_loss=2.970]\u001b[A\n",
      "Epoch 21: 100%|███████████████████████████████████████████████████████| 1451/1451 [00:19<00:00, 73.71it/s, train_loss=3.040, val_loss=2.980]\u001b[A\n",
      "Epoch 22: 100%|███████████████████████████████████████████████████████| 1451/1451 [00:20<00:00, 70.55it/s, train_loss=3.040, val_loss=2.980]\u001b[A\n",
      "Epoch 23: 100%|███████████████████████████████████████████████████████| 1451/1451 [00:19<00:00, 73.64it/s, train_loss=3.030, val_loss=2.980]\u001b[A\n",
      "Epoch 24: 100%|███████████████████████████████████████████████████████| 1451/1451 [00:19<00:00, 73.19it/s, train_loss=3.030, val_loss=2.980]\u001b[A\n",
      "Epoch 25: 100%|███████████████████████████████████████████████████████| 1451/1451 [00:20<00:00, 72.41it/s, train_loss=3.030, val_loss=2.970]\u001b[A\n",
      "Epoch 26: 100%|███████████████████████████████████████████████████████| 1451/1451 [00:19<00:00, 72.81it/s, train_loss=3.030, val_loss=2.980]\u001b[A\n",
      "Epoch 27: 100%|███████████████████████████████████████████████████████| 1451/1451 [00:19<00:00, 75.14it/s, train_loss=3.030, val_loss=2.980]\u001b[A\n",
      "Epoch 28: 100%|███████████████████████████████████████████████████████| 1451/1451 [00:19<00:00, 74.58it/s, train_loss=3.030, val_loss=2.970]\u001b[A\n",
      "Epoch 29: 100%|███████████████████████████████████████████████████████| 1451/1451 [00:20<00:00, 72.23it/s, train_loss=3.030, val_loss=2.970]\u001b[A\n",
      "Epoch 30: 100%|███████████████████████████████████████████████████████| 1451/1451 [00:19<00:00, 72.58it/s, train_loss=3.030, val_loss=2.960]\u001b[A\n",
      "Epoch 31: 100%|███████████████████████████████████████████████████████| 1451/1451 [00:19<00:00, 73.02it/s, train_loss=3.030, val_loss=2.970]\u001b[A\n",
      "Epoch 32: 100%|███████████████████████████████████████████████████████| 1451/1451 [00:20<00:00, 71.10it/s, train_loss=3.030, val_loss=2.960]\u001b[A\n",
      "Epoch 33: 100%|███████████████████████████████████████████████████████| 1451/1451 [00:19<00:00, 72.55it/s, train_loss=3.020, val_loss=2.970]\u001b[A\n",
      "Epoch 34: 100%|███████████████████████████████████████████████████████| 1451/1451 [00:19<00:00, 72.79it/s, train_loss=3.020, val_loss=2.970]\u001b[A\n",
      "Epoch 35: 100%|███████████████████████████████████████████████████████| 1451/1451 [00:19<00:00, 73.71it/s, train_loss=3.020, val_loss=2.960]\u001b[A\n",
      "Epoch 36: 100%|███████████████████████████████████████████████████████| 1451/1451 [00:19<00:00, 72.68it/s, train_loss=3.020, val_loss=2.960]\u001b[A\n",
      "Epoch 37: 100%|███████████████████████████████████████████████████████| 1451/1451 [00:20<00:00, 69.72it/s, train_loss=3.020, val_loss=2.960]\u001b[A\n",
      "Epoch 38: 100%|███████████████████████████████████████████████████████| 1451/1451 [00:21<00:00, 68.79it/s, train_loss=3.020, val_loss=2.960]\u001b[A\n",
      "Epoch 39: 100%|███████████████████████████████████████████████████████| 1451/1451 [00:20<00:00, 70.72it/s, train_loss=3.020, val_loss=2.960]\u001b[A\n",
      "Epoch 40: 100%|███████████████████████████████████████████████████████| 1451/1451 [00:20<00:00, 69.58it/s, train_loss=3.020, val_loss=2.960]\u001b[A\n",
      "Epoch 41: 100%|███████████████████████████████████████████████████████| 1451/1451 [00:20<00:00, 69.87it/s, train_loss=3.020, val_loss=2.960]\u001b[A\n",
      "Epoch 42: 100%|███████████████████████████████████████████████████████| 1451/1451 [00:20<00:00, 71.45it/s, train_loss=3.020, val_loss=2.960]\u001b[A\n",
      "Epoch 43: 100%|███████████████████████████████████████████████████████| 1451/1451 [00:20<00:00, 69.32it/s, train_loss=3.020, val_loss=2.960]\u001b[A\n",
      "Epoch 44: 100%|███████████████████████████████████████████████████████| 1451/1451 [00:20<00:00, 71.31it/s, train_loss=3.020, val_loss=2.960]\u001b[A\n",
      "Epoch 45: 100%|███████████████████████████████████████████████████████| 1451/1451 [00:20<00:00, 70.29it/s, train_loss=3.020, val_loss=2.960]\u001b[A\n",
      "Epoch 46: 100%|███████████████████████████████████████████████████████| 1451/1451 [00:20<00:00, 70.25it/s, train_loss=3.020, val_loss=2.960]\u001b[A\n",
      "Epoch 47: 100%|███████████████████████████████████████████████████████| 1451/1451 [00:20<00:00, 70.17it/s, train_loss=3.020, val_loss=2.960]\u001b[A\n",
      "Epoch 48: 100%|███████████████████████████████████████████████████████| 1451/1451 [00:21<00:00, 68.61it/s, train_loss=3.010, val_loss=2.960]\u001b[A\n",
      "Epoch 49: 100%|███████████████████████████████████████████████████████| 1451/1451 [00:20<00:00, 70.16it/s, train_loss=3.010, val_loss=2.960]\u001b[A\n",
      "Epoch 50: 100%|███████████████████████████████████████████████████████| 1451/1451 [00:19<00:00, 73.72it/s, train_loss=3.010, val_loss=2.960]\u001b[A\n",
      "Epoch 51: 100%|███████████████████████████████████████████████████████| 1451/1451 [00:19<00:00, 73.09it/s, train_loss=3.010, val_loss=2.960]\u001b[A\n",
      "Epoch 52: 100%|███████████████████████████████████████████████████████| 1451/1451 [00:20<00:00, 72.23it/s, train_loss=3.010, val_loss=2.950]\u001b[A\n",
      "Epoch 53: 100%|███████████████████████████████████████████████████████| 1451/1451 [00:20<00:00, 70.51it/s, train_loss=3.010, val_loss=2.960]\u001b[A\n",
      "Epoch 54: 100%|███████████████████████████████████████████████████████| 1451/1451 [00:20<00:00, 70.38it/s, train_loss=3.010, val_loss=2.950]\u001b[A\n",
      "Epoch 55: 100%|███████████████████████████████████████████████████████| 1451/1451 [00:19<00:00, 73.65it/s, train_loss=3.010, val_loss=2.960]\u001b[A\n",
      "Epoch 56: 100%|███████████████████████████████████████████████████████| 1451/1451 [00:20<00:00, 72.51it/s, train_loss=3.010, val_loss=2.950]\u001b[A\n",
      "Epoch 57: 100%|███████████████████████████████████████████████████████| 1451/1451 [00:20<00:00, 72.40it/s, train_loss=3.010, val_loss=2.950]\u001b[A\n",
      "Epoch 58: 100%|███████████████████████████████████████████████████████| 1451/1451 [00:20<00:00, 71.72it/s, train_loss=3.010, val_loss=2.950]\u001b[A\n",
      "Epoch 59: 100%|███████████████████████████████████████████████████████| 1451/1451 [00:20<00:00, 72.11it/s, train_loss=3.010, val_loss=2.950]\u001b[A\n",
      "Epoch 60: 100%|███████████████████████████████████████████████████████| 1451/1451 [00:19<00:00, 73.18it/s, train_loss=3.010, val_loss=2.950]\u001b[A\n",
      "Epoch 61: 100%|███████████████████████████████████████████████████████| 1451/1451 [00:20<00:00, 72.53it/s, train_loss=3.010, val_loss=2.950]\u001b[A\n",
      "Epoch 62: 100%|███████████████████████████████████████████████████████| 1451/1451 [00:19<00:00, 72.71it/s, train_loss=3.010, val_loss=2.950]\u001b[A\n",
      "Epoch 63: 100%|███████████████████████████████████████████████████████| 1451/1451 [00:19<00:00, 76.16it/s, train_loss=3.010, val_loss=2.950]\u001b[A\n",
      "Epoch 64: 100%|███████████████████████████████████████████████████████| 1451/1451 [00:20<00:00, 71.22it/s, train_loss=3.010, val_loss=2.960]\u001b[A\n",
      "Epoch 65: 100%|███████████████████████████████████████████████████████| 1451/1451 [00:19<00:00, 72.64it/s, train_loss=3.010, val_loss=2.950]\u001b[A\n",
      "Epoch 66: 100%|███████████████████████████████████████████████████████| 1451/1451 [00:19<00:00, 74.16it/s, train_loss=3.010, val_loss=2.950]\u001b[A\n",
      "Epoch 67: 100%|███████████████████████████████████████████████████████| 1451/1451 [00:20<00:00, 72.48it/s, train_loss=3.010, val_loss=2.950]\u001b[A\n",
      "Epoch 68: 100%|███████████████████████████████████████████████████████| 1451/1451 [00:20<00:00, 71.92it/s, train_loss=3.010, val_loss=2.950]\u001b[A\n",
      "Epoch 69: 100%|███████████████████████████████████████████████████████| 1451/1451 [00:19<00:00, 73.73it/s, train_loss=3.010, val_loss=2.950]\u001b[A\n",
      "Epoch 70: 100%|███████████████████████████████████████████████████████| 1451/1451 [00:19<00:00, 74.25it/s, train_loss=3.010, val_loss=2.950]\u001b[A\n",
      "Epoch 71: 100%|███████████████████████████████████████████████████████| 1451/1451 [00:20<00:00, 71.87it/s, train_loss=3.010, val_loss=2.950]\u001b[A\n",
      "Epoch 72: 100%|███████████████████████████████████████████████████████| 1451/1451 [00:19<00:00, 73.70it/s, train_loss=3.010, val_loss=2.950]\u001b[A\n",
      "Epoch 73: 100%|███████████████████████████████████████████████████████| 1451/1451 [00:19<00:00, 73.65it/s, train_loss=3.000, val_loss=2.940]\u001b[A\n",
      "Epoch 74: 100%|███████████████████████████████████████████████████████| 1451/1451 [00:19<00:00, 72.86it/s, train_loss=3.000, val_loss=2.950]\u001b[A\n",
      "Epoch 75: 100%|███████████████████████████████████████████████████████| 1451/1451 [00:20<00:00, 71.61it/s, train_loss=3.000, val_loss=2.950]\u001b[A\n",
      "Epoch 76: 100%|███████████████████████████████████████████████████████| 1451/1451 [00:20<00:00, 71.45it/s, train_loss=3.000, val_loss=2.950]\u001b[A\n",
      "Epoch 77: 100%|███████████████████████████████████████████████████████| 1451/1451 [00:19<00:00, 73.83it/s, train_loss=3.010, val_loss=2.950]\u001b[A\n",
      "Epoch 78: 100%|███████████████████████████████████████████████████████| 1451/1451 [00:20<00:00, 71.30it/s, train_loss=3.000, val_loss=2.950]\u001b[A\n",
      "Epoch 79: 100%|███████████████████████████████████████████████████████| 1451/1451 [00:19<00:00, 73.25it/s, train_loss=3.000, val_loss=2.950]\u001b[A\n",
      "Epoch 80: 100%|███████████████████████████████████████████████████████| 1451/1451 [00:19<00:00, 74.07it/s, train_loss=3.000, val_loss=2.950]\u001b[A\n",
      "Epoch 81: 100%|███████████████████████████████████████████████████████| 1451/1451 [00:19<00:00, 76.14it/s, train_loss=3.000, val_loss=2.950]\u001b[A\n",
      "Epoch 82: 100%|███████████████████████████████████████████████████████| 1451/1451 [00:19<00:00, 75.54it/s, train_loss=3.000, val_loss=2.950]\u001b[A\n",
      "Epoch 83: 100%|███████████████████████████████████████████████████████| 1451/1451 [00:19<00:00, 73.94it/s, train_loss=3.000, val_loss=2.950]\u001b[A\n",
      "Epoch 84: 100%|███████████████████████████████████████████████████████| 1451/1451 [00:19<00:00, 73.03it/s, train_loss=3.000, val_loss=2.950]\u001b[A\n",
      "Epoch 85: 100%|███████████████████████████████████████████████████████| 1451/1451 [00:20<00:00, 72.39it/s, train_loss=3.000, val_loss=2.950]\u001b[A\n",
      "Epoch 86: 100%|███████████████████████████████████████████████████████| 1451/1451 [00:20<00:00, 71.85it/s, train_loss=3.000, val_loss=2.940]\u001b[A\n",
      "Epoch 87: 100%|███████████████████████████████████████████████████████| 1451/1451 [00:19<00:00, 73.18it/s, train_loss=3.000, val_loss=2.940]\u001b[A\n",
      "Epoch 88: 100%|███████████████████████████████████████████████████████| 1451/1451 [00:19<00:00, 73.41it/s, train_loss=3.000, val_loss=2.950]\u001b[A\n",
      "Epoch 89: 100%|███████████████████████████████████████████████████████| 1451/1451 [00:19<00:00, 73.41it/s, train_loss=3.000, val_loss=2.950]\u001b[A\n",
      "Epoch 90: 100%|███████████████████████████████████████████████████████| 1451/1451 [00:19<00:00, 73.05it/s, train_loss=3.000, val_loss=2.940]\u001b[A\n",
      "Epoch 91: 100%|███████████████████████████████████████████████████████| 1451/1451 [00:19<00:00, 73.35it/s, train_loss=3.000, val_loss=2.940]\u001b[A\n",
      "Epoch 92: 100%|███████████████████████████████████████████████████████| 1451/1451 [00:19<00:00, 73.32it/s, train_loss=3.000, val_loss=2.940]\u001b[A\n",
      "Epoch 93: 100%|███████████████████████████████████████████████████████| 1451/1451 [00:20<00:00, 69.97it/s, train_loss=3.000, val_loss=2.940]\u001b[A\n",
      "Epoch 94: 100%|███████████████████████████████████████████████████████| 1451/1451 [00:20<00:00, 72.12it/s, train_loss=3.000, val_loss=2.940]\u001b[A\n",
      "Epoch 95: 100%|███████████████████████████████████████████████████████| 1451/1451 [00:19<00:00, 75.17it/s, train_loss=3.000, val_loss=2.950]\u001b[A\n",
      "Epoch 96: 100%|███████████████████████████████████████████████████████| 1451/1451 [00:19<00:00, 74.23it/s, train_loss=3.000, val_loss=2.940]\u001b[A\n",
      "Epoch 97: 100%|███████████████████████████████████████████████████████| 1451/1451 [00:19<00:00, 72.96it/s, train_loss=3.000, val_loss=2.940]\u001b[A\n",
      "Epoch 98: 100%|███████████████████████████████████████████████████████| 1451/1451 [00:19<00:00, 73.91it/s, train_loss=3.000, val_loss=2.940]\u001b[A\n",
      "Epoch 99: 100%|███████████████████████████████████████████████████████| 1451/1451 [00:19<00:00, 74.70it/s, train_loss=3.000, val_loss=2.940]\u001b[A\n",
      "Epoch 99: 100%|███████████████████████████████████████████████████████| 1451/1451 [00:21<00:00, 67.89it/s, train_loss=3.000, val_loss=2.940]\u001b[A"
     ]
    },
    {
     "name": "stderr",
     "output_type": "stream",
     "text": [
      "`Trainer.fit` stopped: `max_epochs=100` reached.\n"
     ]
    },
    {
     "name": "stdout",
     "output_type": "stream",
     "text": [
      "Epoch 99: 100%|███████████████████████████████████████████████████████| 1451/1451 [00:21<00:00, 67.79it/s, train_loss=3.000, val_loss=2.940]\n"
     ]
    },
    {
     "data": {
      "image/png": "[encoded data removed]",
      "text/plain": [
       "<Figure size 640x480 with 1 Axes>"
      ]
     },
     "metadata": {},
     "output_type": "display_data"
    },
    {
     "name": "stdout",
     "output_type": "stream",
     "text": [
      "DONE SAVING PRETRAINED MODEL\n",
      "   | Name                                         | Type                 | Params | Mode \n",
      "-----------------------------------------------------------------------------------------------\n",
      "0  | task_loss_fn                                 | MSELoss              | 0      | train\n",
      "1  | mask_loss_fn                                 | BCELoss              | 0      | train\n",
      "2  | categorical_feature_loss_fn                  | BCELoss              | 0      | train\n",
      "3  | continuous_feature_loss_fn                   | MSELoss              | 0      | train\n",
      "4  | consistency_loss_fn                          | MSELoss              | 0      | train\n",
      "5  | model                                        | VIME                 | 440 K  | train\n",
      "6  | model._VIME__encoder                         | VIMESelfSupervised   | 339 K  | train\n",
      "7  | model._VIME__encoder.encoder                 | MLP                  | 302 K  | train\n",
      "8  | model._VIME__encoder.encoder.linear_0        | Linear               | 18.6 K | train\n",
      "9  | model._VIME__encoder.encoder.batchnorm_0     | BatchNorm1d          | 400    | train\n",
      "10 | model._VIME__encoder.encoder.relu_0          | ReLU                 | 0      | train\n",
      "11 | model._VIME__encoder.encoder.dropout_0       | Dropout              | 0      | train\n",
      "12 | model._VIME__encoder.encoder.linear_1        | Linear               | 40.2 K | train\n",
      "13 | model._VIME__encoder.encoder.batchnorm_1     | BatchNorm1d          | 400    | train\n",
      "14 | model._VIME__encoder.encoder.relu_1          | ReLU                 | 0      | train\n",
      "15 | model._VIME__encoder.encoder.dropout_1       | Dropout              | 0      | train\n",
      "16 | model._VIME__encoder.encoder.linear_2        | Linear               | 40.2 K | train\n",
      "17 | model._VIME__encoder.encoder.batchnorm_2     | BatchNorm1d          | 400    | train\n",
      "18 | model._VIME__encoder.encoder.relu_2          | ReLU                 | 0      | train\n",
      "19 | model._VIME__encoder.encoder.dropout_2       | Dropout              | 0      | train\n",
      "20 | model._VIME__encoder.encoder.linear_3        | Linear               | 40.2 K | train\n",
      "21 | model._VIME__encoder.encoder.batchnorm_3     | BatchNorm1d          | 400    | train\n",
      "22 | model._VIME__encoder.encoder.relu_3          | ReLU                 | 0      | train\n",
      "23 | model._VIME__encoder.encoder.dropout_3       | Dropout              | 0      | train\n",
      "24 | model._VIME__encoder.encoder.linear_4        | Linear               | 40.2 K | train\n",
      "25 | model._VIME__encoder.encoder.batchnorm_4     | BatchNorm1d          | 400    | train\n",
      "26 | model._VIME__encoder.encoder.relu_4          | ReLU                 | 0      | train\n",
      "27 | model._VIME__encoder.encoder.dropout_4       | Dropout              | 0      | train\n",
      "28 | model._VIME__encoder.encoder.linear_5        | Linear               | 40.2 K | train\n",
      "29 | model._VIME__encoder.encoder.batchnorm_5     | BatchNorm1d          | 400    | train\n",
      "30 | model._VIME__encoder.encoder.relu_5          | ReLU                 | 0      | train\n",
      "31 | model._VIME__encoder.encoder.dropout_5       | Dropout              | 0      | train\n",
      "32 | model._VIME__encoder.encoder.linear_6        | Linear               | 40.2 K | train\n",
      "33 | model._VIME__encoder.encoder.batchnorm_6     | BatchNorm1d          | 400    | train\n",
      "34 | model._VIME__encoder.encoder.relu_6          | ReLU                 | 0      | train\n",
      "35 | model._VIME__encoder.encoder.dropout_6       | Dropout              | 0      | train\n",
      "36 | model._VIME__encoder.encoder.linear_n_layers | Linear               | 40.2 K | train\n",
      "37 | model._VIME__encoder.mask_output             | Linear               | 18.5 K | train\n",
      "38 | model._VIME__encoder.feature_output          | Linear               | 18.5 K | train\n",
      "39 | model.one_layer_prediction_head              | VIMESemiSupervised_1 | 40.4 K | train\n",
      "40 | model.one_layer_prediction_head.fc1          | Linear               | 40.2 K | train\n",
      "41 | model.one_layer_prediction_head.fc3          | Linear               | 201    | train\n",
      "42 | model.two_layer_prediction_head              | VIMESemiSupervised_2 | 60.4 K | train\n",
      "43 | model.two_layer_prediction_head.fc1          | Linear               | 40.2 K | train\n",
      "44 | model.two_layer_prediction_head.fc2          | Linear               | 20.1 K | train\n",
      "45 | model.two_layer_prediction_head.fc3          | Linear               | 101    | train\n",
      "-----------------------------------------------------------------------------------------------\n",
      "440 K     Trainable params\n",
      "0         Non-trainable params\n",
      "440 K     Total params\n",
      "1.762     Total estimated model params size (MB)\n",
      "Time to pretrain model:  2181.897568464279\n",
      "DONE PRETRAINING\n"
     ]
    }
   ],
   "source": [
    "s3l_training(pretrain=True, # if True First Phase training\n",
    "             use_pretrained_model=False, # if True Second Phase learning\n",
    "             pt_type='vime', \n",
    "             pt_folder='FP6')"
   ]
  },
  {
   "cell_type": "code",
   "execution_count": null,
   "id": "de7160f9-4db4-4688-9556-ba884a04eafb",
   "metadata": {},
   "outputs": [],
   "source": []
  },
  {
   "cell_type": "code",
   "execution_count": null,
   "id": "44a0e795-750f-45ce-9a6a-b578608c7f1f",
   "metadata": {},
   "outputs": [],
   "source": []
  }
 ],
 "metadata": {
  "kernelspec": {
   "display_name": "Python 3 (ipykernel)",
   "language": "python",
   "name": "python3"
  },
  "language_info": {
   "codemirror_mode": {
    "name": "ipython",
    "version": 3
   },
   "file_extension": ".py",
   "mimetype": "text/x-python",
   "name": "python",
   "nbconvert_exporter": "python",
   "pygments_lexer": "ipython3",
   "version": "3.8.10"
  }
 },
 "nbformat": 4,
 "nbformat_minor": 5
}
