{
 "cells": [
  {
   "cell_type": "code",
   "execution_count": 1,
   "id": "8ed58de6-5ac0-4bbb-95e7-c77e64dfaf11",
   "metadata": {},
   "outputs": [],
   "source": [
    "# reload\n",
    "#%reset\n",
    "%load_ext autoreload\n",
    "%autoreload 2 \n",
    "\n",
    "import warnings\n",
    "import logging\n",
    "import os\n",
    "\n",
    "# DEBUG MODE\n",
    "os.environ['TF_CPP_MIN_LOG_LEVEL'] = '3'\n",
    "warnings.filterwarnings('ignore')\n",
    "logging.getLogger('tensorflow').setLevel(logging.FATAL)\n",
    "    \n",
    "from s3l_training import s3l_training"
   ]
  },
  {
   "cell_type": "code",
   "execution_count": 2,
   "id": "26eb320c-c17f-40dd-8264-6dcbd0933f0b",
   "metadata": {},
   "outputs": [
    {
     "name": "stdout",
     "output_type": "stream",
     "text": [
      "Run with random seed:  561\n",
      "GPU is available.\n",
      "1\n",
      "True\n",
      "12.1\n",
      "Concatenating runs:  range(1, 11)\n",
      "Time to read csv file for run:  3.1577553749084473\n",
      "Loaded run 1\n",
      "Time to read csv file for run:  3.202986001968384\n",
      "Loaded run 2\n",
      "Time to read csv file for run:  3.1407389640808105\n",
      "Loaded run 3\n",
      "Time to read csv file for run:  3.0641980171203613\n",
      "Loaded run 4\n",
      "Time to read csv file for run:  3.0290703773498535\n",
      "Loaded run 5\n",
      "Time to read csv file for run:  2.9182772636413574\n",
      "Loaded run 6\n",
      "Time to read csv file for run:  3.0002541542053223\n",
      "Loaded run 7\n",
      "Time to read csv file for run:  2.8374500274658203\n",
      "Loaded run 8\n",
      "Time to read csv file for run:  3.02754807472229\n",
      "Loaded run 9\n",
      "Time to read csv file for run:  2.9672608375549316\n",
      "Loaded run 10\n",
      "pretrain_data, before removing rows that dont have traffic  (1799100, 102)\n",
      "pretrain_data, after removing rows that dont have traffic  (205538, 102)\n",
      "X_pretrain  (205086, 92)\n"
     ]
    },
    {
     "name": "stderr",
     "output_type": "stream",
     "text": [
      "Seed set to 42\n"
     ]
    },
    {
     "name": "stdout",
     "output_type": "stream",
     "text": [
      "HYPERPARAMETERS:  {'loss_fn': 'MSELoss', 'metric': 'r2_score', 'hidden_dim': 200, 'max_epochs': 100, 'batch_size': 128, 'optim_hparams': {'lr': 0.0001, 'weight_decay': 5e-05}, 'encoder_depth': 2, 'head_depth': 2, 'dropout_rate': 0.1, 'noise_type': 'Swap', 'noise_ratio': 0.3}\n"
     ]
    },
    {
     "name": "stderr",
     "output_type": "stream",
     "text": [
      "GPU available: True (cuda), used: True\n",
      "TPU available: False, using: 0 TPU cores\n",
      "HPU available: False, using: 0 HPUs\n",
      "LOCAL_RANK: 0 - CUDA_VISIBLE_DEVICES: [0]\n"
     ]
    },
    {
     "name": "stdout",
     "output_type": "stream",
     "text": [
      "refresh rate:  10\n"
     ]
    },
    {
     "name": "stderr",
     "output_type": "stream",
     "text": [
      "\n",
      "  | Name                     | Type    | Params | Mode \n",
      "-------------------------------------------------------------\n",
      "0 | task_loss_fn             | MSELoss | 0      | train\n",
      "1 | mask_loss_fn             | BCELoss | 0      | train\n",
      "2 | categorical_feature_loss | BCELoss | 0      | train\n",
      "3 | continuous_feature_loss  | MSELoss | 0      | train\n",
      "4 | model                    | DAE     | 214 K  | train\n",
      "-------------------------------------------------------------\n",
      "214 K     Trainable params\n",
      "0         Non-trainable params\n",
      "214 K     Total params\n",
      "0.858     Total estimated model params size (MB)\n"
     ]
    },
    {
     "name": "stdout",
     "output_type": "stream",
     "text": [
      "Epoch 0: 100%|█████████████████████████████████████████████████████████████████████████████████████████| 1451/1451 [00:13<00:00, 104.69it/s]\n",
      "Epoch 1: 100%|████████████████████████████████████████████████████████| 1451/1451 [00:14<00:00, 98.03it/s, train_loss=1.510, val_loss=1.060]\u001b[A\n",
      "Epoch 2: 100%|████████████████████████████████████████████████████████| 1451/1451 [00:15<00:00, 93.49it/s, train_loss=1.070, val_loss=0.966]\u001b[A\n",
      "Epoch 3: 100%|████████████████████████████████████████████████████████| 1451/1451 [00:15<00:00, 92.38it/s, train_loss=0.995, val_loss=0.909]\u001b[A\n",
      "Epoch 4: 100%|████████████████████████████████████████████████████████| 1451/1451 [00:15<00:00, 92.02it/s, train_loss=0.958, val_loss=0.886]\u001b[A\n",
      "Epoch 5: 100%|████████████████████████████████████████████████████████| 1451/1451 [00:15<00:00, 92.85it/s, train_loss=0.933, val_loss=0.869]\u001b[A\n",
      "Epoch 6: 100%|████████████████████████████████████████████████████████| 1451/1451 [00:15<00:00, 90.73it/s, train_loss=0.917, val_loss=0.854]\u001b[A\n",
      "Epoch 7: 100%|████████████████████████████████████████████████████████| 1451/1451 [00:16<00:00, 89.25it/s, train_loss=0.909, val_loss=0.876]\u001b[A\n",
      "Epoch 8: 100%|████████████████████████████████████████████████████████| 1451/1451 [00:15<00:00, 94.05it/s, train_loss=0.899, val_loss=0.847]\u001b[A\n",
      "Epoch 9: 100%|████████████████████████████████████████████████████████| 1451/1451 [00:15<00:00, 95.67it/s, train_loss=0.891, val_loss=0.841]\u001b[A\n",
      "Epoch 10: 100%|██████████████████████████████████████████████████████| 1451/1451 [00:14<00:00, 100.29it/s, train_loss=0.885, val_loss=0.829]\u001b[A\n",
      "Epoch 11: 100%|███████████████████████████████████████████████████████| 1451/1451 [00:15<00:00, 94.19it/s, train_loss=0.880, val_loss=0.830]\u001b[A\n",
      "Epoch 12: 100%|███████████████████████████████████████████████████████| 1451/1451 [00:15<00:00, 92.63it/s, train_loss=0.877, val_loss=0.834]\u001b[A\n",
      "Epoch 13: 100%|███████████████████████████████████████████████████████| 1451/1451 [00:15<00:00, 95.48it/s, train_loss=0.870, val_loss=0.840]\u001b[A\n",
      "Epoch 14: 100%|███████████████████████████████████████████████████████| 1451/1451 [00:15<00:00, 94.16it/s, train_loss=0.868, val_loss=0.817]\u001b[A\n",
      "Epoch 15: 100%|███████████████████████████████████████████████████████| 1451/1451 [00:15<00:00, 94.63it/s, train_loss=0.862, val_loss=0.816]\u001b[A\n",
      "Epoch 16: 100%|███████████████████████████████████████████████████████| 1451/1451 [00:15<00:00, 95.21it/s, train_loss=0.863, val_loss=0.812]\u001b[A\n",
      "Epoch 17: 100%|███████████████████████████████████████████████████████| 1451/1451 [00:15<00:00, 92.36it/s, train_loss=0.859, val_loss=0.808]\u001b[A\n",
      "Epoch 18: 100%|███████████████████████████████████████████████████████| 1451/1451 [00:15<00:00, 91.02it/s, train_loss=0.858, val_loss=0.820]\u001b[A\n",
      "Epoch 19: 100%|███████████████████████████████████████████████████████| 1451/1451 [00:15<00:00, 91.68it/s, train_loss=0.854, val_loss=0.814]\u001b[A\n",
      "Epoch 20: 100%|███████████████████████████████████████████████████████| 1451/1451 [00:15<00:00, 95.54it/s, train_loss=0.850, val_loss=0.804]\u001b[A\n",
      "Epoch 21: 100%|███████████████████████████████████████████████████████| 1451/1451 [00:15<00:00, 94.23it/s, train_loss=0.853, val_loss=0.826]\u001b[A\n",
      "Epoch 22: 100%|███████████████████████████████████████████████████████| 1451/1451 [00:14<00:00, 96.86it/s, train_loss=0.849, val_loss=0.801]\u001b[A\n",
      "Epoch 23: 100%|███████████████████████████████████████████████████████| 1451/1451 [00:14<00:00, 99.65it/s, train_loss=0.846, val_loss=0.812]\u001b[A\n",
      "Epoch 24: 100%|███████████████████████████████████████████████████████| 1451/1451 [00:14<00:00, 96.75it/s, train_loss=0.844, val_loss=0.808]\u001b[A\n",
      "Epoch 25: 100%|███████████████████████████████████████████████████████| 1451/1451 [00:14<00:00, 96.83it/s, train_loss=0.846, val_loss=0.809]\u001b[A\n",
      "Epoch 26: 100%|███████████████████████████████████████████████████████| 1451/1451 [00:15<00:00, 95.55it/s, train_loss=0.840, val_loss=0.813]\u001b[A\n",
      "Epoch 27: 100%|███████████████████████████████████████████████████████| 1451/1451 [00:15<00:00, 96.45it/s, train_loss=0.838, val_loss=0.799]\u001b[A\n",
      "Epoch 28: 100%|███████████████████████████████████████████████████████| 1451/1451 [00:15<00:00, 96.18it/s, train_loss=0.838, val_loss=0.787]\u001b[A\n",
      "Epoch 29: 100%|███████████████████████████████████████████████████████| 1451/1451 [00:14<00:00, 98.52it/s, train_loss=0.839, val_loss=0.804]\u001b[A\n",
      "Epoch 30: 100%|███████████████████████████████████████████████████████| 1451/1451 [00:14<00:00, 96.86it/s, train_loss=0.836, val_loss=0.805]\u001b[A\n",
      "Epoch 31: 100%|███████████████████████████████████████████████████████| 1451/1451 [00:14<00:00, 96.88it/s, train_loss=0.841, val_loss=0.806]\u001b[A\n",
      "Epoch 32: 100%|███████████████████████████████████████████████████████| 1451/1451 [00:15<00:00, 96.14it/s, train_loss=0.831, val_loss=0.784]\u001b[A\n",
      "Epoch 33: 100%|███████████████████████████████████████████████████████| 1451/1451 [00:14<00:00, 96.79it/s, train_loss=0.835, val_loss=0.794]\u001b[A\n",
      "Epoch 34: 100%|███████████████████████████████████████████████████████| 1451/1451 [00:14<00:00, 97.12it/s, train_loss=0.828, val_loss=0.788]\u001b[A\n",
      "Epoch 35: 100%|███████████████████████████████████████████████████████| 1451/1451 [00:15<00:00, 95.68it/s, train_loss=0.828, val_loss=0.801]\u001b[A\n",
      "Epoch 36: 100%|███████████████████████████████████████████████████████| 1451/1451 [00:15<00:00, 95.55it/s, train_loss=0.832, val_loss=0.784]\u001b[A\n",
      "Epoch 37: 100%|███████████████████████████████████████████████████████| 1451/1451 [00:14<00:00, 97.48it/s, train_loss=0.829, val_loss=0.787]\u001b[A\n",
      "Epoch 38: 100%|███████████████████████████████████████████████████████| 1451/1451 [00:14<00:00, 97.02it/s, train_loss=0.823, val_loss=0.778]\u001b[A\n",
      "Epoch 39: 100%|███████████████████████████████████████████████████████| 1451/1451 [00:14<00:00, 97.35it/s, train_loss=0.825, val_loss=0.795]\u001b[A\n",
      "Epoch 40: 100%|███████████████████████████████████████████████████████| 1451/1451 [00:15<00:00, 96.01it/s, train_loss=0.821, val_loss=0.770]\u001b[A\n",
      "Epoch 41: 100%|███████████████████████████████████████████████████████| 1451/1451 [00:14<00:00, 97.10it/s, train_loss=0.819, val_loss=0.773]\u001b[A\n",
      "Epoch 42: 100%|███████████████████████████████████████████████████████| 1451/1451 [00:15<00:00, 96.33it/s, train_loss=0.819, val_loss=0.768]\u001b[A\n",
      "Epoch 43: 100%|███████████████████████████████████████████████████████| 1451/1451 [00:15<00:00, 95.87it/s, train_loss=0.816, val_loss=0.780]\u001b[A\n",
      "Epoch 44: 100%|███████████████████████████████████████████████████████| 1451/1451 [00:15<00:00, 96.04it/s, train_loss=0.814, val_loss=0.768]\u001b[A\n",
      "Epoch 45: 100%|██████████████████████████████████████████████████████| 1451/1451 [00:14<00:00, 100.39it/s, train_loss=0.814, val_loss=0.790]\u001b[A\n",
      "Epoch 46: 100%|███████████████████████████████████████████████████████| 1451/1451 [00:14<00:00, 97.87it/s, train_loss=0.814, val_loss=0.766]\u001b[A\n",
      "Epoch 47: 100%|███████████████████████████████████████████████████████| 1451/1451 [00:14<00:00, 98.59it/s, train_loss=0.816, val_loss=0.780]\u001b[A\n",
      "Epoch 48: 100%|███████████████████████████████████████████████████████| 1451/1451 [00:14<00:00, 97.11it/s, train_loss=0.807, val_loss=0.757]\u001b[A\n",
      "Epoch 49: 100%|███████████████████████████████████████████████████████| 1451/1451 [00:15<00:00, 92.53it/s, train_loss=0.813, val_loss=0.775]\u001b[A\n",
      "Epoch 50: 100%|███████████████████████████████████████████████████████| 1451/1451 [00:16<00:00, 90.62it/s, train_loss=0.809, val_loss=0.763]\u001b[A\n",
      "Epoch 51: 100%|███████████████████████████████████████████████████████| 1451/1451 [00:16<00:00, 87.49it/s, train_loss=0.805, val_loss=0.770]\u001b[A\n",
      "Epoch 52: 100%|███████████████████████████████████████████████████████| 1451/1451 [00:17<00:00, 83.11it/s, train_loss=0.810, val_loss=0.765]\u001b[A\n",
      "Epoch 53: 100%|███████████████████████████████████████████████████████| 1451/1451 [00:17<00:00, 84.50it/s, train_loss=0.802, val_loss=0.766]\u001b[A\n",
      "Epoch 54: 100%|███████████████████████████████████████████████████████| 1451/1451 [00:17<00:00, 83.97it/s, train_loss=0.804, val_loss=0.759]\u001b[A\n",
      "Epoch 55: 100%|███████████████████████████████████████████████████████| 1451/1451 [00:18<00:00, 76.47it/s, train_loss=0.800, val_loss=0.763]\u001b[A\n",
      "Epoch 56: 100%|███████████████████████████████████████████████████████| 1451/1451 [00:18<00:00, 77.01it/s, train_loss=0.802, val_loss=0.756]\u001b[A\n",
      "Epoch 57: 100%|███████████████████████████████████████████████████████| 1451/1451 [00:18<00:00, 76.97it/s, train_loss=0.799, val_loss=0.756]\u001b[A\n",
      "Epoch 58: 100%|███████████████████████████████████████████████████████| 1451/1451 [00:21<00:00, 66.73it/s, train_loss=0.800, val_loss=0.756]\u001b[A\n",
      "Epoch 59: 100%|███████████████████████████████████████████████████████| 1451/1451 [00:22<00:00, 64.73it/s, train_loss=0.798, val_loss=0.742]\u001b[A\n",
      "Epoch 60: 100%|███████████████████████████████████████████████████████| 1451/1451 [00:22<00:00, 64.72it/s, train_loss=0.796, val_loss=0.742]\u001b[A\n",
      "Epoch 61: 100%|███████████████████████████████████████████████████████| 1451/1451 [00:22<00:00, 64.36it/s, train_loss=0.794, val_loss=0.764]\u001b[A\n",
      "Epoch 62: 100%|███████████████████████████████████████████████████████| 1451/1451 [00:22<00:00, 65.13it/s, train_loss=0.799, val_loss=0.757]\u001b[A\n",
      "Epoch 63: 100%|███████████████████████████████████████████████████████| 1451/1451 [00:21<00:00, 66.17it/s, train_loss=0.792, val_loss=0.744]\u001b[A\n",
      "Epoch 64: 100%|███████████████████████████████████████████████████████| 1451/1451 [00:22<00:00, 63.16it/s, train_loss=0.798, val_loss=0.755]\u001b[A\n",
      "Epoch 65: 100%|███████████████████████████████████████████████████████| 1451/1451 [00:22<00:00, 63.33it/s, train_loss=0.792, val_loss=0.773]\u001b[A\n",
      "Epoch 66: 100%|███████████████████████████████████████████████████████| 1451/1451 [00:22<00:00, 64.03it/s, train_loss=0.792, val_loss=0.752]\u001b[A\n",
      "Epoch 67: 100%|███████████████████████████████████████████████████████| 1451/1451 [00:22<00:00, 63.54it/s, train_loss=0.789, val_loss=0.736]\u001b[A\n",
      "Epoch 68: 100%|███████████████████████████████████████████████████████| 1451/1451 [00:22<00:00, 64.21it/s, train_loss=0.791, val_loss=0.748]\u001b[A\n",
      "Epoch 69: 100%|███████████████████████████████████████████████████████| 1451/1451 [00:22<00:00, 64.55it/s, train_loss=0.788, val_loss=0.762]\u001b[A\n",
      "Epoch 70: 100%|███████████████████████████████████████████████████████| 1451/1451 [00:23<00:00, 63.05it/s, train_loss=0.786, val_loss=0.738]\u001b[A\n",
      "Epoch 71: 100%|███████████████████████████████████████████████████████| 1451/1451 [00:22<00:00, 65.13it/s, train_loss=0.787, val_loss=0.772]\u001b[A\n",
      "Epoch 72: 100%|███████████████████████████████████████████████████████| 1451/1451 [00:22<00:00, 63.81it/s, train_loss=0.786, val_loss=0.751]\u001b[A\n",
      "Epoch 73: 100%|███████████████████████████████████████████████████████| 1451/1451 [00:22<00:00, 65.01it/s, train_loss=0.786, val_loss=0.732]\u001b[A\n",
      "Epoch 74: 100%|███████████████████████████████████████████████████████| 1451/1451 [00:21<00:00, 66.27it/s, train_loss=0.788, val_loss=0.779]\u001b[A\n",
      "Epoch 75: 100%|███████████████████████████████████████████████████████| 1451/1451 [00:22<00:00, 63.81it/s, train_loss=0.783, val_loss=0.726]\u001b[A\n",
      "Epoch 76: 100%|███████████████████████████████████████████████████████| 1451/1451 [00:21<00:00, 67.70it/s, train_loss=0.780, val_loss=0.736]\u001b[A\n",
      "Epoch 77: 100%|███████████████████████████████████████████████████████| 1451/1451 [00:20<00:00, 70.11it/s, train_loss=0.784, val_loss=0.766]\u001b[A\n",
      "Epoch 78: 100%|███████████████████████████████████████████████████████| 1451/1451 [00:19<00:00, 73.18it/s, train_loss=0.783, val_loss=0.735]\u001b[A\n",
      "Epoch 79: 100%|███████████████████████████████████████████████████████| 1451/1451 [00:19<00:00, 73.64it/s, train_loss=0.782, val_loss=0.741]\u001b[A\n",
      "Epoch 80: 100%|███████████████████████████████████████████████████████| 1451/1451 [00:17<00:00, 83.35it/s, train_loss=0.783, val_loss=0.746]\u001b[A\n",
      "Epoch 81: 100%|███████████████████████████████████████████████████████| 1451/1451 [00:17<00:00, 80.99it/s, train_loss=0.782, val_loss=0.738]\u001b[A\n",
      "Epoch 82: 100%|███████████████████████████████████████████████████████| 1451/1451 [00:17<00:00, 83.61it/s, train_loss=0.779, val_loss=0.727]\u001b[A\n",
      "Epoch 83: 100%|███████████████████████████████████████████████████████| 1451/1451 [00:16<00:00, 86.27it/s, train_loss=0.781, val_loss=0.732]\u001b[A\n",
      "Epoch 84: 100%|███████████████████████████████████████████████████████| 1451/1451 [00:16<00:00, 87.42it/s, train_loss=0.778, val_loss=0.734]\u001b[A\n",
      "Epoch 85: 100%|███████████████████████████████████████████████████████| 1451/1451 [00:17<00:00, 83.96it/s, train_loss=0.781, val_loss=0.723]\u001b[A\n",
      "Epoch 86: 100%|███████████████████████████████████████████████████████| 1451/1451 [00:16<00:00, 85.41it/s, train_loss=0.777, val_loss=0.747]\u001b[A\n",
      "Epoch 87: 100%|███████████████████████████████████████████████████████| 1451/1451 [00:16<00:00, 85.77it/s, train_loss=0.774, val_loss=0.744]\u001b[A\n",
      "Epoch 88: 100%|███████████████████████████████████████████████████████| 1451/1451 [00:16<00:00, 86.08it/s, train_loss=0.775, val_loss=0.728]\u001b[A\n",
      "Epoch 89: 100%|███████████████████████████████████████████████████████| 1451/1451 [00:16<00:00, 87.07it/s, train_loss=0.771, val_loss=0.736]\u001b[A\n",
      "Epoch 90: 100%|███████████████████████████████████████████████████████| 1451/1451 [00:17<00:00, 82.39it/s, train_loss=0.774, val_loss=0.735]\u001b[A\n",
      "Epoch 91: 100%|███████████████████████████████████████████████████████| 1451/1451 [00:16<00:00, 86.35it/s, train_loss=0.771, val_loss=0.728]\u001b[A\n",
      "Epoch 92: 100%|███████████████████████████████████████████████████████| 1451/1451 [00:16<00:00, 89.40it/s, train_loss=0.774, val_loss=0.720]\u001b[A\n",
      "Epoch 93: 100%|███████████████████████████████████████████████████████| 1451/1451 [00:15<00:00, 92.68it/s, train_loss=0.771, val_loss=0.726]\u001b[A\n",
      "Epoch 94: 100%|███████████████████████████████████████████████████████| 1451/1451 [00:16<00:00, 85.72it/s, train_loss=0.772, val_loss=0.732]\u001b[A\n",
      "Epoch 95: 100%|███████████████████████████████████████████████████████| 1451/1451 [00:16<00:00, 86.76it/s, train_loss=0.769, val_loss=0.718]\u001b[A\n",
      "Epoch 96: 100%|███████████████████████████████████████████████████████| 1451/1451 [00:16<00:00, 86.81it/s, train_loss=0.772, val_loss=0.719]\u001b[A\n",
      "Epoch 97: 100%|███████████████████████████████████████████████████████| 1451/1451 [00:16<00:00, 86.91it/s, train_loss=0.768, val_loss=0.721]\u001b[A\n",
      "Epoch 98: 100%|███████████████████████████████████████████████████████| 1451/1451 [00:16<00:00, 86.85it/s, train_loss=0.769, val_loss=0.716]\u001b[A\n",
      "Epoch 99: 100%|███████████████████████████████████████████████████████| 1451/1451 [00:17<00:00, 83.10it/s, train_loss=0.772, val_loss=0.732]\u001b[A\n",
      "Epoch 99: 100%|███████████████████████████████████████████████████████| 1451/1451 [00:18<00:00, 77.08it/s, train_loss=0.771, val_loss=0.715]\u001b[A"
     ]
    },
    {
     "name": "stderr",
     "output_type": "stream",
     "text": [
      "`Trainer.fit` stopped: `max_epochs=100` reached.\n"
     ]
    },
    {
     "name": "stdout",
     "output_type": "stream",
     "text": [
      "Epoch 99: 100%|███████████████████████████████████████████████████████| 1451/1451 [00:18<00:00, 76.95it/s, train_loss=0.771, val_loss=0.715]\n"
     ]
    },
    {
     "data": {
      "image/png": "[encoded data removed]",
      "text/plain": [
       "<Figure size 640x480 with 1 Axes>"
      ]
     },
     "metadata": {},
     "output_type": "display_data"
    },
    {
     "name": "stdout",
     "output_type": "stream",
     "text": [
      "DONE SAVING PRETRAINED MODEL\n",
      "   | Name                                             | Type        | Params | Mode \n",
      "------------------------------------------------------------------------------------------\n",
      "0  | task_loss_fn                                     | MSELoss     | 0      | train\n",
      "1  | mask_loss_fn                                     | BCELoss     | 0      | train\n",
      "2  | categorical_feature_loss                         | BCELoss     | 0      | train\n",
      "3  | continuous_feature_loss                          | MSELoss     | 0      | train\n",
      "4  | model                                            | DAE         | 214 K  | train\n",
      "5  | model._DAE__encoder                              | MLP         | 59.2 K | train\n",
      "6  | model._DAE__encoder.linear_0                     | Linear      | 18.6 K | train\n",
      "7  | model._DAE__encoder.batchnorm_0                  | BatchNorm1d | 400    | train\n",
      "8  | model._DAE__encoder.relu_0                       | ReLU        | 0      | train\n",
      "9  | model._DAE__encoder.dropout_0                    | Dropout     | 0      | train\n",
      "10 | model._DAE__encoder.linear_n_layers              | Linear      | 40.2 K | train\n",
      "11 | model.mask_predictor_head                        | MLP         | 27.2 K | train\n",
      "12 | model.mask_predictor_head.linear_0               | Linear      | 18.5 K | train\n",
      "13 | model.mask_predictor_head.batchnorm_0            | BatchNorm1d | 184    | train\n",
      "14 | model.mask_predictor_head.relu_0                 | ReLU        | 0      | train\n",
      "15 | model.mask_predictor_head.dropout_0              | Dropout     | 0      | train\n",
      "16 | model.mask_predictor_head.linear_n_layers        | Linear      | 8.6 K  | train\n",
      "17 | model.reconstruction_head                        | MLP         | 27.2 K | train\n",
      "18 | model.reconstruction_head.linear_0               | Linear      | 18.5 K | train\n",
      "19 | model.reconstruction_head.batchnorm_0            | BatchNorm1d | 184    | train\n",
      "20 | model.reconstruction_head.relu_0                 | ReLU        | 0      | train\n",
      "21 | model.reconstruction_head.dropout_0              | Dropout     | 0      | train\n",
      "22 | model.reconstruction_head.linear_n_layers        | Linear      | 8.6 K  | train\n",
      "23 | model.one_layer_prediction_head                  | Sequential  | 40.4 K | train\n",
      "24 | model.one_layer_prediction_head.head_linear_hid  | Linear      | 40.2 K | train\n",
      "25 | model.one_layer_prediction_head.head_activation  | ReLU        | 0      | train\n",
      "26 | model.one_layer_prediction_head.head_linear_out  | Linear      | 201    | train\n",
      "27 | model.two_layer_prediction_head                  | Sequential  | 60.4 K | train\n",
      "28 | model.two_layer_prediction_head.head_linear_hid1 | Linear      | 40.2 K | train\n",
      "29 | model.two_layer_prediction_head.head_activation1 | ReLU        | 0      | train\n",
      "30 | model.two_layer_prediction_head.head_linear_hid2 | Linear      | 20.1 K | train\n",
      "31 | model.two_layer_prediction_head.head_activation2 | ReLU        | 0      | train\n",
      "32 | model.two_layer_prediction_head.head_linear_out  | Linear      | 101    | train\n",
      "------------------------------------------------------------------------------------------\n",
      "214 K     Trainable params\n",
      "0         Non-trainable params\n",
      "214 K     Total params\n",
      "0.858     Total estimated model params size (MB)\n",
      "Time to pretrain model:  1855.1349396705627\n",
      "DONE PRETRAINING\n"
     ]
    }
   ],
   "source": [
    "s3l_training(pretrain=True, # if True First Phase training\n",
    "             use_pretrained_model=False, # if True Second Phase learning\n",
    "             pt_type='dae', \n",
    "             pt_folder='FP8')"
   ]
  },
  {
   "cell_type": "code",
   "execution_count": null,
   "id": "de7160f9-4db4-4688-9556-ba884a04eafb",
   "metadata": {},
   "outputs": [],
   "source": []
  }
 ],
 "metadata": {
  "kernelspec": {
   "display_name": "Python 3 (ipykernel)",
   "language": "python",
   "name": "python3"
  },
  "language_info": {
   "codemirror_mode": {
    "name": "ipython",
    "version": 3
   },
   "file_extension": ".py",
   "mimetype": "text/x-python",
   "name": "python",
   "nbconvert_exporter": "python",
   "pygments_lexer": "ipython3",
   "version": "3.8.10"
  }
 },
 "nbformat": 4,
 "nbformat_minor": 5
}
