{
 "cells": [
  {
   "cell_type": "code",
   "execution_count": 1,
   "id": "8ed58de6-5ac0-4bbb-95e7-c77e64dfaf11",
   "metadata": {},
   "outputs": [],
   "source": [
    "# reload\n",
    "#%reset\n",
    "%load_ext autoreload\n",
    "%autoreload 2 \n",
    "\n",
    "import warnings\n",
    "import logging\n",
    "import os\n",
    "\n",
    "# DEBUG MODE\n",
    "os.environ['TF_CPP_MIN_LOG_LEVEL'] = '3'\n",
    "warnings.filterwarnings('ignore')\n",
    "logging.getLogger('tensorflow').setLevel(logging.FATAL)\n",
    "    \n",
    "from s3l_training import s3l_training"
   ]
  },
  {
   "cell_type": "code",
   "execution_count": 2,
   "id": "26eb320c-c17f-40dd-8264-6dcbd0933f0b",
   "metadata": {},
   "outputs": [
    {
     "name": "stdout",
     "output_type": "stream",
     "text": [
      "Run with random seed:  561\n",
      "GPU is available.\n",
      "1\n",
      "True\n",
      "12.1\n",
      "Concatenating runs:  range(1, 11)\n",
      "Time to read csv file for run:  3.1397860050201416\n",
      "Loaded run 1\n",
      "Time to read csv file for run:  3.048069715499878\n",
      "Loaded run 2\n",
      "Time to read csv file for run:  3.0633342266082764\n",
      "Loaded run 3\n",
      "Time to read csv file for run:  3.007327079772949\n",
      "Loaded run 4\n",
      "Time to read csv file for run:  3.0007848739624023\n",
      "Loaded run 5\n",
      "Time to read csv file for run:  2.915087938308716\n",
      "Loaded run 6\n",
      "Time to read csv file for run:  2.943485975265503\n",
      "Loaded run 7\n",
      "Time to read csv file for run:  2.9424009323120117\n",
      "Loaded run 8\n",
      "Time to read csv file for run:  2.997819185256958\n",
      "Loaded run 9\n",
      "Time to read csv file for run:  2.917894124984741\n",
      "Loaded run 10\n",
      "pretrain_data, before removing rows that dont have traffic  (1799100, 102)\n",
      "pretrain_data, after removing rows that dont have traffic  (205538, 102)\n",
      "X_pretrain  (205086, 92)\n"
     ]
    },
    {
     "name": "stderr",
     "output_type": "stream",
     "text": [
      "Seed set to 42\n"
     ]
    },
    {
     "name": "stdout",
     "output_type": "stream",
     "text": [
      "HYPERPARAMETERS:  {'loss_fn': 'MSELoss', 'metric': 'r2_score', 'hidden_dim': 200, 'max_epochs': 100, 'batch_size': 128, 'optim_hparams': {'lr': 0.0001, 'weight_decay': 5e-05}, 'encoder_depth': 2, 'head_depth': 2, 'dropout_rate': 0.1, 'corruption_rate': 0.3}\n"
     ]
    },
    {
     "name": "stderr",
     "output_type": "stream",
     "text": [
      "GPU available: True (cuda), used: True\n",
      "TPU available: False, using: 0 TPU cores\n",
      "HPU available: False, using: 0 HPUs\n",
      "LOCAL_RANK: 0 - CUDA_VISIBLE_DEVICES: [0]\n"
     ]
    },
    {
     "name": "stdout",
     "output_type": "stream",
     "text": [
      "refresh rate:  10\n"
     ]
    },
    {
     "name": "stderr",
     "output_type": "stream",
     "text": [
      "\n",
      "  | Name             | Type       | Params | Mode \n",
      "--------------------------------------------------------\n",
      "0 | task_loss_fn     | MSELoss    | 0      | train\n",
      "1 | contrastive_loss | NTXentLoss | 0      | train\n",
      "2 | model            | SCARF      | 240 K  | train\n",
      "--------------------------------------------------------\n",
      "240 K     Trainable params\n",
      "0         Non-trainable params\n",
      "240 K     Total params\n",
      "0.963     Total estimated model params size (MB)\n"
     ]
    },
    {
     "name": "stdout",
     "output_type": "stream",
     "text": [
      "Epoch 0: 100%|██████████████████████████████████████████████████████████████████████████████████████████| 1451/1451 [00:19<00:00, 75.23it/s]\n",
      "Epoch 1: 100%|████████████████████████████████████████████████████████| 1451/1451 [00:19<00:00, 73.65it/s, train_loss=1.180, val_loss=1.050]\u001b[A\n",
      "Epoch 2: 100%|████████████████████████████████████████████████████████| 1451/1451 [00:19<00:00, 74.48it/s, train_loss=0.691, val_loss=0.895]\u001b[A\n",
      "Epoch 3: 100%|████████████████████████████████████████████████████████| 1451/1451 [00:19<00:00, 73.81it/s, train_loss=0.590, val_loss=0.941]\u001b[A\n",
      "Epoch 4: 100%|████████████████████████████████████████████████████████| 1451/1451 [00:19<00:00, 73.23it/s, train_loss=0.541, val_loss=0.864]\u001b[A\n",
      "Epoch 5: 100%|████████████████████████████████████████████████████████| 1451/1451 [00:19<00:00, 74.79it/s, train_loss=0.513, val_loss=0.885]\u001b[A\n",
      "Epoch 6: 100%|████████████████████████████████████████████████████████| 1451/1451 [00:19<00:00, 72.99it/s, train_loss=0.490, val_loss=0.889]\u001b[A\n",
      "Epoch 7: 100%|████████████████████████████████████████████████████████| 1451/1451 [00:20<00:00, 71.93it/s, train_loss=0.476, val_loss=0.858]\u001b[A\n",
      "Epoch 8: 100%|████████████████████████████████████████████████████████| 1451/1451 [00:20<00:00, 72.02it/s, train_loss=0.463, val_loss=0.845]\u001b[A\n",
      "Epoch 9: 100%|████████████████████████████████████████████████████████| 1451/1451 [00:20<00:00, 72.07it/s, train_loss=0.454, val_loss=0.877]\u001b[A\n",
      "Epoch 10: 100%|███████████████████████████████████████████████████████| 1451/1451 [00:19<00:00, 74.70it/s, train_loss=0.442, val_loss=0.812]\u001b[A\n",
      "Epoch 11: 100%|███████████████████████████████████████████████████████| 1451/1451 [00:19<00:00, 73.54it/s, train_loss=0.435, val_loss=0.797]\u001b[A\n",
      "Epoch 12: 100%|███████████████████████████████████████████████████████| 1451/1451 [00:19<00:00, 74.52it/s, train_loss=0.430, val_loss=0.793]\u001b[A\n",
      "Epoch 13: 100%|███████████████████████████████████████████████████████| 1451/1451 [00:19<00:00, 75.71it/s, train_loss=0.422, val_loss=0.747]\u001b[A\n",
      "Epoch 14: 100%|███████████████████████████████████████████████████████| 1451/1451 [00:19<00:00, 73.23it/s, train_loss=0.414, val_loss=0.772]\u001b[A\n",
      "Epoch 15: 100%|███████████████████████████████████████████████████████| 1451/1451 [00:19<00:00, 72.59it/s, train_loss=0.410, val_loss=0.721]\u001b[A\n",
      "Epoch 16: 100%|███████████████████████████████████████████████████████| 1451/1451 [00:20<00:00, 71.34it/s, train_loss=0.407, val_loss=0.738]\u001b[A\n",
      "Epoch 17: 100%|███████████████████████████████████████████████████████| 1451/1451 [00:20<00:00, 70.87it/s, train_loss=0.401, val_loss=0.764]\u001b[A\n",
      "Epoch 18: 100%|███████████████████████████████████████████████████████| 1451/1451 [00:20<00:00, 71.91it/s, train_loss=0.395, val_loss=0.721]\u001b[A\n",
      "Epoch 19: 100%|███████████████████████████████████████████████████████| 1451/1451 [00:19<00:00, 73.49it/s, train_loss=0.391, val_loss=0.709]\u001b[A\n",
      "Epoch 20: 100%|███████████████████████████████████████████████████████| 1451/1451 [00:19<00:00, 72.63it/s, train_loss=0.387, val_loss=0.673]\u001b[A\n",
      "Epoch 21: 100%|███████████████████████████████████████████████████████| 1451/1451 [00:20<00:00, 71.59it/s, train_loss=0.381, val_loss=0.755]\u001b[A\n",
      "Epoch 22: 100%|███████████████████████████████████████████████████████| 1451/1451 [00:20<00:00, 71.81it/s, train_loss=0.378, val_loss=0.691]\u001b[A\n",
      "Epoch 23: 100%|███████████████████████████████████████████████████████| 1451/1451 [00:20<00:00, 71.31it/s, train_loss=0.374, val_loss=0.669]\u001b[A\n",
      "Epoch 24: 100%|███████████████████████████████████████████████████████| 1451/1451 [00:20<00:00, 72.52it/s, train_loss=0.371, val_loss=0.743]\u001b[A\n",
      "Epoch 25: 100%|███████████████████████████████████████████████████████| 1451/1451 [00:20<00:00, 71.63it/s, train_loss=0.366, val_loss=0.671]\u001b[A\n",
      "Epoch 26: 100%|███████████████████████████████████████████████████████| 1451/1451 [00:20<00:00, 71.26it/s, train_loss=0.359, val_loss=0.633]\u001b[A\n",
      "Epoch 27: 100%|███████████████████████████████████████████████████████| 1451/1451 [00:20<00:00, 72.35it/s, train_loss=0.356, val_loss=0.647]\u001b[A\n",
      "Epoch 28: 100%|███████████████████████████████████████████████████████| 1451/1451 [00:19<00:00, 72.99it/s, train_loss=0.351, val_loss=0.675]\u001b[A\n",
      "Epoch 29: 100%|███████████████████████████████████████████████████████| 1451/1451 [00:19<00:00, 73.09it/s, train_loss=0.349, val_loss=0.589]\u001b[A\n",
      "Epoch 30: 100%|███████████████████████████████████████████████████████| 1451/1451 [00:20<00:00, 71.90it/s, train_loss=0.346, val_loss=0.577]\u001b[A\n",
      "Epoch 31: 100%|███████████████████████████████████████████████████████| 1451/1451 [00:20<00:00, 72.15it/s, train_loss=0.343, val_loss=0.587]\u001b[A\n",
      "Epoch 32: 100%|███████████████████████████████████████████████████████| 1451/1451 [00:20<00:00, 72.28it/s, train_loss=0.339, val_loss=0.576]\u001b[A\n",
      "Epoch 33: 100%|███████████████████████████████████████████████████████| 1451/1451 [00:20<00:00, 70.92it/s, train_loss=0.336, val_loss=0.597]\u001b[A\n",
      "Epoch 34: 100%|███████████████████████████████████████████████████████| 1451/1451 [00:19<00:00, 73.67it/s, train_loss=0.331, val_loss=0.560]\u001b[A\n",
      "Epoch 35: 100%|███████████████████████████████████████████████████████| 1451/1451 [00:19<00:00, 74.96it/s, train_loss=0.326, val_loss=0.551]\u001b[A\n",
      "Epoch 36: 100%|███████████████████████████████████████████████████████| 1451/1451 [00:19<00:00, 73.33it/s, train_loss=0.326, val_loss=0.532]\u001b[A\n",
      "Epoch 37: 100%|███████████████████████████████████████████████████████| 1451/1451 [00:20<00:00, 70.90it/s, train_loss=0.319, val_loss=0.535]\u001b[A\n",
      "Epoch 38: 100%|███████████████████████████████████████████████████████| 1451/1451 [00:20<00:00, 70.05it/s, train_loss=0.316, val_loss=0.561]\u001b[A\n",
      "Epoch 39: 100%|███████████████████████████████████████████████████████| 1451/1451 [00:22<00:00, 65.71it/s, train_loss=0.313, val_loss=0.523]\u001b[A\n",
      "Epoch 40: 100%|███████████████████████████████████████████████████████| 1451/1451 [00:22<00:00, 65.61it/s, train_loss=0.309, val_loss=0.489]\u001b[A\n",
      "Epoch 41: 100%|███████████████████████████████████████████████████████| 1451/1451 [00:22<00:00, 64.87it/s, train_loss=0.306, val_loss=0.513]\u001b[A\n",
      "Epoch 42: 100%|███████████████████████████████████████████████████████| 1451/1451 [00:23<00:00, 62.03it/s, train_loss=0.301, val_loss=0.511]\u001b[A\n",
      "Epoch 43: 100%|███████████████████████████████████████████████████████| 1451/1451 [00:23<00:00, 62.08it/s, train_loss=0.298, val_loss=0.490]\u001b[A\n",
      "Epoch 44: 100%|███████████████████████████████████████████████████████| 1451/1451 [00:25<00:00, 57.80it/s, train_loss=0.293, val_loss=0.474]\u001b[A\n",
      "Epoch 45: 100%|███████████████████████████████████████████████████████| 1451/1451 [00:26<00:00, 55.47it/s, train_loss=0.291, val_loss=0.481]\u001b[A\n",
      "Epoch 46: 100%|███████████████████████████████████████████████████████| 1451/1451 [00:26<00:00, 55.12it/s, train_loss=0.290, val_loss=0.476]\u001b[A\n",
      "Epoch 47: 100%|███████████████████████████████████████████████████████| 1451/1451 [00:26<00:00, 55.26it/s, train_loss=0.286, val_loss=0.472]\u001b[A\n",
      "Epoch 48: 100%|███████████████████████████████████████████████████████| 1451/1451 [00:26<00:00, 54.85it/s, train_loss=0.283, val_loss=0.444]\u001b[A\n",
      "Epoch 49: 100%|███████████████████████████████████████████████████████| 1451/1451 [00:26<00:00, 54.09it/s, train_loss=0.280, val_loss=0.460]\u001b[A\n",
      "Epoch 50: 100%|███████████████████████████████████████████████████████| 1451/1451 [00:27<00:00, 52.41it/s, train_loss=0.277, val_loss=0.446]\u001b[A\n",
      "Epoch 51: 100%|███████████████████████████████████████████████████████| 1451/1451 [00:26<00:00, 55.15it/s, train_loss=0.276, val_loss=0.411]\u001b[A\n",
      "Epoch 52: 100%|███████████████████████████████████████████████████████| 1451/1451 [00:26<00:00, 53.77it/s, train_loss=0.272, val_loss=0.413]\u001b[A\n",
      "Epoch 53: 100%|███████████████████████████████████████████████████████| 1451/1451 [00:26<00:00, 53.91it/s, train_loss=0.269, val_loss=0.449]\u001b[A\n",
      "Epoch 54: 100%|███████████████████████████████████████████████████████| 1451/1451 [00:27<00:00, 52.99it/s, train_loss=0.266, val_loss=0.405]\u001b[A\n",
      "Epoch 55: 100%|███████████████████████████████████████████████████████| 1451/1451 [00:26<00:00, 54.59it/s, train_loss=0.262, val_loss=0.418]\u001b[A\n",
      "Epoch 56: 100%|███████████████████████████████████████████████████████| 1451/1451 [00:27<00:00, 53.70it/s, train_loss=0.260, val_loss=0.393]\u001b[A\n",
      "Epoch 57: 100%|███████████████████████████████████████████████████████| 1451/1451 [00:26<00:00, 55.33it/s, train_loss=0.259, val_loss=0.428]\u001b[A\n",
      "Epoch 58: 100%|███████████████████████████████████████████████████████| 1451/1451 [00:26<00:00, 55.26it/s, train_loss=0.254, val_loss=0.412]\u001b[A\n",
      "Epoch 59: 100%|███████████████████████████████████████████████████████| 1451/1451 [00:26<00:00, 53.89it/s, train_loss=0.251, val_loss=0.544]\u001b[A\n",
      "Epoch 60: 100%|███████████████████████████████████████████████████████| 1451/1451 [00:26<00:00, 54.65it/s, train_loss=0.249, val_loss=0.386]\u001b[A\n",
      "Epoch 61: 100%|███████████████████████████████████████████████████████| 1451/1451 [00:26<00:00, 55.78it/s, train_loss=0.245, val_loss=0.385]\u001b[A\n",
      "Epoch 62: 100%|███████████████████████████████████████████████████████| 1451/1451 [00:25<00:00, 57.75it/s, train_loss=0.242, val_loss=0.371]\u001b[A\n",
      "Epoch 63: 100%|███████████████████████████████████████████████████████| 1451/1451 [00:24<00:00, 59.55it/s, train_loss=0.239, val_loss=0.374]\u001b[A\n",
      "Epoch 64: 100%|███████████████████████████████████████████████████████| 1451/1451 [00:23<00:00, 61.26it/s, train_loss=0.237, val_loss=0.361]\u001b[A\n",
      "Epoch 65: 100%|███████████████████████████████████████████████████████| 1451/1451 [00:23<00:00, 62.45it/s, train_loss=0.234, val_loss=0.399]\u001b[A\n",
      "Epoch 66: 100%|███████████████████████████████████████████████████████| 1451/1451 [00:22<00:00, 63.54it/s, train_loss=0.232, val_loss=0.395]\u001b[A\n",
      "Epoch 67: 100%|███████████████████████████████████████████████████████| 1451/1451 [00:22<00:00, 64.88it/s, train_loss=0.229, val_loss=0.337]\u001b[A\n",
      "Epoch 68: 100%|███████████████████████████████████████████████████████| 1451/1451 [00:22<00:00, 65.87it/s, train_loss=0.225, val_loss=0.379]\u001b[A\n",
      "Epoch 69: 100%|███████████████████████████████████████████████████████| 1451/1451 [00:22<00:00, 65.52it/s, train_loss=0.225, val_loss=0.364]\u001b[A\n",
      "Epoch 70: 100%|███████████████████████████████████████████████████████| 1451/1451 [00:22<00:00, 65.07it/s, train_loss=0.221, val_loss=0.344]\u001b[A\n",
      "Epoch 71: 100%|███████████████████████████████████████████████████████| 1451/1451 [00:22<00:00, 65.24it/s, train_loss=0.222, val_loss=0.339]\u001b[A\n",
      "Epoch 72: 100%|███████████████████████████████████████████████████████| 1451/1451 [00:22<00:00, 64.67it/s, train_loss=0.220, val_loss=0.373]\u001b[A\n",
      "Epoch 73: 100%|███████████████████████████████████████████████████████| 1451/1451 [00:22<00:00, 64.92it/s, train_loss=0.218, val_loss=0.363]\u001b[A\n",
      "Epoch 74: 100%|███████████████████████████████████████████████████████| 1451/1451 [00:22<00:00, 63.55it/s, train_loss=0.216, val_loss=0.350]\u001b[A\n",
      "Epoch 75: 100%|███████████████████████████████████████████████████████| 1451/1451 [00:22<00:00, 64.75it/s, train_loss=0.214, val_loss=0.353]\u001b[A\n",
      "Epoch 76: 100%|███████████████████████████████████████████████████████| 1451/1451 [00:23<00:00, 62.52it/s, train_loss=0.213, val_loss=0.334]\u001b[A\n",
      "Epoch 77: 100%|███████████████████████████████████████████████████████| 1451/1451 [00:23<00:00, 61.66it/s, train_loss=0.211, val_loss=0.318]\u001b[A\n",
      "Epoch 78: 100%|███████████████████████████████████████████████████████| 1451/1451 [00:22<00:00, 63.50it/s, train_loss=0.210, val_loss=0.314]\u001b[A\n",
      "Epoch 79: 100%|███████████████████████████████████████████████████████| 1451/1451 [00:23<00:00, 61.44it/s, train_loss=0.207, val_loss=0.312]\u001b[A\n",
      "Epoch 80: 100%|███████████████████████████████████████████████████████| 1451/1451 [00:24<00:00, 58.41it/s, train_loss=0.207, val_loss=0.332]\u001b[A\n",
      "Epoch 81: 100%|███████████████████████████████████████████████████████| 1451/1451 [00:24<00:00, 60.19it/s, train_loss=0.206, val_loss=0.377]\u001b[A\n",
      "Epoch 82: 100%|███████████████████████████████████████████████████████| 1451/1451 [00:24<00:00, 58.65it/s, train_loss=0.203, val_loss=0.327]\u001b[A\n",
      "Epoch 83: 100%|███████████████████████████████████████████████████████| 1451/1451 [00:22<00:00, 63.57it/s, train_loss=0.201, val_loss=0.307]\u001b[A\n",
      "Epoch 84: 100%|███████████████████████████████████████████████████████| 1451/1451 [00:23<00:00, 62.27it/s, train_loss=0.201, val_loss=0.330]\u001b[A\n",
      "Epoch 85: 100%|███████████████████████████████████████████████████████| 1451/1451 [00:21<00:00, 68.03it/s, train_loss=0.199, val_loss=0.310]\u001b[A\n",
      "Epoch 86: 100%|███████████████████████████████████████████████████████| 1451/1451 [00:20<00:00, 70.02it/s, train_loss=0.197, val_loss=0.308]\u001b[A\n",
      "Epoch 87: 100%|███████████████████████████████████████████████████████| 1451/1451 [00:21<00:00, 68.93it/s, train_loss=0.196, val_loss=0.366]\u001b[A\n",
      "Epoch 88: 100%|███████████████████████████████████████████████████████| 1451/1451 [00:21<00:00, 67.78it/s, train_loss=0.194, val_loss=0.325]\u001b[A\n",
      "Epoch 89: 100%|███████████████████████████████████████████████████████| 1451/1451 [00:22<00:00, 65.36it/s, train_loss=0.192, val_loss=0.315]\u001b[A\n",
      "Epoch 90: 100%|███████████████████████████████████████████████████████| 1451/1451 [00:21<00:00, 66.21it/s, train_loss=0.190, val_loss=0.321]\u001b[A\n",
      "Epoch 91: 100%|███████████████████████████████████████████████████████| 1451/1451 [00:21<00:00, 66.73it/s, train_loss=0.190, val_loss=0.305]\u001b[A\n",
      "Epoch 92: 100%|███████████████████████████████████████████████████████| 1451/1451 [00:21<00:00, 67.59it/s, train_loss=0.189, val_loss=0.285]\u001b[A\n",
      "Epoch 93: 100%|███████████████████████████████████████████████████████| 1451/1451 [00:20<00:00, 69.44it/s, train_loss=0.187, val_loss=0.334]\u001b[A\n",
      "Epoch 94: 100%|███████████████████████████████████████████████████████| 1451/1451 [00:21<00:00, 66.74it/s, train_loss=0.186, val_loss=0.270]\u001b[A\n",
      "Epoch 95: 100%|███████████████████████████████████████████████████████| 1451/1451 [00:21<00:00, 68.13it/s, train_loss=0.185, val_loss=0.308]\u001b[A\n",
      "Epoch 96: 100%|███████████████████████████████████████████████████████| 1451/1451 [00:20<00:00, 69.73it/s, train_loss=0.184, val_loss=0.286]\u001b[A\n",
      "Epoch 97: 100%|███████████████████████████████████████████████████████| 1451/1451 [00:20<00:00, 70.21it/s, train_loss=0.182, val_loss=0.314]\u001b[A\n",
      "Epoch 98: 100%|███████████████████████████████████████████████████████| 1451/1451 [00:20<00:00, 70.07it/s, train_loss=0.182, val_loss=0.317]\u001b[A\n",
      "Epoch 99: 100%|███████████████████████████████████████████████████████| 1451/1451 [00:20<00:00, 69.68it/s, train_loss=0.181, val_loss=0.287]\u001b[A\n",
      "Epoch 99: 100%|███████████████████████████████████████████████████████| 1451/1451 [00:22<00:00, 65.03it/s, train_loss=0.180, val_loss=0.298]\u001b[A"
     ]
    },
    {
     "name": "stderr",
     "output_type": "stream",
     "text": [
      "`Trainer.fit` stopped: `max_epochs=100` reached.\n"
     ]
    },
    {
     "name": "stdout",
     "output_type": "stream",
     "text": [
      "Epoch 99: 100%|███████████████████████████████████████████████████████| 1451/1451 [00:22<00:00, 64.98it/s, train_loss=0.180, val_loss=0.298]\n"
     ]
    },
    {
     "data": {
      "image/png": "[encoded data removed]",
      "text/plain": [
       "<Figure size 640x480 with 1 Axes>"
      ]
     },
     "metadata": {},
     "output_type": "display_data"
    },
    {
     "name": "stdout",
     "output_type": "stream",
     "text": [
      "DONE SAVING PRETRAINED MODEL\n",
      "   | Name                                             | Type        | Params | Mode \n",
      "------------------------------------------------------------------------------------------\n",
      "0  | task_loss_fn                                     | MSELoss     | 0      | train\n",
      "1  | contrastive_loss                                 | NTXentLoss  | 0      | train\n",
      "2  | model                                            | SCARF       | 240 K  | train\n",
      "3  | model._SCARF__encoder                            | MLP         | 59.2 K | train\n",
      "4  | model._SCARF__encoder.linear_0                   | Linear      | 18.6 K | train\n",
      "5  | model._SCARF__encoder.batchnorm_0                | BatchNorm1d | 400    | train\n",
      "6  | model._SCARF__encoder.relu_0                     | ReLU        | 0      | train\n",
      "7  | model._SCARF__encoder.dropout_0                  | Dropout     | 0      | train\n",
      "8  | model._SCARF__encoder.linear_n_layers            | Linear      | 40.2 K | train\n",
      "9  | model.pretraining_head                           | MLP         | 80.8 K | train\n",
      "10 | model.pretraining_head.linear_0                  | Linear      | 40.2 K | train\n",
      "11 | model.pretraining_head.batchnorm_0               | BatchNorm1d | 400    | train\n",
      "12 | model.pretraining_head.relu_0                    | ReLU        | 0      | train\n",
      "13 | model.pretraining_head.dropout_0                 | Dropout     | 0      | train\n",
      "14 | model.pretraining_head.linear_n_layers           | Linear      | 40.2 K | train\n",
      "15 | model.one_layer_prediction_head                  | Sequential  | 40.4 K | train\n",
      "16 | model.one_layer_prediction_head.head_linear_hid  | Linear      | 40.2 K | train\n",
      "17 | model.one_layer_prediction_head.head_activation  | ReLU        | 0      | train\n",
      "18 | model.one_layer_prediction_head.head_linear_out  | Linear      | 201    | train\n",
      "19 | model.two_layer_prediction_head                  | Sequential  | 60.4 K | train\n",
      "20 | model.two_layer_prediction_head.head_linear_hid1 | Linear      | 40.2 K | train\n",
      "21 | model.two_layer_prediction_head.head_activation1 | ReLU        | 0      | train\n",
      "22 | model.two_layer_prediction_head.head_linear_hid2 | Linear      | 20.1 K | train\n",
      "23 | model.two_layer_prediction_head.head_activation2 | ReLU        | 0      | train\n",
      "24 | model.two_layer_prediction_head.head_linear_out  | Linear      | 101    | train\n",
      "------------------------------------------------------------------------------------------\n",
      "240 K     Trainable params\n",
      "0         Non-trainable params\n",
      "240 K     Total params\n",
      "0.963     Total estimated model params size (MB)\n",
      "Time to pretrain model:  2381.4581632614136\n",
      "DONE PRETRAINING\n"
     ]
    }
   ],
   "source": [
    "s3l_training(pretrain=True, # if True First Phase training\n",
    "             use_pretrained_model=False, # if True Second Phase learning\n",
    "             pt_type='scarf', \n",
    "             pt_folder='FP8')"
   ]
  },
  {
   "cell_type": "code",
   "execution_count": null,
   "id": "de7160f9-4db4-4688-9556-ba884a04eafb",
   "metadata": {},
   "outputs": [],
   "source": []
  }
 ],
 "metadata": {
  "kernelspec": {
   "display_name": "Python 3 (ipykernel)",
   "language": "python",
   "name": "python3"
  },
  "language_info": {
   "codemirror_mode": {
    "name": "ipython",
    "version": 3
   },
   "file_extension": ".py",
   "mimetype": "text/x-python",
   "name": "python",
   "nbconvert_exporter": "python",
   "pygments_lexer": "ipython3",
   "version": "3.8.10"
  }
 },
 "nbformat": 4,
 "nbformat_minor": 5
}
