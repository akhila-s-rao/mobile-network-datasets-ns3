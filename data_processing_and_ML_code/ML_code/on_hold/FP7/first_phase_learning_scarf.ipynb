{
 "cells": [
  {
   "cell_type": "code",
   "execution_count": 1,
   "id": "8ed58de6-5ac0-4bbb-95e7-c77e64dfaf11",
   "metadata": {},
   "outputs": [],
   "source": [
    "# reload\n",
    "#%reset\n",
    "%load_ext autoreload\n",
    "%autoreload 2 \n",
    "\n",
    "import warnings\n",
    "import logging\n",
    "import os\n",
    "\n",
    "# DEBUG MODE\n",
    "os.environ['TF_CPP_MIN_LOG_LEVEL'] = '3'\n",
    "warnings.filterwarnings('ignore')\n",
    "logging.getLogger('tensorflow').setLevel(logging.FATAL)\n",
    "    \n",
    "from s3l_training import s3l_training"
   ]
  },
  {
   "cell_type": "code",
   "execution_count": 2,
   "id": "26eb320c-c17f-40dd-8264-6dcbd0933f0b",
   "metadata": {},
   "outputs": [
    {
     "name": "stdout",
     "output_type": "stream",
     "text": [
      "Run with random seed:  561\n",
      "GPU is available.\n",
      "1\n",
      "True\n",
      "12.1\n",
      "Concatenating runs:  range(1, 11)\n",
      "Time to read csv file for run:  3.3025317192077637\n",
      "Loaded run 1\n",
      "Time to read csv file for run:  3.019566535949707\n",
      "Loaded run 2\n",
      "Time to read csv file for run:  3.0180552005767822\n",
      "Loaded run 3\n",
      "Time to read csv file for run:  3.0477609634399414\n",
      "Loaded run 4\n",
      "Time to read csv file for run:  3.070972442626953\n",
      "Loaded run 5\n",
      "Time to read csv file for run:  2.9948129653930664\n",
      "Loaded run 6\n",
      "Time to read csv file for run:  3.029599666595459\n",
      "Loaded run 7\n",
      "Time to read csv file for run:  3.064793109893799\n",
      "Loaded run 8\n",
      "Time to read csv file for run:  3.035827398300171\n",
      "Loaded run 9\n",
      "Time to read csv file for run:  3.153096914291382\n",
      "Loaded run 10\n",
      "pretrain_data, before removing rows that dont have traffic  (1799100, 102)\n",
      "pretrain_data, after removing rows that dont have traffic  (205538, 102)\n",
      "X_pretrain  (205086, 92)\n"
     ]
    },
    {
     "name": "stderr",
     "output_type": "stream",
     "text": [
      "Seed set to 42\n"
     ]
    },
    {
     "name": "stdout",
     "output_type": "stream",
     "text": [
      "HYPERPARAMETERS:  {'loss_fn': 'MSELoss', 'metric': 'r2_score', 'hidden_dim': 300, 'max_epochs': 100, 'batch_size': 128, 'optim_hparams': {'lr': 0.0001, 'weight_decay': 5e-05}, 'encoder_depth': 4, 'head_depth': 2, 'dropout_rate': 0.1, 'corruption_rate': 0.3}\n"
     ]
    },
    {
     "name": "stderr",
     "output_type": "stream",
     "text": [
      "GPU available: True (cuda), used: True\n",
      "TPU available: False, using: 0 TPU cores\n",
      "HPU available: False, using: 0 HPUs\n",
      "LOCAL_RANK: 0 - CUDA_VISIBLE_DEVICES: [0]\n"
     ]
    },
    {
     "name": "stdout",
     "output_type": "stream",
     "text": [
      "refresh rate:  10\n"
     ]
    },
    {
     "name": "stderr",
     "output_type": "stream",
     "text": [
      "\n",
      "  | Name             | Type       | Params | Mode \n",
      "--------------------------------------------------------\n",
      "0 | task_loss_fn     | MSELoss    | 0      | train\n",
      "1 | contrastive_loss | NTXentLoss | 0      | train\n",
      "2 | model            | SCARF      | 692 K  | train\n",
      "--------------------------------------------------------\n",
      "692 K     Trainable params\n",
      "0         Non-trainable params\n",
      "692 K     Total params\n",
      "2.772     Total estimated model params size (MB)\n"
     ]
    },
    {
     "name": "stdout",
     "output_type": "stream",
     "text": [
      "Epoch 0: 100%|██████████████████████████████████████████████████████████████████████████████████████████| 1451/1451 [00:25<00:00, 55.84it/s]\n",
      "Epoch 1: 100%|████████████████████████████████████████████████████████| 1451/1451 [00:26<00:00, 55.27it/s, train_loss=1.080, val_loss=1.040]\u001b[A\n",
      "Epoch 2: 100%|████████████████████████████████████████████████████████| 1451/1451 [00:26<00:00, 55.10it/s, train_loss=0.587, val_loss=0.959]\u001b[A\n",
      "Epoch 3: 100%|████████████████████████████████████████████████████████| 1451/1451 [00:26<00:00, 54.76it/s, train_loss=0.502, val_loss=0.918]\u001b[A\n",
      "Epoch 4: 100%|████████████████████████████████████████████████████████| 1451/1451 [00:26<00:00, 55.15it/s, train_loss=0.460, val_loss=0.869]\u001b[A\n",
      "Epoch 5: 100%|████████████████████████████████████████████████████████| 1451/1451 [00:26<00:00, 55.22it/s, train_loss=0.438, val_loss=0.965]\u001b[A\n",
      "Epoch 6: 100%|████████████████████████████████████████████████████████| 1451/1451 [00:26<00:00, 55.43it/s, train_loss=0.420, val_loss=0.853]\u001b[A\n",
      "Epoch 7: 100%|████████████████████████████████████████████████████████| 1451/1451 [00:26<00:00, 54.88it/s, train_loss=0.405, val_loss=0.781]\u001b[A\n",
      "Epoch 8: 100%|████████████████████████████████████████████████████████| 1451/1451 [00:26<00:00, 55.00it/s, train_loss=0.394, val_loss=0.783]\u001b[A\n",
      "Epoch 9: 100%|████████████████████████████████████████████████████████| 1451/1451 [00:26<00:00, 55.25it/s, train_loss=0.384, val_loss=0.779]\u001b[A\n",
      "Epoch 10: 100%|███████████████████████████████████████████████████████| 1451/1451 [00:26<00:00, 55.31it/s, train_loss=0.378, val_loss=0.741]\u001b[A\n",
      "Epoch 11: 100%|███████████████████████████████████████████████████████| 1451/1451 [00:26<00:00, 55.70it/s, train_loss=0.370, val_loss=0.757]\u001b[A\n",
      "Epoch 12: 100%|███████████████████████████████████████████████████████| 1451/1451 [00:26<00:00, 55.58it/s, train_loss=0.361, val_loss=0.709]\u001b[A\n",
      "Epoch 13: 100%|███████████████████████████████████████████████████████| 1451/1451 [00:26<00:00, 55.41it/s, train_loss=0.357, val_loss=0.689]\u001b[A\n",
      "Epoch 14: 100%|███████████████████████████████████████████████████████| 1451/1451 [00:26<00:00, 55.25it/s, train_loss=0.348, val_loss=0.749]\u001b[A\n",
      "Epoch 15: 100%|███████████████████████████████████████████████████████| 1451/1451 [00:26<00:00, 55.42it/s, train_loss=0.342, val_loss=0.669]\u001b[A\n",
      "Epoch 16: 100%|███████████████████████████████████████████████████████| 1451/1451 [00:26<00:00, 55.56it/s, train_loss=0.336, val_loss=0.644]\u001b[A\n",
      "Epoch 17: 100%|███████████████████████████████████████████████████████| 1451/1451 [00:26<00:00, 55.37it/s, train_loss=0.331, val_loss=0.611]\u001b[A\n",
      "Epoch 18: 100%|███████████████████████████████████████████████████████| 1451/1451 [00:26<00:00, 55.37it/s, train_loss=0.326, val_loss=0.755]\u001b[A\n",
      "Epoch 19: 100%|███████████████████████████████████████████████████████| 1451/1451 [00:26<00:00, 55.44it/s, train_loss=0.319, val_loss=0.566]\u001b[A\n",
      "Epoch 20: 100%|███████████████████████████████████████████████████████| 1451/1451 [00:26<00:00, 55.30it/s, train_loss=0.314, val_loss=0.623]\u001b[A\n",
      "Epoch 21: 100%|███████████████████████████████████████████████████████| 1451/1451 [00:26<00:00, 55.14it/s, train_loss=0.310, val_loss=0.571]\u001b[A\n",
      "Epoch 22: 100%|███████████████████████████████████████████████████████| 1451/1451 [00:26<00:00, 55.26it/s, train_loss=0.304, val_loss=0.551]\u001b[A\n",
      "Epoch 23: 100%|███████████████████████████████████████████████████████| 1451/1451 [00:26<00:00, 55.40it/s, train_loss=0.300, val_loss=0.517]\u001b[A\n",
      "Epoch 24: 100%|███████████████████████████████████████████████████████| 1451/1451 [00:26<00:00, 55.67it/s, train_loss=0.295, val_loss=0.576]\u001b[A\n",
      "Epoch 25: 100%|███████████████████████████████████████████████████████| 1451/1451 [00:26<00:00, 55.34it/s, train_loss=0.290, val_loss=0.502]\u001b[A\n",
      "Epoch 26: 100%|███████████████████████████████████████████████████████| 1451/1451 [00:26<00:00, 55.14it/s, train_loss=0.288, val_loss=0.498]\u001b[A\n",
      "Epoch 27: 100%|███████████████████████████████████████████████████████| 1451/1451 [00:26<00:00, 55.19it/s, train_loss=0.281, val_loss=0.462]\u001b[A\n",
      "Epoch 28: 100%|███████████████████████████████████████████████████████| 1451/1451 [00:26<00:00, 55.34it/s, train_loss=0.279, val_loss=0.497]\u001b[A\n",
      "Epoch 29: 100%|███████████████████████████████████████████████████████| 1451/1451 [00:26<00:00, 55.30it/s, train_loss=0.273, val_loss=0.487]\u001b[A\n",
      "Epoch 30: 100%|███████████████████████████████████████████████████████| 1451/1451 [00:26<00:00, 55.56it/s, train_loss=0.271, val_loss=0.508]\u001b[A\n",
      "Epoch 31: 100%|███████████████████████████████████████████████████████| 1451/1451 [00:26<00:00, 55.08it/s, train_loss=0.267, val_loss=0.470]\u001b[A\n",
      "Epoch 32: 100%|███████████████████████████████████████████████████████| 1451/1451 [00:26<00:00, 55.20it/s, train_loss=0.262, val_loss=0.431]\u001b[A\n",
      "Epoch 33: 100%|███████████████████████████████████████████████████████| 1451/1451 [00:26<00:00, 55.36it/s, train_loss=0.260, val_loss=0.441]\u001b[A\n",
      "Epoch 34: 100%|███████████████████████████████████████████████████████| 1451/1451 [00:26<00:00, 55.46it/s, train_loss=0.256, val_loss=0.438]\u001b[A\n",
      "Epoch 35: 100%|███████████████████████████████████████████████████████| 1451/1451 [00:26<00:00, 55.69it/s, train_loss=0.251, val_loss=0.481]\u001b[A\n",
      "Epoch 36: 100%|███████████████████████████████████████████████████████| 1451/1451 [00:26<00:00, 55.36it/s, train_loss=0.248, val_loss=0.431]\u001b[A\n",
      "Epoch 37: 100%|███████████████████████████████████████████████████████| 1451/1451 [00:26<00:00, 55.06it/s, train_loss=0.245, val_loss=0.428]\u001b[A\n",
      "Epoch 38: 100%|███████████████████████████████████████████████████████| 1451/1451 [00:26<00:00, 55.33it/s, train_loss=0.242, val_loss=0.410]\u001b[A\n",
      "Epoch 39: 100%|███████████████████████████████████████████████████████| 1451/1451 [00:26<00:00, 55.31it/s, train_loss=0.239, val_loss=0.421]\u001b[A\n",
      "Epoch 40: 100%|███████████████████████████████████████████████████████| 1451/1451 [00:26<00:00, 55.19it/s, train_loss=0.236, val_loss=0.404]\u001b[A\n",
      "Epoch 41: 100%|███████████████████████████████████████████████████████| 1451/1451 [00:26<00:00, 55.33it/s, train_loss=0.233, val_loss=0.446]\u001b[A\n",
      "Epoch 42: 100%|███████████████████████████████████████████████████████| 1451/1451 [00:26<00:00, 54.00it/s, train_loss=0.230, val_loss=0.377]\u001b[A\n",
      "Epoch 43: 100%|███████████████████████████████████████████████████████| 1451/1451 [00:26<00:00, 55.65it/s, train_loss=0.227, val_loss=0.373]\u001b[A\n",
      "Epoch 44: 100%|███████████████████████████████████████████████████████| 1451/1451 [00:26<00:00, 55.19it/s, train_loss=0.224, val_loss=0.372]\u001b[A\n",
      "Epoch 45: 100%|███████████████████████████████████████████████████████| 1451/1451 [00:26<00:00, 55.11it/s, train_loss=0.221, val_loss=0.407]\u001b[A\n",
      "Epoch 46: 100%|███████████████████████████████████████████████████████| 1451/1451 [00:26<00:00, 55.23it/s, train_loss=0.219, val_loss=0.391]\u001b[A\n",
      "Epoch 47: 100%|███████████████████████████████████████████████████████| 1451/1451 [00:26<00:00, 55.54it/s, train_loss=0.218, val_loss=0.365]\u001b[A\n",
      "Epoch 48: 100%|███████████████████████████████████████████████████████| 1451/1451 [00:26<00:00, 55.02it/s, train_loss=0.213, val_loss=0.372]\u001b[A\n",
      "Epoch 49: 100%|███████████████████████████████████████████████████████| 1451/1451 [00:26<00:00, 55.11it/s, train_loss=0.210, val_loss=0.400]\u001b[A\n",
      "Epoch 50: 100%|███████████████████████████████████████████████████████| 1451/1451 [00:26<00:00, 55.31it/s, train_loss=0.208, val_loss=0.370]\u001b[A\n",
      "Epoch 51: 100%|███████████████████████████████████████████████████████| 1451/1451 [00:26<00:00, 55.18it/s, train_loss=0.207, val_loss=0.347]\u001b[A\n",
      "Epoch 52: 100%|███████████████████████████████████████████████████████| 1451/1451 [00:26<00:00, 54.87it/s, train_loss=0.204, val_loss=0.402]\u001b[A\n",
      "Epoch 53: 100%|███████████████████████████████████████████████████████| 1451/1451 [00:26<00:00, 55.48it/s, train_loss=0.202, val_loss=0.345]\u001b[A\n",
      "Epoch 54: 100%|███████████████████████████████████████████████████████| 1451/1451 [00:26<00:00, 55.25it/s, train_loss=0.200, val_loss=0.354]\u001b[A\n",
      "Epoch 55: 100%|███████████████████████████████████████████████████████| 1451/1451 [00:26<00:00, 55.69it/s, train_loss=0.197, val_loss=0.334]\u001b[A\n",
      "Epoch 56: 100%|███████████████████████████████████████████████████████| 1451/1451 [00:26<00:00, 55.12it/s, train_loss=0.194, val_loss=0.321]\u001b[A\n",
      "Epoch 57: 100%|███████████████████████████████████████████████████████| 1451/1451 [00:26<00:00, 55.19it/s, train_loss=0.192, val_loss=0.343]\u001b[A\n",
      "Epoch 58: 100%|███████████████████████████████████████████████████████| 1451/1451 [00:26<00:00, 55.66it/s, train_loss=0.189, val_loss=0.313]\u001b[A\n",
      "Epoch 59: 100%|███████████████████████████████████████████████████████| 1451/1451 [00:26<00:00, 55.40it/s, train_loss=0.188, val_loss=0.340]\u001b[A\n",
      "Epoch 60: 100%|███████████████████████████████████████████████████████| 1451/1451 [00:26<00:00, 55.40it/s, train_loss=0.184, val_loss=0.298]\u001b[A\n",
      "Epoch 61: 100%|███████████████████████████████████████████████████████| 1451/1451 [00:26<00:00, 55.34it/s, train_loss=0.183, val_loss=0.321]\u001b[A\n",
      "Epoch 62: 100%|███████████████████████████████████████████████████████| 1451/1451 [00:26<00:00, 55.48it/s, train_loss=0.179, val_loss=0.317]\u001b[A\n",
      "Epoch 63: 100%|███████████████████████████████████████████████████████| 1451/1451 [00:25<00:00, 57.10it/s, train_loss=0.177, val_loss=0.310]\u001b[A\n",
      "Epoch 64: 100%|███████████████████████████████████████████████████████| 1451/1451 [00:24<00:00, 60.18it/s, train_loss=0.175, val_loss=0.279]\u001b[A\n",
      "Epoch 65: 100%|███████████████████████████████████████████████████████| 1451/1451 [00:24<00:00, 60.09it/s, train_loss=0.173, val_loss=0.276]\u001b[A\n",
      "Epoch 66: 100%|███████████████████████████████████████████████████████| 1451/1451 [00:24<00:00, 59.11it/s, train_loss=0.172, val_loss=0.319]\u001b[A\n",
      "Epoch 67: 100%|███████████████████████████████████████████████████████| 1451/1451 [00:24<00:00, 59.14it/s, train_loss=0.171, val_loss=0.320]\u001b[A\n",
      "Epoch 68: 100%|███████████████████████████████████████████████████████| 1451/1451 [00:23<00:00, 60.75it/s, train_loss=0.169, val_loss=0.281]\u001b[A\n",
      "Epoch 69: 100%|███████████████████████████████████████████████████████| 1451/1451 [00:24<00:00, 59.65it/s, train_loss=0.167, val_loss=0.283]\u001b[A\n",
      "Epoch 70: 100%|███████████████████████████████████████████████████████| 1451/1451 [00:24<00:00, 59.84it/s, train_loss=0.164, val_loss=0.278]\u001b[A\n",
      "Epoch 71: 100%|███████████████████████████████████████████████████████| 1451/1451 [00:21<00:00, 66.12it/s, train_loss=0.163, val_loss=0.287]\u001b[A\n",
      "Epoch 72: 100%|███████████████████████████████████████████████████████| 1451/1451 [00:22<00:00, 65.73it/s, train_loss=0.162, val_loss=0.284]\u001b[A\n",
      "Epoch 73: 100%|███████████████████████████████████████████████████████| 1451/1451 [00:22<00:00, 63.18it/s, train_loss=0.160, val_loss=0.282]\u001b[A\n",
      "Epoch 74: 100%|███████████████████████████████████████████████████████| 1451/1451 [00:22<00:00, 64.76it/s, train_loss=0.158, val_loss=0.291]\u001b[A\n",
      "Epoch 75: 100%|███████████████████████████████████████████████████████| 1451/1451 [00:23<00:00, 61.52it/s, train_loss=0.157, val_loss=0.267]\u001b[A\n",
      "Epoch 76: 100%|███████████████████████████████████████████████████████| 1451/1451 [00:24<00:00, 58.36it/s, train_loss=0.156, val_loss=0.292]\u001b[A\n",
      "Epoch 77: 100%|███████████████████████████████████████████████████████| 1451/1451 [00:24<00:00, 60.08it/s, train_loss=0.154, val_loss=0.255]\u001b[A\n",
      "Epoch 78: 100%|███████████████████████████████████████████████████████| 1451/1451 [00:22<00:00, 64.70it/s, train_loss=0.152, val_loss=0.256]\u001b[A\n",
      "Epoch 79: 100%|███████████████████████████████████████████████████████| 1451/1451 [00:22<00:00, 64.84it/s, train_loss=0.150, val_loss=0.258]\u001b[A\n",
      "Epoch 80: 100%|███████████████████████████████████████████████████████| 1451/1451 [00:22<00:00, 64.94it/s, train_loss=0.148, val_loss=0.275]\u001b[A\n",
      "Epoch 81: 100%|███████████████████████████████████████████████████████| 1451/1451 [00:21<00:00, 66.20it/s, train_loss=0.147, val_loss=0.255]\u001b[A\n",
      "Epoch 82: 100%|███████████████████████████████████████████████████████| 1451/1451 [00:22<00:00, 65.18it/s, train_loss=0.146, val_loss=0.251]\u001b[A\n",
      "Epoch 83: 100%|███████████████████████████████████████████████████████| 1451/1451 [00:22<00:00, 65.12it/s, train_loss=0.145, val_loss=0.262]\u001b[A\n",
      "Epoch 84: 100%|███████████████████████████████████████████████████████| 1451/1451 [00:22<00:00, 65.74it/s, train_loss=0.143, val_loss=0.268]\u001b[A\n",
      "Epoch 85: 100%|███████████████████████████████████████████████████████| 1451/1451 [00:22<00:00, 64.87it/s, train_loss=0.143, val_loss=0.261]\u001b[A\n",
      "Epoch 86: 100%|███████████████████████████████████████████████████████| 1451/1451 [00:22<00:00, 65.95it/s, train_loss=0.142, val_loss=0.247]\u001b[A\n",
      "Epoch 87: 100%|███████████████████████████████████████████████████████| 1451/1451 [00:22<00:00, 64.58it/s, train_loss=0.141, val_loss=0.242]\u001b[A\n",
      "Epoch 88: 100%|███████████████████████████████████████████████████████| 1451/1451 [00:21<00:00, 66.32it/s, train_loss=0.139, val_loss=0.274]\u001b[A\n",
      "Epoch 89: 100%|███████████████████████████████████████████████████████| 1451/1451 [00:22<00:00, 65.27it/s, train_loss=0.138, val_loss=0.233]\u001b[A\n",
      "Epoch 90: 100%|███████████████████████████████████████████████████████| 1451/1451 [00:21<00:00, 65.96it/s, train_loss=0.137, val_loss=0.233]\u001b[A\n",
      "Epoch 91: 100%|███████████████████████████████████████████████████████| 1451/1451 [00:22<00:00, 65.38it/s, train_loss=0.136, val_loss=0.265]\u001b[A\n",
      "Epoch 92: 100%|███████████████████████████████████████████████████████| 1451/1451 [00:22<00:00, 64.87it/s, train_loss=0.135, val_loss=0.305]\u001b[A\n",
      "Epoch 93: 100%|███████████████████████████████████████████████████████| 1451/1451 [00:21<00:00, 66.15it/s, train_loss=0.135, val_loss=0.268]\u001b[A\n",
      "Epoch 94: 100%|███████████████████████████████████████████████████████| 1451/1451 [00:22<00:00, 65.03it/s, train_loss=0.133, val_loss=0.253]\u001b[A\n",
      "Epoch 95: 100%|███████████████████████████████████████████████████████| 1451/1451 [00:21<00:00, 66.99it/s, train_loss=0.131, val_loss=0.286]\u001b[A\n",
      "Epoch 96: 100%|███████████████████████████████████████████████████████| 1451/1451 [00:22<00:00, 65.71it/s, train_loss=0.131, val_loss=0.234]\u001b[A\n",
      "Epoch 97: 100%|███████████████████████████████████████████████████████| 1451/1451 [00:22<00:00, 65.49it/s, train_loss=0.130, val_loss=0.223]\u001b[A\n",
      "Epoch 98: 100%|███████████████████████████████████████████████████████| 1451/1451 [00:21<00:00, 66.42it/s, train_loss=0.129, val_loss=0.233]\u001b[A\n",
      "Epoch 99: 100%|███████████████████████████████████████████████████████| 1451/1451 [00:21<00:00, 66.05it/s, train_loss=0.128, val_loss=0.221]\u001b[A\n",
      "Epoch 99: 100%|███████████████████████████████████████████████████████| 1451/1451 [00:23<00:00, 62.31it/s, train_loss=0.128, val_loss=0.223]\u001b[A"
     ]
    },
    {
     "name": "stderr",
     "output_type": "stream",
     "text": [
      "`Trainer.fit` stopped: `max_epochs=100` reached.\n"
     ]
    },
    {
     "name": "stdout",
     "output_type": "stream",
     "text": [
      "Epoch 99: 100%|███████████████████████████████████████████████████████| 1451/1451 [00:23<00:00, 62.23it/s, train_loss=0.128, val_loss=0.223]\n"
     ]
    },
    {
     "data": {
      "image/png": "[encoded data removed]",
      "text/plain": [
       "<Figure size 640x480 with 1 Axes>"
      ]
     },
     "metadata": {},
     "output_type": "display_data"
    },
    {
     "name": "stdout",
     "output_type": "stream",
     "text": [
      "DONE SAVING PRETRAINED MODEL\n",
      "   | Name                                             | Type        | Params | Mode \n",
      "------------------------------------------------------------------------------------------\n",
      "0  | task_loss_fn                                     | MSELoss     | 0      | train\n",
      "1  | contrastive_loss                                 | NTXentLoss  | 0      | train\n",
      "2  | model                                            | SCARF       | 692 K  | train\n",
      "3  | model._SCARF__encoder                            | MLP         | 300 K  | train\n",
      "4  | model._SCARF__encoder.linear_0                   | Linear      | 27.9 K | train\n",
      "5  | model._SCARF__encoder.batchnorm_0                | BatchNorm1d | 600    | train\n",
      "6  | model._SCARF__encoder.relu_0                     | ReLU        | 0      | train\n",
      "7  | model._SCARF__encoder.dropout_0                  | Dropout     | 0      | train\n",
      "8  | model._SCARF__encoder.linear_1                   | Linear      | 90.3 K | train\n",
      "9  | model._SCARF__encoder.batchnorm_1                | BatchNorm1d | 600    | train\n",
      "10 | model._SCARF__encoder.relu_1                     | ReLU        | 0      | train\n",
      "11 | model._SCARF__encoder.dropout_1                  | Dropout     | 0      | train\n",
      "12 | model._SCARF__encoder.linear_2                   | Linear      | 90.3 K | train\n",
      "13 | model._SCARF__encoder.batchnorm_2                | BatchNorm1d | 600    | train\n",
      "14 | model._SCARF__encoder.relu_2                     | ReLU        | 0      | train\n",
      "15 | model._SCARF__encoder.dropout_2                  | Dropout     | 0      | train\n",
      "16 | model._SCARF__encoder.linear_n_layers            | Linear      | 90.3 K | train\n",
      "17 | model.pretraining_head                           | MLP         | 181 K  | train\n",
      "18 | model.pretraining_head.linear_0                  | Linear      | 90.3 K | train\n",
      "19 | model.pretraining_head.batchnorm_0               | BatchNorm1d | 600    | train\n",
      "20 | model.pretraining_head.relu_0                    | ReLU        | 0      | train\n",
      "21 | model.pretraining_head.dropout_0                 | Dropout     | 0      | train\n",
      "22 | model.pretraining_head.linear_n_layers           | Linear      | 90.3 K | train\n",
      "23 | model.one_layer_prediction_head                  | Sequential  | 90.6 K | train\n",
      "24 | model.one_layer_prediction_head.head_linear_hid  | Linear      | 90.3 K | train\n",
      "25 | model.one_layer_prediction_head.head_activation  | ReLU        | 0      | train\n",
      "26 | model.one_layer_prediction_head.head_linear_out  | Linear      | 301    | train\n",
      "27 | model.two_layer_prediction_head                  | Sequential  | 120 K  | train\n",
      "28 | model.two_layer_prediction_head.head_linear_hid1 | Linear      | 90.3 K | train\n",
      "29 | model.two_layer_prediction_head.head_activation1 | ReLU        | 0      | train\n",
      "30 | model.two_layer_prediction_head.head_linear_hid2 | Linear      | 30.1 K | train\n",
      "31 | model.two_layer_prediction_head.head_activation2 | ReLU        | 0      | train\n",
      "32 | model.two_layer_prediction_head.head_linear_out  | Linear      | 101    | train\n",
      "------------------------------------------------------------------------------------------\n",
      "692 K     Trainable params\n",
      "0         Non-trainable params\n",
      "692 K     Total params\n",
      "2.772     Total estimated model params size (MB)\n",
      "Time to pretrain model:  2644.28613948822\n",
      "DONE PRETRAINING\n"
     ]
    }
   ],
   "source": [
    "s3l_training(pretrain=True, # if True First Phase training\n",
    "             use_pretrained_model=False, # if True Second Phase learning\n",
    "             pt_type='scarf', \n",
    "             pt_folder='FP7')"
   ]
  },
  {
   "cell_type": "code",
   "execution_count": null,
   "id": "de7160f9-4db4-4688-9556-ba884a04eafb",
   "metadata": {},
   "outputs": [],
   "source": []
  }
 ],
 "metadata": {
  "kernelspec": {
   "display_name": "Python 3 (ipykernel)",
   "language": "python",
   "name": "python3"
  },
  "language_info": {
   "codemirror_mode": {
    "name": "ipython",
    "version": 3
   },
   "file_extension": ".py",
   "mimetype": "text/x-python",
   "name": "python",
   "nbconvert_exporter": "python",
   "pygments_lexer": "ipython3",
   "version": "3.8.10"
  }
 },
 "nbformat": 4,
 "nbformat_minor": 5
}
