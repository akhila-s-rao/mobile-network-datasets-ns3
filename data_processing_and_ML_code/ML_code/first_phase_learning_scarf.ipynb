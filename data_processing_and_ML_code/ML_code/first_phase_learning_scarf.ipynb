{
 "cells": [
  {
   "cell_type": "code",
   "execution_count": 1,
   "id": "8ed58de6-5ac0-4bbb-95e7-c77e64dfaf11",
   "metadata": {},
   "outputs": [],
   "source": [
    "# reload\n",
    "#%reset\n",
    "%load_ext autoreload\n",
    "%autoreload 2 \n",
    "\n",
    "import warnings\n",
    "import logging\n",
    "import os\n",
    "\n",
    "# DEBUG MODE\n",
    "os.environ['TF_CPP_MIN_LOG_LEVEL'] = '3'\n",
    "warnings.filterwarnings('ignore')\n",
    "logging.getLogger('tensorflow').setLevel(logging.FATAL)\n",
    "    \n",
    "from s3l_training import s3l_training"
   ]
  },
  {
   "cell_type": "code",
   "execution_count": null,
   "id": "26eb320c-c17f-40dd-8264-6dcbd0933f0b",
   "metadata": {},
   "outputs": [
    {
     "name": "stdout",
     "output_type": "stream",
     "text": [
      "Run with random seed:  561\n",
      "GPU is available.\n",
      "1\n",
      "True\n",
      "12.1\n",
      "Concatenating runs:  range(1, 11)\n",
      "Time to read csv file for run:  2.994192600250244\n",
      "Loaded run 1\n",
      "Time to read csv file for run:  2.985929489135742\n",
      "Loaded run 2\n",
      "Time to read csv file for run:  2.9081950187683105\n",
      "Loaded run 3\n",
      "Time to read csv file for run:  2.9235074520111084\n",
      "Loaded run 4\n",
      "Time to read csv file for run:  2.9171619415283203\n",
      "Loaded run 5\n",
      "Time to read csv file for run:  2.8588056564331055\n",
      "Loaded run 6\n",
      "Time to read csv file for run:  2.9226462841033936\n",
      "Loaded run 7\n",
      "Time to read csv file for run:  2.9261322021484375\n",
      "Loaded run 8\n",
      "Time to read csv file for run:  2.8773772716522217\n",
      "Loaded run 9\n",
      "Time to read csv file for run:  2.8339197635650635\n",
      "Loaded run 10\n",
      "pretrain_data, before removing rows that dont have traffic  (1799100, 102)\n",
      "pretrain_data, after removing rows that dont have traffic  (1799100, 102)\n",
      "X_pretrain  (1796746, 92)\n"
     ]
    },
    {
     "name": "stderr",
     "output_type": "stream",
     "text": [
      "Seed set to 42\n"
     ]
    },
    {
     "name": "stdout",
     "output_type": "stream",
     "text": [
      "HYPERPARAMETERS:  {'loss_fn': 'MSELoss', 'metric': 'r2_score', 'hidden_dim': 200, 'max_epochs': 100, 'batch_size': 128, 'optim_hparams': {'lr': 0.0001, 'weight_decay': 5e-05}, 'encoder_depth': 4, 'head_depth': 2, 'dropout_rate': 0.1, 'corruption_rate': 0.3}\n"
     ]
    },
    {
     "name": "stderr",
     "output_type": "stream",
     "text": [
      "GPU available: True (cuda), used: True\n",
      "TPU available: False, using: 0 TPU cores\n",
      "HPU available: False, using: 0 HPUs\n",
      "LOCAL_RANK: 0 - CUDA_VISIBLE_DEVICES: [0]\n"
     ]
    },
    {
     "name": "stdout",
     "output_type": "stream",
     "text": [
      "refresh rate:  10\n"
     ]
    },
    {
     "name": "stderr",
     "output_type": "stream",
     "text": [
      "\n",
      "  | Name             | Type       | Params | Mode \n",
      "--------------------------------------------------------\n",
      "0 | task_loss_fn     | MSELoss    | 0      | train\n",
      "1 | contrastive_loss | NTXentLoss | 0      | train\n",
      "2 | model            | SCARF      | 322 K  | train\n",
      "--------------------------------------------------------\n",
      "322 K     Trainable params\n",
      "0         Non-trainable params\n",
      "322 K     Total params\n",
      "1.288     Total estimated model params size (MB)\n"
     ]
    },
    {
     "name": "stdout",
     "output_type": "stream",
     "text": [
      "Epoch 0: 100%|████████████████████████████████████████████████████████████████████████████████████████| 12704/12704 [03:22<00:00, 62.65it/s]\n",
      "Epoch 1: 100%|██████████████████████████████████████████████████████| 12704/12704 [03:29<00:00, 60.69it/s, train_loss=0.687, val_loss=0.902]\u001b[A\n",
      "Epoch 2: 100%|██████████████████████████████████████████████████████| 12704/12704 [03:20<00:00, 63.43it/s, train_loss=0.467, val_loss=0.735]\u001b[A\n",
      "Epoch 3: 100%|██████████████████████████████████████████████████| 12704/12704 [03:20<00:00, 63.28it/s, train_loss=0.411, val_loss=0.591]    \u001b[A\n",
      "Epoch 4: 100%|██████████████████████████████████████████████████| 12704/12704 [03:20<00:00, 63.27it/s, train_loss=0.365, val_loss=0.488]\u001b[A\n",
      "Epoch 5: 100%|██████████████████████████████████████████████████| 12704/12704 [03:19<00:00, 63.61it/s, train_loss=0.322, val_loss=0.411]\u001b[A\n",
      "Epoch 6: 100%|██████████████████████████████████████████████████| 12704/12704 [03:18<00:00, 63.86it/s, train_loss=0.282, val_loss=0.357]\u001b[A\n",
      "Epoch 7: 100%|██████████████████████████████████████████████████| 12704/12704 [03:18<00:00, 63.86it/s, train_loss=0.252, val_loss=0.318]\u001b[A\n",
      "Epoch 8: 100%|██████████████████████████████████████████████████| 12704/12704 [03:19<00:00, 63.68it/s, train_loss=0.227, val_loss=0.286]\u001b[A\n",
      "Epoch 9: 100%|██████████████████████████████████████████████████| 12704/12704 [03:22<00:00, 62.60it/s, train_loss=0.208, val_loss=0.260]\u001b[A\n",
      "Epoch 10: 100%|█████████████████████████████████████████████████| 12704/12704 [03:21<00:00, 63.12it/s, train_loss=0.190, val_loss=0.239]\u001b[A\n",
      "Epoch 11: 100%|█████████████████████████████████████████████████| 12704/12704 [03:22<00:00, 62.74it/s, train_loss=0.176, val_loss=0.226]\u001b[A\n",
      "Epoch 12: 100%|█████████████████████████████████████████████████| 12704/12704 [03:20<00:00, 63.22it/s, train_loss=0.164, val_loss=0.209]\u001b[A\n",
      "Epoch 13: 100%|█████████████████████████████████████████████████| 12704/12704 [03:19<00:00, 63.76it/s, train_loss=0.153, val_loss=0.198]\u001b[A\n",
      "Epoch 14: 100%|█████████████████████████████████████████████████| 12704/12704 [03:19<00:00, 63.67it/s, train_loss=0.144, val_loss=0.188]\u001b[A\n",
      "Epoch 15: 100%|█████████████████████████████████████████████████| 12704/12704 [03:21<00:00, 63.05it/s, train_loss=0.137, val_loss=0.178]\u001b[A\n",
      "Epoch 16: 100%|█████████████████████████████████████████████████| 12704/12704 [03:22<00:00, 62.79it/s, train_loss=0.130, val_loss=0.167]\u001b[A\n",
      "Epoch 17: 100%|█████████████████████████████████████████████████| 12704/12704 [03:25<00:00, 61.69it/s, train_loss=0.125, val_loss=0.165]\u001b[A\n",
      "Epoch 18: 100%|█████████████████████████████████████████████████| 12704/12704 [03:19<00:00, 63.54it/s, train_loss=0.119, val_loss=0.158]\u001b[A\n",
      "Epoch 19: 100%|█████████████████████████████████████████████████| 12704/12704 [03:24<00:00, 62.03it/s, train_loss=0.114, val_loss=0.146]\u001b[A\n",
      "Epoch 20: 100%|█████████████████████████████████████████████████| 12704/12704 [03:19<00:00, 63.63it/s, train_loss=0.110, val_loss=0.139]\u001b[A\n",
      "Epoch 21: 100%|█████████████████████████████████████████████████| 12704/12704 [03:23<00:00, 62.33it/s, train_loss=0.106, val_loss=0.136]\u001b[A\n",
      "Epoch 22: 100%|█████████████████████████████████████████████████| 12704/12704 [03:20<00:00, 63.39it/s, train_loss=0.103, val_loss=0.132]\u001b[A\n",
      "Epoch 23: 100%|█████████████████████████████████████████████████| 12704/12704 [03:21<00:00, 63.09it/s, train_loss=0.101, val_loss=0.129]\u001b[A\n",
      "Epoch 24: 100%|████████████████████████████████████████████████| 12704/12704 [03:23<00:00, 62.39it/s, train_loss=0.0984, val_loss=0.123]\u001b[A\n",
      "Epoch 25: 100%|████████████████████████████████████████████████| 12704/12704 [03:22<00:00, 62.85it/s, train_loss=0.0963, val_loss=0.125]\u001b[A\n",
      "Epoch 26: 100%|████████████████████████████████████████████████| 12704/12704 [03:22<00:00, 62.66it/s, train_loss=0.0946, val_loss=0.122]\u001b[A\n",
      "Epoch 27: 100%|████████████████████████████████████████████████| 12704/12704 [03:19<00:00, 63.83it/s, train_loss=0.0929, val_loss=0.122]\u001b[A\n",
      "Epoch 28: 100%|████████████████████████████████████████████████| 12704/12704 [03:22<00:00, 62.83it/s, train_loss=0.0912, val_loss=0.116]\u001b[A\n",
      "Epoch 29: 100%|████████████████████████████████████████████████| 12704/12704 [03:22<00:00, 62.75it/s, train_loss=0.0901, val_loss=0.116]\u001b[A\n",
      "Epoch 30: 100%|█████████████████████████████████████████████████| 12704/12704 [03:20<00:00, 63.37it/s, train_loss=0.089, val_loss=0.115]\u001b[A\n",
      "Epoch 31: 100%|████████████████████████████████████████████████| 12704/12704 [03:20<00:00, 63.21it/s, train_loss=0.0878, val_loss=0.112]\u001b[A\n",
      "Epoch 32: 100%|████████████████████████████████████████████████| 12704/12704 [03:20<00:00, 63.32it/s, train_loss=0.0865, val_loss=0.112]\u001b[A\n",
      "Epoch 33: 100%|████████████████████████████████████████████████| 12704/12704 [03:20<00:00, 63.48it/s, train_loss=0.0849, val_loss=0.111]\u001b[A\n",
      "Epoch 34: 100%|█████████████████████████████████████████████████| 12704/12704 [03:21<00:00, 63.00it/s, train_loss=0.084, val_loss=0.110]\u001b[A\n",
      "Epoch 35: 100%|████████████████████████████████████████████████| 12704/12704 [03:21<00:00, 63.10it/s, train_loss=0.0831, val_loss=0.107]\u001b[A\n",
      "Epoch 36: 100%|████████████████████████████████████████████████| 12704/12704 [03:20<00:00, 63.36it/s, train_loss=0.0822, val_loss=0.106]\u001b[A\n",
      "Epoch 37: 100%|████████████████████████████████████████████████| 12704/12704 [03:19<00:00, 63.62it/s, train_loss=0.0815, val_loss=0.109]\u001b[A\n",
      "Epoch 38: 100%|████████████████████████████████████████████████| 12704/12704 [03:20<00:00, 63.48it/s, train_loss=0.0808, val_loss=0.107]\u001b[A\n",
      "Epoch 39: 100%|████████████████████████████████████████████████| 12704/12704 [03:20<00:00, 63.32it/s, train_loss=0.0802, val_loss=0.104]\u001b[A\n",
      "Epoch 40:  80%|██████████████████████████████████████▍         | 10180/12704 [02:37<00:39, 64.53it/s, train_loss=0.0794, val_loss=0.113]\u001b[A"
     ]
    }
   ],
   "source": [
    "s3l_training(pretrain=True, # if True First Phase training\n",
    "             use_pretrained_model=False, # if True Second Phase learning\n",
    "             pt_type='switchtab', \n",
    "             pt_folder='FP2')"
   ]
  },
  {
   "cell_type": "code",
   "execution_count": null,
   "id": "de7160f9-4db4-4688-9556-ba884a04eafb",
   "metadata": {},
   "outputs": [],
   "source": []
  }
 ],
 "metadata": {
  "kernelspec": {
   "display_name": "Python 3 (ipykernel)",
   "language": "python",
   "name": "python3"
  },
  "language_info": {
   "codemirror_mode": {
    "name": "ipython",
    "version": 3
   },
   "file_extension": ".py",
   "mimetype": "text/x-python",
   "name": "python",
   "nbconvert_exporter": "python",
   "pygments_lexer": "ipython3",
   "version": "3.8.10"
  }
 },
 "nbformat": 4,
 "nbformat_minor": 5
}
