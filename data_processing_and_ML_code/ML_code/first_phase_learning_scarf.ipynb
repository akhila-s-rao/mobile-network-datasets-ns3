{
 "cells": [
  {
   "cell_type": "code",
   "execution_count": 1,
   "id": "8ed58de6-5ac0-4bbb-95e7-c77e64dfaf11",
   "metadata": {},
   "outputs": [],
   "source": [
    "# reload\n",
    "#%reset\n",
    "%load_ext autoreload\n",
    "%autoreload 2 \n",
    "\n",
    "import warnings\n",
    "import logging\n",
    "import os\n",
    "\n",
    "# DEBUG MODE\n",
    "os.environ['TF_CPP_MIN_LOG_LEVEL'] = '3'\n",
    "warnings.filterwarnings('ignore')\n",
    "logging.getLogger('tensorflow').setLevel(logging.FATAL)\n",
    "    \n",
    "from s3l_training import s3l_training"
   ]
  },
  {
   "cell_type": "code",
   "execution_count": null,
   "id": "26eb320c-c17f-40dd-8264-6dcbd0933f0b",
   "metadata": {},
   "outputs": [
    {
     "name": "stdout",
     "output_type": "stream",
     "text": [
      "Run with random seed:  561\n",
      "GPU is available.\n",
      "1\n",
      "True\n",
      "12.1\n",
      "Concatenating runs:  range(1, 11)\n",
      "Time to read csv file for run:  3.076702833175659\n",
      "Loaded run 1\n",
      "Time to read csv file for run:  2.9992923736572266\n",
      "Loaded run 2\n",
      "Time to read csv file for run:  2.9961462020874023\n",
      "Loaded run 3\n",
      "Time to read csv file for run:  3.0114476680755615\n",
      "Loaded run 4\n",
      "Time to read csv file for run:  2.8813161849975586\n",
      "Loaded run 5\n",
      "Time to read csv file for run:  2.778733968734741\n",
      "Loaded run 6\n",
      "Time to read csv file for run:  3.0295228958129883\n",
      "Loaded run 7\n",
      "Time to read csv file for run:  3.0009145736694336\n",
      "Loaded run 8\n",
      "Time to read csv file for run:  3.0189216136932373\n",
      "Loaded run 9\n",
      "Time to read csv file for run:  2.96169114112854\n",
      "Loaded run 10\n",
      "pretrain_data, before removing rows that dont have traffic  (1799100, 102)\n",
      "pretrain_data, after removing rows that dont have traffic  (1799100, 102)\n",
      "X_pretrain  (1796746, 92)\n"
     ]
    },
    {
     "name": "stderr",
     "output_type": "stream",
     "text": [
      "Seed set to 42\n"
     ]
    },
    {
     "name": "stdout",
     "output_type": "stream",
     "text": [
      "HYPERPARAMETERS:  {'loss_fn': 'MSELoss', 'metric': 'r2_score', 'hidden_dim': 200, 'max_epochs': 100, 'batch_size': 128, 'optim_hparams': {'lr': 0.0001, 'weight_decay': 5e-05}, 'encoder_depth': 2, 'head_depth': 2, 'dropout_rate': 0.1, 'corruption_rate': 0.3}\n"
     ]
    },
    {
     "name": "stderr",
     "output_type": "stream",
     "text": [
      "GPU available: True (cuda), used: True\n",
      "TPU available: False, using: 0 TPU cores\n",
      "HPU available: False, using: 0 HPUs\n",
      "LOCAL_RANK: 0 - CUDA_VISIBLE_DEVICES: [0]\n"
     ]
    },
    {
     "name": "stdout",
     "output_type": "stream",
     "text": [
      "refresh rate:  10\n"
     ]
    },
    {
     "name": "stderr",
     "output_type": "stream",
     "text": [
      "\n",
      "  | Name             | Type       | Params | Mode \n",
      "--------------------------------------------------------\n",
      "0 | task_loss_fn     | MSELoss    | 0      | train\n",
      "1 | contrastive_loss | NTXentLoss | 0      | train\n",
      "2 | model            | SCARF      | 240 K  | train\n",
      "--------------------------------------------------------\n",
      "240 K     Trainable params\n",
      "0         Non-trainable params\n",
      "240 K     Total params\n",
      "0.963     Total estimated model params size (MB)\n"
     ]
    },
    {
     "name": "stdout",
     "output_type": "stream",
     "text": [
      "Epoch 0: 100%|█████████████████████████████████████████████████| 12704/12704 [02:47<00:00, 75.96it/s]\n",
      "Epoch 1: 100%|███████████████| 12704/12704 [02:51<00:00, 73.87it/s, train_loss=0.681, val_loss=0.821]\u001b[A\n",
      "Epoch 2: 100%|███████████████| 12704/12704 [02:54<00:00, 72.83it/s, train_loss=0.485, val_loss=0.703]\u001b[A\n",
      "Epoch 3: 100%|███████████████| 12704/12704 [02:56<00:00, 72.17it/s, train_loss=0.434, val_loss=0.579]\u001b[A\n",
      "Epoch 4: 100%|███████████████| 12704/12704 [02:55<00:00, 72.32it/s, train_loss=0.387, val_loss=0.491]\u001b[A\n",
      "Epoch 5: 100%|███████████████| 12704/12704 [02:56<00:00, 72.01it/s, train_loss=0.333, val_loss=0.380]\u001b[A\n",
      "Epoch 6: 100%|███████████████| 12704/12704 [02:54<00:00, 72.86it/s, train_loss=0.289, val_loss=0.329]\u001b[A\n",
      "Epoch 7: 100%|███████████████| 12704/12704 [02:55<00:00, 72.44it/s, train_loss=0.257, val_loss=0.289]\u001b[A\n",
      "Epoch 8: 100%|███████████████| 12704/12704 [02:55<00:00, 72.43it/s, train_loss=0.232, val_loss=0.271]\u001b[A\n",
      "Epoch 9: 100%|███████████████| 12704/12704 [02:55<00:00, 72.58it/s, train_loss=0.209, val_loss=0.238]\u001b[A\n",
      "Epoch 10: 100%|██████████████| 12704/12704 [02:55<00:00, 72.59it/s, train_loss=0.194, val_loss=0.230]\u001b[A\n",
      "Epoch 11: 100%|██████████████| 12704/12704 [02:55<00:00, 72.29it/s, train_loss=0.180, val_loss=0.212]\u001b[A\n",
      "Epoch 12: 100%|██████████████| 12704/12704 [02:59<00:00, 70.75it/s, train_loss=0.169, val_loss=0.200]\u001b[A\n",
      "Epoch 13: 100%|██████████████| 12704/12704 [02:55<00:00, 72.50it/s, train_loss=0.161, val_loss=0.192]\u001b[A\n",
      "Epoch 14: 100%|██████████████| 12704/12704 [02:56<00:00, 71.88it/s, train_loss=0.155, val_loss=0.190]\u001b[A\n",
      "Epoch 15: 100%|██████████████| 12704/12704 [02:56<00:00, 72.10it/s, train_loss=0.151, val_loss=0.181]\u001b[A\n",
      "Epoch 16: 100%|██████████████| 12704/12704 [02:56<00:00, 71.88it/s, train_loss=0.146, val_loss=0.174]\u001b[A\n",
      "Epoch 17: 100%|██████████████| 12704/12704 [02:56<00:00, 71.85it/s, train_loss=0.143, val_loss=0.172]\u001b[A\n",
      "Epoch 18: 100%|██████████████| 12704/12704 [02:55<00:00, 72.48it/s, train_loss=0.140, val_loss=0.180]\u001b[A\n",
      "Epoch 19: 100%|██████████████| 12704/12704 [02:55<00:00, 72.34it/s, train_loss=0.137, val_loss=0.173]\u001b[A\n",
      "Epoch 20: 100%|██████████████| 12704/12704 [02:56<00:00, 71.94it/s, train_loss=0.135, val_loss=0.169]\u001b[A\n",
      "Epoch 21: 100%|██████████████| 12704/12704 [02:56<00:00, 71.81it/s, train_loss=0.132, val_loss=0.164]\u001b[A\n",
      "Epoch 22: 100%|██████████████| 12704/12704 [02:56<00:00, 72.13it/s, train_loss=0.130, val_loss=0.165]\u001b[A\n",
      "Epoch 23: 100%|██████████████| 12704/12704 [02:57<00:00, 71.70it/s, train_loss=0.128, val_loss=0.165]\u001b[A\n",
      "Epoch 24: 100%|██████████████| 12704/12704 [02:56<00:00, 71.84it/s, train_loss=0.127, val_loss=0.175]\u001b[A\n",
      "Epoch 25: 100%|██████████████| 12704/12704 [02:55<00:00, 72.38it/s, train_loss=0.125, val_loss=0.158]\u001b[A\n",
      "Epoch 26: 100%|██████████████| 12704/12704 [02:56<00:00, 71.79it/s, train_loss=0.123, val_loss=0.155]\u001b[A\n",
      "Epoch 27: 100%|██████████████| 12704/12704 [02:56<00:00, 71.83it/s, train_loss=0.122, val_loss=0.161]\u001b[A\n",
      "Epoch 28: 100%|██████████████| 12704/12704 [02:56<00:00, 72.03it/s, train_loss=0.121, val_loss=0.156]\u001b[A\n",
      "Epoch 29: 100%|██████████████| 12704/12704 [03:00<00:00, 70.23it/s, train_loss=0.120, val_loss=0.155]\u001b[A\n",
      "Epoch 30: 100%|██████████████| 12704/12704 [02:58<00:00, 71.12it/s, train_loss=0.119, val_loss=0.158]\u001b[A\n",
      "Epoch 31: 100%|██████████████| 12704/12704 [02:56<00:00, 71.79it/s, train_loss=0.118, val_loss=0.153]\u001b[A\n",
      "Epoch 32: 100%|██████████████| 12704/12704 [02:55<00:00, 72.33it/s, train_loss=0.118, val_loss=0.152]\u001b[A\n",
      "Epoch 33: 100%|██████████████| 12704/12704 [02:55<00:00, 72.34it/s, train_loss=0.117, val_loss=0.154]\u001b[A\n",
      "Epoch 34: 100%|██████████████| 12704/12704 [02:56<00:00, 72.16it/s, train_loss=0.116, val_loss=0.154]\u001b[A\n",
      "Epoch 35: 100%|██████████████| 12704/12704 [02:56<00:00, 71.98it/s, train_loss=0.116, val_loss=0.148]\u001b[A\n",
      "Epoch 36: 100%|██████████████| 12704/12704 [02:57<00:00, 71.68it/s, train_loss=0.115, val_loss=0.150]\u001b[A\n",
      "Epoch 37:  90%|████████████▌ | 11440/12704 [02:39<00:17, 71.94it/s, train_loss=0.114, val_loss=0.145]\u001b[A"
     ]
    }
   ],
   "source": [
    "s3l_training(pretrain=True, # if True First Phase training\n",
    "             use_pretrained_model=False, # if True Second Phase learning\n",
    "             pt_type='scarf', \n",
    "             pt_folder='FP8')"
   ]
  },
  {
   "cell_type": "code",
   "execution_count": null,
   "id": "de7160f9-4db4-4688-9556-ba884a04eafb",
   "metadata": {},
   "outputs": [],
   "source": []
  }
 ],
 "metadata": {
  "kernelspec": {
   "display_name": "Python 3 (ipykernel)",
   "language": "python",
   "name": "python3"
  },
  "language_info": {
   "codemirror_mode": {
    "name": "ipython",
    "version": 3
   },
   "file_extension": ".py",
   "mimetype": "text/x-python",
   "name": "python",
   "nbconvert_exporter": "python",
   "pygments_lexer": "ipython3",
   "version": "3.8.10"
  }
 },
 "nbformat": 4,
 "nbformat_minor": 5
}
