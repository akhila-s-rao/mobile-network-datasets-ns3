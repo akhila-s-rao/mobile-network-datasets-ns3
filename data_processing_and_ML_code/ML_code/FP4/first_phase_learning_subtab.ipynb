{
 "cells": [
  {
   "cell_type": "code",
   "execution_count": 2,
   "id": "8ed58de6-5ac0-4bbb-95e7-c77e64dfaf11",
   "metadata": {},
   "outputs": [
    {
     "name": "stdout",
     "output_type": "stream",
     "text": [
      "The autoreload extension is already loaded. To reload it, use:\n",
      "  %reload_ext autoreload\n"
     ]
    }
   ],
   "source": [
    "# reload\n",
    "#%reset\n",
    "%load_ext autoreload\n",
    "%autoreload 2 \n",
    "\n",
    "import warnings\n",
    "import logging\n",
    "import os\n",
    "\n",
    "# DEBUG MODE\n",
    "os.environ['TF_CPP_MIN_LOG_LEVEL'] = '3'\n",
    "warnings.filterwarnings('ignore')\n",
    "logging.getLogger('tensorflow').setLevel(logging.FATAL)\n",
    "    \n",
    "from s3l_training import s3l_training"
   ]
  },
  {
   "cell_type": "code",
   "execution_count": 3,
   "id": "26eb320c-c17f-40dd-8264-6dcbd0933f0b",
   "metadata": {},
   "outputs": [
    {
     "name": "stdout",
     "output_type": "stream",
     "text": [
      "Run with random seed:  561\n",
      "GPU is available.\n",
      "1\n",
      "True\n",
      "12.1\n",
      "Concatenating runs:  range(1, 11)\n",
      "Time to read csv file for run:  6.57103157043457\n",
      "Loaded run 1\n",
      "Time to read csv file for run:  6.102720022201538\n",
      "Loaded run 2\n",
      "Time to read csv file for run:  5.765215635299683\n",
      "Loaded run 3\n",
      "Time to read csv file for run:  6.083127498626709\n",
      "Loaded run 4\n",
      "Time to read csv file for run:  6.118692874908447\n",
      "Loaded run 5\n",
      "Time to read csv file for run:  5.508155345916748\n",
      "Loaded run 6\n",
      "Time to read csv file for run:  5.624869346618652\n",
      "Loaded run 7\n",
      "Time to read csv file for run:  5.583458662033081\n",
      "Loaded run 8\n",
      "Time to read csv file for run:  6.228086709976196\n",
      "Loaded run 9\n",
      "Time to read csv file for run:  5.528620958328247\n",
      "Loaded run 10\n"
     ]
    },
    {
     "name": "stderr",
     "output_type": "stream",
     "text": [
      "Seed set to 42\n"
     ]
    },
    {
     "name": "stdout",
     "output_type": "stream",
     "text": [
      "pretrain_data, before removing rows that dont have traffic  (1799100, 102)\n",
      "pretrain_data, after removing rows that dont have traffic  (33012, 102)\n",
      "X_pretrain  (32691, 92)\n",
      "92 4 0.75 23\n",
      "23 17\n"
     ]
    },
    {
     "name": "stderr",
     "output_type": "stream",
     "text": [
      "GPU available: True (cuda), used: True\n",
      "TPU available: False, using: 0 TPU cores\n",
      "HPU available: False, using: 0 HPUs\n"
     ]
    },
    {
     "name": "stdout",
     "output_type": "stream",
     "text": [
      "refresh rate:  10\n"
     ]
    },
    {
     "name": "stderr",
     "output_type": "stream",
     "text": [
      "LOCAL_RANK: 0 - CUDA_VISIBLE_DEVICES: [0]\n",
      "\n",
      "  | Name          | Type      | Params | Mode \n",
      "----------------------------------------------------\n",
      "0 | task_loss_fn  | MSELoss   | 0      | train\n",
      "1 | joint_loss_fn | JointLoss | 0      | train\n",
      "2 | model         | SubTab    | 207 K  | train\n",
      "----------------------------------------------------\n",
      "207 K     Trainable params\n",
      "0         Non-trainable params\n",
      "207 K     Total params\n",
      "0.832     Total estimated model params size (MB)\n"
     ]
    },
    {
     "name": "stdout",
     "output_type": "stream",
     "text": [
      "Epoch 0: 100%|█████████████████████████████████████████████████████████████████████████████████| 232/232 [00:09<00:00, 23.51it/s, v_num=187]\n",
      "Epoch 1: 100%|███████████████████████████████████████████████| 232/232 [00:10<00:00, 23.20it/s, v_num=187, train_loss=8.040, val_loss=6.700]\u001b[A\n",
      "Epoch 2: 100%|███████████████████████████████████████████████| 232/232 [00:09<00:00, 23.58it/s, v_num=187, train_loss=6.290, val_loss=5.790]\u001b[A\n",
      "Epoch 3: 100%|███████████████████████████████████████████████| 232/232 [00:10<00:00, 22.97it/s, v_num=187, train_loss=5.670, val_loss=5.440]\u001b[A\n",
      "Epoch 4: 100%|███████████████████████████████████████████████| 232/232 [00:09<00:00, 23.53it/s, v_num=187, train_loss=5.410, val_loss=5.280]\u001b[A\n",
      "Epoch 5: 100%|███████████████████████████████████████████████| 232/232 [00:09<00:00, 23.32it/s, v_num=187, train_loss=5.300, val_loss=5.220]\u001b[A\n",
      "Epoch 6: 100%|███████████████████████████████████████████████| 232/232 [00:10<00:00, 23.10it/s, v_num=187, train_loss=5.250, val_loss=5.190]\u001b[A\n",
      "Epoch 7: 100%|███████████████████████████████████████████████| 232/232 [00:09<00:00, 23.46it/s, v_num=187, train_loss=5.230, val_loss=5.170]\u001b[A\n",
      "Epoch 8: 100%|███████████████████████████████████████████████| 232/232 [00:09<00:00, 23.32it/s, v_num=187, train_loss=5.220, val_loss=5.170]\u001b[A\n",
      "Epoch 9: 100%|███████████████████████████████████████████████| 232/232 [00:09<00:00, 23.60it/s, v_num=187, train_loss=5.210, val_loss=5.160]\u001b[A\n",
      "Epoch 10: 100%|██████████████████████████████████████████████| 232/232 [00:09<00:00, 23.96it/s, v_num=187, train_loss=5.200, val_loss=5.150]\u001b[A\n",
      "Epoch 11: 100%|██████████████████████████████████████████████| 232/232 [00:09<00:00, 23.71it/s, v_num=187, train_loss=5.200, val_loss=5.160]\u001b[A\n",
      "Epoch 12: 100%|██████████████████████████████████████████████| 232/232 [00:10<00:00, 23.04it/s, v_num=187, train_loss=5.200, val_loss=5.150]\u001b[A\n",
      "Epoch 13: 100%|██████████████████████████████████████████████| 232/232 [00:09<00:00, 23.57it/s, v_num=187, train_loss=5.190, val_loss=5.150]\u001b[A\n",
      "Epoch 14: 100%|██████████████████████████████████████████████| 232/232 [00:09<00:00, 23.58it/s, v_num=187, train_loss=5.190, val_loss=5.150]\u001b[A\n",
      "Epoch 15: 100%|██████████████████████████████████████████████| 232/232 [00:09<00:00, 24.10it/s, v_num=187, train_loss=5.190, val_loss=5.140]\u001b[A\n",
      "Epoch 16: 100%|██████████████████████████████████████████████| 232/232 [00:09<00:00, 25.25it/s, v_num=187, train_loss=5.190, val_loss=5.140]\u001b[A\n",
      "Epoch 17: 100%|██████████████████████████████████████████████| 232/232 [00:09<00:00, 24.04it/s, v_num=187, train_loss=5.180, val_loss=5.140]\u001b[A\n",
      "Epoch 18: 100%|██████████████████████████████████████████████| 232/232 [00:09<00:00, 24.88it/s, v_num=187, train_loss=5.180, val_loss=5.140]\u001b[A\n",
      "Epoch 19: 100%|██████████████████████████████████████████████| 232/232 [00:09<00:00, 24.80it/s, v_num=187, train_loss=5.180, val_loss=5.130]\u001b[A\n",
      "Epoch 20: 100%|██████████████████████████████████████████████| 232/232 [00:09<00:00, 24.84it/s, v_num=187, train_loss=5.180, val_loss=5.130]\u001b[A\n",
      "Epoch 21: 100%|██████████████████████████████████████████████| 232/232 [00:09<00:00, 24.26it/s, v_num=187, train_loss=5.170, val_loss=5.130]\u001b[A\n",
      "Epoch 22: 100%|██████████████████████████████████████████████| 232/232 [00:09<00:00, 24.07it/s, v_num=187, train_loss=5.170, val_loss=5.130]\u001b[A\n",
      "Epoch 23: 100%|██████████████████████████████████████████████| 232/232 [00:09<00:00, 24.24it/s, v_num=187, train_loss=5.170, val_loss=5.120]\u001b[A\n",
      "Epoch 24: 100%|██████████████████████████████████████████████| 232/232 [00:09<00:00, 24.40it/s, v_num=187, train_loss=5.170, val_loss=5.130]\u001b[A\n",
      "Epoch 25: 100%|██████████████████████████████████████████████| 232/232 [00:09<00:00, 23.78it/s, v_num=187, train_loss=5.170, val_loss=5.120]\u001b[A\n",
      "Epoch 26: 100%|██████████████████████████████████████████████| 232/232 [00:09<00:00, 23.97it/s, v_num=187, train_loss=5.170, val_loss=5.120]\u001b[A\n",
      "Epoch 27: 100%|██████████████████████████████████████████████| 232/232 [00:09<00:00, 23.92it/s, v_num=187, train_loss=5.160, val_loss=5.130]\u001b[A\n",
      "Epoch 28: 100%|██████████████████████████████████████████████| 232/232 [00:09<00:00, 23.81it/s, v_num=187, train_loss=5.160, val_loss=5.120]\u001b[A\n",
      "Epoch 29: 100%|██████████████████████████████████████████████| 232/232 [00:10<00:00, 23.06it/s, v_num=187, train_loss=5.160, val_loss=5.110]\u001b[A\n",
      "Epoch 30: 100%|██████████████████████████████████████████████| 232/232 [00:10<00:00, 22.41it/s, v_num=187, train_loss=5.160, val_loss=5.110]\u001b[A\n",
      "Epoch 31: 100%|██████████████████████████████████████████████| 232/232 [00:09<00:00, 23.41it/s, v_num=187, train_loss=5.160, val_loss=5.120]\u001b[A\n",
      "Epoch 32: 100%|██████████████████████████████████████████████| 232/232 [00:09<00:00, 23.52it/s, v_num=187, train_loss=5.160, val_loss=5.120]\u001b[A\n",
      "Epoch 33: 100%|██████████████████████████████████████████████| 232/232 [00:09<00:00, 23.53it/s, v_num=187, train_loss=5.160, val_loss=5.110]\u001b[A\n",
      "Epoch 34: 100%|██████████████████████████████████████████████| 232/232 [00:10<00:00, 23.06it/s, v_num=187, train_loss=5.160, val_loss=5.110]\u001b[A\n",
      "Epoch 35: 100%|██████████████████████████████████████████████| 232/232 [00:10<00:00, 23.18it/s, v_num=187, train_loss=5.160, val_loss=5.110]\u001b[A\n",
      "Epoch 36: 100%|██████████████████████████████████████████████| 232/232 [00:10<00:00, 22.96it/s, v_num=187, train_loss=5.150, val_loss=5.110]\u001b[A\n",
      "Epoch 37: 100%|██████████████████████████████████████████████| 232/232 [00:10<00:00, 22.30it/s, v_num=187, train_loss=5.150, val_loss=5.110]\u001b[A\n",
      "Epoch 38: 100%|██████████████████████████████████████████████| 232/232 [00:09<00:00, 23.38it/s, v_num=187, train_loss=5.150, val_loss=5.110]\u001b[A\n",
      "Epoch 39: 100%|██████████████████████████████████████████████| 232/232 [00:10<00:00, 23.02it/s, v_num=187, train_loss=5.150, val_loss=5.110]\u001b[A\n",
      "Epoch 40: 100%|██████████████████████████████████████████████| 232/232 [00:10<00:00, 23.07it/s, v_num=187, train_loss=5.150, val_loss=5.100]\u001b[A\n",
      "Epoch 41: 100%|██████████████████████████████████████████████| 232/232 [00:10<00:00, 23.18it/s, v_num=187, train_loss=5.140, val_loss=5.110]\u001b[A\n",
      "Epoch 42: 100%|██████████████████████████████████████████████| 232/232 [00:10<00:00, 22.97it/s, v_num=187, train_loss=5.140, val_loss=5.110]\u001b[A\n",
      "Epoch 43: 100%|██████████████████████████████████████████████| 232/232 [00:10<00:00, 21.89it/s, v_num=187, train_loss=5.140, val_loss=5.100]\u001b[A\n",
      "Epoch 44: 100%|██████████████████████████████████████████████| 232/232 [00:10<00:00, 22.08it/s, v_num=187, train_loss=5.140, val_loss=5.090]\u001b[A\n",
      "Epoch 45: 100%|██████████████████████████████████████████████| 232/232 [00:10<00:00, 22.57it/s, v_num=187, train_loss=5.140, val_loss=5.090]\u001b[A\n",
      "Epoch 46: 100%|██████████████████████████████████████████████| 232/232 [00:10<00:00, 23.05it/s, v_num=187, train_loss=5.140, val_loss=5.100]\u001b[A\n",
      "Epoch 47: 100%|██████████████████████████████████████████████| 232/232 [00:09<00:00, 23.28it/s, v_num=187, train_loss=5.140, val_loss=5.100]\u001b[A\n",
      "Epoch 48: 100%|██████████████████████████████████████████████| 232/232 [00:09<00:00, 23.63it/s, v_num=187, train_loss=5.140, val_loss=5.100]\u001b[A\n",
      "Epoch 49: 100%|██████████████████████████████████████████████| 232/232 [00:09<00:00, 23.62it/s, v_num=187, train_loss=5.130, val_loss=5.090]\u001b[A\n",
      "Epoch 50: 100%|██████████████████████████████████████████████| 232/232 [00:09<00:00, 23.68it/s, v_num=187, train_loss=5.140, val_loss=5.090]\u001b[A\n",
      "Epoch 51: 100%|██████████████████████████████████████████████| 232/232 [00:09<00:00, 23.49it/s, v_num=187, train_loss=5.130, val_loss=5.090]\u001b[A\n",
      "Epoch 52: 100%|██████████████████████████████████████████████| 232/232 [00:09<00:00, 23.68it/s, v_num=187, train_loss=5.130, val_loss=5.080]\u001b[A\n",
      "Epoch 53: 100%|██████████████████████████████████████████████| 232/232 [00:10<00:00, 23.12it/s, v_num=187, train_loss=5.130, val_loss=5.080]\u001b[A\n",
      "Epoch 54: 100%|██████████████████████████████████████████████| 232/232 [00:10<00:00, 22.61it/s, v_num=187, train_loss=5.130, val_loss=5.080]\u001b[A\n",
      "Epoch 55: 100%|██████████████████████████████████████████████| 232/232 [00:10<00:00, 22.43it/s, v_num=187, train_loss=5.120, val_loss=5.080]\u001b[A\n",
      "Epoch 56: 100%|██████████████████████████████████████████████| 232/232 [00:10<00:00, 22.14it/s, v_num=187, train_loss=5.130, val_loss=5.080]\u001b[A\n",
      "Epoch 57: 100%|██████████████████████████████████████████████| 232/232 [00:10<00:00, 22.10it/s, v_num=187, train_loss=5.120, val_loss=5.080]\u001b[A\n",
      "Epoch 58: 100%|██████████████████████████████████████████████| 232/232 [00:10<00:00, 22.16it/s, v_num=187, train_loss=5.120, val_loss=5.080]\u001b[A\n",
      "Epoch 59: 100%|██████████████████████████████████████████████| 232/232 [00:10<00:00, 21.92it/s, v_num=187, train_loss=5.120, val_loss=5.080]\u001b[A\n",
      "Epoch 60: 100%|██████████████████████████████████████████████| 232/232 [00:10<00:00, 21.81it/s, v_num=187, train_loss=5.120, val_loss=5.070]\u001b[A\n",
      "Epoch 61: 100%|██████████████████████████████████████████████| 232/232 [00:10<00:00, 21.87it/s, v_num=187, train_loss=5.120, val_loss=5.070]\u001b[A\n",
      "Epoch 62: 100%|██████████████████████████████████████████████| 232/232 [00:10<00:00, 21.59it/s, v_num=187, train_loss=5.120, val_loss=5.070]\u001b[A\n",
      "Epoch 63: 100%|██████████████████████████████████████████████| 232/232 [00:10<00:00, 21.60it/s, v_num=187, train_loss=5.110, val_loss=5.070]\u001b[A\n",
      "Epoch 64: 100%|██████████████████████████████████████████████| 232/232 [00:11<00:00, 20.74it/s, v_num=187, train_loss=5.110, val_loss=5.070]\u001b[A\n",
      "Epoch 65: 100%|██████████████████████████████████████████████| 232/232 [00:11<00:00, 21.07it/s, v_num=187, train_loss=5.110, val_loss=5.070]\u001b[A\n",
      "Epoch 66: 100%|██████████████████████████████████████████████| 232/232 [00:11<00:00, 20.77it/s, v_num=187, train_loss=5.110, val_loss=5.060]\u001b[A\n",
      "Epoch 67: 100%|██████████████████████████████████████████████| 232/232 [00:11<00:00, 21.00it/s, v_num=187, train_loss=5.110, val_loss=5.070]\u001b[A\n",
      "Epoch 68: 100%|██████████████████████████████████████████████| 232/232 [00:10<00:00, 21.27it/s, v_num=187, train_loss=5.110, val_loss=5.070]\u001b[A\n",
      "Epoch 69: 100%|██████████████████████████████████████████████| 232/232 [00:10<00:00, 21.75it/s, v_num=187, train_loss=5.110, val_loss=5.070]\u001b[A\n",
      "Epoch 70: 100%|██████████████████████████████████████████████| 232/232 [00:10<00:00, 22.52it/s, v_num=187, train_loss=5.100, val_loss=5.060]\u001b[A\n",
      "Epoch 71: 100%|██████████████████████████████████████████████| 232/232 [00:11<00:00, 20.66it/s, v_num=187, train_loss=5.100, val_loss=5.050]\u001b[A\n",
      "Epoch 72: 100%|██████████████████████████████████████████████| 232/232 [00:10<00:00, 21.89it/s, v_num=187, train_loss=5.100, val_loss=5.050]\u001b[A\n",
      "Epoch 73: 100%|██████████████████████████████████████████████| 232/232 [00:10<00:00, 21.58it/s, v_num=187, train_loss=5.100, val_loss=5.060]\u001b[A\n",
      "Epoch 74: 100%|██████████████████████████████████████████████| 232/232 [00:10<00:00, 21.91it/s, v_num=187, train_loss=5.100, val_loss=5.060]\u001b[A\n",
      "Epoch 75: 100%|██████████████████████████████████████████████| 232/232 [00:10<00:00, 21.82it/s, v_num=187, train_loss=5.100, val_loss=5.050]\u001b[A\n",
      "Epoch 76: 100%|██████████████████████████████████████████████| 232/232 [00:10<00:00, 22.68it/s, v_num=187, train_loss=5.100, val_loss=5.050]\u001b[A\n",
      "Epoch 77: 100%|██████████████████████████████████████████████| 232/232 [00:10<00:00, 21.15it/s, v_num=187, train_loss=5.100, val_loss=5.050]\u001b[A\n",
      "Epoch 78: 100%|██████████████████████████████████████████████| 232/232 [00:10<00:00, 22.56it/s, v_num=187, train_loss=5.090, val_loss=5.050]\u001b[A\n",
      "Epoch 79: 100%|██████████████████████████████████████████████| 232/232 [00:10<00:00, 21.90it/s, v_num=187, train_loss=5.090, val_loss=5.050]\u001b[A\n",
      "Epoch 80: 100%|██████████████████████████████████████████████| 232/232 [00:10<00:00, 22.02it/s, v_num=187, train_loss=5.090, val_loss=5.050]\u001b[A\n",
      "Epoch 81: 100%|██████████████████████████████████████████████| 232/232 [00:10<00:00, 21.31it/s, v_num=187, train_loss=5.090, val_loss=5.050]\u001b[A\n",
      "Epoch 82: 100%|██████████████████████████████████████████████| 232/232 [00:10<00:00, 22.06it/s, v_num=187, train_loss=5.090, val_loss=5.040]\u001b[A\n",
      "Epoch 83: 100%|██████████████████████████████████████████████| 232/232 [00:10<00:00, 21.75it/s, v_num=187, train_loss=5.090, val_loss=5.040]\u001b[A\n",
      "Epoch 84: 100%|██████████████████████████████████████████████| 232/232 [00:11<00:00, 20.51it/s, v_num=187, train_loss=5.090, val_loss=5.040]\u001b[A\n",
      "Epoch 85: 100%|██████████████████████████████████████████████| 232/232 [00:11<00:00, 20.71it/s, v_num=187, train_loss=5.090, val_loss=5.040]\u001b[A\n",
      "Epoch 86: 100%|██████████████████████████████████████████████| 232/232 [00:10<00:00, 21.56it/s, v_num=187, train_loss=5.090, val_loss=5.040]\u001b[A\n",
      "Epoch 87: 100%|██████████████████████████████████████████████| 232/232 [00:11<00:00, 20.77it/s, v_num=187, train_loss=5.080, val_loss=5.040]\u001b[A\n",
      "Epoch 88: 100%|██████████████████████████████████████████████| 232/232 [00:11<00:00, 20.80it/s, v_num=187, train_loss=5.080, val_loss=5.040]\u001b[A\n",
      "Epoch 89: 100%|██████████████████████████████████████████████| 232/232 [00:10<00:00, 21.10it/s, v_num=187, train_loss=5.080, val_loss=5.040]\u001b[A\n",
      "Epoch 90: 100%|██████████████████████████████████████████████| 232/232 [00:10<00:00, 21.26it/s, v_num=187, train_loss=5.080, val_loss=5.040]\u001b[A\n",
      "Epoch 91: 100%|██████████████████████████████████████████████| 232/232 [00:11<00:00, 20.80it/s, v_num=187, train_loss=5.080, val_loss=5.030]\u001b[A\n",
      "Epoch 92: 100%|██████████████████████████████████████████████| 232/232 [00:11<00:00, 20.73it/s, v_num=187, train_loss=5.080, val_loss=5.040]\u001b[A\n",
      "Epoch 93: 100%|██████████████████████████████████████████████| 232/232 [00:10<00:00, 21.12it/s, v_num=187, train_loss=5.080, val_loss=5.030]\u001b[A\n",
      "Epoch 94: 100%|██████████████████████████████████████████████| 232/232 [00:10<00:00, 21.52it/s, v_num=187, train_loss=5.080, val_loss=5.030]\u001b[A\n",
      "Epoch 95: 100%|██████████████████████████████████████████████| 232/232 [00:10<00:00, 21.47it/s, v_num=187, train_loss=5.080, val_loss=5.030]\u001b[A\n",
      "Epoch 96: 100%|██████████████████████████████████████████████| 232/232 [00:11<00:00, 20.46it/s, v_num=187, train_loss=5.080, val_loss=5.030]\u001b[A\n",
      "Epoch 97: 100%|██████████████████████████████████████████████| 232/232 [00:11<00:00, 20.91it/s, v_num=187, train_loss=5.070, val_loss=5.030]\u001b[A\n",
      "Epoch 98: 100%|██████████████████████████████████████████████| 232/232 [00:10<00:00, 21.18it/s, v_num=187, train_loss=5.070, val_loss=5.030]\u001b[A\n",
      "Epoch 99: 100%|██████████████████████████████████████████████| 232/232 [00:11<00:00, 21.04it/s, v_num=187, train_loss=5.080, val_loss=5.030]\u001b[A\n",
      "Epoch 99: 100%|██████████████████████████████████████████████| 232/232 [00:12<00:00, 19.02it/s, v_num=187, train_loss=5.070, val_loss=5.030]\u001b[A"
     ]
    },
    {
     "name": "stderr",
     "output_type": "stream",
     "text": [
      "`Trainer.fit` stopped: `max_epochs=100` reached.\n"
     ]
    },
    {
     "name": "stdout",
     "output_type": "stream",
     "text": [
      "Epoch 99: 100%|██████████████████████████████████████████████| 232/232 [00:12<00:00, 18.99it/s, v_num=187, train_loss=5.070, val_loss=5.030]\n",
      "DONE SAVING PRETRAINED MODEL\n",
      "   | Name                                             | Type             | Params | Mode \n",
      "-----------------------------------------------------------------------------------------------\n",
      "0  | task_loss_fn                                     | MSELoss          | 0      | train\n",
      "1  | joint_loss_fn                                    | JointLoss        | 0      | train\n",
      "2  | joint_loss_fn.mse_loss                           | MSELoss          | 0      | train\n",
      "3  | joint_loss_fn.criterion                          | CrossEntropyLoss | 0      | train\n",
      "4  | model                                            | SubTab           | 207 K  | train\n",
      "5  | model._SubTab__auto_encoder                      | AutoEncoder      | 107 K  | train\n",
      "6  | model._SubTab__auto_encoder.encoder              | ShallowEncoder   | 8.2 K  | train\n",
      "7  | model._SubTab__auto_encoder.encoder.net          | Sequential       | 8.2 K  | train\n",
      "8  | model._SubTab__auto_encoder.encoder.net.0        | Linear           | 8.2 K  | train\n",
      "9  | model._SubTab__auto_encoder.decoder              | ShallowDecoder   | 18.5 K | train\n",
      "10 | model._SubTab__auto_encoder.decoder.net          | Linear           | 18.5 K | train\n",
      "11 | model._SubTab__auto_encoder.projection_net       | Sequential       | 80.4 K | train\n",
      "12 | model._SubTab__auto_encoder.projection_net.0     | Linear           | 40.2 K | train\n",
      "13 | model._SubTab__auto_encoder.projection_net.1     | LeakyReLU        | 0      | train\n",
      "14 | model._SubTab__auto_encoder.projection_net.2     | Linear           | 40.2 K | train\n",
      "15 | model.one_layer_prediction_head                  | Sequential       | 40.4 K | train\n",
      "16 | model.one_layer_prediction_head.head_linear_hid  | Linear           | 40.2 K | train\n",
      "17 | model.one_layer_prediction_head.head_activation  | ReLU             | 0      | train\n",
      "18 | model.one_layer_prediction_head.head_linear_out  | Linear           | 201    | train\n",
      "19 | model.two_layer_prediction_head                  | Sequential       | 60.4 K | train\n",
      "20 | model.two_layer_prediction_head.head_linear_hid1 | Linear           | 40.2 K | train\n",
      "21 | model.two_layer_prediction_head.head_activation1 | ReLU             | 0      | train\n",
      "22 | model.two_layer_prediction_head.head_linear_hid2 | Linear           | 20.1 K | train\n",
      "23 | model.two_layer_prediction_head.head_activation2 | ReLU             | 0      | train\n",
      "24 | model.two_layer_prediction_head.head_linear_out  | Linear           | 101    | train\n",
      "-----------------------------------------------------------------------------------------------\n",
      "207 K     Trainable params\n",
      "0         Non-trainable params\n",
      "207 K     Total params\n",
      "0.832     Total estimated model params size (MB)\n",
      "DONE PRETRAINING\n"
     ]
    }
   ],
   "source": [
    "s3l_training(pretrain=True, # if True First Phase training\n",
    "             use_pretrained_model=False, # if True Second Phase learning\n",
    "             pt_type='subtab', \n",
    "             pt_folder='FP4_only_traffic_rows_no_DO_BN')"
   ]
  },
  {
   "cell_type": "code",
   "execution_count": null,
   "id": "f5a8d66f-43f4-4559-90b8-68a3a5bd8d2f",
   "metadata": {},
   "outputs": [],
   "source": []
  }
 ],
 "metadata": {
  "kernelspec": {
   "display_name": "Python 3 (ipykernel)",
   "language": "python",
   "name": "python3"
  },
  "language_info": {
   "codemirror_mode": {
    "name": "ipython",
    "version": 3
   },
   "file_extension": ".py",
   "mimetype": "text/x-python",
   "name": "python",
   "nbconvert_exporter": "python",
   "pygments_lexer": "ipython3",
   "version": "3.8.10"
  }
 },
 "nbformat": 4,
 "nbformat_minor": 5
}
