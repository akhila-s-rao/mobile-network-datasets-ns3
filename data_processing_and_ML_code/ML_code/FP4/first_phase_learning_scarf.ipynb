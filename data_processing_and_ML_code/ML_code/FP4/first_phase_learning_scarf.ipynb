{
 "cells": [
  {
   "cell_type": "code",
   "execution_count": 1,
   "id": "8ed58de6-5ac0-4bbb-95e7-c77e64dfaf11",
   "metadata": {},
   "outputs": [],
   "source": [
    "# reload\n",
    "#%reset\n",
    "%load_ext autoreload\n",
    "%autoreload 2 \n",
    "\n",
    "import warnings\n",
    "import logging\n",
    "import os\n",
    "\n",
    "# DEBUG MODE\n",
    "os.environ['TF_CPP_MIN_LOG_LEVEL'] = '3'\n",
    "warnings.filterwarnings('ignore')\n",
    "logging.getLogger('tensorflow').setLevel(logging.FATAL)\n",
    "    \n",
    "from s3l_training import s3l_training"
   ]
  },
  {
   "cell_type": "code",
   "execution_count": 2,
   "id": "26eb320c-c17f-40dd-8264-6dcbd0933f0b",
   "metadata": {},
   "outputs": [
    {
     "name": "stdout",
     "output_type": "stream",
     "text": [
      "Run with random seed:  561\n",
      "GPU is available.\n",
      "1\n",
      "True\n",
      "12.1\n",
      "Concatenating runs:  range(1, 11)\n",
      "Time to read csv file for run:  3.1948301792144775\n",
      "Loaded run 1\n",
      "Time to read csv file for run:  3.1055850982666016\n",
      "Loaded run 2\n",
      "Time to read csv file for run:  2.972849130630493\n",
      "Loaded run 3\n",
      "Time to read csv file for run:  3.016385078430176\n",
      "Loaded run 4\n",
      "Time to read csv file for run:  2.972963333129883\n",
      "Loaded run 5\n",
      "Time to read csv file for run:  2.7519538402557373\n",
      "Loaded run 6\n",
      "Time to read csv file for run:  3.035900592803955\n",
      "Loaded run 7\n",
      "Time to read csv file for run:  2.9677658081054688\n",
      "Loaded run 8\n",
      "Time to read csv file for run:  2.9019575119018555\n",
      "Loaded run 9\n",
      "Time to read csv file for run:  2.973627805709839\n",
      "Loaded run 10\n",
      "pretrain_data, before removing rows that dont have traffic  (1799100, 102)\n",
      "pretrain_data, after removing rows that dont have traffic  (102769, 102)\n",
      "X_pretrain  (102448, 92)\n"
     ]
    },
    {
     "name": "stderr",
     "output_type": "stream",
     "text": [
      "Seed set to 42\n"
     ]
    },
    {
     "name": "stdout",
     "output_type": "stream",
     "text": [
      "HYPERPARAMETERS:  {'loss_fn': 'MSELoss', 'metric': 'r2_score', 'hidden_dim': 200, 'max_epochs': 100, 'batch_size': 128, 'optim_hparams': {'lr': 0.0001, 'weight_decay': 5e-05}, 'encoder_depth': 4, 'head_depth': 2, 'dropout_rate': 0.1, 'corruption_rate': 0.3}\n"
     ]
    },
    {
     "name": "stderr",
     "output_type": "stream",
     "text": [
      "GPU available: True (cuda), used: True\n",
      "TPU available: False, using: 0 TPU cores\n",
      "HPU available: False, using: 0 HPUs\n",
      "LOCAL_RANK: 0 - CUDA_VISIBLE_DEVICES: [0]\n"
     ]
    },
    {
     "name": "stdout",
     "output_type": "stream",
     "text": [
      "refresh rate:  10\n"
     ]
    },
    {
     "name": "stderr",
     "output_type": "stream",
     "text": [
      "\n",
      "  | Name             | Type       | Params | Mode \n",
      "--------------------------------------------------------\n",
      "0 | task_loss_fn     | MSELoss    | 0      | train\n",
      "1 | contrastive_loss | NTXentLoss | 0      | train\n",
      "2 | model            | SCARF      | 322 K  | train\n",
      "--------------------------------------------------------\n",
      "322 K     Trainable params\n",
      "0         Non-trainable params\n",
      "322 K     Total params\n",
      "1.288     Total estimated model params size (MB)\n"
     ]
    },
    {
     "name": "stdout",
     "output_type": "stream",
     "text": [
      "Epoch 0: 100%|████████████████████████████████████████████████████████████████████████████████████████████| 725/725 [00:11<00:00, 63.40it/s]\n",
      "Epoch 1: 100%|██████████████████████████████████████████████████████████| 725/725 [00:20<00:00, 35.20it/s, train_loss=1.680, val_loss=1.340]\u001b[A\n",
      "Epoch 2: 100%|██████████████████████████████████████████████████████████| 725/725 [00:25<00:00, 28.69it/s, train_loss=0.903, val_loss=1.090]\u001b[A\n",
      "Epoch 3: 100%|██████████████████████████████████████████████████████████| 725/725 [00:24<00:00, 29.63it/s, train_loss=0.715, val_loss=1.050]\u001b[A\n",
      "Epoch 4: 100%|██████████████████████████████████████████████████████████| 725/725 [00:25<00:00, 28.54it/s, train_loss=0.622, val_loss=1.010]\u001b[A\n",
      "Epoch 5: 100%|██████████████████████████████████████████████████████████| 725/725 [00:25<00:00, 28.96it/s, train_loss=0.569, val_loss=0.969]\u001b[A\n",
      "Epoch 6: 100%|██████████████████████████████████████████████████████████| 725/725 [00:25<00:00, 28.74it/s, train_loss=0.534, val_loss=0.934]\u001b[A\n",
      "Epoch 7: 100%|██████████████████████████████████████████████████████████| 725/725 [00:26<00:00, 27.84it/s, train_loss=0.509, val_loss=0.938]\u001b[A\n",
      "Epoch 8: 100%|██████████████████████████████████████████████████████████| 725/725 [00:24<00:00, 29.00it/s, train_loss=0.486, val_loss=0.905]\u001b[A\n",
      "Epoch 9: 100%|██████████████████████████████████████████████████████████| 725/725 [00:26<00:00, 27.46it/s, train_loss=0.473, val_loss=0.892]\u001b[A\n",
      "Epoch 10: 100%|█████████████████████████████████████████████████████████| 725/725 [00:26<00:00, 27.63it/s, train_loss=0.457, val_loss=0.862]\u001b[A\n",
      "Epoch 11: 100%|█████████████████████████████████████████████████████████| 725/725 [00:25<00:00, 28.44it/s, train_loss=0.452, val_loss=0.849]\u001b[A\n",
      "Epoch 12: 100%|█████████████████████████████████████████████████████████| 725/725 [00:25<00:00, 27.92it/s, train_loss=0.439, val_loss=0.838]\u001b[A\n",
      "Epoch 13: 100%|█████████████████████████████████████████████████████████| 725/725 [00:25<00:00, 28.24it/s, train_loss=0.433, val_loss=0.837]\u001b[A\n",
      "Epoch 14: 100%|█████████████████████████████████████████████████████████| 725/725 [00:25<00:00, 28.14it/s, train_loss=0.427, val_loss=0.806]\u001b[A\n",
      "Epoch 15: 100%|█████████████████████████████████████████████████████████| 725/725 [00:25<00:00, 28.01it/s, train_loss=0.419, val_loss=0.822]\u001b[A\n",
      "Epoch 16: 100%|█████████████████████████████████████████████████████████| 725/725 [00:25<00:00, 28.90it/s, train_loss=0.413, val_loss=0.794]\u001b[A\n",
      "Epoch 17: 100%|█████████████████████████████████████████████████████████| 725/725 [00:25<00:00, 28.46it/s, train_loss=0.409, val_loss=0.790]\u001b[A\n",
      "Epoch 18: 100%|█████████████████████████████████████████████████████████| 725/725 [00:25<00:00, 28.01it/s, train_loss=0.407, val_loss=0.790]\u001b[A\n",
      "Epoch 19: 100%|█████████████████████████████████████████████████████████| 725/725 [00:24<00:00, 29.47it/s, train_loss=0.403, val_loss=0.777]\u001b[A\n",
      "Epoch 20: 100%|█████████████████████████████████████████████████████████| 725/725 [00:25<00:00, 28.25it/s, train_loss=0.399, val_loss=0.773]\u001b[A\n",
      "Epoch 21: 100%|█████████████████████████████████████████████████████████| 725/725 [00:24<00:00, 29.02it/s, train_loss=0.396, val_loss=0.749]\u001b[A\n",
      "Epoch 22: 100%|█████████████████████████████████████████████████████████| 725/725 [00:26<00:00, 27.80it/s, train_loss=0.389, val_loss=0.760]\u001b[A\n",
      "Epoch 23: 100%|█████████████████████████████████████████████████████████| 725/725 [00:25<00:00, 28.27it/s, train_loss=0.388, val_loss=0.747]\u001b[A\n",
      "Epoch 24: 100%|█████████████████████████████████████████████████████████| 725/725 [00:25<00:00, 28.86it/s, train_loss=0.386, val_loss=0.743]\u001b[A\n",
      "Epoch 25: 100%|█████████████████████████████████████████████████████████| 725/725 [00:25<00:00, 28.62it/s, train_loss=0.382, val_loss=0.733]\u001b[A\n",
      "Epoch 26: 100%|█████████████████████████████████████████████████████████| 725/725 [00:25<00:00, 28.75it/s, train_loss=0.379, val_loss=0.721]\u001b[A\n",
      "Epoch 27: 100%|█████████████████████████████████████████████████████████| 725/725 [00:25<00:00, 28.48it/s, train_loss=0.376, val_loss=0.711]\u001b[A\n",
      "Epoch 28: 100%|█████████████████████████████████████████████████████████| 725/725 [00:25<00:00, 28.49it/s, train_loss=0.374, val_loss=0.695]\u001b[A\n",
      "Epoch 29: 100%|█████████████████████████████████████████████████████████| 725/725 [00:24<00:00, 29.26it/s, train_loss=0.373, val_loss=0.684]\u001b[A\n",
      "Epoch 30: 100%|█████████████████████████████████████████████████████████| 725/725 [00:25<00:00, 28.46it/s, train_loss=0.365, val_loss=0.692]\u001b[A\n",
      "Epoch 31: 100%|█████████████████████████████████████████████████████████| 725/725 [00:25<00:00, 28.48it/s, train_loss=0.366, val_loss=0.679]\u001b[A\n",
      "Epoch 32: 100%|█████████████████████████████████████████████████████████| 725/725 [00:24<00:00, 29.67it/s, train_loss=0.367, val_loss=0.701]\u001b[A\n",
      "Epoch 33: 100%|█████████████████████████████████████████████████████████| 725/725 [00:25<00:00, 28.64it/s, train_loss=0.362, val_loss=0.680]\u001b[A\n",
      "Epoch 34: 100%|█████████████████████████████████████████████████████████| 725/725 [00:24<00:00, 29.17it/s, train_loss=0.361, val_loss=0.668]\u001b[A\n",
      "Epoch 35: 100%|█████████████████████████████████████████████████████████| 725/725 [00:25<00:00, 28.34it/s, train_loss=0.355, val_loss=0.643]\u001b[A\n",
      "Epoch 36: 100%|█████████████████████████████████████████████████████████| 725/725 [00:25<00:00, 28.61it/s, train_loss=0.357, val_loss=0.637]\u001b[A\n",
      "Epoch 37: 100%|█████████████████████████████████████████████████████████| 725/725 [00:24<00:00, 29.23it/s, train_loss=0.354, val_loss=0.643]\u001b[A\n",
      "Epoch 38: 100%|█████████████████████████████████████████████████████████| 725/725 [00:24<00:00, 29.09it/s, train_loss=0.349, val_loss=0.647]\u001b[A\n",
      "Epoch 39: 100%|█████████████████████████████████████████████████████████| 725/725 [00:24<00:00, 29.55it/s, train_loss=0.351, val_loss=0.632]\u001b[A\n",
      "Epoch 40: 100%|█████████████████████████████████████████████████████████| 725/725 [00:24<00:00, 29.76it/s, train_loss=0.348, val_loss=0.618]\u001b[A\n",
      "Epoch 41: 100%|█████████████████████████████████████████████████████████| 725/725 [00:24<00:00, 29.50it/s, train_loss=0.344, val_loss=0.613]\u001b[A\n",
      "Epoch 42: 100%|█████████████████████████████████████████████████████████| 725/725 [00:24<00:00, 30.01it/s, train_loss=0.344, val_loss=0.605]\u001b[A\n",
      "Epoch 43: 100%|█████████████████████████████████████████████████████████| 725/725 [00:24<00:00, 29.73it/s, train_loss=0.343, val_loss=0.589]\u001b[A\n",
      "Epoch 44: 100%|█████████████████████████████████████████████████████████| 725/725 [00:24<00:00, 29.40it/s, train_loss=0.340, val_loss=0.589]\u001b[A\n",
      "Epoch 45: 100%|█████████████████████████████████████████████████████████| 725/725 [00:23<00:00, 30.88it/s, train_loss=0.338, val_loss=0.592]\u001b[A\n",
      "Epoch 46: 100%|█████████████████████████████████████████████████████████| 725/725 [00:24<00:00, 29.28it/s, train_loss=0.338, val_loss=0.583]\u001b[A\n",
      "Epoch 47: 100%|█████████████████████████████████████████████████████████| 725/725 [00:23<00:00, 30.58it/s, train_loss=0.335, val_loss=0.578]\u001b[A\n",
      "Epoch 48: 100%|█████████████████████████████████████████████████████████| 725/725 [00:24<00:00, 29.79it/s, train_loss=0.333, val_loss=0.571]\u001b[A\n",
      "Epoch 49: 100%|█████████████████████████████████████████████████████████| 725/725 [00:24<00:00, 29.64it/s, train_loss=0.330, val_loss=0.560]\u001b[A\n",
      "Epoch 50: 100%|█████████████████████████████████████████████████████████| 725/725 [00:23<00:00, 30.90it/s, train_loss=0.331, val_loss=0.551]\u001b[A\n",
      "Epoch 51: 100%|█████████████████████████████████████████████████████████| 725/725 [00:24<00:00, 29.50it/s, train_loss=0.326, val_loss=0.535]\u001b[A\n",
      "Epoch 52: 100%|█████████████████████████████████████████████████████████| 725/725 [00:23<00:00, 30.68it/s, train_loss=0.326, val_loss=0.546]\u001b[A\n",
      "Epoch 53: 100%|█████████████████████████████████████████████████████████| 725/725 [00:22<00:00, 31.68it/s, train_loss=0.322, val_loss=0.531]\u001b[A\n",
      "Epoch 54: 100%|█████████████████████████████████████████████████████████| 725/725 [00:23<00:00, 30.76it/s, train_loss=0.322, val_loss=0.527]\u001b[A\n",
      "Epoch 55: 100%|█████████████████████████████████████████████████████████| 725/725 [00:22<00:00, 31.68it/s, train_loss=0.317, val_loss=0.534]\u001b[A\n",
      "Epoch 56: 100%|█████████████████████████████████████████████████████████| 725/725 [00:23<00:00, 30.96it/s, train_loss=0.317, val_loss=0.517]\u001b[A\n",
      "Epoch 57: 100%|█████████████████████████████████████████████████████████| 725/725 [00:23<00:00, 30.37it/s, train_loss=0.319, val_loss=0.526]\u001b[A\n",
      "Epoch 58: 100%|█████████████████████████████████████████████████████████| 725/725 [00:22<00:00, 32.02it/s, train_loss=0.313, val_loss=0.509]\u001b[A\n",
      "Epoch 59: 100%|█████████████████████████████████████████████████████████| 725/725 [00:23<00:00, 30.75it/s, train_loss=0.312, val_loss=0.496]\u001b[A\n",
      "Epoch 60: 100%|█████████████████████████████████████████████████████████| 725/725 [00:23<00:00, 30.75it/s, train_loss=0.315, val_loss=0.487]\u001b[A\n",
      "Epoch 61: 100%|█████████████████████████████████████████████████████████| 725/725 [00:23<00:00, 31.04it/s, train_loss=0.309, val_loss=0.480]\u001b[A\n",
      "Epoch 62: 100%|█████████████████████████████████████████████████████████| 725/725 [00:23<00:00, 30.65it/s, train_loss=0.309, val_loss=0.485]\u001b[A\n",
      "Epoch 63: 100%|█████████████████████████████████████████████████████████| 725/725 [00:22<00:00, 32.40it/s, train_loss=0.302, val_loss=0.487]\u001b[A\n",
      "Epoch 64: 100%|█████████████████████████████████████████████████████████| 725/725 [00:23<00:00, 30.64it/s, train_loss=0.306, val_loss=0.479]\u001b[A\n",
      "Epoch 65: 100%|█████████████████████████████████████████████████████████| 725/725 [00:23<00:00, 30.92it/s, train_loss=0.300, val_loss=0.461]\u001b[A\n",
      "Epoch 66: 100%|█████████████████████████████████████████████████████████| 725/725 [00:22<00:00, 31.57it/s, train_loss=0.301, val_loss=0.467]\u001b[A\n",
      "Epoch 67: 100%|█████████████████████████████████████████████████████████| 725/725 [00:23<00:00, 31.11it/s, train_loss=0.299, val_loss=0.459]\u001b[A\n",
      "Epoch 68: 100%|█████████████████████████████████████████████████████████| 725/725 [00:23<00:00, 31.09it/s, train_loss=0.296, val_loss=0.455]\u001b[A\n",
      "Epoch 69: 100%|█████████████████████████████████████████████████████████| 725/725 [00:23<00:00, 30.85it/s, train_loss=0.296, val_loss=0.448]\u001b[A\n",
      "Epoch 70: 100%|█████████████████████████████████████████████████████████| 725/725 [00:23<00:00, 30.78it/s, train_loss=0.293, val_loss=0.455]\u001b[A\n",
      "Epoch 71: 100%|█████████████████████████████████████████████████████████| 725/725 [00:22<00:00, 32.30it/s, train_loss=0.291, val_loss=0.448]\u001b[A\n",
      "Epoch 72: 100%|█████████████████████████████████████████████████████████| 725/725 [00:23<00:00, 31.13it/s, train_loss=0.291, val_loss=0.449]\u001b[A\n",
      "Epoch 73: 100%|█████████████████████████████████████████████████████████| 725/725 [00:23<00:00, 30.74it/s, train_loss=0.288, val_loss=0.438]\u001b[A\n",
      "Epoch 74: 100%|█████████████████████████████████████████████████████████| 725/725 [00:22<00:00, 31.85it/s, train_loss=0.287, val_loss=0.432]\u001b[A\n",
      "Epoch 75: 100%|█████████████████████████████████████████████████████████| 725/725 [00:23<00:00, 30.70it/s, train_loss=0.286, val_loss=0.415]\u001b[A\n",
      "Epoch 76: 100%|█████████████████████████████████████████████████████████| 725/725 [00:22<00:00, 31.99it/s, train_loss=0.284, val_loss=0.426]\u001b[A\n",
      "Epoch 77: 100%|█████████████████████████████████████████████████████████| 725/725 [00:23<00:00, 30.64it/s, train_loss=0.282, val_loss=0.416]\u001b[A\n",
      "Epoch 78: 100%|█████████████████████████████████████████████████████████| 725/725 [00:23<00:00, 31.01it/s, train_loss=0.282, val_loss=0.417]\u001b[A\n",
      "Epoch 79: 100%|█████████████████████████████████████████████████████████| 725/725 [00:22<00:00, 31.89it/s, train_loss=0.278, val_loss=0.402]\u001b[A\n",
      "Epoch 80: 100%|█████████████████████████████████████████████████████████| 725/725 [00:23<00:00, 30.89it/s, train_loss=0.278, val_loss=0.423]\u001b[A\n",
      "Epoch 81: 100%|█████████████████████████████████████████████████████████| 725/725 [00:23<00:00, 30.61it/s, train_loss=0.277, val_loss=0.412]\u001b[A\n",
      "Epoch 82: 100%|█████████████████████████████████████████████████████████| 725/725 [00:22<00:00, 32.16it/s, train_loss=0.276, val_loss=0.405]\u001b[A\n",
      "Epoch 83: 100%|█████████████████████████████████████████████████████████| 725/725 [00:23<00:00, 30.79it/s, train_loss=0.271, val_loss=0.404]\u001b[A\n",
      "Epoch 84: 100%|█████████████████████████████████████████████████████████| 725/725 [00:22<00:00, 31.93it/s, train_loss=0.270, val_loss=0.395]\u001b[A\n",
      "Epoch 85: 100%|█████████████████████████████████████████████████████████| 725/725 [00:23<00:00, 30.71it/s, train_loss=0.269, val_loss=0.385]\u001b[A\n",
      "Epoch 86: 100%|█████████████████████████████████████████████████████████| 725/725 [00:23<00:00, 30.84it/s, train_loss=0.268, val_loss=0.409]\u001b[A\n",
      "Epoch 87: 100%|█████████████████████████████████████████████████████████| 725/725 [00:22<00:00, 31.72it/s, train_loss=0.268, val_loss=0.388]\u001b[A\n",
      "Epoch 88: 100%|█████████████████████████████████████████████████████████| 725/725 [00:23<00:00, 30.55it/s, train_loss=0.265, val_loss=0.385]\u001b[A\n",
      "Epoch 89: 100%|█████████████████████████████████████████████████████████| 725/725 [00:23<00:00, 31.23it/s, train_loss=0.264, val_loss=0.377]\u001b[A\n",
      "Epoch 90: 100%|█████████████████████████████████████████████████████████| 725/725 [00:22<00:00, 31.63it/s, train_loss=0.262, val_loss=0.389]\u001b[A\n",
      "Epoch 91: 100%|█████████████████████████████████████████████████████████| 725/725 [00:23<00:00, 31.37it/s, train_loss=0.262, val_loss=0.370]\u001b[A\n",
      "Epoch 92: 100%|█████████████████████████████████████████████████████████| 725/725 [00:22<00:00, 31.79it/s, train_loss=0.259, val_loss=0.375]\u001b[A\n",
      "Epoch 93: 100%|█████████████████████████████████████████████████████████| 725/725 [00:23<00:00, 31.14it/s, train_loss=0.258, val_loss=0.380]\u001b[A\n",
      "Epoch 94: 100%|█████████████████████████████████████████████████████████| 725/725 [00:23<00:00, 30.75it/s, train_loss=0.256, val_loss=0.385]\u001b[A\n",
      "Epoch 95: 100%|█████████████████████████████████████████████████████████| 725/725 [00:22<00:00, 32.27it/s, train_loss=0.253, val_loss=0.376]\u001b[A\n",
      "Epoch 96: 100%|█████████████████████████████████████████████████████████| 725/725 [00:23<00:00, 30.83it/s, train_loss=0.252, val_loss=0.368]\u001b[A\n",
      "Epoch 97: 100%|█████████████████████████████████████████████████████████| 725/725 [00:23<00:00, 30.91it/s, train_loss=0.252, val_loss=0.352]\u001b[A\n",
      "Epoch 98: 100%|█████████████████████████████████████████████████████████| 725/725 [00:23<00:00, 31.05it/s, train_loss=0.251, val_loss=0.357]\u001b[A\n",
      "Epoch 99: 100%|█████████████████████████████████████████████████████████| 725/725 [00:23<00:00, 31.04it/s, train_loss=0.248, val_loss=0.356]\u001b[A\n",
      "Epoch 99: 100%|█████████████████████████████████████████████████████████| 725/725 [00:24<00:00, 29.13it/s, train_loss=0.247, val_loss=0.362]\u001b[A"
     ]
    },
    {
     "name": "stderr",
     "output_type": "stream",
     "text": [
      "`Trainer.fit` stopped: `max_epochs=100` reached.\n"
     ]
    },
    {
     "name": "stdout",
     "output_type": "stream",
     "text": [
      "Epoch 99: 100%|█████████████████████████████████████████████████████████| 725/725 [00:24<00:00, 29.10it/s, train_loss=0.247, val_loss=0.362]\n"
     ]
    },
    {
     "data": {
      "image/png": "[encoded data removed]",
      "text/plain": [
       "<Figure size 640x480 with 1 Axes>"
      ]
     },
     "metadata": {},
     "output_type": "display_data"
    },
    {
     "name": "stdout",
     "output_type": "stream",
     "text": [
      "DONE SAVING PRETRAINED MODEL\n",
      "   | Name                                             | Type        | Params | Mode \n",
      "------------------------------------------------------------------------------------------\n",
      "0  | task_loss_fn                                     | MSELoss     | 0      | train\n",
      "1  | contrastive_loss                                 | NTXentLoss  | 0      | train\n",
      "2  | model                                            | SCARF       | 322 K  | train\n",
      "3  | model._SCARF__encoder                            | MLP         | 140 K  | train\n",
      "4  | model._SCARF__encoder.linear_0                   | Linear      | 18.6 K | train\n",
      "5  | model._SCARF__encoder.batchnorm_0                | BatchNorm1d | 400    | train\n",
      "6  | model._SCARF__encoder.relu_0                     | ReLU        | 0      | train\n",
      "7  | model._SCARF__encoder.dropout_0                  | Dropout     | 0      | train\n",
      "8  | model._SCARF__encoder.linear_1                   | Linear      | 40.2 K | train\n",
      "9  | model._SCARF__encoder.batchnorm_1                | BatchNorm1d | 400    | train\n",
      "10 | model._SCARF__encoder.relu_1                     | ReLU        | 0      | train\n",
      "11 | model._SCARF__encoder.dropout_1                  | Dropout     | 0      | train\n",
      "12 | model._SCARF__encoder.linear_2                   | Linear      | 40.2 K | train\n",
      "13 | model._SCARF__encoder.batchnorm_2                | BatchNorm1d | 400    | train\n",
      "14 | model._SCARF__encoder.relu_2                     | ReLU        | 0      | train\n",
      "15 | model._SCARF__encoder.dropout_2                  | Dropout     | 0      | train\n",
      "16 | model._SCARF__encoder.linear_n_layers            | Linear      | 40.2 K | train\n",
      "17 | model.pretraining_head                           | MLP         | 80.8 K | train\n",
      "18 | model.pretraining_head.linear_0                  | Linear      | 40.2 K | train\n",
      "19 | model.pretraining_head.batchnorm_0               | BatchNorm1d | 400    | train\n",
      "20 | model.pretraining_head.relu_0                    | ReLU        | 0      | train\n",
      "21 | model.pretraining_head.dropout_0                 | Dropout     | 0      | train\n",
      "22 | model.pretraining_head.linear_n_layers           | Linear      | 40.2 K | train\n",
      "23 | model.one_layer_prediction_head                  | Sequential  | 40.4 K | train\n",
      "24 | model.one_layer_prediction_head.head_linear_hid  | Linear      | 40.2 K | train\n",
      "25 | model.one_layer_prediction_head.head_activation  | ReLU        | 0      | train\n",
      "26 | model.one_layer_prediction_head.head_linear_out  | Linear      | 201    | train\n",
      "27 | model.two_layer_prediction_head                  | Sequential  | 60.4 K | train\n",
      "28 | model.two_layer_prediction_head.head_linear_hid1 | Linear      | 40.2 K | train\n",
      "29 | model.two_layer_prediction_head.head_activation1 | ReLU        | 0      | train\n",
      "30 | model.two_layer_prediction_head.head_linear_hid2 | Linear      | 20.1 K | train\n",
      "31 | model.two_layer_prediction_head.head_activation2 | ReLU        | 0      | train\n",
      "32 | model.two_layer_prediction_head.head_linear_out  | Linear      | 101    | train\n",
      "------------------------------------------------------------------------------------------\n",
      "322 K     Trainable params\n",
      "0         Non-trainable params\n",
      "322 K     Total params\n",
      "1.288     Total estimated model params size (MB)\n",
      "Time to pretrain model:  2569.9937398433685\n",
      "DONE PRETRAINING\n"
     ]
    }
   ],
   "source": [
    "s3l_training(pretrain=True, # if True First Phase training\n",
    "             use_pretrained_model=False, # if True Second Phase learning\n",
    "             pt_type='scarf', \n",
    "             pt_folder='FP4')"
   ]
  },
  {
   "cell_type": "code",
   "execution_count": null,
   "id": "de7160f9-4db4-4688-9556-ba884a04eafb",
   "metadata": {},
   "outputs": [],
   "source": []
  }
 ],
 "metadata": {
  "kernelspec": {
   "display_name": "Python 3 (ipykernel)",
   "language": "python",
   "name": "python3"
  },
  "language_info": {
   "codemirror_mode": {
    "name": "ipython",
    "version": 3
   },
   "file_extension": ".py",
   "mimetype": "text/x-python",
   "name": "python",
   "nbconvert_exporter": "python",
   "pygments_lexer": "ipython3",
   "version": "3.8.10"
  }
 },
 "nbformat": 4,
 "nbformat_minor": 5
}
