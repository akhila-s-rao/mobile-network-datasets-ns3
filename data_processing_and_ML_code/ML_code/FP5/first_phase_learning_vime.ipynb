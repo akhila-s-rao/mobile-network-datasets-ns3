{
 "cells": [
  {
   "cell_type": "code",
   "execution_count": 1,
   "id": "8ed58de6-5ac0-4bbb-95e7-c77e64dfaf11",
   "metadata": {},
   "outputs": [],
   "source": [
    "# reload\n",
    "#%reset\n",
    "%load_ext autoreload\n",
    "%autoreload 2 \n",
    "\n",
    "import warnings\n",
    "import logging\n",
    "import os\n",
    "\n",
    "# DEBUG MODE\n",
    "os.environ['TF_CPP_MIN_LOG_LEVEL'] = '3'\n",
    "warnings.filterwarnings('ignore')\n",
    "logging.getLogger('tensorflow').setLevel(logging.FATAL)\n",
    "    \n",
    "from s3l_training import s3l_training"
   ]
  },
  {
   "cell_type": "code",
   "execution_count": 2,
   "id": "26eb320c-c17f-40dd-8264-6dcbd0933f0b",
   "metadata": {},
   "outputs": [
    {
     "name": "stdout",
     "output_type": "stream",
     "text": [
      "Run with random seed:  561\n",
      "GPU is available.\n",
      "1\n",
      "True\n",
      "12.1\n",
      "Concatenating runs:  range(1, 11)\n",
      "Time to read csv file for run:  3.1781132221221924\n",
      "Loaded run 1\n",
      "Time to read csv file for run:  3.066141366958618\n",
      "Loaded run 2\n",
      "Time to read csv file for run:  3.042511463165283\n",
      "Loaded run 3\n",
      "Time to read csv file for run:  3.0235280990600586\n",
      "Loaded run 4\n",
      "Time to read csv file for run:  2.9701929092407227\n",
      "Loaded run 5\n",
      "Time to read csv file for run:  2.9063518047332764\n",
      "Loaded run 6\n",
      "Time to read csv file for run:  2.9398255348205566\n",
      "Loaded run 7\n",
      "Time to read csv file for run:  2.9560959339141846\n",
      "Loaded run 8\n",
      "Time to read csv file for run:  2.811197280883789\n",
      "Loaded run 9\n",
      "Time to read csv file for run:  3.220750331878662\n",
      "Loaded run 10\n",
      "pretrain_data, before removing rows that dont have traffic  (1799100, 102)\n",
      "pretrain_data, after removing rows that dont have traffic  (205538, 102)\n",
      "X_pretrain  (205086, 92)\n"
     ]
    },
    {
     "name": "stderr",
     "output_type": "stream",
     "text": [
      "Seed set to 42\n"
     ]
    },
    {
     "name": "stdout",
     "output_type": "stream",
     "text": [
      "HYPERPARAMETERS:  {'loss_fn': 'MSELoss', 'metric': 'r2_score', 'hidden_dim': 200, 'max_epochs': 100, 'batch_size': 128, 'optim_hparams': {'lr': 0.0001, 'weight_decay': 5e-05}, 'encoder_depth': 4, 'dropout_rate': 0.1, 'p_m': 0.3, 'alpha1': 2.0, 'alpha2': 2.0, 'K': 3, 'beta': 1.0}\n"
     ]
    },
    {
     "name": "stderr",
     "output_type": "stream",
     "text": [
      "GPU available: True (cuda), used: True\n",
      "TPU available: False, using: 0 TPU cores\n",
      "HPU available: False, using: 0 HPUs\n",
      "LOCAL_RANK: 0 - CUDA_VISIBLE_DEVICES: [0]\n"
     ]
    },
    {
     "name": "stdout",
     "output_type": "stream",
     "text": [
      "refresh rate:  10\n"
     ]
    },
    {
     "name": "stderr",
     "output_type": "stream",
     "text": [
      "\n",
      "  | Name                        | Type    | Params | Mode \n",
      "----------------------------------------------------------------\n",
      "0 | task_loss_fn                | MSELoss | 0      | train\n",
      "1 | mask_loss_fn                | BCELoss | 0      | train\n",
      "2 | categorical_feature_loss_fn | BCELoss | 0      | train\n",
      "3 | continuous_feature_loss_fn  | MSELoss | 0      | train\n",
      "4 | consistency_loss_fn         | MSELoss | 0      | train\n",
      "5 | model                       | VIME    | 278 K  | train\n",
      "----------------------------------------------------------------\n",
      "278 K     Trainable params\n",
      "0         Non-trainable params\n",
      "278 K     Total params\n",
      "1.113     Total estimated model params size (MB)\n"
     ]
    },
    {
     "name": "stdout",
     "output_type": "stream",
     "text": [
      "Epoch 0: 100%|██████████████████████████████████████████████████████████████████████████████████████████| 1451/1451 [00:18<00:00, 79.03it/s]\n",
      "Epoch 1: 100%|████████████████████████████████████████████████████████| 1451/1451 [00:17<00:00, 84.28it/s, train_loss=3.380, val_loss=3.080]\u001b[A\n",
      "Epoch 2: 100%|████████████████████████████████████████████████████████| 1451/1451 [00:16<00:00, 85.37it/s, train_loss=3.110, val_loss=3.020]\u001b[A\n",
      "Epoch 3: 100%|████████████████████████████████████████████████████████| 1451/1451 [00:16<00:00, 85.62it/s, train_loss=3.070, val_loss=3.000]\u001b[A\n",
      "Epoch 4: 100%|████████████████████████████████████████████████████████| 1451/1451 [00:17<00:00, 82.32it/s, train_loss=3.050, val_loss=2.980]\u001b[A\n",
      "Epoch 5: 100%|████████████████████████████████████████████████████████| 1451/1451 [00:17<00:00, 83.55it/s, train_loss=3.040, val_loss=2.980]\u001b[A\n",
      "Epoch 6: 100%|████████████████████████████████████████████████████████| 1451/1451 [00:17<00:00, 82.35it/s, train_loss=3.030, val_loss=2.970]\u001b[A\n",
      "Epoch 7: 100%|████████████████████████████████████████████████████████| 1451/1451 [00:17<00:00, 83.06it/s, train_loss=3.030, val_loss=2.970]\u001b[A\n",
      "Epoch 8: 100%|████████████████████████████████████████████████████████| 1451/1451 [00:17<00:00, 84.13it/s, train_loss=3.020, val_loss=2.960]\u001b[A\n",
      "Epoch 9: 100%|████████████████████████████████████████████████████████| 1451/1451 [00:17<00:00, 83.28it/s, train_loss=3.020, val_loss=2.970]\u001b[A\n",
      "Epoch 10: 100%|███████████████████████████████████████████████████████| 1451/1451 [00:17<00:00, 83.35it/s, train_loss=3.020, val_loss=2.960]\u001b[A\n",
      "Epoch 11: 100%|███████████████████████████████████████████████████████| 1451/1451 [00:17<00:00, 84.21it/s, train_loss=3.020, val_loss=2.950]\u001b[A\n",
      "Epoch 12: 100%|███████████████████████████████████████████████████████| 1451/1451 [00:17<00:00, 84.96it/s, train_loss=3.010, val_loss=2.950]\u001b[A\n",
      "Epoch 13: 100%|███████████████████████████████████████████████████████| 1451/1451 [00:17<00:00, 81.87it/s, train_loss=3.010, val_loss=2.950]\u001b[A\n",
      "Epoch 14: 100%|███████████████████████████████████████████████████████| 1451/1451 [00:16<00:00, 85.98it/s, train_loss=3.010, val_loss=2.950]\u001b[A\n",
      "Epoch 15: 100%|███████████████████████████████████████████████████████| 1451/1451 [00:17<00:00, 84.84it/s, train_loss=3.010, val_loss=2.950]\u001b[A\n",
      "Epoch 16: 100%|███████████████████████████████████████████████████████| 1451/1451 [00:17<00:00, 83.62it/s, train_loss=3.010, val_loss=2.950]\u001b[A\n",
      "Epoch 17: 100%|███████████████████████████████████████████████████████| 1451/1451 [00:17<00:00, 83.33it/s, train_loss=3.000, val_loss=2.950]\u001b[A\n",
      "Epoch 18: 100%|███████████████████████████████████████████████████████| 1451/1451 [00:17<00:00, 82.69it/s, train_loss=3.000, val_loss=2.950]\u001b[A\n",
      "Epoch 19: 100%|███████████████████████████████████████████████████████| 1451/1451 [00:17<00:00, 83.86it/s, train_loss=3.000, val_loss=2.940]\u001b[A\n",
      "Epoch 20: 100%|███████████████████████████████████████████████████████| 1451/1451 [00:17<00:00, 84.20it/s, train_loss=3.000, val_loss=2.950]\u001b[A\n",
      "Epoch 21: 100%|███████████████████████████████████████████████████████| 1451/1451 [00:17<00:00, 84.47it/s, train_loss=3.000, val_loss=2.940]\u001b[A\n",
      "Epoch 22: 100%|███████████████████████████████████████████████████████| 1451/1451 [00:17<00:00, 84.38it/s, train_loss=3.000, val_loss=2.940]\u001b[A\n",
      "Epoch 23: 100%|███████████████████████████████████████████████████████| 1451/1451 [00:17<00:00, 84.35it/s, train_loss=3.000, val_loss=2.940]\u001b[A\n",
      "Epoch 24: 100%|███████████████████████████████████████████████████████| 1451/1451 [00:17<00:00, 84.39it/s, train_loss=3.000, val_loss=2.940]\u001b[A\n",
      "Epoch 25: 100%|███████████████████████████████████████████████████████| 1451/1451 [00:17<00:00, 83.33it/s, train_loss=3.000, val_loss=2.940]\u001b[A\n",
      "Epoch 26: 100%|███████████████████████████████████████████████████████| 1451/1451 [00:17<00:00, 84.20it/s, train_loss=2.990, val_loss=2.940]\u001b[A\n",
      "Epoch 27: 100%|███████████████████████████████████████████████████████| 1451/1451 [00:17<00:00, 84.74it/s, train_loss=2.990, val_loss=2.940]\u001b[A\n",
      "Epoch 28: 100%|███████████████████████████████████████████████████████| 1451/1451 [00:16<00:00, 85.71it/s, train_loss=2.990, val_loss=2.930]\u001b[A\n",
      "Epoch 29: 100%|███████████████████████████████████████████████████████| 1451/1451 [00:17<00:00, 83.50it/s, train_loss=2.990, val_loss=2.930]\u001b[A\n",
      "Epoch 30: 100%|███████████████████████████████████████████████████████| 1451/1451 [00:17<00:00, 84.61it/s, train_loss=2.990, val_loss=2.940]\u001b[A\n",
      "Epoch 31: 100%|███████████████████████████████████████████████████████| 1451/1451 [00:17<00:00, 84.05it/s, train_loss=2.990, val_loss=2.930]\u001b[A\n",
      "Epoch 32: 100%|███████████████████████████████████████████████████████| 1451/1451 [00:17<00:00, 84.06it/s, train_loss=2.990, val_loss=2.930]\u001b[A\n",
      "Epoch 33: 100%|███████████████████████████████████████████████████████| 1451/1451 [00:17<00:00, 84.15it/s, train_loss=2.990, val_loss=2.940]\u001b[A\n",
      "Epoch 34: 100%|███████████████████████████████████████████████████████| 1451/1451 [00:17<00:00, 85.27it/s, train_loss=2.990, val_loss=2.940]\u001b[A\n",
      "Epoch 35: 100%|███████████████████████████████████████████████████████| 1451/1451 [00:17<00:00, 85.18it/s, train_loss=2.990, val_loss=2.930]\u001b[A\n",
      "Epoch 36: 100%|███████████████████████████████████████████████████████| 1451/1451 [00:17<00:00, 84.92it/s, train_loss=2.990, val_loss=2.930]\u001b[A\n",
      "Epoch 37: 100%|███████████████████████████████████████████████████████| 1451/1451 [00:17<00:00, 85.34it/s, train_loss=2.990, val_loss=2.920]\u001b[A\n",
      "Epoch 38: 100%|███████████████████████████████████████████████████████| 1451/1451 [00:17<00:00, 81.98it/s, train_loss=2.990, val_loss=2.930]\u001b[A\n",
      "Epoch 39: 100%|███████████████████████████████████████████████████████| 1451/1451 [00:17<00:00, 84.02it/s, train_loss=2.980, val_loss=2.930]\u001b[A\n",
      "Epoch 40: 100%|███████████████████████████████████████████████████████| 1451/1451 [00:17<00:00, 83.43it/s, train_loss=2.980, val_loss=2.930]\u001b[A\n",
      "Epoch 41: 100%|███████████████████████████████████████████████████████| 1451/1451 [00:17<00:00, 85.11it/s, train_loss=2.980, val_loss=2.920]\u001b[A\n",
      "Epoch 42: 100%|███████████████████████████████████████████████████████| 1451/1451 [00:16<00:00, 86.37it/s, train_loss=2.980, val_loss=2.920]\u001b[A\n",
      "Epoch 43: 100%|███████████████████████████████████████████████████████| 1451/1451 [00:17<00:00, 84.38it/s, train_loss=2.980, val_loss=2.920]\u001b[A\n",
      "Epoch 44: 100%|███████████████████████████████████████████████████████| 1451/1451 [00:16<00:00, 86.00it/s, train_loss=2.980, val_loss=2.920]\u001b[A\n",
      "Epoch 45: 100%|███████████████████████████████████████████████████████| 1451/1451 [00:17<00:00, 83.42it/s, train_loss=2.980, val_loss=2.920]\u001b[A\n",
      "Epoch 46: 100%|███████████████████████████████████████████████████████| 1451/1451 [00:17<00:00, 83.42it/s, train_loss=2.980, val_loss=2.920]\u001b[A\n",
      "Epoch 47: 100%|███████████████████████████████████████████████████████| 1451/1451 [00:17<00:00, 84.53it/s, train_loss=2.980, val_loss=2.920]\u001b[A\n",
      "Epoch 48: 100%|███████████████████████████████████████████████████████| 1451/1451 [00:17<00:00, 84.75it/s, train_loss=2.980, val_loss=2.920]\u001b[A\n",
      "Epoch 49: 100%|███████████████████████████████████████████████████████| 1451/1451 [00:17<00:00, 83.35it/s, train_loss=2.980, val_loss=2.920]\u001b[A\n",
      "Epoch 50: 100%|███████████████████████████████████████████████████████| 1451/1451 [00:17<00:00, 83.07it/s, train_loss=2.980, val_loss=2.920]\u001b[A\n",
      "Epoch 51: 100%|███████████████████████████████████████████████████████| 1451/1451 [00:18<00:00, 79.83it/s, train_loss=2.980, val_loss=2.920]\u001b[A\n",
      "Epoch 52: 100%|███████████████████████████████████████████████████████| 1451/1451 [00:17<00:00, 81.91it/s, train_loss=2.980, val_loss=2.920]\u001b[A\n",
      "Epoch 53: 100%|███████████████████████████████████████████████████████| 1451/1451 [00:17<00:00, 81.13it/s, train_loss=2.980, val_loss=2.920]\u001b[A\n",
      "Epoch 54: 100%|███████████████████████████████████████████████████████| 1451/1451 [00:16<00:00, 86.67it/s, train_loss=2.970, val_loss=2.920]\u001b[A\n",
      "Epoch 55: 100%|███████████████████████████████████████████████████████| 1451/1451 [00:17<00:00, 84.59it/s, train_loss=2.980, val_loss=2.910]\u001b[A\n",
      "Epoch 56: 100%|███████████████████████████████████████████████████████| 1451/1451 [00:17<00:00, 84.47it/s, train_loss=2.980, val_loss=2.910]\u001b[A\n",
      "Epoch 57: 100%|███████████████████████████████████████████████████████| 1451/1451 [00:17<00:00, 83.82it/s, train_loss=2.980, val_loss=2.920]\u001b[A\n",
      "Epoch 58: 100%|███████████████████████████████████████████████████████| 1451/1451 [00:17<00:00, 85.20it/s, train_loss=2.970, val_loss=2.920]\u001b[A\n",
      "Epoch 59: 100%|███████████████████████████████████████████████████████| 1451/1451 [00:17<00:00, 84.63it/s, train_loss=2.970, val_loss=2.920]\u001b[A\n",
      "Epoch 60: 100%|███████████████████████████████████████████████████████| 1451/1451 [00:17<00:00, 83.32it/s, train_loss=2.970, val_loss=2.910]\u001b[A\n",
      "Epoch 61: 100%|███████████████████████████████████████████████████████| 1451/1451 [00:17<00:00, 84.73it/s, train_loss=2.970, val_loss=2.910]\u001b[A\n",
      "Epoch 62: 100%|███████████████████████████████████████████████████████| 1451/1451 [00:17<00:00, 82.13it/s, train_loss=2.970, val_loss=2.910]\u001b[A\n",
      "Epoch 63: 100%|███████████████████████████████████████████████████████| 1451/1451 [00:17<00:00, 83.02it/s, train_loss=2.970, val_loss=2.910]\u001b[A\n",
      "Epoch 64: 100%|███████████████████████████████████████████████████████| 1451/1451 [00:16<00:00, 85.36it/s, train_loss=2.970, val_loss=2.920]\u001b[A\n",
      "Epoch 65: 100%|███████████████████████████████████████████████████████| 1451/1451 [00:17<00:00, 85.31it/s, train_loss=2.970, val_loss=2.910]\u001b[A\n",
      "Epoch 66: 100%|███████████████████████████████████████████████████████| 1451/1451 [00:17<00:00, 84.73it/s, train_loss=2.970, val_loss=2.910]\u001b[A\n",
      "Epoch 67: 100%|███████████████████████████████████████████████████████| 1451/1451 [00:17<00:00, 83.93it/s, train_loss=2.970, val_loss=2.910]\u001b[A\n",
      "Epoch 68: 100%|███████████████████████████████████████████████████████| 1451/1451 [00:17<00:00, 84.18it/s, train_loss=2.970, val_loss=2.910]\u001b[A\n",
      "Epoch 69: 100%|███████████████████████████████████████████████████████| 1451/1451 [00:17<00:00, 84.20it/s, train_loss=2.970, val_loss=2.910]\u001b[A\n",
      "Epoch 70: 100%|███████████████████████████████████████████████████████| 1451/1451 [00:17<00:00, 85.24it/s, train_loss=2.970, val_loss=2.910]\u001b[A\n",
      "Epoch 71: 100%|███████████████████████████████████████████████████████| 1451/1451 [00:17<00:00, 83.58it/s, train_loss=2.970, val_loss=2.900]\u001b[A\n",
      "Epoch 72: 100%|███████████████████████████████████████████████████████| 1451/1451 [00:17<00:00, 84.00it/s, train_loss=2.970, val_loss=2.910]\u001b[A\n",
      "Epoch 73: 100%|███████████████████████████████████████████████████████| 1451/1451 [00:17<00:00, 82.44it/s, train_loss=2.970, val_loss=2.900]\u001b[A\n",
      "Epoch 74: 100%|███████████████████████████████████████████████████████| 1451/1451 [00:17<00:00, 84.07it/s, train_loss=2.970, val_loss=2.900]\u001b[A\n",
      "Epoch 75: 100%|███████████████████████████████████████████████████████| 1451/1451 [00:17<00:00, 85.35it/s, train_loss=2.970, val_loss=2.910]\u001b[A\n",
      "Epoch 76: 100%|███████████████████████████████████████████████████████| 1451/1451 [00:17<00:00, 84.01it/s, train_loss=2.960, val_loss=2.900]\u001b[A\n",
      "Epoch 77: 100%|███████████████████████████████████████████████████████| 1451/1451 [00:17<00:00, 83.57it/s, train_loss=2.960, val_loss=2.900]\u001b[A\n",
      "Epoch 78: 100%|███████████████████████████████████████████████████████| 1451/1451 [00:17<00:00, 83.78it/s, train_loss=2.960, val_loss=2.900]\u001b[A\n",
      "Epoch 79: 100%|███████████████████████████████████████████████████████| 1451/1451 [00:17<00:00, 83.21it/s, train_loss=2.960, val_loss=2.900]\u001b[A\n",
      "Epoch 80: 100%|███████████████████████████████████████████████████████| 1451/1451 [00:17<00:00, 82.04it/s, train_loss=2.960, val_loss=2.900]\u001b[A\n",
      "Epoch 81: 100%|███████████████████████████████████████████████████████| 1451/1451 [00:16<00:00, 87.04it/s, train_loss=2.960, val_loss=2.900]\u001b[A\n",
      "Epoch 82: 100%|███████████████████████████████████████████████████████| 1451/1451 [00:16<00:00, 85.67it/s, train_loss=2.960, val_loss=2.900]\u001b[A\n",
      "Epoch 83: 100%|███████████████████████████████████████████████████████| 1451/1451 [00:17<00:00, 82.56it/s, train_loss=2.960, val_loss=2.900]\u001b[A\n",
      "Epoch 84: 100%|███████████████████████████████████████████████████████| 1451/1451 [00:17<00:00, 84.45it/s, train_loss=2.960, val_loss=2.900]\u001b[A\n",
      "Epoch 85: 100%|███████████████████████████████████████████████████████| 1451/1451 [00:17<00:00, 83.92it/s, train_loss=2.960, val_loss=2.900]\u001b[A\n",
      "Epoch 86: 100%|███████████████████████████████████████████████████████| 1451/1451 [00:16<00:00, 86.69it/s, train_loss=2.960, val_loss=2.900]\u001b[A\n",
      "Epoch 87: 100%|███████████████████████████████████████████████████████| 1451/1451 [00:17<00:00, 84.81it/s, train_loss=2.960, val_loss=2.900]\u001b[A\n",
      "Epoch 88: 100%|███████████████████████████████████████████████████████| 1451/1451 [00:16<00:00, 85.80it/s, train_loss=2.960, val_loss=2.900]\u001b[A\n",
      "Epoch 89: 100%|███████████████████████████████████████████████████████| 1451/1451 [00:17<00:00, 83.89it/s, train_loss=2.960, val_loss=2.890]\u001b[A\n",
      "Epoch 90: 100%|███████████████████████████████████████████████████████| 1451/1451 [00:16<00:00, 86.74it/s, train_loss=2.960, val_loss=2.890]\u001b[A\n",
      "Epoch 91: 100%|███████████████████████████████████████████████████████| 1451/1451 [00:16<00:00, 87.70it/s, train_loss=2.960, val_loss=2.900]\u001b[A\n",
      "Epoch 92: 100%|███████████████████████████████████████████████████████| 1451/1451 [00:16<00:00, 90.62it/s, train_loss=2.960, val_loss=2.900]\u001b[A\n",
      "Epoch 93: 100%|███████████████████████████████████████████████████████| 1451/1451 [00:16<00:00, 86.64it/s, train_loss=2.960, val_loss=2.900]\u001b[A\n",
      "Epoch 94: 100%|███████████████████████████████████████████████████████| 1451/1451 [00:15<00:00, 91.38it/s, train_loss=2.960, val_loss=2.890]\u001b[A\n",
      "Epoch 95: 100%|███████████████████████████████████████████████████████| 1451/1451 [00:15<00:00, 91.97it/s, train_loss=2.960, val_loss=2.900]\u001b[A\n",
      "Epoch 96: 100%|███████████████████████████████████████████████████████| 1451/1451 [00:15<00:00, 91.71it/s, train_loss=2.950, val_loss=2.890]\u001b[A\n",
      "Epoch 97: 100%|███████████████████████████████████████████████████████| 1451/1451 [00:16<00:00, 88.36it/s, train_loss=2.950, val_loss=2.890]\u001b[A\n",
      "Epoch 98: 100%|███████████████████████████████████████████████████████| 1451/1451 [00:15<00:00, 92.23it/s, train_loss=2.950, val_loss=2.890]\u001b[A\n",
      "Epoch 99: 100%|███████████████████████████████████████████████████████| 1451/1451 [00:16<00:00, 85.86it/s, train_loss=2.950, val_loss=2.890]\u001b[A\n",
      "Epoch 99: 100%|███████████████████████████████████████████████████████| 1451/1451 [00:18<00:00, 78.32it/s, train_loss=2.950, val_loss=2.890]\u001b[A"
     ]
    },
    {
     "name": "stderr",
     "output_type": "stream",
     "text": [
      "`Trainer.fit` stopped: `max_epochs=100` reached.\n"
     ]
    },
    {
     "name": "stdout",
     "output_type": "stream",
     "text": [
      "Epoch 99: 100%|███████████████████████████████████████████████████████| 1451/1451 [00:18<00:00, 78.24it/s, train_loss=2.950, val_loss=2.890]\n"
     ]
    },
    {
     "data": {
      "image/png": "[encoded data removed]",
      "text/plain": [
       "<Figure size 640x480 with 1 Axes>"
      ]
     },
     "metadata": {},
     "output_type": "display_data"
    },
    {
     "name": "stdout",
     "output_type": "stream",
     "text": [
      "DONE SAVING PRETRAINED MODEL\n",
      "   | Name                                         | Type                 | Params | Mode \n",
      "-----------------------------------------------------------------------------------------------\n",
      "0  | task_loss_fn                                 | MSELoss              | 0      | train\n",
      "1  | mask_loss_fn                                 | BCELoss              | 0      | train\n",
      "2  | categorical_feature_loss_fn                  | BCELoss              | 0      | train\n",
      "3  | continuous_feature_loss_fn                   | MSELoss              | 0      | train\n",
      "4  | consistency_loss_fn                          | MSELoss              | 0      | train\n",
      "5  | model                                        | VIME                 | 278 K  | train\n",
      "6  | model._VIME__encoder                         | VIMESelfSupervised   | 177 K  | train\n",
      "7  | model._VIME__encoder.encoder                 | MLP                  | 140 K  | train\n",
      "8  | model._VIME__encoder.encoder.linear_0        | Linear               | 18.6 K | train\n",
      "9  | model._VIME__encoder.encoder.batchnorm_0     | BatchNorm1d          | 400    | train\n",
      "10 | model._VIME__encoder.encoder.relu_0          | ReLU                 | 0      | train\n",
      "11 | model._VIME__encoder.encoder.dropout_0       | Dropout              | 0      | train\n",
      "12 | model._VIME__encoder.encoder.linear_1        | Linear               | 40.2 K | train\n",
      "13 | model._VIME__encoder.encoder.batchnorm_1     | BatchNorm1d          | 400    | train\n",
      "14 | model._VIME__encoder.encoder.relu_1          | ReLU                 | 0      | train\n",
      "15 | model._VIME__encoder.encoder.dropout_1       | Dropout              | 0      | train\n",
      "16 | model._VIME__encoder.encoder.linear_2        | Linear               | 40.2 K | train\n",
      "17 | model._VIME__encoder.encoder.batchnorm_2     | BatchNorm1d          | 400    | train\n",
      "18 | model._VIME__encoder.encoder.relu_2          | ReLU                 | 0      | train\n",
      "19 | model._VIME__encoder.encoder.dropout_2       | Dropout              | 0      | train\n",
      "20 | model._VIME__encoder.encoder.linear_n_layers | Linear               | 40.2 K | train\n",
      "21 | model._VIME__encoder.mask_output             | Linear               | 18.5 K | train\n",
      "22 | model._VIME__encoder.feature_output          | Linear               | 18.5 K | train\n",
      "23 | model.one_layer_prediction_head              | VIMESemiSupervised_1 | 40.4 K | train\n",
      "24 | model.one_layer_prediction_head.fc1          | Linear               | 40.2 K | train\n",
      "25 | model.one_layer_prediction_head.fc3          | Linear               | 201    | train\n",
      "26 | model.two_layer_prediction_head              | VIMESemiSupervised_2 | 60.4 K | train\n",
      "27 | model.two_layer_prediction_head.fc1          | Linear               | 40.2 K | train\n",
      "28 | model.two_layer_prediction_head.fc2          | Linear               | 20.1 K | train\n",
      "29 | model.two_layer_prediction_head.fc3          | Linear               | 101    | train\n",
      "-----------------------------------------------------------------------------------------------\n",
      "278 K     Trainable params\n",
      "0         Non-trainable params\n",
      "278 K     Total params\n",
      "1.113     Total estimated model params size (MB)\n",
      "Time to pretrain model:  1908.7249121665955\n",
      "DONE PRETRAINING\n"
     ]
    }
   ],
   "source": [
    "s3l_training(pretrain=True, # if True First Phase training\n",
    "             use_pretrained_model=False, # if True Second Phase learning\n",
    "             pt_type='vime', \n",
    "             pt_folder='FP5')"
   ]
  },
  {
   "cell_type": "code",
   "execution_count": null,
   "id": "de7160f9-4db4-4688-9556-ba884a04eafb",
   "metadata": {},
   "outputs": [],
   "source": []
  },
  {
   "cell_type": "code",
   "execution_count": null,
   "id": "44a0e795-750f-45ce-9a6a-b578608c7f1f",
   "metadata": {},
   "outputs": [],
   "source": []
  }
 ],
 "metadata": {
  "kernelspec": {
   "display_name": "Python 3 (ipykernel)",
   "language": "python",
   "name": "python3"
  },
  "language_info": {
   "codemirror_mode": {
    "name": "ipython",
    "version": 3
   },
   "file_extension": ".py",
   "mimetype": "text/x-python",
   "name": "python",
   "nbconvert_exporter": "python",
   "pygments_lexer": "ipython3",
   "version": "3.8.10"
  }
 },
 "nbformat": 4,
 "nbformat_minor": 5
}
