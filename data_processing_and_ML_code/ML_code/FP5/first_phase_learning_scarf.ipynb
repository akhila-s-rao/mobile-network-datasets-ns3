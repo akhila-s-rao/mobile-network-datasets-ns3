{
 "cells": [
  {
   "cell_type": "code",
   "execution_count": 1,
   "id": "8ed58de6-5ac0-4bbb-95e7-c77e64dfaf11",
   "metadata": {},
   "outputs": [],
   "source": [
    "# reload\n",
    "#%reset\n",
    "%load_ext autoreload\n",
    "%autoreload 2 \n",
    "\n",
    "import warnings\n",
    "import logging\n",
    "import os\n",
    "\n",
    "# DEBUG MODE\n",
    "os.environ['TF_CPP_MIN_LOG_LEVEL'] = '3'\n",
    "warnings.filterwarnings('ignore')\n",
    "logging.getLogger('tensorflow').setLevel(logging.FATAL)\n",
    "    \n",
    "from s3l_training import s3l_training"
   ]
  },
  {
   "cell_type": "code",
   "execution_count": 2,
   "id": "26eb320c-c17f-40dd-8264-6dcbd0933f0b",
   "metadata": {},
   "outputs": [
    {
     "name": "stdout",
     "output_type": "stream",
     "text": [
      "Run with random seed:  561\n",
      "GPU is available.\n",
      "1\n",
      "True\n",
      "12.1\n",
      "Concatenating runs:  range(1, 11)\n",
      "Time to read csv file for run:  3.0422003269195557\n",
      "Loaded run 1\n",
      "Time to read csv file for run:  2.9412810802459717\n",
      "Loaded run 2\n",
      "Time to read csv file for run:  2.9300968647003174\n",
      "Loaded run 3\n",
      "Time to read csv file for run:  2.929772138595581\n",
      "Loaded run 4\n",
      "Time to read csv file for run:  2.9483187198638916\n",
      "Loaded run 5\n",
      "Time to read csv file for run:  2.9392454624176025\n",
      "Loaded run 6\n",
      "Time to read csv file for run:  2.9408957958221436\n",
      "Loaded run 7\n",
      "Time to read csv file for run:  2.916840076446533\n",
      "Loaded run 8\n",
      "Time to read csv file for run:  2.9555444717407227\n",
      "Loaded run 9\n",
      "Time to read csv file for run:  2.9177937507629395\n",
      "Loaded run 10\n",
      "pretrain_data, before removing rows that dont have traffic  (1799100, 102)\n",
      "pretrain_data, after removing rows that dont have traffic  (205538, 102)\n",
      "X_pretrain  (205086, 92)\n"
     ]
    },
    {
     "name": "stderr",
     "output_type": "stream",
     "text": [
      "Seed set to 42\n"
     ]
    },
    {
     "name": "stdout",
     "output_type": "stream",
     "text": [
      "HYPERPARAMETERS:  {'loss_fn': 'MSELoss', 'metric': 'r2_score', 'hidden_dim': 200, 'max_epochs': 100, 'batch_size': 128, 'optim_hparams': {'lr': 0.0001, 'weight_decay': 5e-05}, 'encoder_depth': 4, 'head_depth': 2, 'dropout_rate': 0.1, 'corruption_rate': 0.3}\n"
     ]
    },
    {
     "name": "stderr",
     "output_type": "stream",
     "text": [
      "GPU available: True (cuda), used: True\n",
      "TPU available: False, using: 0 TPU cores\n",
      "HPU available: False, using: 0 HPUs\n",
      "LOCAL_RANK: 0 - CUDA_VISIBLE_DEVICES: [0]\n"
     ]
    },
    {
     "name": "stdout",
     "output_type": "stream",
     "text": [
      "refresh rate:  10\n"
     ]
    },
    {
     "name": "stderr",
     "output_type": "stream",
     "text": [
      "\n",
      "  | Name             | Type       | Params | Mode \n",
      "--------------------------------------------------------\n",
      "0 | task_loss_fn     | MSELoss    | 0      | train\n",
      "1 | contrastive_loss | NTXentLoss | 0      | train\n",
      "2 | model            | SCARF      | 322 K  | train\n",
      "--------------------------------------------------------\n",
      "322 K     Trainable params\n",
      "0         Non-trainable params\n",
      "322 K     Total params\n",
      "1.288     Total estimated model params size (MB)\n"
     ]
    },
    {
     "name": "stdout",
     "output_type": "stream",
     "text": [
      "Epoch 0: 100%|██████████████████████████████████████████████████████████████████████████████████████████| 1451/1451 [00:20<00:00, 70.69it/s]\n",
      "Epoch 1: 100%|████████████████████████████████████████████████████████| 1451/1451 [00:22<00:00, 65.54it/s, train_loss=1.320, val_loss=1.240]\u001b[A\n",
      "Epoch 2: 100%|████████████████████████████████████████████████████████| 1451/1451 [00:23<00:00, 61.55it/s, train_loss=0.701, val_loss=1.200]\u001b[A\n",
      "Epoch 3: 100%|████████████████████████████████████████████████████████| 1451/1451 [00:22<00:00, 63.65it/s, train_loss=0.580, val_loss=1.140]\u001b[A\n",
      "Epoch 4: 100%|████████████████████████████████████████████████████████| 1451/1451 [00:23<00:00, 63.01it/s, train_loss=0.525, val_loss=1.060]\u001b[A\n",
      "Epoch 5: 100%|████████████████████████████████████████████████████████| 1451/1451 [00:22<00:00, 64.06it/s, train_loss=0.491, val_loss=1.020]\u001b[A\n",
      "Epoch 6: 100%|████████████████████████████████████████████████████████| 1451/1451 [00:22<00:00, 63.32it/s, train_loss=0.468, val_loss=1.040]\u001b[A\n",
      "Epoch 7: 100%|████████████████████████████████████████████████████████| 1451/1451 [00:23<00:00, 61.42it/s, train_loss=0.453, val_loss=1.030]\u001b[A\n",
      "Epoch 8: 100%|████████████████████████████████████████████████████████| 1451/1451 [00:23<00:00, 62.50it/s, train_loss=0.437, val_loss=1.000]\u001b[A\n",
      "Epoch 9: 100%|████████████████████████████████████████████████████████| 1451/1451 [00:23<00:00, 63.06it/s, train_loss=0.430, val_loss=0.938]\u001b[A\n",
      "Epoch 10: 100%|███████████████████████████████████████████████████████| 1451/1451 [00:23<00:00, 62.38it/s, train_loss=0.420, val_loss=0.934]\u001b[A\n",
      "Epoch 11: 100%|███████████████████████████████████████████████████████| 1451/1451 [00:23<00:00, 62.83it/s, train_loss=0.414, val_loss=0.934]\u001b[A\n",
      "Epoch 12: 100%|███████████████████████████████████████████████████████| 1451/1451 [00:23<00:00, 61.69it/s, train_loss=0.406, val_loss=0.913]\u001b[A\n",
      "Epoch 13: 100%|███████████████████████████████████████████████████████| 1451/1451 [00:23<00:00, 62.51it/s, train_loss=0.400, val_loss=0.853]\u001b[A\n",
      "Epoch 14: 100%|███████████████████████████████████████████████████████| 1451/1451 [00:23<00:00, 62.02it/s, train_loss=0.393, val_loss=0.859]\u001b[A\n",
      "Epoch 15: 100%|███████████████████████████████████████████████████████| 1451/1451 [00:22<00:00, 64.06it/s, train_loss=0.387, val_loss=0.820]\u001b[A\n",
      "Epoch 16: 100%|███████████████████████████████████████████████████████| 1451/1451 [00:23<00:00, 62.81it/s, train_loss=0.381, val_loss=0.820]\u001b[A\n",
      "Epoch 17: 100%|███████████████████████████████████████████████████████| 1451/1451 [00:23<00:00, 61.97it/s, train_loss=0.377, val_loss=0.819]\u001b[A\n",
      "Epoch 18: 100%|███████████████████████████████████████████████████████| 1451/1451 [00:22<00:00, 63.30it/s, train_loss=0.373, val_loss=0.781]\u001b[A\n",
      "Epoch 19: 100%|███████████████████████████████████████████████████████| 1451/1451 [00:22<00:00, 63.50it/s, train_loss=0.369, val_loss=0.751]\u001b[A\n",
      "Epoch 20: 100%|███████████████████████████████████████████████████████| 1451/1451 [00:23<00:00, 62.74it/s, train_loss=0.365, val_loss=0.816]\u001b[A\n",
      "Epoch 21: 100%|███████████████████████████████████████████████████████| 1451/1451 [00:23<00:00, 62.36it/s, train_loss=0.362, val_loss=0.776]\u001b[A\n",
      "Epoch 22: 100%|███████████████████████████████████████████████████████| 1451/1451 [00:23<00:00, 61.55it/s, train_loss=0.358, val_loss=0.715]\u001b[A\n",
      "Epoch 23: 100%|███████████████████████████████████████████████████████| 1451/1451 [00:23<00:00, 62.21it/s, train_loss=0.352, val_loss=0.713]\u001b[A\n",
      "Epoch 24: 100%|███████████████████████████████████████████████████████| 1451/1451 [00:23<00:00, 62.81it/s, train_loss=0.350, val_loss=0.690]\u001b[A\n",
      "Epoch 25: 100%|███████████████████████████████████████████████████████| 1451/1451 [00:22<00:00, 63.99it/s, train_loss=0.342, val_loss=0.791]\u001b[A\n",
      "Epoch 26: 100%|███████████████████████████████████████████████████████| 1451/1451 [00:23<00:00, 63.06it/s, train_loss=0.342, val_loss=0.657]\u001b[A\n",
      "Epoch 27: 100%|███████████████████████████████████████████████████████| 1451/1451 [00:23<00:00, 61.91it/s, train_loss=0.338, val_loss=0.700]\u001b[A\n",
      "Epoch 28: 100%|███████████████████████████████████████████████████████| 1451/1451 [00:23<00:00, 62.92it/s, train_loss=0.331, val_loss=0.639]\u001b[A\n",
      "Epoch 29: 100%|███████████████████████████████████████████████████████| 1451/1451 [00:23<00:00, 62.53it/s, train_loss=0.330, val_loss=0.631]\u001b[A\n",
      "Epoch 30: 100%|███████████████████████████████████████████████████████| 1451/1451 [00:22<00:00, 64.06it/s, train_loss=0.327, val_loss=0.591]\u001b[A\n",
      "Epoch 31: 100%|███████████████████████████████████████████████████████| 1451/1451 [00:22<00:00, 63.21it/s, train_loss=0.323, val_loss=0.601]\u001b[A\n",
      "Epoch 32: 100%|███████████████████████████████████████████████████████| 1451/1451 [00:23<00:00, 62.57it/s, train_loss=0.320, val_loss=0.584]\u001b[A\n",
      "Epoch 33: 100%|███████████████████████████████████████████████████████| 1451/1451 [00:23<00:00, 62.50it/s, train_loss=0.318, val_loss=0.600]\u001b[A\n",
      "Epoch 34: 100%|███████████████████████████████████████████████████████| 1451/1451 [00:23<00:00, 62.03it/s, train_loss=0.314, val_loss=0.598]\u001b[A\n",
      "Epoch 35: 100%|███████████████████████████████████████████████████████| 1451/1451 [00:23<00:00, 62.68it/s, train_loss=0.309, val_loss=0.568]\u001b[A\n",
      "Epoch 36: 100%|███████████████████████████████████████████████████████| 1451/1451 [00:22<00:00, 63.50it/s, train_loss=0.310, val_loss=0.552]\u001b[A\n",
      "Epoch 37: 100%|███████████████████████████████████████████████████████| 1451/1451 [00:23<00:00, 62.23it/s, train_loss=0.305, val_loss=0.519]\u001b[A\n",
      "Epoch 38: 100%|███████████████████████████████████████████████████████| 1451/1451 [00:23<00:00, 60.98it/s, train_loss=0.301, val_loss=0.535]\u001b[A\n",
      "Epoch 39: 100%|███████████████████████████████████████████████████████| 1451/1451 [00:22<00:00, 63.43it/s, train_loss=0.299, val_loss=0.550]\u001b[A\n",
      "Epoch 40: 100%|███████████████████████████████████████████████████████| 1451/1451 [00:26<00:00, 54.96it/s, train_loss=0.295, val_loss=0.523]\u001b[A\n",
      "Epoch 41: 100%|███████████████████████████████████████████████████████| 1451/1451 [00:25<00:00, 56.09it/s, train_loss=0.293, val_loss=0.517]\u001b[A\n",
      "Epoch 42: 100%|███████████████████████████████████████████████████████| 1451/1451 [00:22<00:00, 63.38it/s, train_loss=0.288, val_loss=0.502]\u001b[A\n",
      "Epoch 43: 100%|███████████████████████████████████████████████████████| 1451/1451 [00:23<00:00, 62.37it/s, train_loss=0.285, val_loss=0.505]\u001b[A\n",
      "Epoch 44: 100%|███████████████████████████████████████████████████████| 1451/1451 [00:22<00:00, 63.69it/s, train_loss=0.284, val_loss=0.612]\u001b[A\n",
      "Epoch 45: 100%|███████████████████████████████████████████████████████| 1451/1451 [00:23<00:00, 62.52it/s, train_loss=0.281, val_loss=0.469]\u001b[A\n",
      "Epoch 46: 100%|███████████████████████████████████████████████████████| 1451/1451 [00:23<00:00, 63.07it/s, train_loss=0.278, val_loss=0.487]\u001b[A\n",
      "Epoch 47: 100%|███████████████████████████████████████████████████████| 1451/1451 [00:22<00:00, 63.32it/s, train_loss=0.277, val_loss=0.513]\u001b[A\n",
      "Epoch 48: 100%|███████████████████████████████████████████████████████| 1451/1451 [00:22<00:00, 63.15it/s, train_loss=0.270, val_loss=0.458]\u001b[A\n",
      "Epoch 49: 100%|███████████████████████████████████████████████████████| 1451/1451 [00:22<00:00, 63.68it/s, train_loss=0.269, val_loss=0.511]\u001b[A\n",
      "Epoch 50: 100%|███████████████████████████████████████████████████████| 1451/1451 [00:23<00:00, 62.14it/s, train_loss=0.267, val_loss=0.464]\u001b[A\n",
      "Epoch 51: 100%|███████████████████████████████████████████████████████| 1451/1451 [00:23<00:00, 61.89it/s, train_loss=0.263, val_loss=0.456]\u001b[A\n",
      "Epoch 52: 100%|███████████████████████████████████████████████████████| 1451/1451 [00:23<00:00, 62.11it/s, train_loss=0.261, val_loss=0.453]\u001b[A\n",
      "Epoch 53: 100%|███████████████████████████████████████████████████████| 1451/1451 [00:23<00:00, 62.51it/s, train_loss=0.257, val_loss=0.465]\u001b[A\n",
      "Epoch 54: 100%|███████████████████████████████████████████████████████| 1451/1451 [00:22<00:00, 63.24it/s, train_loss=0.254, val_loss=0.466]\u001b[A\n",
      "Epoch 55: 100%|███████████████████████████████████████████████████████| 1451/1451 [00:23<00:00, 62.71it/s, train_loss=0.253, val_loss=0.426]\u001b[A\n",
      "Epoch 56: 100%|███████████████████████████████████████████████████████| 1451/1451 [00:23<00:00, 62.97it/s, train_loss=0.250, val_loss=0.450]\u001b[A\n",
      "Epoch 57: 100%|███████████████████████████████████████████████████████| 1451/1451 [00:23<00:00, 62.49it/s, train_loss=0.247, val_loss=0.452]\u001b[A\n",
      "Epoch 58: 100%|███████████████████████████████████████████████████████| 1451/1451 [00:23<00:00, 62.45it/s, train_loss=0.245, val_loss=0.460]\u001b[A\n",
      "Epoch 59: 100%|███████████████████████████████████████████████████████| 1451/1451 [00:23<00:00, 62.93it/s, train_loss=0.244, val_loss=0.412]\u001b[A\n",
      "Epoch 60: 100%|███████████████████████████████████████████████████████| 1451/1451 [00:23<00:00, 61.82it/s, train_loss=0.240, val_loss=0.406]\u001b[A\n",
      "Epoch 61: 100%|███████████████████████████████████████████████████████| 1451/1451 [00:23<00:00, 61.69it/s, train_loss=0.239, val_loss=0.414]\u001b[A\n",
      "Epoch 62: 100%|███████████████████████████████████████████████████████| 1451/1451 [00:22<00:00, 63.26it/s, train_loss=0.237, val_loss=0.453]\u001b[A\n",
      "Epoch 63: 100%|███████████████████████████████████████████████████████| 1451/1451 [00:23<00:00, 61.82it/s, train_loss=0.234, val_loss=0.504]\u001b[A\n",
      "Epoch 64: 100%|███████████████████████████████████████████████████████| 1451/1451 [00:22<00:00, 63.37it/s, train_loss=0.233, val_loss=0.402]\u001b[A\n",
      "Epoch 65: 100%|███████████████████████████████████████████████████████| 1451/1451 [00:22<00:00, 63.31it/s, train_loss=0.230, val_loss=0.388]\u001b[A\n",
      "Epoch 66: 100%|███████████████████████████████████████████████████████| 1451/1451 [00:23<00:00, 61.80it/s, train_loss=0.229, val_loss=0.473]\u001b[A\n",
      "Epoch 67: 100%|███████████████████████████████████████████████████████| 1451/1451 [00:23<00:00, 62.30it/s, train_loss=0.226, val_loss=0.452]\u001b[A\n",
      "Epoch 68: 100%|███████████████████████████████████████████████████████| 1451/1451 [00:22<00:00, 63.36it/s, train_loss=0.224, val_loss=0.428]\u001b[A\n",
      "Epoch 69: 100%|███████████████████████████████████████████████████████| 1451/1451 [00:23<00:00, 62.15it/s, train_loss=0.223, val_loss=0.389]\u001b[A\n",
      "Epoch 70: 100%|███████████████████████████████████████████████████████| 1451/1451 [00:23<00:00, 62.91it/s, train_loss=0.221, val_loss=0.372]\u001b[A\n",
      "Epoch 71: 100%|███████████████████████████████████████████████████████| 1451/1451 [00:22<00:00, 65.81it/s, train_loss=0.218, val_loss=0.398]\u001b[A\n",
      "Epoch 72: 100%|███████████████████████████████████████████████████████| 1451/1451 [00:21<00:00, 68.17it/s, train_loss=0.217, val_loss=0.418]\u001b[A\n",
      "Epoch 73: 100%|███████████████████████████████████████████████████████| 1451/1451 [00:21<00:00, 67.30it/s, train_loss=0.216, val_loss=0.376]\u001b[A\n",
      "Epoch 74: 100%|███████████████████████████████████████████████████████| 1451/1451 [00:22<00:00, 65.54it/s, train_loss=0.214, val_loss=0.420]\u001b[A\n",
      "Epoch 75: 100%|███████████████████████████████████████████████████████| 1451/1451 [00:21<00:00, 66.41it/s, train_loss=0.212, val_loss=0.385]\u001b[A\n",
      "Epoch 76: 100%|███████████████████████████████████████████████████████| 1451/1451 [00:21<00:00, 67.05it/s, train_loss=0.210, val_loss=0.376]\u001b[A\n",
      "Epoch 77: 100%|███████████████████████████████████████████████████████| 1451/1451 [00:19<00:00, 72.85it/s, train_loss=0.211, val_loss=0.362]\u001b[A\n",
      "Epoch 78: 100%|███████████████████████████████████████████████████████| 1451/1451 [00:22<00:00, 65.37it/s, train_loss=0.207, val_loss=0.389]\u001b[A\n",
      "Epoch 79: 100%|███████████████████████████████████████████████████████| 1451/1451 [00:20<00:00, 70.21it/s, train_loss=0.206, val_loss=0.353]\u001b[A\n",
      "Epoch 80: 100%|███████████████████████████████████████████████████████| 1451/1451 [00:21<00:00, 68.56it/s, train_loss=0.204, val_loss=0.356]\u001b[A\n",
      "Epoch 81: 100%|███████████████████████████████████████████████████████| 1451/1451 [00:21<00:00, 68.28it/s, train_loss=0.202, val_loss=0.393]\u001b[A\n",
      "Epoch 82: 100%|███████████████████████████████████████████████████████| 1451/1451 [00:20<00:00, 70.64it/s, train_loss=0.201, val_loss=0.359]\u001b[A\n",
      "Epoch 83: 100%|███████████████████████████████████████████████████████| 1451/1451 [00:21<00:00, 68.77it/s, train_loss=0.200, val_loss=0.321]\u001b[A\n",
      "Epoch 84: 100%|███████████████████████████████████████████████████████| 1451/1451 [00:19<00:00, 73.71it/s, train_loss=0.198, val_loss=0.338]\u001b[A\n",
      "Epoch 85: 100%|███████████████████████████████████████████████████████| 1451/1451 [00:20<00:00, 69.96it/s, train_loss=0.197, val_loss=0.381]\u001b[A\n",
      "Epoch 86: 100%|███████████████████████████████████████████████████████| 1451/1451 [00:21<00:00, 66.08it/s, train_loss=0.195, val_loss=0.347]\u001b[A\n",
      "Epoch 87: 100%|███████████████████████████████████████████████████████| 1451/1451 [00:21<00:00, 67.25it/s, train_loss=0.194, val_loss=0.336]\u001b[A\n",
      "Epoch 88: 100%|███████████████████████████████████████████████████████| 1451/1451 [00:21<00:00, 67.67it/s, train_loss=0.193, val_loss=0.321]\u001b[A\n",
      "Epoch 89: 100%|███████████████████████████████████████████████████████| 1451/1451 [00:21<00:00, 66.42it/s, train_loss=0.191, val_loss=0.380]\u001b[A\n",
      "Epoch 90: 100%|███████████████████████████████████████████████████████| 1451/1451 [00:23<00:00, 62.71it/s, train_loss=0.190, val_loss=0.334]\u001b[A\n",
      "Epoch 91: 100%|███████████████████████████████████████████████████████| 1451/1451 [00:23<00:00, 61.93it/s, train_loss=0.190, val_loss=0.315]\u001b[A\n",
      "Epoch 92: 100%|███████████████████████████████████████████████████████| 1451/1451 [00:20<00:00, 69.71it/s, train_loss=0.188, val_loss=0.359]\u001b[A\n",
      "Epoch 93: 100%|███████████████████████████████████████████████████████| 1451/1451 [00:20<00:00, 69.59it/s, train_loss=0.186, val_loss=0.379]\u001b[A\n",
      "Epoch 94: 100%|███████████████████████████████████████████████████████| 1451/1451 [00:23<00:00, 61.27it/s, train_loss=0.185, val_loss=0.328]\u001b[A\n",
      "Epoch 95: 100%|███████████████████████████████████████████████████████| 1451/1451 [00:21<00:00, 66.50it/s, train_loss=0.182, val_loss=0.312]\u001b[A\n",
      "Epoch 96: 100%|███████████████████████████████████████████████████████| 1451/1451 [00:22<00:00, 65.45it/s, train_loss=0.181, val_loss=0.320]\u001b[A\n",
      "Epoch 97: 100%|███████████████████████████████████████████████████████| 1451/1451 [00:21<00:00, 68.22it/s, train_loss=0.181, val_loss=0.295]\u001b[A\n",
      "Epoch 98: 100%|███████████████████████████████████████████████████████| 1451/1451 [00:20<00:00, 69.19it/s, train_loss=0.179, val_loss=0.299]\u001b[A\n",
      "Epoch 99: 100%|███████████████████████████████████████████████████████| 1451/1451 [00:20<00:00, 70.16it/s, train_loss=0.177, val_loss=0.305]\u001b[A\n",
      "Epoch 99: 100%|███████████████████████████████████████████████████████| 1451/1451 [00:21<00:00, 66.18it/s, train_loss=0.177, val_loss=0.305]\u001b[A"
     ]
    },
    {
     "name": "stderr",
     "output_type": "stream",
     "text": [
      "`Trainer.fit` stopped: `max_epochs=100` reached.\n"
     ]
    },
    {
     "name": "stdout",
     "output_type": "stream",
     "text": [
      "Epoch 99: 100%|███████████████████████████████████████████████████████| 1451/1451 [00:21<00:00, 66.11it/s, train_loss=0.177, val_loss=0.305]\n"
     ]
    },
    {
     "data": {
      "image/png": "[encoded data removed]",
      "text/plain": [
       "<Figure size 640x480 with 1 Axes>"
      ]
     },
     "metadata": {},
     "output_type": "display_data"
    },
    {
     "name": "stdout",
     "output_type": "stream",
     "text": [
      "DONE SAVING PRETRAINED MODEL\n",
      "   | Name                                             | Type        | Params | Mode \n",
      "------------------------------------------------------------------------------------------\n",
      "0  | task_loss_fn                                     | MSELoss     | 0      | train\n",
      "1  | contrastive_loss                                 | NTXentLoss  | 0      | train\n",
      "2  | model                                            | SCARF       | 322 K  | train\n",
      "3  | model._SCARF__encoder                            | MLP         | 140 K  | train\n",
      "4  | model._SCARF__encoder.linear_0                   | Linear      | 18.6 K | train\n",
      "5  | model._SCARF__encoder.batchnorm_0                | BatchNorm1d | 400    | train\n",
      "6  | model._SCARF__encoder.relu_0                     | ReLU        | 0      | train\n",
      "7  | model._SCARF__encoder.dropout_0                  | Dropout     | 0      | train\n",
      "8  | model._SCARF__encoder.linear_1                   | Linear      | 40.2 K | train\n",
      "9  | model._SCARF__encoder.batchnorm_1                | BatchNorm1d | 400    | train\n",
      "10 | model._SCARF__encoder.relu_1                     | ReLU        | 0      | train\n",
      "11 | model._SCARF__encoder.dropout_1                  | Dropout     | 0      | train\n",
      "12 | model._SCARF__encoder.linear_2                   | Linear      | 40.2 K | train\n",
      "13 | model._SCARF__encoder.batchnorm_2                | BatchNorm1d | 400    | train\n",
      "14 | model._SCARF__encoder.relu_2                     | ReLU        | 0      | train\n",
      "15 | model._SCARF__encoder.dropout_2                  | Dropout     | 0      | train\n",
      "16 | model._SCARF__encoder.linear_n_layers            | Linear      | 40.2 K | train\n",
      "17 | model.pretraining_head                           | MLP         | 80.8 K | train\n",
      "18 | model.pretraining_head.linear_0                  | Linear      | 40.2 K | train\n",
      "19 | model.pretraining_head.batchnorm_0               | BatchNorm1d | 400    | train\n",
      "20 | model.pretraining_head.relu_0                    | ReLU        | 0      | train\n",
      "21 | model.pretraining_head.dropout_0                 | Dropout     | 0      | train\n",
      "22 | model.pretraining_head.linear_n_layers           | Linear      | 40.2 K | train\n",
      "23 | model.one_layer_prediction_head                  | Sequential  | 40.4 K | train\n",
      "24 | model.one_layer_prediction_head.head_linear_hid  | Linear      | 40.2 K | train\n",
      "25 | model.one_layer_prediction_head.head_activation  | ReLU        | 0      | train\n",
      "26 | model.one_layer_prediction_head.head_linear_out  | Linear      | 201    | train\n",
      "27 | model.two_layer_prediction_head                  | Sequential  | 60.4 K | train\n",
      "28 | model.two_layer_prediction_head.head_linear_hid1 | Linear      | 40.2 K | train\n",
      "29 | model.two_layer_prediction_head.head_activation1 | ReLU        | 0      | train\n",
      "30 | model.two_layer_prediction_head.head_linear_hid2 | Linear      | 20.1 K | train\n",
      "31 | model.two_layer_prediction_head.head_activation2 | ReLU        | 0      | train\n",
      "32 | model.two_layer_prediction_head.head_linear_out  | Linear      | 101    | train\n",
      "------------------------------------------------------------------------------------------\n",
      "322 K     Trainable params\n",
      "0         Non-trainable params\n",
      "322 K     Total params\n",
      "1.288     Total estimated model params size (MB)\n",
      "Time to pretrain model:  2409.085514307022\n",
      "DONE PRETRAINING\n"
     ]
    }
   ],
   "source": [
    "s3l_training(pretrain=True, # if True First Phase training\n",
    "             use_pretrained_model=False, # if True Second Phase learning\n",
    "             pt_type='scarf', \n",
    "             pt_folder='FP5')"
   ]
  },
  {
   "cell_type": "code",
   "execution_count": null,
   "id": "de7160f9-4db4-4688-9556-ba884a04eafb",
   "metadata": {},
   "outputs": [],
   "source": []
  }
 ],
 "metadata": {
  "kernelspec": {
   "display_name": "Python 3 (ipykernel)",
   "language": "python",
   "name": "python3"
  },
  "language_info": {
   "codemirror_mode": {
    "name": "ipython",
    "version": 3
   },
   "file_extension": ".py",
   "mimetype": "text/x-python",
   "name": "python",
   "nbconvert_exporter": "python",
   "pygments_lexer": "ipython3",
   "version": "3.8.10"
  }
 },
 "nbformat": 4,
 "nbformat_minor": 5
}
