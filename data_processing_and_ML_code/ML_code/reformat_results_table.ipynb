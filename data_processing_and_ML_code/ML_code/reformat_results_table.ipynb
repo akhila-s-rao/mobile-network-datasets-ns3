{
 "cells": [
  {
   "cell_type": "markdown",
   "id": "159f25a0-f014-46f6-bb97-1a11ac30501f",
   "metadata": {},
   "source": [
    "# Read the tables, we have 1 per model \n",
    "# Separate the first n line and the next n and so for each num of labeled samples \n",
    "# combine\n",
    "# write to csv"
   ]
  },
  {
   "cell_type": "code",
   "execution_count": 25,
   "id": "9e6be940-e9c6-44fc-969d-1f8d7753dfaa",
   "metadata": {},
   "outputs": [
    {
     "name": "stdout",
     "output_type": "stream",
     "text": [
      "Num of samples:  100\n",
      "-0.147 & -0.935 & -0.542 \\\\\n",
      "0.155 & 0.387 & 0.409 \\\\\n",
      "0.224 & -0.067 & 0.706 \\\\\n",
      "0.267 & -0.059 & 0.684 \\\\\n",
      "0.019 & -0.095 & 0.06 \\\\\n",
      "0.074 & 0.152 & 0.395 \\\\\n",
      "Num of samples:  1K\n",
      "0.465 & -0.006 & 0.372 \\\\\n",
      "0.604 & 0.645 & 0.622 \\\\\n",
      "0.761 & 0.818 & 0.765 \\\\\n",
      "0.76 & 0.797 & 0.766 \\\\\n",
      "0.053 & -0.049 & 0.141 \\\\\n",
      "0.566 & 0.623 & 0.656 \\\\\n",
      "Num of samples:  10K\n",
      "0.247 & -0.615 & 0.716 \\\\\n",
      "0.713 & 0.734 & 0.742 \\\\\n",
      "0.825 & 0.833 & 0.804 \\\\\n",
      "0.81 & 0.839 & 0.825 \\\\\n",
      "0.214 & 0.243 & 0.232 \\\\\n",
      "0.725 & 0.714 & 0.713 \\\\\n",
      "Num of samples:  20K\n",
      "0.675 & 0.561 & 0.741 \\\\\n",
      "0.752 & 0.765 & 0.739 \\\\\n",
      "0.835 & 0.846 & 0.832 \\\\\n",
      "0.83 & 0.846 & 0.823 \\\\\n",
      "0.141 & 0.233 & 0.234 \\\\\n",
      "0.736 & 0.751 & 0.706 \\\\\n"
     ]
    }
   ],
   "source": [
    "import pandas as pd \n",
    "\n",
    "#model_list = ['xgb', 'mlp', 'dae', 'vime', 'scarf', 'subtab', 'switchtab']\n",
    "model_list = ['dae', 'vime', 'scarf']\n",
    "num_samples_list = ['100', '1K', '10K', '20K']\n",
    "tasks =[#'dashClient_trace.txt_newBitRate_bps', \n",
    "                      'vrFragment_trace.txt_vr_frag_thput_mbps', 'vrFragment_trace.txt_vr_burst_thput_mbps',\n",
    "                      'vrFragment_trace.txt_vr_frag_time', 'vrFragment_trace.txt_vr_burst_time', \n",
    "                      #'httpClientRtt_trace.txt_page_load_time',\n",
    "                      'delay_trace.txt_ul_delay', 'delay_trace.txt_dl_delay']\n",
    "\n",
    "results_prefix_str = 's3l_unfrozen_'\n",
    "results = {}\n",
    "# Read all the results\n",
    "for model in model_list:\n",
    "    results_ff = pd.read_csv(results_prefix_str+model+'_test_results.csv', delimiter=\",\", header=None)\n",
    "    #print(results_ff)\n",
    "    results[model] = {}\n",
    "    results[model]['100'] = results_ff.iloc[0:6]\n",
    "    results[model]['1K'] = results_ff.iloc[6:12]\n",
    "    results[model]['10K'] = results_ff.iloc[12:18]\n",
    "    results[model]['20K'] = results_ff.iloc[18:24]\n",
    "    \n",
    "# For each error metric type \n",
    "# for each num of samples \n",
    "for num_samp in num_samples_list:\n",
    "    # create 3 err metric dataframnes \n",
    "    err_r2 = pd.DataFrame(index=tasks, columns=model_list)\n",
    "    err_mape = pd.DataFrame(index=tasks, columns=model_list)\n",
    "    err_mae = pd.DataFrame(index=tasks, columns=model_list)\n",
    "    err_r2 = err_r2.astype(float)\n",
    "    err_mape = err_mape.astype(float)\n",
    "    err_mae = err_mae.astype(float)\n",
    "    for model in model_list:\n",
    "        # add one column at a time \n",
    "        err_mae.loc[:, model] = results[model][num_samp].iloc[:,1]\n",
    "        err_mape.loc[:, model] = results[model][num_samp].iloc[:2]\n",
    "        err_r2.loc[:, model] = results[model][num_samp].iloc[:,3]\n",
    "    print('Num of samples: ', num_samp)\n",
    "    #print(err_mae)\n",
    "    #print(err_mape)\n",
    "    err_r2 = err_r2.round(3)\n",
    "    err_mae = err_mae.round(3)\n",
    "    err_mape = err_mape.round(3)\n",
    "    #print(err_r2)\n",
    "    \n",
    "    # Convert DataFrame to a LaTeX-friendly format\n",
    "    latex_table = err_r2.apply(lambda row: ' & '.join(row.astype(str)), axis=1)\n",
    "    latex_table = latex_table + ' \\\\\\\\'\n",
    "    \n",
    "    # Join the rows with newline characters\n",
    "    latex_table_str = '\\n'.join(latex_table)\n",
    "    \n",
    "    print(latex_table_str)\n",
    "    \n",
    "# Print with & as the delimiter to make it each to import into latex "
   ]
  },
  {
   "cell_type": "code",
   "execution_count": null,
   "id": "135c7c84-2b79-46fe-ae76-d8e16a73bfa3",
   "metadata": {},
   "outputs": [],
   "source": []
  }
 ],
 "metadata": {
  "kernelspec": {
   "display_name": "Python 3 (ipykernel)",
   "language": "python",
   "name": "python3"
  },
  "language_info": {
   "codemirror_mode": {
    "name": "ipython",
    "version": 3
   },
   "file_extension": ".py",
   "mimetype": "text/x-python",
   "name": "python",
   "nbconvert_exporter": "python",
   "pygments_lexer": "ipython3",
   "version": "3.8.10"
  }
 },
 "nbformat": 4,
 "nbformat_minor": 5
}
